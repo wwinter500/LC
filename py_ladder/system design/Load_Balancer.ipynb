{
 "cells": [
  {
   "cell_type": "code",
   "execution_count": null,
   "metadata": {},
   "outputs": [],
   "source": [
    "class LoadBalancer:\n",
    "    def __init__(self):\n",
    "        self.mp = {}\n",
    "        self.arr = []\n",
    "        \n",
    "    \"\"\"\n",
    "    @param: server_id: add a new server to the cluster\n",
    "    @return: nothing\n",
    "    \"\"\"\n",
    "    def add(self, server_id):\n",
    "        if server_id not in self.mp:\n",
    "            self.mp[server_id] = len(self.arr)\n",
    "            self.arr.append(server_id)\n",
    "\n",
    "    \"\"\"\n",
    "    @param: server_id: server_id remove a bad server from the cluster\n",
    "    @return: nothing\n",
    "    \"\"\"\n",
    "    def remove(self, server_id):\n",
    "        if server_id not in self.mp:\n",
    "            return\n",
    "        \n",
    "        last = self.arr[-1]\n",
    "        idx = self.mp[server_id]\n",
    "        self.mp[last] = self.mp[server_id]\n",
    "        self.arr[idx] = last\n",
    "        \n",
    "        del self.mp[server_id]\n",
    "        self.arr.pop()\n",
    "\n",
    "    \"\"\"\n",
    "    @return: pick a server in the cluster randomly with equal probability\n",
    "    \"\"\"\n",
    "    def pick(self):\n",
    "        ri = random.randint(0, len(self.arr) - 1)\n",
    "        return self.arr[ri]"
   ]
  }
 ],
 "metadata": {
  "kernelspec": {
   "display_name": "Python 3",
   "language": "python",
   "name": "python3"
  },
  "language_info": {
   "codemirror_mode": {
    "name": "ipython",
    "version": 3
   },
   "file_extension": ".py",
   "mimetype": "text/x-python",
   "name": "python",
   "nbconvert_exporter": "python",
   "pygments_lexer": "ipython3",
   "version": "3.7.3"
  }
 },
 "nbformat": 4,
 "nbformat_minor": 4
}
