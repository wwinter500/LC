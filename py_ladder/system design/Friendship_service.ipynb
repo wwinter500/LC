{
 "cells": [
  {
   "cell_type": "code",
   "execution_count": null,
   "metadata": {},
   "outputs": [],
   "source": [
    "#560 friend ship service\n",
    "class FriendshipService:\n",
    "    def __init__(self):\n",
    "\n",
    "    \"\"\"\n",
    "    @param: user_id: An integer\n",
    "    @return: all followers and sort by user_id\n",
    "    \"\"\"\n",
    "    def getFollowers(self, user_id):\n",
    "        # write your code here\n",
    "\n",
    "    \"\"\"\n",
    "    @param: user_id: An integer\n",
    "    @return: all followings and sort by user_id\n",
    "    \"\"\"\n",
    "    def getFollowings(self, user_id):\n",
    "        # write your code here\n",
    "\n",
    "    \"\"\"\n",
    "    @param: from_user_id: An integer\n",
    "    @param: to_user_id: An integer\n",
    "    @return: nothing\n",
    "    \"\"\"\n",
    "    def follow(self, to_user_id, from_user_id):\n",
    "        # write your code here\n",
    "\n",
    "    \"\"\"\n",
    "    @param: from_user_id: An integer\n",
    "    @param: to_user_id: An integer\n",
    "    @return: nothing\n",
    "    \"\"\"\n",
    "    def unfollow(self, to_user_id, from_user_id):\n",
    "        # write your code here"
   ]
  }
 ],
 "metadata": {
  "kernelspec": {
   "display_name": "Python 3",
   "language": "python",
   "name": "python3"
  },
  "language_info": {
   "codemirror_mode": {
    "name": "ipython",
    "version": 3
   },
   "file_extension": ".py",
   "mimetype": "text/x-python",
   "name": "python",
   "nbconvert_exporter": "python",
   "pygments_lexer": "ipython3",
   "version": "3.7.3"
  }
 },
 "nbformat": 4,
 "nbformat_minor": 4
}
