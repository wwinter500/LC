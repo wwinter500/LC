{
 "cells": [
  {
   "cell_type": "code",
   "execution_count": 1,
   "metadata": {},
   "outputs": [],
   "source": [
    "#560 friend ship service\n",
    "class FriendshipService:\n",
    "    def __init__(self):\n",
    "        self.follower = {}\n",
    "        self.following = {}\n",
    "    \n",
    "    def getFollowers(self, user_id):\n",
    "        if user_id not in self.follower.keys():\n",
    "            return []\n",
    "        \n",
    "        return sorted(list(self.follower[user_id]))\n",
    "    \n",
    "    def getFollowings(self, user_id):\n",
    "        if user_id not in self.followin.keys():\n",
    "            return []\n",
    "        \n",
    "        return sorted(list(self.following[user_id]))\n",
    "    \n",
    "    def follow(self, to_user_id, from_user_id):\n",
    "        if from_user_id not in self.following:\n",
    "            st = set()\n",
    "            st.add(to_user_id)\n",
    "            self.following[from_user_id] = st\n",
    "        elif to_user_id not in self.following[from_user_id]:\n",
    "            self.follwing[from_user_id].add(to_user_id)\n",
    "        \n",
    "        if to_user_id not in self.follower:\n",
    "            st = set()\n",
    "            st.add(from_user_id)\n",
    "            self.follower[to_user_id] = st\n",
    "        elif from_user_id not in self.follower[to_user_id]:\n",
    "            self.follower[to_user_id].add(from_user_id)\n",
    "    \n",
    "    def unfollow(self, to_user_id, from_user_id):\n",
    "        if to_user_id not in self.follower or from_user_id not in self.follower[to_user_id]:\n",
    "            return\n",
    "        \n",
    "        self.follower[to_user_id].remove(from_user_id)\n",
    "        self.following[from_user_id].remove(to_user_id)"
   ]
  },
  {
   "cell_type": "code",
   "execution_count": null,
   "metadata": {},
   "outputs": [],
   "source": [
    "#890 - minimum abbreviation \n",
    "def minAbbreviation(target, dictionary):\n",
    "    "
   ]
  }
 ],
 "metadata": {
  "kernelspec": {
   "display_name": "Python 3",
   "language": "python",
   "name": "python3"
  },
  "language_info": {
   "codemirror_mode": {
    "name": "ipython",
    "version": 3
   },
   "file_extension": ".py",
   "mimetype": "text/x-python",
   "name": "python",
   "nbconvert_exporter": "python",
   "pygments_lexer": "ipython3",
   "version": "3.7.3"
  }
 },
 "nbformat": 4,
 "nbformat_minor": 4
}
