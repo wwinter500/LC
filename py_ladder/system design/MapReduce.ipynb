{
 "cells": [
  {
   "cell_type": "code",
   "execution_count": null,
   "metadata": {},
   "outputs": [],
   "source": [
    "#Map-Reduce\n",
    "#499 - word count\n",
    "class WordCount:\n",
    "\n",
    "    # @param {str} line a text, for example \"Bye Bye see you next\"\n",
    "    def mapper(self, _, line):\n",
    "        \n",
    "    def reducer(self, key, values):"
   ]
  }
 ],
 "metadata": {
  "kernelspec": {
   "display_name": "Python 3",
   "language": "python",
   "name": "python3"
  },
  "language_info": {
   "codemirror_mode": {
    "name": "ipython",
    "version": 3
   },
   "file_extension": ".py",
   "mimetype": "text/x-python",
   "name": "python",
   "nbconvert_exporter": "python",
   "pygments_lexer": "ipython3",
   "version": "3.7.4"
  }
 },
 "nbformat": 4,
 "nbformat_minor": 4
}
