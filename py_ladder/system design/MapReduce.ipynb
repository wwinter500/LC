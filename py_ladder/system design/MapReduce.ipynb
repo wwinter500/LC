{
 "cells": [
  {
   "cell_type": "code",
   "execution_count": 2,
   "metadata": {},
   "outputs": [],
   "source": [
    "#Map-Reduce\n",
    "#499 - word count\n",
    "class WordCount:\n",
    "    def mapper(self, _, line):\n",
    "        for w in line.split(\" \"):\n",
    "            yield word, 1\n",
    "            \n",
    "    def reducer(self, key, values):\n",
    "        yield key, sum(values)"
   ]
  },
  {
   "cell_type": "code",
   "execution_count": 12,
   "metadata": {},
   "outputs": [],
   "source": [
    "class NGram:\n",
    "    def mapper(self, _, n, string):\n",
    "        for i in range(n, len(string) + 1):\n",
    "            yield string[i - n:i], 1\n",
    "            \n",
    "    def reducer(self, key, values):\n",
    "        yield key, sum(values)"
   ]
  },
  {
   "cell_type": "code",
   "execution_count": 13,
   "metadata": {},
   "outputs": [
    {
     "name": "stdout",
     "output_type": "stream",
     "text": [
      "('abc', 1)\n"
     ]
    }
   ],
   "source": [
    "obj = NGram()\n",
    "print(next(obj.mapper(_,3,\"abcabc\")))"
   ]
  },
  {
   "cell_type": "code",
   "execution_count": 14,
   "metadata": {},
   "outputs": [],
   "source": [
    "#sort integers\n",
    "class SortIntegers:\n",
    "    def mapper(self, _, nums):\n",
    "        for v in nums:\n",
    "            yield v / 10000, v\n",
    "        \n",
    "    def reducer(self, key, values):\n",
    "        values.sort()\n",
    "        yield key, values"
   ]
  },
  {
   "cell_type": "code",
   "execution_count": null,
   "metadata": {},
   "outputs": [],
   "source": [
    "from Mr_tools import Document\n",
    "class GoogleSuggestion:\n",
    "    def mapper(self, _, value):\n",
    "\n",
    "    def reducer(self, key, values):\n",
    "        "
   ]
  }
 ],
 "metadata": {
  "kernelspec": {
   "display_name": "Python 3",
   "language": "python",
   "name": "python3"
  },
  "language_info": {
   "codemirror_mode": {
    "name": "ipython",
    "version": 3
   },
   "file_extension": ".py",
   "mimetype": "text/x-python",
   "name": "python",
   "nbconvert_exporter": "python",
   "pygments_lexer": "ipython3",
   "version": "3.7.4"
  }
 },
 "nbformat": 4,
 "nbformat_minor": 4
}
