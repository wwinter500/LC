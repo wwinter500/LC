{
 "cells": [
  {
   "cell_type": "code",
   "execution_count": 1,
   "metadata": {},
   "outputs": [],
   "source": [
    "#519 consistent hash I\n"
   ]
  },
  {
   "cell_type": "code",
   "execution_count": 2,
   "metadata": {},
   "outputs": [],
   "source": [
    "#520 consistent hash II\n",
    "import random\n",
    "import bisect\n",
    "\n",
    "class Solution:\n",
    "    def create(cls, n, k):\n",
    "        cls.range = n\n",
    "        cls.numshard = k\n",
    "        cls.shard2machine = {}\n",
    "        \n",
    "    def addMachine(self, machine_id):\n",
    "        cnt = 0\n",
    "        while cnt < self.numshard:\n",
    "            keylist = sorted(self.shard2machine.keys())\n",
    "            idx = random.randint(0,self.range - 1)\n",
    "            ii = bisect.bisect_left(keylist, idx)\n",
    "            if ii == len(keylist) or keylist[ii] != idx:\n",
    "                cnt += 1\n",
    "                self.shard2machine[idx] = machine_id\n",
    "                \n",
    "    def getMachineIdByHashCode(self, hashcode):\n",
    "        keylist = sorted(self.shard2machine.keys())\n",
    "        ii = bisect.bisect_left(keylist, hashcode)\n",
    "        if ii < len(keylist) and keylist[ii] == hashcode:\n",
    "            return self.shard2machine[keylist[ii]]\n",
    "        \n",
    "        return self.shard2machine[leyulist[ii - 1]]"
   ]
  },
  {
   "cell_type": "code",
   "execution_count": null,
   "metadata": {},
   "outputs": [],
   "source": []
  }
 ],
 "metadata": {
  "kernelspec": {
   "display_name": "Python 3",
   "language": "python",
   "name": "python3"
  },
  "language_info": {
   "codemirror_mode": {
    "name": "ipython",
    "version": 3
   },
   "file_extension": ".py",
   "mimetype": "text/x-python",
   "name": "python",
   "nbconvert_exporter": "python",
   "pygments_lexer": "ipython3",
   "version": "3.7.4"
  }
 },
 "nbformat": 4,
 "nbformat_minor": 4
}
