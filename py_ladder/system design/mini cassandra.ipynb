{
 "cells": [
  {
   "cell_type": "code",
   "execution_count": 1,
   "metadata": {},
   "outputs": [],
   "source": [
    "#502 - mini cassandra\n",
    "import collections\n",
    "class MiniCassandra:\n",
    "    \n",
    "    def __init__(self):\n",
    "        self.clients = {}\n",
    "        \n",
    "    def insert(self, row_key, column_key, value):\n",
    "        if row_key not in self.clients.keys():\n",
    "            mp = {}\n",
    "            mp[column_key] = value\n",
    "            self.clients[row_key] = mp\n",
    "        elif column_key not in self.clients[row_key].keys():\n",
    "            self.clients[row_key][column_key] = value\n",
    "            \n",
    "    def query(self, row_key, column_start, column_end):\n",
    "        if row_key not in self.clients.keys():\n",
    "            return []\n",
    "        \n",
    "        ans = []\n",
    "        for c in range(column_start, column_end + 1):\n",
    "            if c not in self.clients[row_key].keys():\n",
    "                continue\n",
    "            \n",
    "            ans.append((c, self.clients[row_key][c]))\n",
    "        \n",
    "        return ans"
   ]
  },
  {
   "cell_type": "code",
   "execution_count": null,
   "metadata": {},
   "outputs": [],
   "source": []
  }
 ],
 "metadata": {
  "kernelspec": {
   "display_name": "Python 3",
   "language": "python",
   "name": "python3"
  },
  "language_info": {
   "codemirror_mode": {
    "name": "ipython",
    "version": 3
   },
   "file_extension": ".py",
   "mimetype": "text/x-python",
   "name": "python",
   "nbconvert_exporter": "python",
   "pygments_lexer": "ipython3",
   "version": "3.7.4"
  }
 },
 "nbformat": 4,
 "nbformat_minor": 4
}
