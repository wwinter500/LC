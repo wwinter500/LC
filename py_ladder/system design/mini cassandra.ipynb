{
 "cells": [
  {
   "cell_type": "code",
   "execution_count": null,
   "metadata": {},
   "outputs": [],
   "source": [
    "#502 - mini cassandra\n",
    "class MiniCassandra:\n",
    "    def __init__(self):\n",
    "        # do intialization if necessary\n",
    "\n",
    "    \"\"\"\n",
    "    @param: row_key: a string\n",
    "    @param: column_key: An integer\n",
    "    @param: value: a string\n",
    "    @return: nothing\n",
    "    \"\"\"\n",
    "    def insert(self, row_key, column_key, value):\n",
    "        # write your code here\n",
    "\n",
    "    \"\"\"\n",
    "    @param: row_key: a string\n",
    "    @param: column_start: An integer\n",
    "    @param: column_end: An integer\n",
    "    @return: a list of Columns\n",
    "    \"\"\"\n",
    "    def query(self, row_key, column_start, column_end):\n",
    "        # write your code here"
   ]
  }
 ],
 "metadata": {
  "kernelspec": {
   "display_name": "Python 3",
   "language": "python",
   "name": "python3"
  },
  "language_info": {
   "codemirror_mode": {
    "name": "ipython",
    "version": 3
   },
   "file_extension": ".py",
   "mimetype": "text/x-python",
   "name": "python",
   "nbconvert_exporter": "python",
   "pygments_lexer": "ipython3",
   "version": "3.7.4"
  }
 },
 "nbformat": 4,
 "nbformat_minor": 4
}
