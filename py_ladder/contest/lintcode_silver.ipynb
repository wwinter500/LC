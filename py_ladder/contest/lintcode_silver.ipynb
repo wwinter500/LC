{
 "cells": [
  {
   "cell_type": "code",
   "execution_count": 3,
   "metadata": {},
   "outputs": [],
   "source": [
    "class Interval(object):\n",
    "    def __init__(self, start, end):\n",
    "        self.start = start\n",
    "        self.end = end\n",
    "        \n",
    "#lintcode - 1668\n",
    "#minimun points in intervals \n",
    "def getAns(a):\n",
    "    if not a:\n",
    "        return 0\n",
    "\n",
    "    sweptline = []\n",
    "    for it in a:\n",
    "        sweptline.append([it.start, 0])\n",
    "        sweptline.append([it.end, 1])\n",
    "    \n",
    "    sweptline.sort()\n",
    "    ans = 0\n",
    "    \n",
    "    for i in range(1, len(sweptline)):\n",
    "        if sweptline[i][1] == 1 and sweptline[i - 1][1] == 0:\n",
    "            ans += 1\n",
    "            \n",
    "    return ans"
   ]
  },
  {
   "cell_type": "code",
   "execution_count": 8,
   "metadata": {},
   "outputs": [],
   "source": [
    "def findminpoints(intervals):\n",
    "    sp = buildsweepline(intervals)\n",
    "    print(sp)\n",
    "    ans = 0\n",
    "    pts = []\n",
    "    ascending = False\n",
    "    visited = set()\n",
    "    \n",
    "    for pos, index, begin in sp:\n",
    "        if begin:\n",
    "            ascending = True\n",
    "            visited.add(index)\n",
    "        else:\n",
    "            if ascending and index in visited:\n",
    "                ans += 1\n",
    "                ascending = False\n",
    "                pts.append([pos, index, begin])\n",
    "                visited = set()\n",
    "    \n",
    "    print(pts)\n",
    "    return ans\n",
    "\n",
    "def buildsweepline(intervals):\n",
    "    sp = []\n",
    "    for index, interval in enumerate(intervals):\n",
    "        sp.append([interval.start, index, 1])\n",
    "        sp.append([interval.end, index, 0])\n",
    "        \n",
    "    return list(sorted(sp, key=lambda x:(x[0], -x[2])))"
   ]
  },
  {
   "cell_type": "code",
   "execution_count": 10,
   "metadata": {},
   "outputs": [
    {
     "name": "stdout",
     "output_type": "stream",
     "text": [
      "[[1, 0, 1], [8, 2, 1], [9, 0, 0], [27, 1, 1], [36, 2, 0], [38, 3, 1], [39, 1, 0], [74, 3, 0]]\n",
      "[[9, 0, 0], [39, 1, 0]]\n",
      "2\n"
     ]
    }
   ],
   "source": [
    "#arr = [(27,74),(25,65),(8,36),(21,63),(18,20),(35,51),(55,86),(49,69),(79,89)] # res = 3\n",
    "#arr = [(1, 9), (27,39),(8,36), (38, 74)]\n",
    "newinput = []\n",
    "for it in arr:\n",
    "    newinput.append(Interval(it[0], it[1]))\n",
    "    \n",
    "print(findminpoints(newinput))"
   ]
  },
  {
   "cell_type": "code",
   "execution_count": 86,
   "metadata": {},
   "outputs": [],
   "source": [
    "#1667 - intervals statistic  \n",
    "def intervalStatistics(arr, k):\n",
    "    #TODO : if possible on O(n)\n",
    "    if not arr or k <= 0:\n",
    "        return 0\n",
    "    \n",
    "    n = len(arr)\n",
    "    onecnts = [0 for i in range(n + 1)]\n",
    "    cnt = 0\n",
    "    \n",
    "    for i in range(1, n + 1):\n",
    "        cnt += 1 if arr[i - 1] == 1 else 0\n",
    "        onecnts[i] = cnt\n",
    "    \n",
    "    ans = 0\n",
    "        \n",
    "    ans += n - onecnts[n]\n",
    "    return ans"
   ]
  },
  {
   "cell_type": "code",
   "execution_count": 87,
   "metadata": {},
   "outputs": [
    {
     "name": "stdout",
     "output_type": "stream",
     "text": [
      "[0, 1, 2, 3, 3, 3, 4]\n",
      "5\n"
     ]
    }
   ],
   "source": [
    "#print(intervalStatistics([0, 0, 1, 0, 1, 1, 0], 1))# res = 7\n",
    "print(intervalStatistics([1, 1, 1, 0, 0, 1], 2))# res = 3"
   ]
  },
  {
   "cell_type": "code",
   "execution_count": null,
   "metadata": {},
   "outputs": [],
   "source": []
  }
 ],
 "metadata": {
  "kernelspec": {
   "display_name": "Python 3",
   "language": "python",
   "name": "python3"
  },
  "language_info": {
   "codemirror_mode": {
    "name": "ipython",
    "version": 3
   },
   "file_extension": ".py",
   "mimetype": "text/x-python",
   "name": "python",
   "nbconvert_exporter": "python",
   "pygments_lexer": "ipython3",
   "version": "3.7.4"
  }
 },
 "nbformat": 4,
 "nbformat_minor": 2
}
