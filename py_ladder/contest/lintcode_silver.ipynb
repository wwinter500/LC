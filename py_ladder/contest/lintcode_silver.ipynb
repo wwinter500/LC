{
 "cells": [
  {
   "cell_type": "code",
   "execution_count": 3,
   "metadata": {},
   "outputs": [],
   "source": [
    "class Interval(object):\n",
    "    def __init__(self, start, end):\n",
    "        self.start = start\n",
    "        self.end = end\n",
    "        \n",
    "#lintcode - 1668\n",
    "#minimun points in intervals \n",
    "def getAns(a):\n",
    "    if not a:\n",
    "        return 0\n",
    "\n",
    "    tmp = []\n",
    "    for it in a:\n",
    "        tmp.append([it.start, it.end])\n",
    "    tmp.sort()\n",
    "    print(tmp)\n",
    "    ans = len(tmp)\n",
    "    for i in range(1, len(tmp)):\n",
    "        \n",
    "    return ans"
   ]
  },
  {
   "cell_type": "code",
   "execution_count": 4,
   "metadata": {},
   "outputs": [
    {
     "name": "stdout",
     "output_type": "stream",
     "text": [
      "[[8, 36], [18, 20], [21, 63], [25, 65], [27, 74], [35, 51], [49, 69], [55, 86], [79, 89]]\n",
      "10\n"
     ]
    }
   ],
   "source": [
    "arr = [(27,74),(25,65),(8,36),(21,63),(18,20),(35,51),(55,86),(49,69),(79,89)]\n",
    "newinput = []\n",
    "for it in arr:\n",
    "    newinput.append(Interval(it[0], it[1]))\n",
    "    \n",
    "print(getAns(newinput))"
   ]
  },
  {
   "cell_type": "code",
   "execution_count": null,
   "metadata": {},
   "outputs": [],
   "source": []
  }
 ],
 "metadata": {
  "kernelspec": {
   "display_name": "Python 3",
   "language": "python",
   "name": "python3"
  },
  "language_info": {
   "codemirror_mode": {
    "name": "ipython",
    "version": 3
   },
   "file_extension": ".py",
   "mimetype": "text/x-python",
   "name": "python",
   "nbconvert_exporter": "python",
   "pygments_lexer": "ipython3",
   "version": "3.7.3"
  }
 },
 "nbformat": 4,
 "nbformat_minor": 2
}
