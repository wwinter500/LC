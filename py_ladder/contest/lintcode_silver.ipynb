{
 "cells": [
  {
   "cell_type": "code",
   "execution_count": 2,
   "metadata": {},
   "outputs": [],
   "source": [
    "class Interval(object):\n",
    "    def __init__(self, start, end):\n",
    "        self.start = start\n",
    "        self.end = end\n",
    "        \n",
    "#lintcode - 1668\n",
    "#minimun points in intervals \n",
    "def getAns(a):\n",
    "    if not a:\n",
    "        return 0\n",
    "\n",
    "    tmp = []\n",
    "    for it in a:\n",
    "        tmp.append([it.start, it.end])\n",
    "        \n",
    "    tmp.sort()\n",
    "    print(tmp)\n",
    "    \n",
    "    n = len(tmp)\n",
    "    dp = [0 for i in range(n + 1)]\n",
    "    dp[1] = 1\n",
    "    \n",
    "    for i in range(2, n + 1):\n",
    "        if tmp[i - 1][0] > tmp[i - 2][1]:\n",
    "            dp[i] = dp[i - 1] + 1\n",
    "        else:\n",
    "            dp[i] = dp[i - 1]\n",
    "            \n",
    "    return dp[n]"
   ]
  },
  {
   "cell_type": "code",
   "execution_count": 4,
   "metadata": {},
   "outputs": [
    {
     "name": "stdout",
     "output_type": "stream",
     "text": [
      "[[8, 36], [27, 39], [38, 74]]\n",
      "1\n"
     ]
    }
   ],
   "source": [
    "#arr = [(27,74),(25,65),(8,36),(21,63),(18,20),(35,51),(55,86),(49,69),(79,89)]\n",
    "arr = [(27,39),(8,36), (38, 74)]\n",
    "newinput = []\n",
    "for it in arr:\n",
    "    newinput.append(Interval(it[0], it[1]))\n",
    "    \n",
    "print(getAns(newinput))"
   ]
  },
  {
   "cell_type": "code",
   "execution_count": null,
   "metadata": {},
   "outputs": [],
   "source": []
  }
 ],
 "metadata": {
  "kernelspec": {
   "display_name": "Python 3",
   "language": "python",
   "name": "python3"
  },
  "language_info": {
   "codemirror_mode": {
    "name": "ipython",
    "version": 3
   },
   "file_extension": ".py",
   "mimetype": "text/x-python",
   "name": "python",
   "nbconvert_exporter": "python",
   "pygments_lexer": "ipython3",
   "version": "3.7.3"
  }
 },
 "nbformat": 4,
 "nbformat_minor": 2
}
