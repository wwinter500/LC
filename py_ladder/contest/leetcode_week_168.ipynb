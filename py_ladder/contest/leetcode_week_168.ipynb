{
 "cells": [
  {
   "cell_type": "code",
   "execution_count": 107,
   "metadata": {},
   "outputs": [],
   "source": [
    "#week 168\n",
    "#1296 - Divide Array in Sets of K Consecutive Numbers\n",
    "def isPossibleDivide(nums, k):\n",
    "    if k <= 0 or len(nums) < k :\n",
    "        return False\n",
    "    \n",
    "    maps = {}\n",
    "    nums.sort()\n",
    "    for v in nums:\n",
    "        if v in maps:\n",
    "            maps[v] += 1\n",
    "        else:\n",
    "            maps[v] = 1\n",
    "            \n",
    "    for v in nums:\n",
    "        if v not in maps:\n",
    "            continue\n",
    "\n",
    "        maps[v] -= 1\n",
    "        if maps[v] == 0:\n",
    "            maps.pop(v)\n",
    "            \n",
    "        for i in range(1, k):\n",
    "            nv = v + i\n",
    "            if nv not in maps:\n",
    "                return False\n",
    "            \n",
    "            maps[nv] -= 1\n",
    "            if maps[nv] == 0:\n",
    "                maps.pop(nv)\n",
    "            \n",
    "    return True"
   ]
  },
  {
   "cell_type": "code",
   "execution_count": 108,
   "metadata": {},
   "outputs": [
    {
     "name": "stdout",
     "output_type": "stream",
     "text": [
      "True\n"
     ]
    }
   ],
   "source": [
    "print(isPossibleDivide([3,2,1,2,3,4,3,4,5,9,10,11], 3))\n",
    "#print(isPossibleDivide([4,3,3,2,2,1,1], 3))"
   ]
  },
  {
   "cell_type": "code",
   "execution_count": null,
   "metadata": {},
   "outputs": [],
   "source": []
  }
 ],
 "metadata": {
  "kernelspec": {
   "display_name": "Python 3",
   "language": "python",
   "name": "python3"
  },
  "language_info": {
   "codemirror_mode": {
    "name": "ipython",
    "version": 3
   },
   "file_extension": ".py",
   "mimetype": "text/x-python",
   "name": "python",
   "nbconvert_exporter": "python",
   "pygments_lexer": "ipython3",
   "version": "3.7.3"
  }
 },
 "nbformat": 4,
 "nbformat_minor": 2
}
