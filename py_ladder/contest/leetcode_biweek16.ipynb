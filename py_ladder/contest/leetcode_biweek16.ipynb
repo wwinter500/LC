{
 "cells": [
  {
   "cell_type": "code",
   "execution_count": 3,
   "metadata": {},
   "outputs": [],
   "source": [
    "#1300. Sum of Mutated Array Closest to Target\n",
    "# the value increase when iterator move if sorted\n",
    "#TODO\n",
    "def findBestValue(arr, target):\n",
    "    n = len(arr)\n",
    "    arr.sort()\n",
    "    presum = [0 for i in range(n + 1)]\n",
    "    for i in range(1, n + 1):\n",
    "        presum[i] = presum[i - 1] + arr[i - 1]\n",
    "    \n",
    "    l,r = 0,0\n",
    "    for i, num in enumerate(arr):\n",
    "        sums = (n - i) * num + presum[i]\n",
    "        if sums == target:\n",
    "            return num\n",
    "        elif sums < target:\n",
    "            l = i\n",
    "        else:\n",
    "            r = i\n",
    "            break\n",
    "    \n",
    "    if r == 0:\n",
    "        return arr[r]\n",
    "    if l == n - 1:\n",
    "        return arr[l]\n",
    "    \n",
    "    return bisearch(target, arr[l], arr[r])\n",
    "\n",
    "def bisearch(target, l, r):\n",
    "    "
   ]
  },
  {
   "cell_type": "code",
   "execution_count": 4,
   "metadata": {},
   "outputs": [
    {
     "name": "stdout",
     "output_type": "stream",
     "text": [
      "[3, 4, 9]\n",
      "0 1\n",
      "None\n"
     ]
    }
   ],
   "source": [
    "print(findBestValue([4,9,3], 10))"
   ]
  },
  {
   "cell_type": "code",
   "execution_count": null,
   "metadata": {},
   "outputs": [],
   "source": []
  }
 ],
 "metadata": {
  "kernelspec": {
   "display_name": "Python 3",
   "language": "python",
   "name": "python3"
  },
  "language_info": {
   "codemirror_mode": {
    "name": "ipython",
    "version": 3
   },
   "file_extension": ".py",
   "mimetype": "text/x-python",
   "name": "python",
   "nbconvert_exporter": "python",
   "pygments_lexer": "ipython3",
   "version": "3.7.4"
  }
 },
 "nbformat": 4,
 "nbformat_minor": 4
}
