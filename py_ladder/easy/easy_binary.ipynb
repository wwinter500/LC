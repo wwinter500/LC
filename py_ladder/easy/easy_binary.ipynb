{
 "cells": [
  {
   "cell_type": "code",
   "execution_count": 2,
   "metadata": {},
   "outputs": [],
   "source": [
    "#sqrt\n",
    "def sqrt(x):\n",
    "    if x == 0 or x == 1:\n",
    "        return x\n",
    "    nx = x if x > 1 else 1 / x\n",
    "    \n",
    "    l, r = 0, nx\n",
    "    while True:\n",
    "        m = l + (int)((r - l) / 2)\n",
    "        diff = m * m - nx\n",
    "        if diff == 0 or (diff < 0 and (m + 1) * (m + 1) - nx > 0):\n",
    "            return m\n",
    "        elif diff > 0:\n",
    "            r = m\n",
    "        else:\n",
    "            l = m + 1\n",
    "            \n",
    "    if x < 1:\n",
    "        return 1 / l\n",
    "    else:\n",
    "        return l"
   ]
  },
  {
   "cell_type": "code",
   "execution_count": 5,
   "metadata": {},
   "outputs": [
    {
     "name": "stdout",
     "output_type": "stream",
     "text": [
      "1\n"
     ]
    }
   ],
   "source": [
    "print(sqrt( 1 / 3))"
   ]
  },
  {
   "cell_type": "code",
   "execution_count": null,
   "metadata": {},
   "outputs": [],
   "source": []
  }
 ],
 "metadata": {
  "kernelspec": {
   "display_name": "Python 3",
   "language": "python",
   "name": "python3"
  },
  "language_info": {
   "codemirror_mode": {
    "name": "ipython",
    "version": 3
   },
   "file_extension": ".py",
   "mimetype": "text/x-python",
   "name": "python",
   "nbconvert_exporter": "python",
   "pygments_lexer": "ipython3",
   "version": "3.7.3"
  }
 },
 "nbformat": 4,
 "nbformat_minor": 2
}
