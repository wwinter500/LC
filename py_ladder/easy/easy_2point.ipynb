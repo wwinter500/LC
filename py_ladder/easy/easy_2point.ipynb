{
 "cells": [
  {
   "cell_type": "code",
   "execution_count": 13,
   "metadata": {},
   "outputs": [],
   "source": [
    "import sys"
   ]
  },
  {
   "cell_type": "code",
   "execution_count": 14,
   "metadata": {},
   "outputs": [],
   "source": [
    "def reversestr(strs):\n",
    "    strs = \"hellow world\"\n",
    "    print(' '.join(reversed(strs.strip().split())))"
   ]
  },
  {
   "cell_type": "code",
   "execution_count": 15,
   "metadata": {},
   "outputs": [],
   "source": [
    "def middleNode(head):\n",
    "    if not head:\n",
    "        return None\n",
    "    \n",
    "    fast, slow = head, head\n",
    "    while fast and fast.next and fast.next.next:\n",
    "        fast = fast.next.next\n",
    "        slow = slow.next\n",
    "    \n",
    "    return slow"
   ]
  },
  {
   "cell_type": "code",
   "execution_count": 16,
   "metadata": {},
   "outputs": [],
   "source": [
    "class sum2():\n",
    "    def __init__(self):\n",
    "        self.num = []\n",
    "        \n",
    "    def add(self, number):\n",
    "        num.append(number)\n",
    "        \n",
    "    def find(self, value):\n",
    "        self.num.sort()\n",
    "        l,r = 0, len(self.num)\n",
    "        while l < r:\n",
    "            sv = self.num[l] + self.num[r]\n",
    "            if sv == value:\n",
    "                return True\n",
    "            elif sv < value:\n",
    "                l += 1\n",
    "            else:\n",
    "                r -= 1"
   ]
  },
  {
   "cell_type": "code",
   "execution_count": 20,
   "metadata": {},
   "outputs": [],
   "source": [
    "def moveZeroes(nums):\n",
    "    if not nums:\n",
    "        return 0\n",
    "    \n",
    "    nums.sort()\n",
    "    idx = 0\n",
    "    for i in range(1, len(nums)):\n",
    "        if nums[i] != nums[idx]:\n",
    "            idx += 1\n",
    "            nums[idx] = nums[i]\n",
    "        \n",
    "    print(nums)\n",
    "    return idx + 1"
   ]
  },
  {
   "cell_type": "code",
   "execution_count": 21,
   "metadata": {},
   "outputs": [
    {
     "name": "stdout",
     "output_type": "stream",
     "text": [
      "[1, 2, 3, 4, 6, 4, 4, 6]\n",
      "5\n"
     ]
    }
   ],
   "source": [
    "print(moveZeroes([1,2,3,4,3,2,4,6]))\n",
    "def sortIntegers2(self, A):\n",
    "    return None"
   ]
  },
  {
   "cell_type": "code",
   "execution_count": 23,
   "metadata": {},
   "outputs": [],
   "source": [
    "def deduplication(self, nums):\n",
    "    return None"
   ]
  },
  {
   "cell_type": "code",
   "execution_count": null,
   "metadata": {},
   "outputs": [],
   "source": []
  }
 ],
 "metadata": {
  "kernelspec": {
   "display_name": "Python 3",
   "language": "python",
   "name": "python3"
  },
  "language_info": {
   "codemirror_mode": {
    "name": "ipython",
    "version": 3
   },
   "file_extension": ".py",
   "mimetype": "text/x-python",
   "name": "python",
   "nbconvert_exporter": "python",
   "pygments_lexer": "ipython3",
   "version": "3.7.3"
  }
 },
 "nbformat": 4,
 "nbformat_minor": 2
}
