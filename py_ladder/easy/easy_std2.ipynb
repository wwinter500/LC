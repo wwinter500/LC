{
 "cells": [
  {
   "cell_type": "code",
   "execution_count": 1,
   "metadata": {},
   "outputs": [],
   "source": [
    "#for interval, array, matrix and binary index tree\n",
    "#839\n",
    "def merge2interval(intv1, intv2):\n",
    "    intv1[0] = min(intv1[0], intv2[0])\n",
    "    intv1[1] = max(intv1[1], intv2[1])\n",
    "    \n",
    "def mergeTwoInterval(list1, list2):\n",
    "    if not list1 and not list2:\n",
    "        return []\n",
    "    elif not list1:\n",
    "        return list2\n",
    "    elif not list2:\n",
    "        return list1\n",
    "    \n",
    "    ans = []\n",
    "    l1, l2 = 0, 0\n",
    "    while l1 < len(list1) and l2 < len(list2):\n",
    "        cur = list1[l1] if list1[l1][0] < list2[l2][0] else list2[l2]\n",
    "        if cur == list1[l1]:\n",
    "            l1 += 1\n",
    "        else:\n",
    "            l2 += 1\n",
    "            \n",
    "        if not ans or ans[-1][1] < cur[0]:\n",
    "            ans.append(cur)\n",
    "        else:\n",
    "            ans[-1][1] = max(ans[-1][1], cur[1])\n",
    "    \n",
    "    while l1 < len(list1):\n",
    "        if not ans or ans[-1][1] < list1[l1][0]:\n",
    "            ans.append(cur)\n",
    "        else:\n",
    "            ans[-1][1] = max(ans[-1][1], list1[l1][1])\n",
    "        \n",
    "        l1 += 1\n",
    "    \n",
    "    while l2 < len(list2):\n",
    "        if not ans or ans[-1][1] < list2[l2][0]:\n",
    "            ans.append(cur)\n",
    "        else:\n",
    "            ans[-1][1] = max(ans[-1][1], list2[l2][1])\n",
    "        \n",
    "        l2 += 1\n",
    "    \n",
    "    return ans\n",
    "    "
   ]
  },
  {
   "cell_type": "code",
   "execution_count": null,
   "metadata": {},
   "outputs": [],
   "source": []
  }
 ],
 "metadata": {
  "kernelspec": {
   "display_name": "Python 3",
   "language": "python",
   "name": "python3"
  },
  "language_info": {
   "codemirror_mode": {
    "name": "ipython",
    "version": 3
   },
   "file_extension": ".py",
   "mimetype": "text/x-python",
   "name": "python",
   "nbconvert_exporter": "python",
   "pygments_lexer": "ipython3",
   "version": "3.7.3"
  }
 },
 "nbformat": 4,
 "nbformat_minor": 2
}
