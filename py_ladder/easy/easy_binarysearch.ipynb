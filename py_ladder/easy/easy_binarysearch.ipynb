{
 "nbformat": 4,
 "nbformat_minor": 2,
 "metadata": {
  "language_info": {
   "name": "python",
   "codemirror_mode": {
    "name": "ipython",
    "version": 3
   }
  },
  "orig_nbformat": 2,
  "file_extension": ".py",
  "mimetype": "text/x-python",
  "name": "python",
  "npconvert_exporter": "python",
  "pygments_lexer": "ipython3",
  "version": 3
 },
 "cells": [
  {
   "cell_type": "code",
   "execution_count": 33,
   "metadata": {},
   "outputs": [],
   "source": [
    "import math\n",
    "#easy - binary search\n",
    "def primeFactorization(num):\n",
    "    ans = []\n",
    "    while num > 1:\n",
    "        fac = 1\n",
    "        for v in range(1, (int)(math.sqrt(num)) + 1):\n",
    "            if num % v == 0:\n",
    "                fac = v\n",
    "                break\n",
    "            \n",
    "        if fac == 1:\n",
    "            ans.append(num)\n",
    "            break\n",
    "        else:\n",
    "            ans.append(fac)\n",
    "            num /= fac\n",
    "    return ans"
   ]
  },
  {
   "cell_type": "code",
   "execution_count": 34,
   "metadata": {},
   "outputs": [
    {
     "name": "stdout",
     "output_type": "stream",
     "text": "[10]\n"
    }
   ],
   "source": [
    "re = primeFactorization(10)\n",
    "print(re)"
   ]
  },
  {
   "cell_type": "code",
   "execution_count": null,
   "metadata": {},
   "outputs": [],
   "source": []
  }
 ]
}