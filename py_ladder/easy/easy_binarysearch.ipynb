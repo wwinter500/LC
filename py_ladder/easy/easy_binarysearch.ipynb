{
 "nbformat": 4,
 "nbformat_minor": 2,
 "metadata": {
  "language_info": {
   "name": "python",
   "codemirror_mode": {
    "name": "ipython",
    "version": 3
   }
  },
  "orig_nbformat": 2,
  "file_extension": ".py",
  "mimetype": "text/x-python",
  "name": "python",
  "npconvert_exporter": "python",
  "pygments_lexer": "ipython3",
  "version": 3
 },
 "cells": [
  {
   "cell_type": "code",
   "execution_count": 5,
   "metadata": {},
   "outputs": [],
   "source": [
    "import math\n",
    "#easy - binary search\n",
    "def primeFactorization(num):\n",
    "    ans = []\n",
    "    while num > 1:\n",
    "        fac = 1\n",
    "        for v in range(2, (int)(math.sqrt(num)) + 1):\n",
    "            if num % v == 0:\n",
    "                fac = v\n",
    "                break\n",
    "            \n",
    "        if fac == 1:\n",
    "            ans.append(num)\n",
    "            break\n",
    "        else:\n",
    "            ans.append(fac)\n",
    "            num = (int)( num/ fac)\n",
    "    return ans"
   ]
  },
  {
   "cell_type": "code",
   "execution_count": 7,
   "metadata": {},
   "outputs": [
    {
     "name": "stdout",
     "output_type": "stream",
     "text": "[2, 3, 5]\n"
    }
   ],
   "source": [
    "re = primeFactorization(30)\n",
    "print(re)"
   ]
  },
  {
   "cell_type": "code",
   "execution_count": 8,
   "metadata": {},
   "outputs": [],
   "source": [
    "def dropEggs(n):\n",
    "    return 0"
   ]
  },
  {
   "cell_type": "code",
   "execution_count": 19,
   "metadata": {},
   "outputs": [],
   "source": [
    "def searchMatrix(matrix, target):\n",
    "    if not matrix or not matrix[0]:\n",
    "        return -1\n",
    "\n",
    "    n = len(matrix)\n",
    "    m = len(matrix[0])\n",
    "    rl, rr = 0, n - 1\n",
    "    while rl < rr:\n",
    "        m = rl + (int)((int)(rr - rl) / 2)\n",
    "        if matrix[m][-1] < target and matrix[m + 1][0] > target:\n",
    "            return False\n",
    "        elif matrix[m][-1] < target and matrix[m + 1][0] <= target:\n",
    "            rl = m + 1\n",
    "            break\n",
    "        elif matrix[m][0] >= target:\n",
    "            rr = m\n",
    "        else:\n",
    "            rl = m + 1\n",
    "    \n",
    "    print(rl)\n",
    "    for r in range(rl, n):\n",
    "        cl, cr = 0, m - 1\n",
    "        while cl < cr:\n",
    "            m = cl + (int)((int)(cr - cl) / 2)\n",
    "            if matrix[r][m] == target:\n",
    "                return True\n",
    "            elif matrix[r][m] < target and matrix[r][m + 1] > target:\n",
    "                break\n",
    "            elif matrix[r][m] > target:\n",
    "                cr = m\n",
    "            else:\n",
    "                cl = m + 1\n",
    "    return False    "
   ]
  },
  {
   "cell_type": "code",
   "execution_count": 20,
   "metadata": {},
   "outputs": [
    {
     "name": "stdout",
     "output_type": "stream",
     "text": "2\nFalse\n"
    }
   ],
   "source": [
    "print(searchMatrix([[1,2,3],[3,4,5],[7,8,9]], 5))"
   ]
  },
  {
   "cell_type": "code",
   "execution_count": null,
   "metadata": {},
   "outputs": [],
   "source": []
  }
 ]
}