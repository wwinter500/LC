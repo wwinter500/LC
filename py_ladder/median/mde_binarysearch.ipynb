{
 "cells": [
  {
   "cell_type": "code",
   "execution_count": 52,
   "metadata": {},
   "outputs": [],
   "source": [
    "#binary search\n",
    "def sqrt(x):#double input\n",
    "    if x == 0 or x == 1:\n",
    "        return x\n",
    "    nx = (float)(x if x > 1 else 1 / x)\n",
    "    l, r = 0.0, nx\n",
    "    while r - l > 0.00000001:\n",
    "        m = l + (r - l) / 2.0\n",
    "        diff = m * m - nx\n",
    "        if diff == 0.0 or abs(diff) < 0.00000001:\n",
    "            return m if x > 1 else 1 / m\n",
    "        elif diff > 0:\n",
    "            r = m\n",
    "        else:\n",
    "            l = m\n",
    "    \n",
    "    return r if x > 1 else 1 / r"
   ]
  },
  {
   "cell_type": "code",
   "execution_count": 53,
   "metadata": {},
   "outputs": [
    {
     "name": "stdout",
     "output_type": "stream",
     "text": [
      "100.00000000218279\n"
     ]
    }
   ],
   "source": [
    "print(sqrt(10000))"
   ]
  },
  {
   "cell_type": "code",
   "execution_count": 54,
   "metadata": {},
   "outputs": [],
   "source": [
    "def divide(dividend, divisor):\n",
    "    #without using divide, multiply, mod\n",
    "    #return int value\n",
    "    INT_MAX = 2147483647\n",
    "    if divisor == 0:\n",
    "        return INT_MAX\n",
    "    \n",
    "    neg = True if dividend ^ divisor < 0 else False\n",
    "    a, b = abs(dividend), abs(divisor)\n",
    "    ans, shift = 0, 31\n",
    "    while shift >= 0:\n",
    "        if a >= b << shift:\n",
    "            a -= b << shift\n",
    "            ans += 1 << shift\n",
    "        shift -= 1\n",
    "    if neg:\n",
    "        ans = -ans\n",
    "    if ans > INT_MAX:\n",
    "        return INT_MAX\n",
    "    return ans\n",
    "    \n",
    "            \n",
    "    "
   ]
  },
  {
   "cell_type": "code",
   "execution_count": null,
   "metadata": {},
   "outputs": [],
   "source": [
    "\n"
   ]
  }
 ],
 "metadata": {
  "kernelspec": {
   "display_name": "Python 3",
   "language": "python",
   "name": "python3"
  },
  "language_info": {
   "codemirror_mode": {
    "name": "ipython",
    "version": 3
   },
   "file_extension": ".py",
   "mimetype": "text/x-python",
   "name": "python",
   "nbconvert_exporter": "python",
   "pygments_lexer": "ipython3",
   "version": "3.7.3"
  }
 },
 "nbformat": 4,
 "nbformat_minor": 2
}
