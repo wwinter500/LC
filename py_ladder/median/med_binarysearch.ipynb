{
 "cells": [
  {
   "cell_type": "code",
   "execution_count": 52,
   "metadata": {},
   "outputs": [],
   "source": [
    "#binary search\n",
    "def sqrt(x):#double input\n",
    "    if x == 0 or x == 1:\n",
    "        return x\n",
    "    nx = (float)(x if x > 1 else 1 / x)\n",
    "    l, r = 0.0, nx\n",
    "    while r - l > 0.00000001:\n",
    "        m = l + (r - l) / 2.0\n",
    "        diff = m * m - nx\n",
    "        if diff == 0.0 or abs(diff) < 0.00000001:\n",
    "            return m if x > 1 else 1 / m\n",
    "        elif diff > 0:\n",
    "            r = m\n",
    "        else:\n",
    "            l = m\n",
    "    \n",
    "    return r if x > 1 else 1 / r"
   ]
  },
  {
   "cell_type": "code",
   "execution_count": 53,
   "metadata": {},
   "outputs": [
    {
     "name": "stdout",
     "output_type": "stream",
     "text": [
      "100.00000000218279\n"
     ]
    }
   ],
   "source": [
    "print(sqrt(10000))"
   ]
  },
  {
   "cell_type": "code",
   "execution_count": 13,
   "metadata": {},
   "outputs": [],
   "source": [
    "import sys\n",
    "def divide(dividend, divisor):\n",
    "    #without using divide, multiply, mod\n",
    "    #return int value\n",
    "    if divisor == 0:\n",
    "        return sys.maxsize\n",
    "    \n",
    "    neg = True if dividend ^ divisor < 0 else False\n",
    "    a, b = abs(dividend), abs(divisor)\n",
    "    ans, shift = 0, 31\n",
    "    while shift >= 0:\n",
    "        if a >= b <<shift:\n",
    "            a -= b << shift\n",
    "            ans += 1 << shift\n",
    "        shift -= 1\n",
    "    \n",
    "    if neg:\n",
    "        ans = -ans\n",
    "    if ans > sys.maxsize:\n",
    "        return sys.maxsize\n",
    "    return ans\n",
    "    "
   ]
  },
  {
   "cell_type": "code",
   "execution_count": 14,
   "metadata": {},
   "outputs": [
    {
     "name": "stdout",
     "output_type": "stream",
     "text": "2\n"
    }
   ],
   "source": [
    "print(divide(20, 10))"
   ]
  },
  {
   "cell_type": "code",
   "execution_count": 6,
   "metadata": {},
   "outputs": [],
   "source": [
    "#140 fast power a^n % b\n",
    "def fastPower(a, b, n):\n",
    "    ans = 1\n",
    "    tmp = a\n",
    "    \n",
    "    while n > 0:\n",
    "        if n % 2:\n",
    "            ans *= tmp\n",
    "        tmp *= tmp\n",
    "        \n",
    "        \n",
    "        n = (int)(n / 2)\n",
    "    return ans % b"
   ]
  },
  {
   "cell_type": "code",
   "execution_count": 10,
   "metadata": {},
   "outputs": [
    {
     "name": "stdout",
     "output_type": "stream",
     "text": [
      "5506873\n"
     ]
    }
   ],
   "source": [
    "\n",
    "print(fastPower(109,10000007,1000001))"
   ]
  },
  {
   "cell_type": "code",
   "execution_count": 11,
   "metadata": {},
   "outputs": [],
   "source": [
    "#75 find peak element\n",
    "def findPeak(A):\n",
    "    if not A:\n",
    "        return -1\n",
    "    \n",
    "    l,r = 0, len(A) - 1\n",
    "    while l < r:\n",
    "        m = l + (int)((r - l) / 2)\n",
    "        if m > 0 and A[m] > A[m - 1] and A[m] > A[m + 1]:\n",
    "            return m\n",
    "        elif A[m] > A[m + 1]:\n",
    "            r = m\n",
    "        else:\n",
    "            l = m + 1\n",
    "    return l"
   ]
  },
  {
   "cell_type": "code",
   "execution_count": 25,
   "metadata": {},
   "outputs": [],
   "source": [
    "def search(A, target):\n",
    "    if not A:\n",
    "        return -1\n",
    "\n",
    "    l,r = 0, len(A) - 1\n",
    "    while l < r:\n",
    "        m = l + (int)((r - l) / 2)\n",
    "        if m > 0 and A[m] < target and A[m + 1] > target:\n",
    "            return -1\n",
    "        if A[m] == target:\n",
    "            return m\n",
    "        elif A[0] < A[-1]:\n",
    "            if A[m] > target:\n",
    "                r = m\n",
    "            else:\n",
    "                l = m + 1\n",
    "        elif min(A[m], target) > A[-1] or max(A[m], target) < A[-1]:\n",
    "            if target < A[m]:\n",
    "                r = m\n",
    "            else:\n",
    "                l = m + 1\n",
    "        elif A[m] < A[-1] and target > A[-1]:\n",
    "            r = m\n",
    "        else:\n",
    "            l = m + 1\n",
    "    \n",
    "    return l if A[l] == target else -1"
   ]
  },
  {
   "cell_type": "code",
   "execution_count": 26,
   "metadata": {},
   "outputs": [
    {
     "name": "stdout",
     "output_type": "stream",
     "text": [
      "1\n"
     ]
    }
   ],
   "source": [
    "print(search([1001,10001,10007,1,10,101,201], 10001))"
   ]
  },
  {
   "cell_type": "code",
   "execution_count": 23,
   "metadata": {},
   "outputs": [],
   "source": [
    "def searchMatrix(matrix, target):\n",
    "    if not matrix or not matrix[0]:\n",
    "        return 0\n",
    "    \n",
    "    n,m = len(matrix), len(matrix[0])\n",
    "    i, j = n - 1, 0\n",
    "    cnt = 0\n",
    "    while i >= 0 and j < m:\n",
    "        if matrix[i][j] == target:\n",
    "            cnt += 1\n",
    "            i -= 1\n",
    "            j += 1\n",
    "        elif matrix[i][j] < target:\n",
    "            j += 1\n",
    "        else:\n",
    "            i -= 1\n",
    "    return cnt\n",
    "    "
   ]
  },
  {
   "cell_type": "code",
   "execution_count": 24,
   "metadata": {},
   "outputs": [
    {
     "name": "stdout",
     "output_type": "stream",
     "text": "2\n"
    }
   ],
   "source": [
    "print(searchMatrix([[1, 3, 5, 7],[2, 4, 7, 8],[3, 5, 9, 10]], 3))"
   ]
  },
  {
   "cell_type": "code",
   "execution_count": null,
   "metadata": {},
   "outputs": [],
   "source": []
  },
  {
   "cell_type": "code",
   "execution_count": null,
   "metadata": {},
   "outputs": [],
   "source": []
  },
  {
   "cell_type": "code",
   "execution_count": null,
   "metadata": {},
   "outputs": [],
   "source": []
  },
  {
   "cell_type": "code",
   "execution_count": null,
   "metadata": {},
   "outputs": [],
   "source": []
  },
  {
   "cell_type": "code",
   "execution_count": null,
   "metadata": {},
   "outputs": [],
   "source": []
  }
 ],
 "metadata": {
  "kernelspec": {
   "display_name": "Python 3",
   "language": "python",
   "name": "python3"
  },
  "language_info": {
   "codemirror_mode": {
    "name": "ipython",
    "version": 3
   },
   "file_extension": ".py",
   "mimetype": "text/x-python",
   "name": "python",
   "nbconvert_exporter": "python",
   "pygments_lexer": "ipython3",
   "version": "3.7.3"
  }
 },
 "nbformat": 4,
 "nbformat_minor": 2
}