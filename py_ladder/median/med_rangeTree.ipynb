{
 "cells": [
  {
   "cell_type": "code",
   "execution_count": 15,
   "metadata": {},
   "outputs": [],
   "source": [
    "#range tree\n",
    "class IntervalTree():\n",
    "    def __init__(self, nums):\n",
    "        self.ori = nums\n",
    "        self.lens = len(nums)\n",
    "        self.bit = [0] * (self.lens + 1)\n",
    "    \n",
    "        for i in range(self.lens):\n",
    "            self.add(i, self.ori[i])\n",
    "        \n",
    "    def add(self, idx, val):\n",
    "        idx += 1\n",
    "        while idx <= self.lens:\n",
    "            self.bit[idx] += val\n",
    "            idx += self.lowbit(idx)\n",
    "    \n",
    "    def lowbit(self, idx):\n",
    "        return x & (-x)\n",
    "    \n",
    "    def sum(self, idx):#from 0 to idx\n",
    "        idx += 1\n",
    "        res = 0\n",
    "        while idx > 0:\n",
    "            res += self.bit[idx]\n",
    "            idx -= self.lowbit(idx)\n",
    "        \n",
    "        return res\n",
    "    \n",
    "    def update(self, idx, val):\n",
    "        self.add(idx, val - self.ori[idx])\n",
    "        self.ori[idx] = val\n",
    "    \n",
    "    def sumRange(self, start, end):#from start to end\n",
    "        return self.sum(end) - self.sum(start - 1)\n",
    "        "
   ]
  },
  {
   "cell_type": "code",
   "execution_count": null,
   "metadata": {},
   "outputs": [],
   "source": []
  },
  {
   "cell_type": "code",
   "execution_count": null,
   "metadata": {},
   "outputs": [],
   "source": []
  }
 ],
 "metadata": {
  "kernelspec": {
   "display_name": "Python 3",
   "language": "python",
   "name": "python3"
  },
  "language_info": {
   "codemirror_mode": {
    "name": "ipython",
    "version": 3
   },
   "file_extension": ".py",
   "mimetype": "text/x-python",
   "name": "python",
   "nbconvert_exporter": "python",
   "pygments_lexer": "ipython3",
   "version": "3.7.4"
  }
 },
 "nbformat": 4,
 "nbformat_minor": 2
}
