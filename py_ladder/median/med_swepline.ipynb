{
 "cells": [
  {
   "cell_type": "code",
   "execution_count": 21,
   "metadata": {},
   "outputs": [],
   "source": [
    "#swep line\n",
    "def timeIntersection(seqA, seqB):\n",
    "    sqa = []\n",
    "    sqb = []\n",
    "    for sa in seqA:\n",
    "        sqa.append([sa[0], 0])\n",
    "        sqa.append([sa[1], 1])\n",
    "    \n",
    "    for sb in seqB:\n",
    "        sqb.append([sb[0], 0])\n",
    "        sqb.append([sb[1], 1])\n",
    "    \n",
    "    sqa.sort()\n",
    "    sqb.sort()\n",
    "    ib = 0\n",
    "    ia = 0\n",
    "    ans = []\n",
    "    for a in sqa:\n",
    "        while ib < len(sqb):\n",
    "            if sqb[ib][0] < a[1] and sqb[ib][1] >= a[1]:\n",
    "                ans.append([sqb[ib][0], a[1]])\n",
    "                break\n",
    "            \n",
    "            ib += 1\n",
    "    \n",
    "    for b in sqb:\n",
    "        while ia < len(sqa):\n",
    "            if sqa[ia][0] < b[1] and sqa[ia][1] >= b[1]:\n",
    "                ans.append([sqa[ia][0], b[1]])\n",
    "                break\n",
    "            \n",
    "            ia += 1\n",
    "\n",
    "    return ans\n",
    "        "
   ]
  },
  {
   "cell_type": "code",
   "execution_count": 22,
   "metadata": {},
   "outputs": [
    {
     "name": "stdout",
     "output_type": "stream",
     "text": [
      "[]\n"
     ]
    }
   ],
   "source": [
    "sqa = [[1,1433],[9279,19765],[26161,39426],[49239,64932], [74912,76691],[85962,91108],[93716,99942]]\n",
    "sqb = [[1,10867],[19371,31118],[33255,48940],[56456,73844],[77740,88520],[96055,98003]]\n",
    "\n",
    "print(timeIntersection(sqa, sqb))"
   ]
  },
  {
   "cell_type": "code",
   "execution_count": null,
   "metadata": {},
   "outputs": [],
   "source": []
  }
 ],
 "metadata": {
  "kernelspec": {
   "display_name": "Python 3",
   "language": "python",
   "name": "python3"
  },
  "language_info": {
   "codemirror_mode": {
    "name": "ipython",
    "version": 3
   },
   "file_extension": ".py",
   "mimetype": "text/x-python",
   "name": "python",
   "nbconvert_exporter": "python",
   "pygments_lexer": "ipython3",
   "version": "3.7.3"
  }
 },
 "nbformat": 4,
 "nbformat_minor": 2
}
