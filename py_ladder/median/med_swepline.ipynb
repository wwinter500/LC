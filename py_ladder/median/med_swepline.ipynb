{
 "cells": [
  {
   "cell_type": "code",
   "execution_count": 45,
   "metadata": {},
   "outputs": [],
   "source": [
    "#swep line\n",
    "def timeIntersection(seqA, seqB):\n",
    "    seq = []\n",
    "    for a in seqA:\n",
    "        seq.append([a[0], 0, 0])\n",
    "        seq.append([a[1], 1, 0])\n",
    "    for b in seqB:\n",
    "        seq.append([b[0], 0, 1])\n",
    "        seq.append([b[1], 1, 1])\n",
    "    \n",
    "    seq.sort()\n",
    "    ans = []\n",
    "    for i in range(0, len(seq)):\n",
    "        if seq[i][1] == 0 or seq[i - 1][1] == 1 or (i > 1 and seq[i - 1][2] == seq[i][2] and seq[i - 2][1] == 1):\n",
    "            continue\n",
    "        \n",
    "        ans.append([seq[i - 1][0], seq[i][0]])\n",
    "    return ans"
   ]
  },
  {
   "cell_type": "code",
   "execution_count": 47,
   "metadata": {},
   "outputs": [
    {
     "name": "stdout",
     "output_type": "stream",
     "text": [
      "[[1, 1433], [9279, 10867], [19371, 19765], [26161, 31118], [33255, 39426], [56456, 64932], [85962, 88520], [96055, 98003]]\n"
     ]
    }
   ],
   "source": [
    "#sqa= [[1, 2],[5, 100]]\n",
    "#sqb = [[1, 6]]\n",
    "sqa = [[1,1433],[9279,19765],[26161,39426],[49239,64932], [74912,76691],[85962,91108],[93716,99942]]\n",
    "sqb = [[1,10867],[19371,31118],[33255,48940],[56456,73844],[77740,88520],[96055,98003]]\n",
    "\n",
    "print(timeIntersection(sqa, sqb))"
   ]
  },
  {
   "cell_type": "code",
   "execution_count": null,
   "metadata": {},
   "outputs": [],
   "source": []
  }
 ],
 "metadata": {
  "kernelspec": {
   "display_name": "Python 3",
   "language": "python",
   "name": "python3"
  },
  "language_info": {
   "codemirror_mode": {
    "name": "ipython",
    "version": 3
   },
   "file_extension": ".py",
   "mimetype": "text/x-python",
   "name": "python",
   "nbconvert_exporter": "python",
   "pygments_lexer": "ipython3",
   "version": "3.7.3"
  }
 },
 "nbformat": 4,
 "nbformat_minor": 2
}
