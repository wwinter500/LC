{
 "cells": [
  {
   "cell_type": "code",
   "execution_count": 90,
   "metadata": {},
   "outputs": [],
   "source": [
    "#swep line\n",
    "def timeIntersection(seqA, seqB):\n",
    "    sqa,sqb = [], []\n",
    "    ma, mb = {}, {}\n",
    "    for ap in seqA:\n",
    "        sqa.append([ap[0], 0])\n",
    "        sqa.append([ap[1], 1])\n",
    "        ma[ap[1]] = ap[0]\n",
    "        \n",
    "    for bp in seqB:\n",
    "        sqb.append([bp[0], 0])\n",
    "        sqb.append([bp[1], 1])\n",
    "        mb[bp[1]] = bp[0]\n",
    "    \n",
    "    sqa.sort()\n",
    "    sqb.sort()\n",
    "    \n",
    "    ia, ib = 0, 0\n",
    "    ans = []\n",
    "    for a in sqa:\n",
    "        if a[1] == 1:\n",
    "            while ib < len(sqb):\n",
    "                if sqb[ib][0] >= a[0]:\n",
    "                    if sqb[ib][1] == 1 and sqb[ib - 1][0] < a[0]:\n",
    "                        ans.append([max(ma[a[0]], sqb[ib - 1][0]), a[0]])\n",
    "                    break\n",
    "                ib += 1\n",
    "    \n",
    "    for b in sqb:\n",
    "        if b[1] == 1:\n",
    "            while ia < len(sqa):\n",
    "                if sqa[ia][0] >= b[0]:\n",
    "                    if sqa[ia][1] == 1 and sqa[ia - 1][0] < b[0]:\n",
    "                        ans.append([max(mb[b[0]], sqa[ia - 1][0]), b[0]])\n",
    "                    break\n",
    "                ia += 1\n",
    "    ans.sort()\n",
    "    return ans"
   ]
  },
  {
   "cell_type": "code",
   "execution_count": 91,
   "metadata": {},
   "outputs": [
    {
     "name": "stdout",
     "output_type": "stream",
     "text": [
      "[[1, 1541], [3636, 12006], [22103, 24913], [31312, 34302], [42625, 43724], [54444, 55013], [58006, 69193], [78834, 84941], [93661, 97674], [99791, 99952]]\n"
     ]
    }
   ],
   "source": [
    "#sqa= [[1, 2],[5, 100]]\n",
    "#sqb = [[1, 6]]\n",
    "#sqa = [[1,1433],[9279,19765],[26161,39426],[49239,64932], [74912,76691],[85962,91108],[93716,99942]]\n",
    "#sqb = [[1,10867],[19371,31118],[33255,48940],[56456,73844],[77740,88520],[96055,98003]]\n",
    "#sqa = [[1,2],[10,15]]\n",
    "#sqb = [[3,5],[7,9]]\n",
    "sqa = [[1,1541],[3636,13815],[22103,34302],[42625,43724],[46407,55013],[58006,71310],[75371,84941],[93661,99952]]\n",
    "sqb = [[1,12006],[14350,24913],[31312,45963],[54444,69193],[78834,97674],[99791,101077]]\n",
    "\n",
    "print(timeIntersection(sqa, sqb))"
   ]
  },
  {
   "cell_type": "code",
   "execution_count": null,
   "metadata": {},
   "outputs": [],
   "source": []
  }
 ],
 "metadata": {
  "kernelspec": {
   "display_name": "Python 3",
   "language": "python",
   "name": "python3"
  },
  "language_info": {
   "codemirror_mode": {
    "name": "ipython",
    "version": 3
   },
   "file_extension": ".py",
   "mimetype": "text/x-python",
   "name": "python",
   "nbconvert_exporter": "python",
   "pygments_lexer": "ipython3",
   "version": "3.7.3"
  }
 },
 "nbformat": 4,
 "nbformat_minor": 2
}
