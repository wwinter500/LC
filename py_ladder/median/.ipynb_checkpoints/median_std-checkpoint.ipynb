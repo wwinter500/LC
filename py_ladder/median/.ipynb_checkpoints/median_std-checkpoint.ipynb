{
 "cells": [
  {
   "cell_type": "code",
   "execution_count": 3,
   "metadata": {},
   "outputs": [],
   "source": [
    "import sys"
   ]
  },
  {
   "cell_type": "code",
   "execution_count": 22,
   "metadata": {},
   "outputs": [],
   "source": [
    "class Solution:\n",
    "    def evalRPN(self, tokens):\n",
    "        st = []\n",
    "        if tokens is None:\n",
    "            return 0\n",
    "        \n",
    "        for t in tokens:\n",
    "            if t is \"+\" or t is \"-\" or t is \"*\" or t is \"/\":\n",
    "                if len(st) < 2:\n",
    "                    return 0;\n",
    "                \n",
    "                r = st.pop(-1);\n",
    "                l = st.pop(-1);\n",
    "                \n",
    "                if t is \"+\":\n",
    "                    st.append(l + r)\n",
    "                if t is \"-\":\n",
    "                    st.append(l - r)\n",
    "                if t is \"*\":\n",
    "                    st.append(l * r)\n",
    "                if t is \"/\" and r != 0:\n",
    "                    st.append((int)(l / r))\n",
    "            else:\n",
    "                st.append((int)(t))\n",
    "                \n",
    "        if len(st) != 1:\n",
    "            return 0;\n",
    "        return st[-1];\n",
    "    "
   ]
  },
  {
   "cell_type": "code",
   "execution_count": 23,
   "metadata": {},
   "outputs": [
    {
     "name": "stdout",
     "output_type": "stream",
     "text": [
      "1\n"
     ]
    }
   ],
   "source": [
    "sl = Solution()\n",
    "tok = [\"(\", \"5\", \"-\", \"6\", \")\", \"*\", \"7\"]\n",
    "print(sl.evalRPN(tok))"
   ]
  },
  {
   "cell_type": "code",
   "execution_count": 24,
   "metadata": {},
   "outputs": [],
   "source": [
    "    def convertToPN(self, expression):\n",
    "        return 0;"
   ]
  },
  {
   "cell_type": "code",
   "execution_count": 25,
   "metadata": {},
   "outputs": [
    {
     "ename": "TypeError",
     "evalue": "convertToPN() missing 1 required positional argument: 'expression'",
     "output_type": "error",
     "traceback": [
      "\u001b[1;31m---------------------------------------------------------------------------\u001b[0m",
      "\u001b[1;31mTypeError\u001b[0m                                 Traceback (most recent call last)",
      "\u001b[1;32m<ipython-input-25-2823fc58c6ee>\u001b[0m in \u001b[0;36m<module>\u001b[1;34m\u001b[0m\n\u001b[1;32m----> 1\u001b[1;33m \u001b[0mprint\u001b[0m\u001b[1;33m(\u001b[0m\u001b[0mconvertToPN\u001b[0m\u001b[1;33m(\u001b[0m\u001b[0mtok\u001b[0m\u001b[1;33m)\u001b[0m\u001b[1;33m)\u001b[0m\u001b[1;33m\u001b[0m\u001b[1;33m\u001b[0m\u001b[0m\n\u001b[0m",
      "\u001b[1;31mTypeError\u001b[0m: convertToPN() missing 1 required positional argument: 'expression'"
     ]
    }
   ],
   "source": [
    "print(sl.convertToPN(tok))"
   ]
  },
  {
   "cell_type": "code",
   "execution_count": null,
   "metadata": {},
   "outputs": [],
   "source": []
  }
 ],
 "metadata": {
  "kernelspec": {
   "display_name": "Python 3",
   "language": "python",
   "name": "python3"
  },
  "language_info": {
   "codemirror_mode": {
    "name": "ipython",
    "version": 3
   },
   "file_extension": ".py",
   "mimetype": "text/x-python",
   "name": "python",
   "nbconvert_exporter": "python",
   "pygments_lexer": "ipython3",
   "version": "3.7.3"
  }
 },
 "nbformat": 4,
 "nbformat_minor": 2
}
