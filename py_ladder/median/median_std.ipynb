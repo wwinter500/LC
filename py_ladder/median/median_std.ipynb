{
 "cells": [
  {
   "cell_type": "code",
   "execution_count": 3,
   "metadata": {},
   "outputs": [],
   "source": [
    "import sys"
   ]
  },
  {
   "cell_type": "code",
   "execution_count": 22,
   "metadata": {},
   "outputs": [],
   "source": [
    "class Solution:\n",
    "    def evalRPN(self, tokens):\n",
    "        st = []\n",
    "        if tokens is None:\n",
    "            return 0\n",
    "        \n",
    "        for t in tokens:\n",
    "            if t is \"+\" or t is \"-\" or t is \"*\" or t is \"/\":\n",
    "                if len(st) < 2:\n",
    "                    return 0;\n",
    "                \n",
    "                r = st.pop(-1);\n",
    "                l = st.pop(-1);\n",
    "                \n",
    "                if t is \"+\":\n",
    "                    st.append(l + r)\n",
    "                if t is \"-\":\n",
    "                    st.append(l - r)\n",
    "                if t is \"*\":\n",
    "                    st.append(l * r)\n",
    "                if t is \"/\" and r != 0:\n",
    "                    st.append((int)(l / r))\n",
    "            else:\n",
    "                st.append((int)(t))\n",
    "                \n",
    "        if len(st) != 1:\n",
    "            return 0;\n",
    "        return st[-1];\n",
    "    "
   ]
  },
  {
   "cell_type": "code",
   "execution_count": 23,
   "metadata": {},
   "outputs": [
    {
     "name": "stdout",
     "output_type": "stream",
     "text": [
      "1\n"
     ]
    }
   ],
   "source": [
    "sl = Solution()\n",
    "tok = [\"2\",\"*\",\"6\",\"-\",\"(\",\"23\",\"+\",\"7\",\")\",\"/\",\"(\",\"1\",\"+\",\"2\",\")\"]\n",
    "print(sl.evalRPN(tok))"
   ]
  },
  {
   "cell_type": "code",
   "execution_count": 66,
   "metadata": {},
   "outputs": [],
   "source": [
    "expression = [\"(\",\"(\",\"1\",\"+\",\"(\",\"2\",\")\",\")\",\"*\",\"3\",\"+\",\"(\",\"4\",\"/\",\"2\",\")\",\"-\",\"5\",\")\"]\n",
    "def convertToPN(expression):\n",
    "    if expression == []:\n",
    "        return []\n",
    "    \n",
    "    ans = []\n",
    "    st = []\n",
    "    for exp in expression[::-1]:\n",
    "        if exp == \")\":\n",
    "            st.append(exp)\n",
    "        elif exp == \"(\":\n",
    "            while st != [] and st[-1] != \")\":\n",
    "                ans.append(st.pop())\n",
    "            \n",
    "            if st != []:\n",
    "                st.pop()\n",
    "        elif exp == \"+\" or exp == \"-\":\n",
    "            while st != [] and st[-1] != \")\" and st[-1] != \"+\" and st[-1] != \"-\":\n",
    "                ans.append(st.pop())\n",
    "            st.append(exp)\n",
    "        elif exp == \"*\" or exp == \"/\":\n",
    "            st.append(exp)\n",
    "        else:\n",
    "            ans.append(exp)\n",
    "    while st != []:\n",
    "        ans.append(st.pop())\n",
    "    return ans[::-1];"
   ]
  },
  {
   "cell_type": "code",
   "execution_count": 67,
   "metadata": {},
   "outputs": [
    {
     "name": "stdout",
     "output_type": "stream",
     "text": [
      "['-', '+', '*', '+', '1', '2', '3', '/', '4', '2', '5']\n",
      "['-', '+', '*', '+', '1', '2', '3', '/', '4', '2', '5']\n"
     ]
    }
   ],
   "source": [
    "\n",
    "print(convertToPN(expression))\n",
    "print([\"-\",\"+\",\"*\",\"+\",\"1\",\"2\",\"3\",\"/\",\"4\",\"2\",\"5\"])\n",
    "#print([\"-\",\"*\",\"2\",\"6\",\"/\",\"+\",\"23\",\"7\",\"+\",\"1\",\"2\"])"
   ]
  },
  {
   "cell_type": "code",
   "execution_count": 76,
   "metadata": {},
   "outputs": [
    {
     "name": "stdout",
     "output_type": "stream",
     "text": [
      "7\n"
     ]
    }
   ],
   "source": [
    "def calculate(op, dt):\n",
    "    r = dt.pop()\n",
    "    l = dt.pop()\n",
    "    if op == \"+\":\n",
    "        return l + r\n",
    "    elif op == \"-\":\n",
    "        return l - r\n",
    "    elif op == \"*\":\n",
    "        return l * r\n",
    "    elif op == \"/\" and r != 0:\n",
    "        return (int)(l / r)\n",
    "    else:\n",
    "        return 0\n",
    "        \n",
    "def evaluateExpression(expression):\n",
    "    if expression == []:\n",
    "        return 0\n",
    "    \n",
    "    dt = []\n",
    "    op = []\n",
    "    for exp in expression:\n",
    "        if exp == \"(\":\n",
    "            op.append(exp)\n",
    "        elif exp == \")\":\n",
    "            while op != [] and op[-1] != \"(\":\n",
    "                if len(dt) < 2:\n",
    "                    return 0\n",
    "                dt.append(calculate(op.pop(), dt))\n",
    "                \n",
    "            if op != []:\n",
    "                op.pop()\n",
    "        elif exp == \"+\" or exp == \"-\":\n",
    "            while op != [] and op[-1] != \"(\":\n",
    "                if len(dt) < 2:\n",
    "                    return 0\n",
    "                dt.append(calculate(op.pop(), dt))\n",
    "            op.append(exp)\n",
    "        elif exp == \"*\" or exp == \"/\":\n",
    "            while op != [] and op[-1] != \"(\" and op[-1] != \"+\" and op[-1] != \"-\":\n",
    "                if len(dt) < 2:\n",
    "                    return 0\n",
    "                dt.append(calculate(op.pop(), dt))\n",
    "            op.append(exp)\n",
    "        else:\n",
    "            dt.append((int)(exp))\n",
    "    \n",
    "    while op != []:\n",
    "        if len(dt) < 2:\n",
    "            return 0\n",
    "        dt.append(calculate(op.pop(), dt))\n",
    "        \n",
    "    if len(dt) != 1:\n",
    "        return 0\n",
    "    return dt[-1]\n",
    "\n",
    "print(evaluateExpression([\"4\", \"-\", \"(\", \"2\",\"-\", \"3\", \")\", \"*\", \"2\", \"+\", \"5\", \"/\", \"5\"]))"
   ]
  },
  {
   "cell_type": "code",
   "execution_count": 77,
   "metadata": {},
   "outputs": [],
   "source": [
    "class MyQueue:\n",
    "    \n",
    "    def __init__(self):\n",
    "        self.st_pri = []\n",
    "        self.st_sup = []\n",
    "\n",
    "\n",
    "    def push(self, element):\n",
    "        self.st_pri.append(element)\n",
    "\n",
    "    def pop(self):\n",
    "        if self.st_sup == [] and self.st_pri == []:\n",
    "            return -1;\n",
    "        elif self.st_sup == []:\n",
    "            while self.st_pri != []:\n",
    "                self.st_sup.append(self.st_pri.pop())\n",
    "        \n",
    "        return self.st_sup.pop()\n",
    "    \n",
    "    def top(self):\n",
    "        if self.st_sup == [] and self.st_pri == []:\n",
    "            return -1;\n",
    "        elif self.st_sup == []:\n",
    "            while self.st_pri != []:\n",
    "                self.st_sup.append(self.st_pri.pop())\n",
    "        \n",
    "        return self.st_sup[-1]"
   ]
  },
  {
   "cell_type": "code",
   "execution_count": 78,
   "metadata": {},
   "outputs": [
    {
     "name": "stdout",
     "output_type": "stream",
     "text": [
      "1\n",
      "-1\n"
     ]
    }
   ],
   "source": [
    "qu = MyQueue()\n",
    "qu.push(1)\n",
    "print(qu.pop())\n",
    "print(qu.top())"
   ]
  },
  {
   "cell_type": "code",
   "execution_count": 10,
   "metadata": {},
   "outputs": [],
   "source": [
    "import random\n",
    "class RandomizedSet:\n",
    "    \n",
    "    def __init__(self):\n",
    "        self.dict = {}\n",
    "        self.reg = []\n",
    "\n",
    "    def insert(self, val):\n",
    "        if val in self.dict:\n",
    "            return\n",
    "        \n",
    "        self.dict[val] = len(self.reg)\n",
    "        self.reg.append(val)\n",
    "        \n",
    "    def remove(self, val):\n",
    "        if val not in self.dict:\n",
    "            return\n",
    "        \n",
    "        idx = self.dict[val]\n",
    "\n",
    "        self.reg[-1], self.reg[idx] = self.reg[idx], self.reg[-1]\n",
    "        self.reg.pop()\n",
    "        self.dict[self.reg[idx]] = idx\n",
    "        del self.dict[val]\n",
    "\n",
    "    def getRandom(self):\n",
    "        if not self.reg:\n",
    "            return -1\n",
    "        \n",
    "        idx = random.randint(0, len(self.reg) - 1)\n",
    "        return self.reg[idx]"
   ]
  },
  {
   "cell_type": "code",
   "execution_count": 12,
   "metadata": {},
   "outputs": [
    {
     "name": "stdout",
     "output_type": "stream",
     "text": [
      "1\n",
      "3\n"
     ]
    }
   ],
   "source": [
    "rset = RandomizedSet()\n",
    "rset.insert(1)\n",
    "print(rset.getRandom())\n",
    "rset.insert(3)\n",
    "rset.remove(1)\n",
    "print(rset.getRandom())"
   ]
  },
  {
   "cell_type": "code",
   "execution_count": 16,
   "metadata": {},
   "outputs": [],
   "source": [
    "import queue\n",
    "#612\n",
    "def distance(point1, point2):\n",
    "    return sqrt(pow(point1[0] - point2[0], 2) + pow(point1[1] - point2[1], 2))\n",
    "\n",
    "def kClosest(points, origin, k):\n",
    "    if not points or k < 1:\n",
    "        return []\n",
    "    \n",
    "    pq = Queue.priorityqueue()\n",
    "    \n",
    "    for p in points:\n",
    "        dis = distance(p, origin)\n",
    "        if not pq or dis < pq.top()[0]:\n",
    "            arr = []\n",
    "            arr.append(dis)\n",
    "            arr.append(p[0])\n",
    "            arr.append(p[1])\n",
    "            \n",
    "            pq.put(arr)\n",
    "        if len(pq) > k:\n",
    "            pq.pop()\n",
    "    \n",
    "    ans = []\n",
    "    while pq:\n",
    "        arr = []\n",
    "        arr.append(pq[1])\n",
    "        arr.append(pq[2])\n",
    "        \n",
    "        ans.append(arr)\n",
    "    ans.sort()\n",
    "    return ans"
   ]
  },
  {
   "cell_type": "code",
   "execution_count": 17,
   "metadata": {},
   "outputs": [],
   "source": [
    "#544\n",
    "def topk(nums, k):\n",
    "    if not nums or k < 1:\n",
    "        return []\n",
    "    \n",
    "    pq = Queue.priorityqueue()\n",
    "    for v in nums:\n",
    "        if not pq or pq.top() < v:\n",
    "            pq.put(v)\n",
    "        \n",
    "        if len(pq) > k:\n",
    "            pq.pop()\n",
    "    \n",
    "    ans = []\n",
    "    while pq:\n",
    "        ans.append(pq.pop())\n",
    "    \n",
    "    return ans"
   ]
  },
  {
   "cell_type": "code",
   "execution_count": 18,
   "metadata": {},
   "outputs": [],
   "source": [
    "#104\n",
    "class ListNode(object):\n",
    "\n",
    "    def __init__(self, val, next=None):\n",
    "        self.val = val\n",
    "        self.next = next\n",
    "        \n",
    "def mergeKLists(lists):\n",
    "    if not lists:\n",
    "        return []\n",
    "    \n",
    "    head = ListNode()\n",
    "    cp = head\n",
    "    pq = Queue.PriorityQueue()\n",
    "    \n",
    "    nl = len(lists)\n",
    "    \n",
    "    for i in range(nl):\n",
    "        if not lists[i]:\n",
    "            continue\n",
    "        \n",
    "        pq.put([lists[i].val, i])\n",
    "    \n",
    "    while pq:\n",
    "        while pq:\n",
    "            ls = pq.get()[1]\n",
    "            cp.next = ls\n",
    "            ls = ls.next\n",
    "            cp = cp.next\n",
    "        \n",
    "        for i in range(nl):\n",
    "            if not lists[i]:\n",
    "                continue\n",
    "            \n",
    "            pq.put([lists[i].val, i])\n",
    "    \n",
    "    \n",
    "    return head.next\n",
    "        "
   ]
  },
  {
   "cell_type": "code",
   "execution_count": 1,
   "metadata": {},
   "outputs": [],
   "source": [
    "def nthUglyNumber(n):\n",
    "    if n <= 0:\n",
    "        return -1\n",
    "    base = [2,3,5]\n",
    "    pq = Queue.PriorityQueue()\n",
    "    st = set()\n",
    "\n",
    "    pq.put(1)\n",
    "    n -= 1\n",
    "    ans = 1\n",
    "    while n > 0:\n",
    "        v = pq.get()\n",
    "\n",
    "        for b in base:\n",
    "            if v*b in st:\n",
    "                continue\n",
    "\n",
    "            pq.put(v * b)\n",
    "            st.add(v * b)\n",
    "            n -= 1\n",
    "            ans = v * b\n",
    "\n",
    "            if n == 0:\n",
    "                return ans\n",
    "\n",
    "    return ans"
   ]
  },
  {
   "cell_type": "code",
   "execution_count": 11,
   "metadata": {},
   "outputs": [],
   "source": [
    "#944 - TODO\n",
    "def maxSubmatrix(matrix):\n",
    "    n = len(matrix)\n",
    "    m = len(matrix[0])\n",
    "        \n",
    "    #a. update matrix\n",
    "    for i in range(1, m):\n",
    "        matrix[0][i] += matrix[0][i - 1]\n",
    "    \n",
    "    for i in range(1, n):\n",
    "        matrix[i][0] += matrix[i - 1][0]\n",
    "    \n",
    "    for i in range(1, n):\n",
    "        for j in range(1, m):\n",
    "            matrix[i][j] += matrix[i][j - 1] + matrix[i - 1][j] - matrix[i - 1][j - 1]\n",
    "    \n",
    "    #b. record based i on x axis\n",
    "    \n",
    "    return 0"
   ]
  },
  {
   "cell_type": "code",
   "execution_count": 12,
   "metadata": {},
   "outputs": [
    {
     "name": "stdout",
     "output_type": "stream",
     "text": [
      "[[1, 4, 3], [3, 9, 6], [2, 6, 0]]\n",
      "0\n"
     ]
    }
   ],
   "source": [
    "print(maxSubmatrix([\n",
    "    [1,3,-1],\n",
    "    [2,3,-2],\n",
    "    [-1,-2,-3]\n",
    "]))"
   ]
  },
  {
   "cell_type": "code",
   "execution_count": null,
   "metadata": {},
   "outputs": [],
   "source": []
  }
 ],
 "metadata": {
  "kernelspec": {
   "display_name": "Python 3",
   "language": "python",
   "name": "python3"
  },
  "language_info": {
   "codemirror_mode": {
    "name": "ipython",
    "version": 3
   },
   "file_extension": ".py",
   "mimetype": "text/x-python",
   "name": "python",
   "nbconvert_exporter": "python",
   "pygments_lexer": "ipython3",
   "version": "3.7.3"
  }
 },
 "nbformat": 4,
 "nbformat_minor": 2
}
