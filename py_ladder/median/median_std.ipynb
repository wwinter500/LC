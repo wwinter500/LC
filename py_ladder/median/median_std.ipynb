{
 "cells": [
  {
   "cell_type": "code",
   "execution_count": 3,
   "metadata": {},
   "outputs": [],
   "source": [
    "import sys"
   ]
  },
  {
   "cell_type": "code",
   "execution_count": 22,
   "metadata": {},
   "outputs": [],
   "source": [
    "class Solution:\n",
    "    def evalRPN(self, tokens):\n",
    "        st = []\n",
    "        if tokens is None:\n",
    "            return 0\n",
    "        \n",
    "        for t in tokens:\n",
    "            if t is \"+\" or t is \"-\" or t is \"*\" or t is \"/\":\n",
    "                if len(st) < 2:\n",
    "                    return 0;\n",
    "                \n",
    "                r = st.pop(-1);\n",
    "                l = st.pop(-1);\n",
    "                \n",
    "                if t is \"+\":\n",
    "                    st.append(l + r)\n",
    "                if t is \"-\":\n",
    "                    st.append(l - r)\n",
    "                if t is \"*\":\n",
    "                    st.append(l * r)\n",
    "                if t is \"/\" and r != 0:\n",
    "                    st.append((int)(l / r))\n",
    "            else:\n",
    "                st.append((int)(t))\n",
    "                \n",
    "        if len(st) != 1:\n",
    "            return 0;\n",
    "        return st[-1];\n",
    "    "
   ]
  },
  {
   "cell_type": "code",
   "execution_count": 23,
   "metadata": {},
   "outputs": [
    {
     "name": "stdout",
     "output_type": "stream",
     "text": [
      "1\n"
     ]
    }
   ],
   "source": [
    "sl = Solution()\n",
    "tok = [\"2\",\"*\",\"6\",\"-\",\"(\",\"23\",\"+\",\"7\",\")\",\"/\",\"(\",\"1\",\"+\",\"2\",\")\"]\n",
    "print(sl.evalRPN(tok))"
   ]
  },
  {
   "cell_type": "code",
   "execution_count": 66,
   "metadata": {},
   "outputs": [],
   "source": [
    "expression = [\"(\",\"(\",\"1\",\"+\",\"(\",\"2\",\")\",\")\",\"*\",\"3\",\"+\",\"(\",\"4\",\"/\",\"2\",\")\",\"-\",\"5\",\")\"]\n",
    "def convertToPN(expression):\n",
    "    if expression == []:\n",
    "        return []\n",
    "    \n",
    "    ans = []\n",
    "    st = []\n",
    "    for exp in expression[::-1]:\n",
    "        if exp == \")\":\n",
    "            st.append(exp)\n",
    "        elif exp == \"(\":\n",
    "            while st != [] and st[-1] != \")\":\n",
    "                ans.append(st.pop())\n",
    "            \n",
    "            if st != []:\n",
    "                st.pop()\n",
    "        elif exp == \"+\" or exp == \"-\":\n",
    "            while st != [] and st[-1] != \")\" and st[-1] != \"+\" and st[-1] != \"-\":\n",
    "                ans.append(st.pop())\n",
    "            st.append(exp)\n",
    "        elif exp == \"*\" or exp == \"/\":\n",
    "            st.append(exp)\n",
    "        else:\n",
    "            ans.append(exp)\n",
    "    while st != []:\n",
    "        ans.append(st.pop())\n",
    "    return ans[::-1];"
   ]
  },
  {
   "cell_type": "code",
   "execution_count": 67,
   "metadata": {},
   "outputs": [
    {
     "name": "stdout",
     "output_type": "stream",
     "text": [
      "['-', '+', '*', '+', '1', '2', '3', '/', '4', '2', '5']\n",
      "['-', '+', '*', '+', '1', '2', '3', '/', '4', '2', '5']\n"
     ]
    }
   ],
   "source": [
    "\n",
    "print(convertToPN(expression))\n",
    "print([\"-\",\"+\",\"*\",\"+\",\"1\",\"2\",\"3\",\"/\",\"4\",\"2\",\"5\"])\n",
    "#print([\"-\",\"*\",\"2\",\"6\",\"/\",\"+\",\"23\",\"7\",\"+\",\"1\",\"2\"])"
   ]
  },
  {
   "cell_type": "code",
   "execution_count": 76,
   "metadata": {},
   "outputs": [
    {
     "name": "stdout",
     "output_type": "stream",
     "text": [
      "7\n"
     ]
    }
   ],
   "source": [
    "def calculate(op, dt):\n",
    "    r = dt.pop()\n",
    "    l = dt.pop()\n",
    "    if op == \"+\":\n",
    "        return l + r\n",
    "    elif op == \"-\":\n",
    "        return l - r\n",
    "    elif op == \"*\":\n",
    "        return l * r\n",
    "    elif op == \"/\" and r != 0:\n",
    "        return (int)(l / r)\n",
    "    else:\n",
    "        return 0\n",
    "        \n",
    "def evaluateExpression(expression):\n",
    "    if expression == []:\n",
    "        return 0\n",
    "    \n",
    "    dt = []\n",
    "    op = []\n",
    "    for exp in expression:\n",
    "        if exp == \"(\":\n",
    "            op.append(exp)\n",
    "        elif exp == \")\":\n",
    "            while op != [] and op[-1] != \"(\":\n",
    "                if len(dt) < 2:\n",
    "                    return 0\n",
    "                dt.append(calculate(op.pop(), dt))\n",
    "                \n",
    "            if op != []:\n",
    "                op.pop()\n",
    "        elif exp == \"+\" or exp == \"-\":\n",
    "            while op != [] and op[-1] != \"(\":\n",
    "                if len(dt) < 2:\n",
    "                    return 0\n",
    "                dt.append(calculate(op.pop(), dt))\n",
    "            op.append(exp)\n",
    "        elif exp == \"*\" or exp == \"/\":\n",
    "            while op != [] and op[-1] != \"(\" and op[-1] != \"+\" and op[-1] != \"-\":\n",
    "                if len(dt) < 2:\n",
    "                    return 0\n",
    "                dt.append(calculate(op.pop(), dt))\n",
    "            op.append(exp)\n",
    "        else:\n",
    "            dt.append((int)(exp))\n",
    "    \n",
    "    while op != []:\n",
    "        if len(dt) < 2:\n",
    "            return 0\n",
    "        dt.append(calculate(op.pop(), dt))\n",
    "        \n",
    "    if len(dt) != 1:\n",
    "        return 0\n",
    "    return dt[-1]\n",
    "\n",
    "print(evaluateExpression([\"4\", \"-\", \"(\", \"2\",\"-\", \"3\", \")\", \"*\", \"2\", \"+\", \"5\", \"/\", \"5\"]))"
   ]
  },
  {
   "cell_type": "code",
   "execution_count": 77,
   "metadata": {},
   "outputs": [],
   "source": [
    "class MyQueue:\n",
    "    \n",
    "    def __init__(self):\n",
    "        self.st_pri = []\n",
    "        self.st_sup = []\n",
    "\n",
    "\n",
    "    def push(self, element):\n",
    "        self.st_pri.append(element)\n",
    "\n",
    "    def pop(self):\n",
    "        if self.st_sup == [] and self.st_pri == []:\n",
    "            return -1;\n",
    "        elif self.st_sup == []:\n",
    "            while self.st_pri != []:\n",
    "                self.st_sup.append(self.st_pri.pop())\n",
    "        \n",
    "        return self.st_sup.pop()\n",
    "    \n",
    "    def top(self):\n",
    "        if self.st_sup == [] and self.st_pri == []:\n",
    "            return -1;\n",
    "        elif self.st_sup == []:\n",
    "            while self.st_pri != []:\n",
    "                self.st_sup.append(self.st_pri.pop())\n",
    "        \n",
    "        return self.st_sup[-1]"
   ]
  },
  {
   "cell_type": "code",
   "execution_count": 78,
   "metadata": {},
   "outputs": [
    {
     "name": "stdout",
     "output_type": "stream",
     "text": [
      "1\n",
      "-1\n"
     ]
    }
   ],
   "source": [
    "qu = MyQueue()\n",
    "qu.push(1)\n",
    "print(qu.pop())\n",
    "print(qu.top())"
   ]
  },
  {
   "cell_type": "code",
   "execution_count": null,
   "metadata": {},
   "outputs": [],
   "source": []
  }
 ],
 "metadata": {
  "kernelspec": {
   "display_name": "Python 3",
   "language": "python",
   "name": "python3"
  },
  "language_info": {
   "codemirror_mode": {
    "name": "ipython",
    "version": 3
   },
   "file_extension": ".py",
   "mimetype": "text/x-python",
   "name": "python",
   "nbconvert_exporter": "python",
   "pygments_lexer": "ipython3",
   "version": "3.7.3"
  }
 },
 "nbformat": 4,
 "nbformat_minor": 2
}
