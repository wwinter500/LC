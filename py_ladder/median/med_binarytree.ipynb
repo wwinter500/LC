{
 "cells": [
  {
   "cell_type": "code",
   "execution_count": 1,
   "metadata": {},
   "outputs": [],
   "source": [
    "#binary tree\n",
    "class TreeNode:\n",
    "    def __init__(self, val):\n",
    "        self.val = val\n",
    "        self.left, self.right = None, None\n",
    "\n"
   ]
  },
  {
   "cell_type": "code",
   "execution_count": 2,
   "metadata": {},
   "outputs": [],
   "source": [
    "#902 k smallest element on bst\n",
    "def kthSmallest(root, k):\n",
    "    \n",
    "    return None\n",
    "    "
   ]
  },
  {
   "cell_type": "code",
   "execution_count": 4,
   "metadata": {},
   "outputs": [],
   "source": [
    "def lowestCommonAncestor3(root, A, B):\n",
    "    if not A || not B:\n",
    "        return None\n",
    "    \n",
    "    a, b, node = self.helper(root, A, B)\n",
    "    return node\n",
    "\n",
    "def helper(root, A, B):\n",
    "    if not root:\n",
    "        return False, False, None\n",
    "    \n",
    "    la, lb, lnode = helper(root.left, A, B)\n",
    "    ra, rb, rnode = helper(root.right, A, B)\n",
    "\n",
    "    a = la or ra or root == A\n",
    "    b = lb or rb or root == B\n",
    "\n",
    "    if lnode and rnode:\n",
    "        return a, b, root\n",
    "    elif lnode:\n",
    "        return a, b, lnode\n",
    "    elif rnode:\n",
    "        return a, b, rnode\n",
    "    \n",
    "    return a, b, None"
   ]
  },
  {
   "cell_type": "code",
   "execution_count": 4,
   "metadata": {},
   "outputs": [],
   "source": [
    "#578 lowest common ancestor\n"
   ]
  },
  {
   "cell_type": "code",
   "execution_count": null,
   "metadata": {},
   "outputs": [],
   "source": []
  },
  {
   "cell_type": "code",
   "execution_count": null,
   "metadata": {},
   "outputs": [],
   "source": [
    "#95 validate binary search tree"
   ]
  }
 ],
 "metadata": {
  "kernelspec": {
   "display_name": "Python 3",
   "language": "python",
   "name": "python3"
  },
  "language_info": {
   "codemirror_mode": {
    "name": "ipython",
    "version": 3
   },
   "file_extension": ".py",
   "mimetype": "text/x-python",
   "name": "python",
   "nbconvert_exporter": "python",
   "pygments_lexer": "ipython3",
   "version": "3.7.3"
  }
 },
 "nbformat": 4,
 "nbformat_minor": 2
}