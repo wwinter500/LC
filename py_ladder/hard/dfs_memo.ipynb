{
 "cells": [
  {
   "cell_type": "code",
   "execution_count": 5,
   "metadata": {},
   "outputs": [],
   "source": [
    "#582- word break II\n",
    "#solution 1 - time exceed \n",
    "def wordBreak2(s, wordDict):\n",
    "    ans = []\n",
    "    \n",
    "    partition(s, wordDict, ans, \"\")\n",
    "    return ans\n",
    "\n",
    "def partition2(s, wordDict, ans, memo):\n",
    "    if s == \"\":\n",
    "        memo = memo[:-1]\n",
    "        ans.append(memo)\n",
    "        return\n",
    "    \n",
    "    for i in range(len(s)):\n",
    "        sub = s[:i + 1]\n",
    "        if sub in wordDict:\n",
    "            memo += sub + \" \"\n",
    "            partition(s[i + 1:], wordDict, ans, memo)\n",
    "            memo = memo[:-len(sub) - 1]"
   ]
  },
  {
   "cell_type": "code",
   "execution_count": 7,
   "metadata": {},
   "outputs": [],
   "source": [
    "def wordBreak(s, wordDict):\n",
    "    return partition(s, wordDict, {})\n",
    "\n",
    "def partition(s, wordDict, memo):\n",
    "    if s in memo:\n",
    "        return memo[s]\n",
    "    if s == \"\":\n",
    "        return []\n",
    "    \n",
    "    subre = []\n",
    "    for i in range(1, len(s)):\n",
    "        pre = s[:i]\n",
    "        if pre not in wordDict:\n",
    "            continue\n",
    "            \n",
    "        subp = partition(s[i:], wordDict, memo)\n",
    "        for part in subp:\n",
    "            subre.append(pre + \" \" + part)\n",
    "        \n",
    "    if s in wordDict:\n",
    "        subre.append(s)\n",
    "    \n",
    "    memo[s] = subre\n",
    "    return subre\n",
    "        "
   ]
  },
  {
   "cell_type": "code",
   "execution_count": 8,
   "metadata": {},
   "outputs": [
    {
     "name": "stdout",
     "output_type": "stream",
     "text": [
      "['aaa aaaa', 'aaaa aaa']\n"
     ]
    }
   ],
   "source": [
    "s = \"aaaaaaa\"\n",
    "wdict = {\"aaa\", \"aaaa\"}\n",
    "print(wordBreak(s, wdict))"
   ]
  },
  {
   "cell_type": "code",
   "execution_count": null,
   "metadata": {},
   "outputs": [],
   "source": []
  }
 ],
 "metadata": {
  "kernelspec": {
   "display_name": "Python 3",
   "language": "python",
   "name": "python3"
  },
  "language_info": {
   "codemirror_mode": {
    "name": "ipython",
    "version": 3
   },
   "file_extension": ".py",
   "mimetype": "text/x-python",
   "name": "python",
   "nbconvert_exporter": "python",
   "pygments_lexer": "ipython3",
   "version": "3.7.4"
  }
 },
 "nbformat": 4,
 "nbformat_minor": 2
}
