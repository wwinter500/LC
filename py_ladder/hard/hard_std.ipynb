{
 "cells": [
  {
   "cell_type": "code",
   "execution_count": 52,
   "metadata": {},
   "outputs": [],
   "source": [
    "import queue as qu\n",
    "def trapRainWater(heights):\n",
    "    \n",
    "    return 0"
   ]
  },
  {
   "cell_type": "code",
   "execution_count": 53,
   "metadata": {},
   "outputs": [
    {
     "name": "stdout",
     "output_type": "stream",
     "text": [
      "0\n"
     ]
    }
   ],
   "source": [
    "sur = [[12,13,0,12],[13,4,13,12],[13,8,10,12],[12,13,12,12],[13,13,13,13]]\n",
    "print(trapRainWater(sur))"
   ]
  },
  {
   "cell_type": "code",
   "execution_count": 87,
   "metadata": {},
   "outputs": [],
   "source": [
    "dirs4 = [[0, -1], [-1, 0],[0, 1],[1, 0]]\n",
    "#trap rain water II\n",
    "def trapRainWater(heights):\n",
    "    if heights == []:\n",
    "        return 0\n",
    "    \n",
    "    vis = [[False for j in range(len(heights[0]))] for i in range(len(heights))]\n",
    "    pq = qu.PriorityQueue()\n",
    "    for i in range(len(heights)):\n",
    "        for j in range(len(heights[0])):\n",
    "            if i == 0 or i == len(heights) - 1 or j == 0 or j == len(heights[0]) - 1:\n",
    "                pq.put([heights[i][j], i , j])\n",
    "                vis[i][j] = True\n",
    "    ans = 0\n",
    "    level = 0\n",
    "    while not pq.empty():\n",
    "        #TODO: BFS\n",
    "        hd = pq.get()\n",
    "        pq.task_done()\n",
    "        \n",
    "        while hd[0] > level:\n",
    "            level += 1\n",
    "            \n",
    "        for di in dirs4:\n",
    "            ny = di[0] + hd[1]\n",
    "            nx = di[1] + hd[2]\n",
    "            if ny < len(heights) and ny >= 0 and nx < len(heights[0]) and nx >= 0 and vis[ny][nx] == False:\n",
    "                if level > heights[ny][nx]:\n",
    "                    ans += level - heights[ny][nx]\n",
    "                \n",
    "                vis[ny][nx] = True\n",
    "                pq.put([heights[ny][nx], ny, nx])\n",
    "    return ans"
   ]
  },
  {
   "cell_type": "code",
   "execution_count": 88,
   "metadata": {},
   "outputs": [
    {
     "data": {
      "text/plain": [
       "14"
      ]
     },
     "execution_count": 88,
     "metadata": {},
     "output_type": "execute_result"
    }
   ],
   "source": [
    "trapRainWater(sur)"
   ]
  },
  {
   "cell_type": "code",
   "execution_count": null,
   "metadata": {},
   "outputs": [],
   "source": [
    "#lagest rectangle on histogram\n",
    "def largestRectangleArea(height):\n",
    "    if height == []:\n",
    "        return 0\n",
    "    \n",
    "    ans = 0\n",
    "    pa = qu.PriorityQueue()\n",
    "    for i in range(0, len(height)):\n",
    "        pa.put([height[i], i])\n",
    "    \n",
    "    #TODO : use big heap\n",
    "    \n",
    "    return ans"
   ]
  },
  {
   "cell_type": "code",
   "execution_count": 89,
   "metadata": {},
   "outputs": [
    {
     "name": "stdout",
     "output_type": "stream",
     "text": [
      "<queue.PriorityQueue object at 0x000002614F626E80>\n"
     ]
    }
   ],
   "source": [
    "largestRectangleArea([2,1,5,6,3,2])"
   ]
  },
  {
   "cell_type": "code",
   "execution_count": null,
   "metadata": {},
   "outputs": [],
   "source": []
  }
 ],
 "metadata": {
  "kernelspec": {
   "display_name": "Python 3",
   "language": "python",
   "name": "python3"
  },
  "language_info": {
   "codemirror_mode": {
    "name": "ipython",
    "version": 3
   },
   "file_extension": ".py",
   "mimetype": "text/x-python",
   "name": "python",
   "nbconvert_exporter": "python",
   "pygments_lexer": "ipython3",
   "version": "3.7.3"
  }
 },
 "nbformat": 4,
 "nbformat_minor": 2
}
