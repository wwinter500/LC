{
 "cells": [
  {
   "cell_type": "code",
   "execution_count": 2,
   "metadata": {},
   "outputs": [],
   "source": [
    "import queue as qu\n",
    "def trapRainWater(heights):\n",
    "    \n",
    "    return 0"
   ]
  },
  {
   "cell_type": "code",
   "execution_count": 4,
   "metadata": {},
   "outputs": [],
   "source": [
    "sur = [[12,13,0,12],[13,4,13,12],[13,8,10,12],[12,13,12,12],[13,13,13,13]]\n",
    "#print(trapRainWater(sur))"
   ]
  },
  {
   "cell_type": "code",
   "execution_count": 5,
   "metadata": {},
   "outputs": [],
   "source": [
    "dirs4 = [[0, -1], [-1, 0],[0, 1],[1, 0]]\n",
    "#trap rain water II\n",
    "def trapRainWater(heights):\n",
    "    if heights == []:\n",
    "        return 0\n",
    "    \n",
    "    vis = [[False for j in range(len(heights[0]))] for i in range(len(heights))]\n",
    "    pq = qu.PriorityQueue()\n",
    "    for i in range(len(heights)):\n",
    "        for j in range(len(heights[0])):\n",
    "            if i == 0 or i == len(heights) - 1 or j == 0 or j == len(heights[0]) - 1:\n",
    "                pq.put([heights[i][j], i , j])\n",
    "                vis[i][j] = True\n",
    "    ans = 0\n",
    "    level = 0\n",
    "    while not pq.empty():\n",
    "        #TODO: BFS\n",
    "        hd = pq.get()\n",
    "        pq.task_done()\n",
    "        \n",
    "        while hd[0] > level:\n",
    "            level += 1\n",
    "            \n",
    "        for di in dirs4:\n",
    "            ny = di[0] + hd[1]\n",
    "            nx = di[1] + hd[2]\n",
    "            if ny < len(heights) and ny >= 0 and nx < len(heights[0]) and nx >= 0 and vis[ny][nx] == False:\n",
    "                if level > heights[ny][nx]:\n",
    "                    ans += level - heights[ny][nx]\n",
    "                \n",
    "                vis[ny][nx] = True\n",
    "                pq.put([heights[ny][nx], ny, nx])\n",
    "    return ans"
   ]
  },
  {
   "cell_type": "code",
   "execution_count": 6,
   "metadata": {},
   "outputs": [],
   "source": [
    "#trapRainWater(sur)"
   ]
  },
  {
   "cell_type": "code",
   "execution_count": null,
   "metadata": {},
   "outputs": [],
   "source": [
    "#lagest rectangle on histogram\n",
    "def largestRectangleArea(height):\n",
    "    if height == []:\n",
    "        return 0\n",
    "    #monotonous stack\n",
    "    #TODO:\n",
    "    ans = 0\n",
    "    return ans"
   ]
  },
  {
   "cell_type": "code",
   "execution_count": 7,
   "metadata": {},
   "outputs": [],
   "source": [
    "#largestRectangleArea([2,1,5,6,3,2])"
   ]
  },
  {
   "cell_type": "code",
   "execution_count": 13,
   "metadata": {},
   "outputs": [],
   "source": [
    "from collections import deque\n",
    "def push(dq, nums, i):\n",
    "    while dq and nums[dq[-1]] < nums[i]:\n",
    "        dq.pop()\n",
    "    \n",
    "    dq.append(i)\n",
    "    \n",
    "def maxSlidingWindow(nums, k):\n",
    "    if not nums or not k:\n",
    "        return []\n",
    "    \n",
    "    dq = deque([])\n",
    "    ans = []\n",
    "    for i in range(k - 1):\n",
    "        push(dq, nums, i)\n",
    "    \n",
    "    for i in range(k - 1, len(nums)):\n",
    "        push(dq, nums, i)\n",
    "        ans.append(nums[dq[0]])\n",
    "        if dq[0] == i - k + 1:\n",
    "            dq.popleft()\n",
    "        \n",
    "    return ans"
   ]
  },
  {
   "cell_type": "code",
   "execution_count": 14,
   "metadata": {},
   "outputs": [
    {
     "name": "stdout",
     "output_type": "stream",
     "text": [
      "[1, 2, 7, 7, 2]\n"
     ]
    }
   ],
   "source": [
    "re = maxSlidingWindow([1,2,7,7,2], 1)\n",
    "print(re)"
   ]
  },
  {
   "cell_type": "code",
   "execution_count": 8,
   "metadata": {},
   "outputs": [],
   "source": [
    "def maximalRectangle(matrix):\n",
    "    return 0"
   ]
  },
  {
   "cell_type": "code",
   "execution_count": 9,
   "metadata": {},
   "outputs": [
    {
     "name": "stdout",
     "output_type": "stream",
     "text": [
      "0\n"
     ]
    }
   ],
   "source": [
    "print(maximalRectangle([[1, 1, 0, 0, 1], [0, 1, 0, 0, 1], [0, 0, 1, 1, 1], [0, 0, 1, 1, 1],[0, 0, 0, 0, 1]]))"
   ]
  },
  {
   "cell_type": "code",
   "execution_count": 3,
   "metadata": {},
   "outputs": [],
   "source": [
    "class ListNode:\n",
    "    def __init__(self, key, val):\n",
    "        self.val = val\n",
    "        self.key = key\n",
    "        self.next = None\n",
    "        \n",
    "class LRUCache:\n",
    "    def __init__(self, capacity):\n",
    "        self.head, self.tail = ListNode(-1, -1), ListNode(-1, -1)\n",
    "        self.hashmap = {}\n",
    "        self.cnt = 0\n",
    "        self.cap = capacity\n",
    "        \n",
    "    def get(self, key):\n",
    "        if key not in self.hashmap:\n",
    "            return -1\n",
    "        \n",
    "        tmp = self.hashmap[key].next\n",
    "        self.hashmap[key].next = self.hashmap[key].next.next\n",
    "        self.tail.next = tmp\n",
    "        self.hashmap[key] = tail\n",
    "        tail = tail.next\n",
    "        return tmp.val\n",
    "        \n",
    "    def set(self, key, value):\n",
    "        if key not in self.hashmap:\n",
    "            self.cnt += 1\n",
    "            self.hashmap[key] = tail\n",
    "            tail.next = ListNode(key, value)\n",
    "            tail = tail.next\n",
    "            \n",
    "            if self.cnt > self.cap:\n",
    "                oldkey = self.head.next.key\n",
    "                self.head.next = self.head.next.next\n",
    "                self.hashmap.remove(oldkey)\n",
    "                self.cnt -= 1\n",
    "        else:\n",
    "            self.hashmap[key].next.val = value\n",
    "            \n",
    "            tmp = self.hashmap[key].next\n",
    "            self.hashmap[key].next = self.hashmap[key].next.next\n",
    "            self.tail.next = tmp\n",
    "            self.hashmap[key] = tail\n",
    "            tail = tail.next\n",
    "             \n",
    "        "
   ]
  },
  {
   "cell_type": "code",
   "execution_count": null,
   "metadata": {},
   "outputs": [],
   "source": []
  }
 ],
 "metadata": {
  "kernelspec": {
   "display_name": "Python 3",
   "language": "python",
   "name": "python3"
  },
  "language_info": {
   "codemirror_mode": {
    "name": "ipython",
    "version": 3
   },
   "file_extension": ".py",
   "mimetype": "text/x-python",
   "name": "python",
   "nbconvert_exporter": "python",
   "pygments_lexer": "ipython3",
   "version": "3.7.4"
  }
 },
 "nbformat": 4,
 "nbformat_minor": 2
}
