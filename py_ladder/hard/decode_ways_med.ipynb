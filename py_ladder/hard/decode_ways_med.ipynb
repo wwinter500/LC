{
 "cells": [
  {
   "cell_type": "code",
   "execution_count": 10,
   "metadata": {},
   "outputs": [],
   "source": [
    "class Solution:\n",
    "    def __init__(self):\n",
    "        return\n",
    "    \n",
    "    def decodeways(self, s):\n",
    "        if not s:\n",
    "            return 0\n",
    "        \n",
    "        dp = []\n",
    "        dp.append(0 if s[0] == '0' else 1)\n",
    "        print(len(s))\n",
    "        for i in range(1, len(s)):\n",
    "            v = 0\n",
    "            if s[i] != '0':\n",
    "                v += dp[i - 1]\n",
    "            if s[i - 1] != '0' and int(s[i-1: i+1]) <= 26:\n",
    "                v += 1 if i == 1 else dp[i - 2]\n",
    "            \n",
    "            if v == 0:\n",
    "                return 0\n",
    "            dp.append(v)\n",
    "        return dp[len(s) - 1]"
   ]
  },
  {
   "cell_type": "code",
   "execution_count": 11,
   "metadata": {},
   "outputs": [
    {
     "name": "stdout",
     "output_type": "stream",
     "text": [
      "2\n",
      "2\n"
     ]
    }
   ],
   "source": [
    "sl = Solution()\n",
    "re = sl.decodeways(\"12\")\n",
    "print(re)"
   ]
  },
  {
   "cell_type": "code",
   "execution_count": null,
   "metadata": {},
   "outputs": [],
   "source": []
  }
 ],
 "metadata": {
  "kernelspec": {
   "display_name": "Python 3",
   "language": "python",
   "name": "python3"
  },
  "language_info": {
   "codemirror_mode": {
    "name": "ipython",
    "version": 3
   },
   "file_extension": ".py",
   "mimetype": "text/x-python",
   "name": "python",
   "nbconvert_exporter": "python",
   "pygments_lexer": "ipython3",
   "version": "3.6.4"
  }
 },
 "nbformat": 4,
 "nbformat_minor": 2
}
