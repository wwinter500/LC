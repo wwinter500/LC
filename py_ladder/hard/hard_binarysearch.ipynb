{
 "cells": [
  {
   "cell_type": "code",
   "execution_count": 1,
   "metadata": {},
   "outputs": [],
   "source": [
    "#log(m + n) required, two sorted array\n",
    "def findMedianSortedArrays(A, B):\n",
    "    n = len(A)\n",
    "    m = len(B)\n",
    "    total = n + m\n",
    "    if (n + m) % 2 == 0:\n",
    "        return (findkth(A, B, 0, 0, total // 2) + findkth(A, B, 0, 0, total // 2 + 1)) / 2\n",
    "    else:\n",
    "        return findkth(A, B, 0, 0, total // 2 + 1)\n",
    "\n",
    "def findkth(A, B, ia, ib, k):\n",
    "    if ia == len(A):\n",
    "        return B[ib + k]\n",
    "    if ib == len(B):\n",
    "        return A[ia + k]\n",
    "    \n",
    "    if k == 1:\n",
    "        return min(A[ia], B[ib])\n",
    "    \n",
    "\n",
    "    half = k // 2\n",
    "    a = A[ia + half - 1] if ia + half <= len(A) else None\n",
    "    b = B[ib + half - 1] if ib + half <= len(B) else None\n",
    "    \n",
    "    if b is None or (a is not None and a < b):\n",
    "        return findkth(A, B, ia + half, ib, k - half)\n",
    "    return findkth(A, B, ia, ib + half, k - half)\n",
    "    "
   ]
  },
  {
   "cell_type": "code",
   "execution_count": 3,
   "metadata": {},
   "outputs": [
    {
     "name": "stdout",
     "output_type": "stream",
     "text": [
      "6\n"
     ]
    }
   ],
   "source": [
    "res = findMedianSortedArrays([2,3,4,5,6], [5,6,7,8,9,10])\n",
    "print(res)"
   ]
  },
  {
   "cell_type": "code",
   "execution_count": 2,
   "metadata": {},
   "outputs": [],
   "source": [
    "#931 find median of k sorted array, binarysearch on value\n",
    "def binarysearch(arr, val):\n",
    "    if not arr:\n",
    "        return 0\n",
    "    \n",
    "    l, r = 0, len(arr) - 1\n",
    "    while l < r:\n",
    "        m = (l + r) // 2\n",
    "        if arr[m] > val:\n",
    "            r = m\n",
    "        else:\n",
    "            l = m + 1\n",
    "    \n",
    "    if arr[l] < val:\n",
    "        return 0\n",
    "    \n",
    "    return l\n",
    "\n",
    "def getvalidnumbre(nums, val):\n",
    "    ans = 0\n",
    "    for arr in nums:\n",
    "        ans += binarysearch(arr, val)\n",
    "    \n",
    "    return ans\n",
    "def findkth(nums, k):\n",
    "    minv = min(arr[0] for arr in nums)\n",
    "    maxv = max(arr[-1] for arr in nums)\n",
    "    \n",
    "    start, end = minv, maxv\n",
    "    while start + 1 < end:\n",
    "        m = (start + end) // 2\n",
    "        if getvalidnumber(nums, m) < k:\n",
    "            start = m\n",
    "        else:\n",
    "            end = m\n",
    "    \n",
    "    if getvalidnumber(nums, start) >= k:\n",
    "        return start\n",
    "    \n",
    "    return end\n",
    "        \n",
    "def findMedian(nums):\n",
    "    if not nums or not nums[0]:\n",
    "        return 0.0\n",
    "    \n",
    "    total = sum(len(nums[i]) for i in range(nums))\n",
    "    if total == 0:\n",
    "        return 0.0\n",
    "    \n",
    "    if total % 2 == 1:\n",
    "        return findkth(nums, total // 2 + 1) * 1.0\n",
    "    else:\n",
    "        return (findkth(nums, total // 2) + findkth(nums, total // 2 + 1)) / 2"
   ]
  },
  {
   "cell_type": "code",
   "execution_count": null,
   "metadata": {},
   "outputs": [],
   "source": []
  }
 ],
 "metadata": {
  "kernelspec": {
   "display_name": "Python 3",
   "language": "python",
   "name": "python3"
  },
  "language_info": {
   "codemirror_mode": {
    "name": "ipython",
    "version": 3
   },
   "file_extension": ".py",
   "mimetype": "text/x-python",
   "name": "python",
   "nbconvert_exporter": "python",
   "pygments_lexer": "ipython3",
   "version": "3.7.3"
  }
 },
 "nbformat": 4,
 "nbformat_minor": 2
}
