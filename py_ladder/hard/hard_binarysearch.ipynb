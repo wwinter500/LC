{
 "cells": [
  {
   "cell_type": "code",
   "execution_count": null,
   "metadata": {},
   "outputs": [],
   "source": [
    "#log(m + n) required, two sorted array\n",
    "def findMedianSortedArrays(A, B):\n",
    "    n = len(A)\n",
    "    m = len(B)\n",
    "    total = n + m\n",
    "    if (n + m) % 2 == 0:\n",
    "        return (findkth(A, B, 0, 0, total / 2) + findkth(A, B, 0, 0, total /2 + 1)) / 2\n",
    "    else:\n",
    "        return findkth(A, B, 0, 0, total / 2)\n",
    "\n",
    "def findkth(A, B, ia, ib, k):\n",
    "    if ia == len(A) - 1:\n",
    "        return B[k - len(A)]\n",
    "    if ib == len(B) - 1:\n",
    "        return A[k - len(B)]\n",
    "    \n",
    "    \n",
    "    "
   ]
  }
 ],
 "metadata": {
  "kernelspec": {
   "display_name": "Python 3",
   "language": "python",
   "name": "python3"
  },
  "language_info": {
   "codemirror_mode": {
    "name": "ipython",
    "version": 3
   },
   "file_extension": ".py",
   "mimetype": "text/x-python",
   "name": "python",
   "nbconvert_exporter": "python",
   "pygments_lexer": "ipython3",
   "version": "3.7.3"
  }
 },
 "nbformat": 4,
 "nbformat_minor": 2
}
