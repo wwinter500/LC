{
 "cells": [
  {
   "cell_type": "code",
   "execution_count": 1,
   "metadata": {},
   "outputs": [],
   "source": [
    "#log(m + n) required, two sorted array\n",
    "def findMedianSortedArrays(A, B):\n",
    "    n = len(A)\n",
    "    m = len(B)\n",
    "    total = n + m\n",
    "    if (n + m) % 2 == 0:\n",
    "        return (findkth(A, B, 0, 0, total // 2) + findkth(A, B, 0, 0, total // 2 + 1)) / 2\n",
    "    else:\n",
    "        return findkth(A, B, 0, 0, total // 2 + 1)\n",
    "\n",
    "def findkth(A, B, ia, ib, k):\n",
    "    if ia == len(A):\n",
    "        return B[ib + k]\n",
    "    if ib == len(B):\n",
    "        return A[ia + k]\n",
    "    \n",
    "    if k == 1:\n",
    "        return min(A[ia], B[ib])\n",
    "    \n",
    "\n",
    "    half = k // 2\n",
    "    a = A[ia + half - 1] if ia + half <= len(A) else None\n",
    "    b = B[ib + half - 1] if ib + half <= len(B) else None\n",
    "    \n",
    "    if b is None or (a is not None and a < b):\n",
    "        return findkth(A, B, ia + half, ib, k - half)\n",
    "    return findkth(A, B, ia, ib + half, k - half)\n",
    "    "
   ]
  },
  {
   "cell_type": "code",
   "execution_count": 3,
   "metadata": {},
   "outputs": [
    {
     "name": "stdout",
     "output_type": "stream",
     "text": [
      "6\n"
     ]
    }
   ],
   "source": [
    "res = findMedianSortedArrays([2,3,4,5,6], [5,6,7,8,9,10])\n",
    "print(res)"
   ]
  },
  {
   "cell_type": "code",
   "execution_count": null,
   "metadata": {},
   "outputs": [],
   "source": [
    "def findMedian(self, nums):"
   ]
  }
 ],
 "metadata": {
  "kernelspec": {
   "display_name": "Python 3",
   "language": "python",
   "name": "python3"
  },
  "language_info": {
   "codemirror_mode": {
    "name": "ipython",
    "version": 3
   },
   "file_extension": ".py",
   "mimetype": "text/x-python",
   "name": "python",
   "nbconvert_exporter": "python",
   "pygments_lexer": "ipython3",
   "version": "3.7.3"
  }
 },
 "nbformat": 4,
 "nbformat_minor": 2
}
