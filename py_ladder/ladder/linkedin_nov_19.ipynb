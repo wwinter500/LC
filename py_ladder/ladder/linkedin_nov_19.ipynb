{
 "cells": [
  {
   "cell_type": "code",
   "execution_count": 1,
   "metadata": {},
   "outputs": [],
   "source": [
    "#1814 - sum of subarray\n",
    "def SubArraySum(nums):\n",
    "    if not nums:\n",
    "        return 0\n",
    "    \n",
    "    n = len(nums)\n",
    "    sums = [0] * (n + 1)\n",
    "    for i in range(1, n + 1):\n",
    "        sums[i] = sums[i - 1] + nums[i - 1]\n",
    "    \n",
    "    ans = 0\n",
    "    for i in range(1, n + 1):\n",
    "        for j in range(i, n):\n",
    "            ans += sums[j] - sums[i]\n",
    "    \n",
    "    return ans"
   ]
  },
  {
   "cell_type": "code",
   "execution_count": 2,
   "metadata": {},
   "outputs": [
    {
     "name": "stdout",
     "output_type": "stream",
     "text": [
      "2\n"
     ]
    }
   ],
   "source": [
    "print(SubArraySum([1, 2, 3]))"
   ]
  },
  {
   "cell_type": "code",
   "execution_count": 5,
   "metadata": {},
   "outputs": [],
   "source": [
    "def minWindow(source , target):\n",
    "    if not target or not source:\n",
    "        return \"\"\n",
    "\n",
    "    ref = {}\n",
    "    for ch in target:\n",
    "        if ch not in ref.keys():\n",
    "            ref[ch] = 1\n",
    "        else:\n",
    "            ref[ch] += 1\n",
    "\n",
    "    cnt = len(ref)        \n",
    "    l, r = 0, 0\n",
    "    ans = \"\"\n",
    "    length = len(source) + 1\n",
    "    while r < len(source):\n",
    "        while r < len(source) and cnt > 0:\n",
    "            if source[r] in ref.keys():\n",
    "                ref[source[r]] -= 1\n",
    "                if ref[source[r]] == 0:\n",
    "                    cnt -= 1\n",
    "\n",
    "            r += 1\n",
    "            if cnt == 0:\n",
    "                break\n",
    "\n",
    "        if cnt == 0 and r - l < length:\n",
    "            length = r - l\n",
    "            ans = source[l : r]\n",
    "\n",
    "        while l < r and cnt == 0:\n",
    "            if source[l] in ref.keys():\n",
    "                if ref[source[l]] == 0:\n",
    "                    cnt += 1\n",
    "                ref[source[l]] += 1\n",
    "                \n",
    "                if r - l < length:\n",
    "                    length = r - l\n",
    "                    ans = source[l:r]\n",
    "            l += 1\n",
    "            \n",
    "    return ans"
   ]
  },
  {
   "cell_type": "code",
   "execution_count": 6,
   "metadata": {},
   "outputs": [
    {
     "name": "stdout",
     "output_type": "stream",
     "text": [
      "banc\n"
     ]
    }
   ],
   "source": [
    "print(minWindow(\"adobecodebanc\" , \"abc\"))"
   ]
  },
  {
   "cell_type": "code",
   "execution_count": 13,
   "metadata": {},
   "outputs": [],
   "source": [
    "#1420. Minimum Window Substring II\n",
    "import sys\n",
    "def checkifexist(S, T):\n",
    "    st = set()\n",
    "    for ch in S:\n",
    "        if ch not in st:\n",
    "            st.add(ch)\n",
    "    \n",
    "    for ch in T:\n",
    "        if ch not in st:\n",
    "            return False\n",
    "    \n",
    "    return True\n",
    "\n",
    "def minWindowII(S, T):\n",
    "    #if not S or not T or not checkifexist(S, T):\n",
    "    #    return \"\"\n",
    "    ns = \"\"\n",
    "    for i in range(len(T)):\n",
    "        ns += S\n",
    "    n = len(ns)\n",
    "    length = n + 1\n",
    "     \n",
    "    ref = {}\n",
    "    for ch in T:\n",
    "        if ch not in ref.keys():\n",
    "            ref[ch] = 1\n",
    "        else:\n",
    "            ref[ch] += 1\n",
    "    \n",
    "    cnt = len(ref)        \n",
    "    l, r = 0, 0\n",
    "    ans = \"\"\n",
    "    while r < n:\n",
    "        while r < n and cnt > 0:\n",
    "            if ns[r] in ref.keys():\n",
    "                ref[ns[r]] -= 1\n",
    "                if ref[ns[r]] == 0:\n",
    "                    cnt -= 1\n",
    "\n",
    "            r += 1\n",
    "            if cnt == 0:\n",
    "                break\n",
    "\n",
    "        if cnt == 0 and r - l < length:\n",
    "            length = r - l\n",
    "            ans = ns[l : r]\n",
    "\n",
    "        while l < r and cnt == 0:\n",
    "            if ns[l] in ref.keys():\n",
    "                if ref[ns[l]] == 0:\n",
    "                    cnt += 1\n",
    "                ref[ns[l]] += 1\n",
    "                \n",
    "                if r - l < length:\n",
    "                    length = r - l\n",
    "                    ans = ns[l:r]\n",
    "            l += 1\n",
    "            \n",
    "    return ans"
   ]
  },
  {
   "cell_type": "code",
   "execution_count": 14,
   "metadata": {},
   "outputs": [
    {
     "name": "stdout",
     "output_type": "stream",
     "text": [
      "da\n"
     ]
    }
   ],
   "source": [
    "print(minWindowII(\"abcd\", \"da\"))"
   ]
  },
  {
   "cell_type": "code",
   "execution_count": 4,
   "metadata": {},
   "outputs": [
    {
     "ename": "SyntaxError",
     "evalue": "unexpected EOF while parsing (<ipython-input-4-f62ec8cfc6b3>, line 3)",
     "output_type": "error",
     "traceback": [
      "\u001b[1;36m  File \u001b[1;32m\"<ipython-input-4-f62ec8cfc6b3>\"\u001b[1;36m, line \u001b[1;32m3\u001b[0m\n\u001b[1;33m    \u001b[0m\n\u001b[1;37m    ^\u001b[0m\n\u001b[1;31mSyntaxError\u001b[0m\u001b[1;31m:\u001b[0m unexpected EOF while parsing\n"
     ]
    }
   ],
   "source": [
    "#1345 - robot encircular \n",
    "def isRobotBounded(instructions):\n",
    "    "
   ]
  },
  {
   "cell_type": "code",
   "execution_count": 6,
   "metadata": {},
   "outputs": [
    {
     "ename": "TypeError",
     "evalue": "'tuple' object does not support item assignment",
     "output_type": "error",
     "traceback": [
      "\u001b[1;31m---------------------------------------------------------------------------\u001b[0m",
      "\u001b[1;31mTypeError\u001b[0m                                 Traceback (most recent call last)",
      "\u001b[1;32m<ipython-input-6-44febd37fa2f>\u001b[0m in \u001b[0;36m<module>\u001b[1;34m\u001b[0m\n\u001b[0;32m      1\u001b[0m \u001b[0mpos\u001b[0m \u001b[1;33m=\u001b[0m \u001b[1;33m(\u001b[0m\u001b[1;36m0\u001b[0m\u001b[1;33m,\u001b[0m \u001b[1;36m0\u001b[0m\u001b[1;33m)\u001b[0m\u001b[1;33m\u001b[0m\u001b[1;33m\u001b[0m\u001b[0m\n\u001b[1;32m----> 2\u001b[1;33m \u001b[0mpos\u001b[0m\u001b[1;33m[\u001b[0m\u001b[1;36m0\u001b[0m\u001b[1;33m]\u001b[0m \u001b[1;33m+=\u001b[0m \u001b[1;36m1\u001b[0m\u001b[1;33m\u001b[0m\u001b[1;33m\u001b[0m\u001b[0m\n\u001b[0m\u001b[0;32m      3\u001b[0m \u001b[0mprint\u001b[0m\u001b[1;33m(\u001b[0m\u001b[0mpos\u001b[0m\u001b[1;33m[\u001b[0m\u001b[1;36m0\u001b[0m\u001b[1;33m]\u001b[0m \u001b[1;33m+\u001b[0m \u001b[1;36m1\u001b[0m\u001b[1;33m)\u001b[0m\u001b[1;33m\u001b[0m\u001b[1;33m\u001b[0m\u001b[0m\n",
      "\u001b[1;31mTypeError\u001b[0m: 'tuple' object does not support item assignment"
     ]
    }
   ],
   "source": [
    "pos = (0, 0)\n",
    "\n",
    "print(pos[0] + 1)"
   ]
  },
  {
   "cell_type": "code",
   "execution_count": null,
   "metadata": {},
   "outputs": [],
   "source": []
  }
 ],
 "metadata": {
  "kernelspec": {
   "display_name": "Python 3",
   "language": "python",
   "name": "python3"
  },
  "language_info": {
   "codemirror_mode": {
    "name": "ipython",
    "version": 3
   },
   "file_extension": ".py",
   "mimetype": "text/x-python",
   "name": "python",
   "nbconvert_exporter": "python",
   "pygments_lexer": "ipython3",
   "version": "3.7.3"
  }
 },
 "nbformat": 4,
 "nbformat_minor": 4
}
