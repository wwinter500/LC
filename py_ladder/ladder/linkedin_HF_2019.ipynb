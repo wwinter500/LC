{
 "cells": [
  {
   "cell_type": "code",
   "execution_count": 18,
   "metadata": {},
   "outputs": [],
   "source": [
    "#1222 - Validate IP Address\n",
    "def validIPAddress(IP):\n",
    "    if not IP:\n",
    "        return \"Neither\"\n",
    "    \n",
    "    segs = IP.split('.')\n",
    "    if len(segs) == 4:\n",
    "        for i in range(4):\n",
    "            if not segs[i]:\n",
    "                return \"Neither\"\n",
    "            elif segs[i][0] == '0' and len(segs[i]) > 1:\n",
    "                return \"Neither\"\n",
    "            elif not segs[i].isdigit() or int(segs[i]) > 255:\n",
    "                return \"Neither\"\n",
    "        return \"IPv4\"\n",
    "    \n",
    "    segs = IP.split(':')\n",
    "    if len(segs) == 8:\n",
    "        for i in range(8):\n",
    "            if not segs[i] or len(segs[i]) > 4:\n",
    "                return \"Neither\"\n",
    "            for j in range(len(segs[i])):\n",
    "                ch = segs[i][j]\n",
    "                if segs[i][j].isalpha():\n",
    "                    if segs[i][j].isupper():\n",
    "                        ch.lower()\n",
    "                \n",
    "                if ch > 'f':\n",
    "                    return \"Neither\"\n",
    "        return \"IPv6\"\n",
    "    \n",
    "    return \"Neither\""
   ]
  },
  {
   "cell_type": "code",
   "execution_count": 20,
   "metadata": {},
   "outputs": [
    {
     "name": "stdout",
     "output_type": "stream",
     "text": [
      "Neither\n"
     ]
    }
   ],
   "source": [
    "print(validIPAddress(\"256.256.256.256\"))"
   ]
  },
  {
   "cell_type": "code",
   "execution_count": 1,
   "metadata": {},
   "outputs": [],
   "source": [
    "#1105 - print binary tree\n",
    "#get height and width, level search\n",
    "class Solution:\n",
    "    def printTree(self, root):\n",
    "        if not root:\n",
    "            return []\n",
    "        \n",
    "        h = self.getTreeHeight(root)\n",
    "        w = 2 ** h - 1\n",
    "        ans = [[\"\" for j in range(w)] for i in range(h)]\n",
    "        \n",
    "        def traverse(node, level, pos):\n",
    "            if not node:\n",
    "                return \n",
    "            \n",
    "            left_pad, space = 2 ** (h - level - 1) - 1, 2 ** (h - level) - 1\n",
    "            index = left_pad + pos * (space + 1)\n",
    "            ans[level][index] = str(node.val)\n",
    "            traverse(node.left, level + 1, (pos << 1))\n",
    "            traverse(node.right, level + 1, (pos << 1) + 1)\n",
    "        traverse(root, 0, 0)\n",
    "        return ans\n",
    "    \n",
    "    def getTreeHeight(self, root):\n",
    "        if not root:\n",
    "            return 0\n",
    "        \n",
    "        left = self.getTreeHeight(root.left)\n",
    "        right = self.getTreeHeight(root.right)\n",
    "        return max(left, right) + 1"
   ]
  },
  {
   "cell_type": "code",
   "execution_count": null,
   "metadata": {},
   "outputs": [],
   "source": [
    "# 380 - intersection of two linked list\n",
    "#O(n) time and use only O(1) memory.\n",
    "def getIntersectionNode(headA, headB):\n",
    "    if not headA or not headB:\n",
    "        return None\n",
    "    \n",
    "    ah, bh = headA, headB\n",
    "    "
   ]
  }
 ],
 "metadata": {
  "kernelspec": {
   "display_name": "Python 3",
   "language": "python",
   "name": "python3"
  },
  "language_info": {
   "codemirror_mode": {
    "name": "ipython",
    "version": 3
   },
   "file_extension": ".py",
   "mimetype": "text/x-python",
   "name": "python",
   "nbconvert_exporter": "python",
   "pygments_lexer": "ipython3",
   "version": "3.7.4"
  }
 },
 "nbformat": 4,
 "nbformat_minor": 4
}
