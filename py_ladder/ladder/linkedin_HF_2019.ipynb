{
 "cells": [
  {
   "cell_type": "code",
   "execution_count": 18,
   "metadata": {},
   "outputs": [],
   "source": [
    "#1222 - Validate IP Address\n",
    "def validIPAddress(IP):\n",
    "    if not IP:\n",
    "        return \"Neither\"\n",
    "    \n",
    "    segs = IP.split('.')\n",
    "    if len(segs) == 4:\n",
    "        for i in range(4):\n",
    "            if not segs[i]:\n",
    "                return \"Neither\"\n",
    "            elif segs[i][0] == '0' and len(segs[i]) > 1:\n",
    "                return \"Neither\"\n",
    "            elif not segs[i].isdigit() or int(segs[i]) > 255:\n",
    "                return \"Neither\"\n",
    "        return \"IPv4\"\n",
    "    \n",
    "    segs = IP.split(':')\n",
    "    if len(segs) == 8:\n",
    "        for i in range(8):\n",
    "            if not segs[i] or len(segs[i]) > 4:\n",
    "                return \"Neither\"\n",
    "            for j in range(len(segs[i])):\n",
    "                ch = segs[i][j]\n",
    "                if segs[i][j].isalpha():\n",
    "                    if segs[i][j].isupper():\n",
    "                        ch.lower()\n",
    "                \n",
    "                if ch > 'f':\n",
    "                    return \"Neither\"\n",
    "        return \"IPv6\"\n",
    "    \n",
    "    return \"Neither\""
   ]
  },
  {
   "cell_type": "code",
   "execution_count": 20,
   "metadata": {},
   "outputs": [
    {
     "name": "stdout",
     "output_type": "stream",
     "text": [
      "Neither\n"
     ]
    }
   ],
   "source": [
    "print(validIPAddress(\"256.256.256.256\"))"
   ]
  },
  {
   "cell_type": "code",
   "execution_count": null,
   "metadata": {},
   "outputs": [],
   "source": []
  }
 ],
 "metadata": {
  "kernelspec": {
   "display_name": "Python 3",
   "language": "python",
   "name": "python3"
  },
  "language_info": {
   "codemirror_mode": {
    "name": "ipython",
    "version": 3
   },
   "file_extension": ".py",
   "mimetype": "text/x-python",
   "name": "python",
   "nbconvert_exporter": "python",
   "pygments_lexer": "ipython3",
   "version": "3.7.4"
  }
 },
 "nbformat": 4,
 "nbformat_minor": 4
}
