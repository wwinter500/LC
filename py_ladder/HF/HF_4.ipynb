{
 "cells": [
  {
   "cell_type": "code",
   "execution_count": 1,
   "metadata": {},
   "outputs": [],
   "source": [
    "#477 - surrounded regions\n",
    "def surroundedRegions(board):\n",
    "    if not any(board):\n",
    "        return\n",
    "    \n",
    "    n,m = len(board), len(board[0])\n",
    "    qu = []\n",
    "    for i in range(n):\n",
    "        bfs(i,0)\n",
    "        bfs(i, m - 1)\n",
    "    \n",
    "    for j in range(m):\n",
    "        bfs(0, j)\n",
    "        bfs(n - 1, j)\n",
    "    \n",
    "    for i in range(n):\n",
    "        for j in range(m):\n",
    "            if board[i][j] == 'D':\n",
    "                board[i][j] = 'O'\n",
    "            elif board[i][j] == 'O':\n",
    "                board[i][j] = 'X'\n",
    "                \n",
    "    def bfs(y, x):\n",
    "        fill(y, x)\n",
    "            \n",
    "        while qu:\n",
    "            cur = qu.pop(0)\n",
    "            i,j = cur[0],cur[1]\n",
    "            fill(i + 1, j)\n",
    "            fill(i, j + 1)\n",
    "            fill(i - 1, j)\n",
    "            fill(i, j - 1)\n",
    "    \n",
    "    def fill(y, x):\n",
    "        if y < 0 or y >= n or x < 0 or x >= m or board[y][x] != 'O':\n",
    "            return\n",
    "        \n",
    "        qu.append((y,x))\n",
    "        board[y][x] = 'D'"
   ]
  },
  {
   "cell_type": "code",
   "execution_count": 76,
   "metadata": {},
   "outputs": [],
   "source": [
    "#663 - walls and gates\n",
    "import collections\n",
    "def wallsAndGates(rooms):\n",
    "    INF = 2147483647\n",
    "    n,m = len(rooms), len(rooms[0])\n",
    "    qu = collections.deque([])\n",
    "    dirs = [(0, -1), (0, 1), (-1, 0), (1, 0)]\n",
    "\n",
    "    def bfs(y, x):\n",
    "        visited = set()\n",
    "        cnt = 1\n",
    "        while qu:\n",
    "            s = len(qu)\n",
    "            for i in range(s):\n",
    "                cur = qu.popleft()\n",
    "                for di in dirs:\n",
    "                    ny,nx = cur[0] + di[0],cur[1] + di[1]\n",
    "                    if ny < 0 or ny >= n or nx < 0 or nx >= m or rooms[ny][nx] <= 0 or (ny, nx) in visited:\n",
    "                        continue\n",
    "\n",
    "                    if rooms[ny][nx] > cnt:\n",
    "                        rooms[ny][nx] = cnt\n",
    "                        qu.append((ny, nx))\n",
    "                        visited.add((ny, nx))\n",
    "            cnt += 1\n",
    "            \n",
    "    for i in range(n):\n",
    "        for j in range(m):\n",
    "            if i < 0 or i >= n or j < 0 or j >= m or rooms[i][j] != 0:\n",
    "                continue\n",
    "                \n",
    "            qu.append((i,j))\n",
    "            bfs(i, j)"
   ]
  },
  {
   "cell_type": "code",
   "execution_count": 77,
   "metadata": {},
   "outputs": [],
   "source": [
    "mat = [[0,-1],[2147483647,2147483647]]\n",
    "\n",
    "wallsAndGates(mat)\n",
    "#print(mat)"
   ]
  },
  {
   "cell_type": "code",
   "execution_count": 87,
   "metadata": {},
   "outputs": [],
   "source": [
    "#598 - zombie in matrix\n",
    "def zombie(grid):\n",
    "    if not grid or not grid[0]:\n",
    "        return -1\n",
    "    \n",
    "    dirs = [[0, -1],[0, 1],[-1, 0],[1, 0]]\n",
    "    n,m = len(grid), len(grid[0])\n",
    "    qu = collections.deque()\n",
    "    \n",
    "    def bfs(y, x):\n",
    "        visited = set()\n",
    "        cnt = -1\n",
    "        while qu:\n",
    "            s = len(qu)\n",
    "            for i in range(s):\n",
    "                cur = qu.popleft()\n",
    "                for di in dirs:\n",
    "                    ny, nx = cur[0] + di[0], cur[1] + di[1]\n",
    "                    if ny >= 0 and ny < n and nx >= 0 and nx < m and (ny,nx) not in visited:\n",
    "                        if grid[ny][nx] == 0 or grid[ny][nx] < cnt:\n",
    "                            grid[ny][nx] = cnt\n",
    "                            qu.append((ny, nx))\n",
    "                            visited.add((ny, nx))\n",
    "            cnt -= 1\n",
    "        print(grid)\n",
    "            \n",
    "    for i in range(n):\n",
    "        for j in range(m):\n",
    "            if grid[i][j] == 1:\n",
    "                qu.append((i, j))\n",
    "                bfs(i,j)\n",
    "    \n",
    "    ans = 0\n",
    "    for i in range(n):\n",
    "        for j in range(m):\n",
    "            if grid[i][j] == 0:\n",
    "                return -1\n",
    "            \n",
    "            ans = min(ans, grid[i][j])\n",
    "    \n",
    "    return -1 * ans"
   ]
  },
  {
   "cell_type": "code",
   "execution_count": 89,
   "metadata": {},
   "outputs": [
    {
     "name": "stdout",
     "output_type": "stream",
     "text": [
      "[[-4, -3, -2], [-3, -2, -1], [-2, -1, 1]]\n",
      "4\n"
     ]
    }
   ],
   "source": [
    "print(zombie([[0,0,0],\n",
    " [0,0,0],\n",
    " [0,0,1]]))"
   ]
  },
  {
   "cell_type": "code",
   "execution_count": null,
   "metadata": {},
   "outputs": [],
   "source": [
    "#796 - open the lock\n"
   ]
  }
 ],
 "metadata": {
  "kernelspec": {
   "display_name": "Python 3",
   "language": "python",
   "name": "python3"
  },
  "language_info": {
   "codemirror_mode": {
    "name": "ipython",
    "version": 3
   },
   "file_extension": ".py",
   "mimetype": "text/x-python",
   "name": "python",
   "nbconvert_exporter": "python",
   "pygments_lexer": "ipython3",
   "version": "3.7.4"
  }
 },
 "nbformat": 4,
 "nbformat_minor": 4
}
