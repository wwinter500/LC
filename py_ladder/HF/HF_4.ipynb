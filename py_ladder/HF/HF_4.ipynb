{
 "cells": [
  {
   "cell_type": "code",
   "execution_count": 1,
   "metadata": {},
   "outputs": [],
   "source": [
    "#477 - surrounded regions\n",
    "def surroundedRegions(board):\n",
    "    if not any(board):\n",
    "        return\n",
    "    \n",
    "    n,m = len(board), len(board[0])\n",
    "    qu = []\n",
    "    for i in range(n):\n",
    "        bfs(i,0)\n",
    "        bfs(i, m - 1)\n",
    "    \n",
    "    for j in range(m):\n",
    "        bfs(0, j)\n",
    "        bfs(n - 1, j)\n",
    "    \n",
    "    for i in range(n):\n",
    "        for j in range(m):\n",
    "            if board[i][j] == 'D':\n",
    "                board[i][j] = 'O'\n",
    "            elif board[i][j] == 'O':\n",
    "                board[i][j] = 'X'\n",
    "                \n",
    "    def bfs(y, x):\n",
    "        fill(y, x)\n",
    "            \n",
    "        while qu:\n",
    "            cur = qu.pop(0)\n",
    "            i,j = cur[0],cur[1]\n",
    "            fill(i + 1, j)\n",
    "            fill(i, j + 1)\n",
    "            fill(i - 1, j)\n",
    "            fill(i, j - 1)\n",
    "    \n",
    "    def fill(y, x):\n",
    "        if y < 0 or y >= n or x < 0 or x >= m or board[y][x] != 'O':\n",
    "            return\n",
    "        \n",
    "        qu.append((y,x))\n",
    "        board[y][x] = 'D'"
   ]
  },
  {
   "cell_type": "code",
   "execution_count": 76,
   "metadata": {},
   "outputs": [],
   "source": [
    "#663 - walls and gates\n",
    "import collections\n",
    "def wallsAndGates(rooms):\n",
    "    INF = 2147483647\n",
    "    n,m = len(rooms), len(rooms[0])\n",
    "    qu = collections.deque([])\n",
    "    dirs = [(0, -1), (0, 1), (-1, 0), (1, 0)]\n",
    "\n",
    "    def bfs(y, x):\n",
    "        visited = set()\n",
    "        cnt = 1\n",
    "        while qu:\n",
    "            s = len(qu)\n",
    "            for i in range(s):\n",
    "                cur = qu.popleft()\n",
    "                for di in dirs:\n",
    "                    ny,nx = cur[0] + di[0],cur[1] + di[1]\n",
    "                    if ny < 0 or ny >= n or nx < 0 or nx >= m or rooms[ny][nx] <= 0 or (ny, nx) in visited:\n",
    "                        continue\n",
    "\n",
    "                    if rooms[ny][nx] > cnt:\n",
    "                        rooms[ny][nx] = cnt\n",
    "                        qu.append((ny, nx))\n",
    "                        visited.add((ny, nx))\n",
    "            cnt += 1\n",
    "            \n",
    "    for i in range(n):\n",
    "        for j in range(m):\n",
    "            if i < 0 or i >= n or j < 0 or j >= m or rooms[i][j] != 0:\n",
    "                continue\n",
    "                \n",
    "            qu.append((i,j))\n",
    "            bfs(i, j)"
   ]
  },
  {
   "cell_type": "code",
   "execution_count": 77,
   "metadata": {},
   "outputs": [],
   "source": [
    "mat = [[0,-1],[2147483647,2147483647]]\n",
    "\n",
    "wallsAndGates(mat)\n",
    "#print(mat)"
   ]
  },
  {
   "cell_type": "code",
   "execution_count": 87,
   "metadata": {},
   "outputs": [],
   "source": [
    "#598 - zombie in matrix\n",
    "def zombie(grid):\n",
    "    if not grid or not grid[0]:\n",
    "        return -1\n",
    "    \n",
    "    dirs = [[0, -1],[0, 1],[-1, 0],[1, 0]]\n",
    "    n,m = len(grid), len(grid[0])\n",
    "    qu = collections.deque()\n",
    "    \n",
    "    def bfs(y, x):\n",
    "        visited = set()\n",
    "        cnt = -1\n",
    "        while qu:\n",
    "            s = len(qu)\n",
    "            for i in range(s):\n",
    "                cur = qu.popleft()\n",
    "                for di in dirs:\n",
    "                    ny, nx = cur[0] + di[0], cur[1] + di[1]\n",
    "                    if ny >= 0 and ny < n and nx >= 0 and nx < m and (ny,nx) not in visited:\n",
    "                        if grid[ny][nx] == 0 or grid[ny][nx] < cnt:\n",
    "                            grid[ny][nx] = cnt\n",
    "                            qu.append((ny, nx))\n",
    "                            visited.add((ny, nx))\n",
    "            cnt -= 1\n",
    "        print(grid)\n",
    "            \n",
    "    for i in range(n):\n",
    "        for j in range(m):\n",
    "            if grid[i][j] == 1:\n",
    "                qu.append((i, j))\n",
    "                bfs(i,j)\n",
    "    \n",
    "    ans = 0\n",
    "    for i in range(n):\n",
    "        for j in range(m):\n",
    "            if grid[i][j] == 0:\n",
    "                return -1\n",
    "            \n",
    "            ans = min(ans, grid[i][j])\n",
    "    \n",
    "    return -1 * ans"
   ]
  },
  {
   "cell_type": "code",
   "execution_count": 89,
   "metadata": {},
   "outputs": [
    {
     "name": "stdout",
     "output_type": "stream",
     "text": [
      "[[-4, -3, -2], [-3, -2, -1], [-2, -1, 1]]\n",
      "4\n"
     ]
    }
   ],
   "source": [
    "print(zombie([[0,0,0],\n",
    " [0,0,0],\n",
    " [0,0,1]]))"
   ]
  },
  {
   "cell_type": "code",
   "execution_count": 36,
   "metadata": {},
   "outputs": [],
   "source": [
    "#796 - open the lock\n",
    "import collections\n",
    "def openLock(deadends, target):\n",
    "    if \"0000\" in deadends or target in deadends:\n",
    "        return -1\n",
    "    \n",
    "    deadset = set(deadends)\n",
    "    qu = collections.deque([(\"0000\", 0)])\n",
    "    visited = set()\n",
    "    offsets = [1, -1]\n",
    "    while qu:\n",
    "        size = len(qu)\n",
    "\n",
    "        for i in range(size):\n",
    "            s, step = qu.popleft()\n",
    "            if s == target:\n",
    "                return step\n",
    "            for i in range(4):\n",
    "                for offset in offsets:\n",
    "                    ns, nstep = s[:i] + str((int(s[i:i+1]) + offset + 10) % 10) + s[i+1:], step + 1\n",
    "                    if ns in visited or ns in deadset:\n",
    "                        continue\n",
    "                    \n",
    "                    qu.append((ns, nstep))\n",
    "                    visited.add(ns)\n",
    "    return -1"
   ]
  },
  {
   "cell_type": "code",
   "execution_count": 37,
   "metadata": {},
   "outputs": [
    {
     "name": "stdout",
     "output_type": "stream",
     "text": [
      "-1\n"
     ]
    }
   ],
   "source": [
    "print(openLock([\"2110\",\"2000\",\"0000\",\"2111\",\"1110\"], \"0012\"))"
   ]
  },
  {
   "cell_type": "code",
   "execution_count": 38,
   "metadata": {},
   "outputs": [],
   "source": [
    "#794. Sliding Puzzle II - 华容道\n",
    "def minMoveStep(init_state, final_state):\n",
    "    if init_state == final_state:\n",
    "        return 0\n",
    "    \n",
    "    sy,sx = 0, 0\n",
    "    for i in range(3):\n",
    "        for j in range(3):\n",
    "            if init_state[i][j] == 0:\n",
    "                sy,sx = i, j\n",
    "                break\n",
    "                \n",
    "    visited = set([init_state])\n",
    "    qu = collections.deque([(init_state, sy, sx, 0)])\n",
    "    dirs = [(0, -1), (0, 1), (1, 0), (-1, 0)]\n",
    "    while qu:\n",
    "        size = len(qu)\n",
    "        for i in range(size):\n",
    "            mat, y, x, step = qu.popleft()\n",
    "            if mat == final_state:\n",
    "                return step\n",
    "            \n",
    "            for dir in dirs:\n",
    "                ny,nx = y + dir[0], x + dir[1]\n",
    "                if ny < 0 or ny >= 3 or nx < 0 or nx >= 3:\n",
    "                    continue\n",
    "                \n",
    "                mat[ny][nx], mat[y][x] =mat[y][x], mat[ny][nx]\n",
    "                if mat in visited:\n",
    "                    continue\n",
    "                else:\n",
    "                    visited.add(mat)\n",
    "                    qu.append((mat, ny, nx, step + 1))\n",
    "    \n",
    "    return -1"
   ]
  },
  {
   "cell_type": "code",
   "execution_count": 40,
   "metadata": {},
   "outputs": [
    {
     "ename": "TypeError",
     "evalue": "unhashable type: 'list'",
     "output_type": "error",
     "traceback": [
      "\u001b[1;31m---------------------------------------------------------------------------\u001b[0m",
      "\u001b[1;31mTypeError\u001b[0m                                 Traceback (most recent call last)",
      "\u001b[1;32m<ipython-input-40-d6d9a1817099>\u001b[0m in \u001b[0;36m<module>\u001b[1;34m\u001b[0m\n\u001b[0;32m      1\u001b[0m print(minMoveStep([[2,8,3], [1,0,4], [7,6,5]],\n\u001b[1;32m----> 2\u001b[1;33m                     [[1,2,3],[8,0,4],[7,6,5]]))\n\u001b[0m",
      "\u001b[1;32m<ipython-input-38-7589fee4d127>\u001b[0m in \u001b[0;36mminMoveStep\u001b[1;34m(init_state, final_state)\u001b[0m\n\u001b[0;32m     11\u001b[0m                 \u001b[1;32mbreak\u001b[0m\u001b[1;33m\u001b[0m\u001b[1;33m\u001b[0m\u001b[0m\n\u001b[0;32m     12\u001b[0m \u001b[1;33m\u001b[0m\u001b[0m\n\u001b[1;32m---> 13\u001b[1;33m     \u001b[0mvisited\u001b[0m \u001b[1;33m=\u001b[0m \u001b[0mset\u001b[0m\u001b[1;33m(\u001b[0m\u001b[1;33m[\u001b[0m\u001b[0minit_state\u001b[0m\u001b[1;33m]\u001b[0m\u001b[1;33m)\u001b[0m\u001b[1;33m\u001b[0m\u001b[1;33m\u001b[0m\u001b[0m\n\u001b[0m\u001b[0;32m     14\u001b[0m     \u001b[0mqu\u001b[0m \u001b[1;33m=\u001b[0m \u001b[0mcollections\u001b[0m\u001b[1;33m.\u001b[0m\u001b[0mdeque\u001b[0m\u001b[1;33m(\u001b[0m\u001b[1;33m[\u001b[0m\u001b[1;33m(\u001b[0m\u001b[0minit_state\u001b[0m\u001b[1;33m,\u001b[0m \u001b[0msy\u001b[0m\u001b[1;33m,\u001b[0m \u001b[0msx\u001b[0m\u001b[1;33m,\u001b[0m \u001b[1;36m0\u001b[0m\u001b[1;33m)\u001b[0m\u001b[1;33m]\u001b[0m\u001b[1;33m)\u001b[0m\u001b[1;33m\u001b[0m\u001b[1;33m\u001b[0m\u001b[0m\n\u001b[0;32m     15\u001b[0m     \u001b[0mdirs\u001b[0m \u001b[1;33m=\u001b[0m \u001b[1;33m[\u001b[0m\u001b[1;33m(\u001b[0m\u001b[1;36m0\u001b[0m\u001b[1;33m,\u001b[0m \u001b[1;33m-\u001b[0m\u001b[1;36m1\u001b[0m\u001b[1;33m)\u001b[0m\u001b[1;33m,\u001b[0m \u001b[1;33m(\u001b[0m\u001b[1;36m0\u001b[0m\u001b[1;33m,\u001b[0m \u001b[1;36m1\u001b[0m\u001b[1;33m)\u001b[0m\u001b[1;33m,\u001b[0m \u001b[1;33m(\u001b[0m\u001b[1;36m1\u001b[0m\u001b[1;33m,\u001b[0m \u001b[1;36m0\u001b[0m\u001b[1;33m)\u001b[0m\u001b[1;33m,\u001b[0m \u001b[1;33m(\u001b[0m\u001b[1;33m-\u001b[0m\u001b[1;36m1\u001b[0m\u001b[1;33m,\u001b[0m \u001b[1;36m0\u001b[0m\u001b[1;33m)\u001b[0m\u001b[1;33m]\u001b[0m\u001b[1;33m\u001b[0m\u001b[1;33m\u001b[0m\u001b[0m\n",
      "\u001b[1;31mTypeError\u001b[0m: unhashable type: 'list'"
     ]
    }
   ],
   "source": [
    "print(minMoveStep([[2,8,3], [1,0,4], [7,6,5]],\n",
    "                    [[1,2,3],[8,0,4],[7,6,5]]))"
   ]
  },
  {
   "cell_type": "code",
   "execution_count": null,
   "metadata": {},
   "outputs": [],
   "source": []
  }
 ],
 "metadata": {
  "kernelspec": {
   "display_name": "Python 3",
   "language": "python",
   "name": "python3"
  },
  "language_info": {
   "codemirror_mode": {
    "name": "ipython",
    "version": 3
   },
   "file_extension": ".py",
   "mimetype": "text/x-python",
   "name": "python",
   "nbconvert_exporter": "python",
   "pygments_lexer": "ipython3",
   "version": "3.7.3"
  }
 },
 "nbformat": 4,
 "nbformat_minor": 4
}
