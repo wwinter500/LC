{
 "cells": [
  {
   "cell_type": "code",
   "execution_count": null,
   "metadata": {},
   "outputs": [],
   "source": [
    "#hash and char statistics\n",
    "def findAnagrams(s, p):\n",
    "    ref = [0] * 256\n",
    "        cnt = [0] * 256\n",
    "        for i in range(len(p)):\n",
    "            ref[ord(p[i])] += 1\n",
    "            \n",
    "        for i in range(len(p)):\n",
    "            cnt[ord(s[i])] += 1\n",
    "        \n",
    "        ans = []\n",
    "        for i in range(len(p), len(s) - len(p)):\n",
    "            if check(ref, cnt):\n",
    "                ans.append(i - len(p))\n",
    "            \n",
    "            cnt[ord(s[i - len(p)])] -= 1\n",
    "            cnt[ord(s[i])] += 1\n",
    "        return ans\n",
    "        \n",
    "def check(a, b):\n",
    "    for i in range(256):\n",
    "        if a[i] != b[i]:\n",
    "            return False\n",
    "\n",
    "    return True"
   ]
  }
 ],
 "metadata": {
  "kernelspec": {
   "display_name": "Python 3",
   "language": "python",
   "name": "python3"
  },
  "language_info": {
   "codemirror_mode": {
    "name": "ipython",
    "version": 3
   },
   "file_extension": ".py",
   "mimetype": "text/x-python",
   "name": "python",
   "nbconvert_exporter": "python",
   "pygments_lexer": "ipython3",
   "version": "3.7.4"
  }
 },
 "nbformat": 4,
 "nbformat_minor": 4
}
