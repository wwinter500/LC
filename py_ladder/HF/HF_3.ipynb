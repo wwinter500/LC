{
 "cells": [
  {
   "cell_type": "code",
   "execution_count": 2,
   "metadata": {},
   "outputs": [],
   "source": [
    "#hash and char statistics\n",
    "def findAnagrams(s, p):\n",
    "    ref = [0] * 256\n",
    "    cnt = [0] * 256\n",
    "    for i in range(len(p)):\n",
    "        ref[ord(p[i])] += 1\n",
    "\n",
    "    for i in range(len(p)):\n",
    "        cnt[ord(s[i])] += 1\n",
    "\n",
    "    ans = []\n",
    "    for i in range(len(p), len(s) - len(p)):\n",
    "        if check(ref, cnt):\n",
    "            ans.append(i - len(p))\n",
    "\n",
    "        cnt[ord(s[i - len(p)])] -= 1\n",
    "        cnt[ord(s[i])] += 1\n",
    "    return ans\n",
    "        \n",
    "def check(a, b):\n",
    "    for i in range(256):\n",
    "        if a[i] != b[i]:\n",
    "            return False\n",
    "\n",
    "    return True"
   ]
  },
  {
   "cell_type": "code",
   "execution_count": 36,
   "metadata": {},
   "outputs": [],
   "source": [
    "#639 - word abbreviation\n",
    "def wordsAbbreviation(dict):\n",
    "    cnts = {}\n",
    "    idx2abb = {}\n",
    "    s2idx = []\n",
    "    abbi = 0\n",
    "    for s in dict:\n",
    "        arr = []\n",
    "        for i in range(1, len(s) - 1):\n",
    "            length = len(s) - 1 - i\n",
    "            if length == 1:\n",
    "                break\n",
    "\n",
    "            abb = s[:i] + str(len(s) - 1 - i) + s[-1]\n",
    "            if abb not in cnts.keys():\n",
    "                cnts[abb] = [abbi, 1]\n",
    "                idx2abb[abbi] = abb\n",
    "                arr.append(abbi)\n",
    "                abbi += 1\n",
    "            else:\n",
    "                cnts[abb][1] += 1\n",
    "        s2idx.append(arr)\n",
    "\n",
    "    ans = []\n",
    "    for i in range(len(dict)):\n",
    "        abb = dict[i]\n",
    "        for abbi in s2idx[i]:\n",
    "            if cnts[idx2abb[abbi]][1] == 1:\n",
    "                abb = idx2abb[abbi]\n",
    "                break\n",
    "\n",
    "        ans.append(abb)\n",
    "    return ans"
   ]
  },
  {
   "cell_type": "code",
   "execution_count": 37,
   "metadata": {},
   "outputs": [
    {
     "name": "stdout",
     "output_type": "stream",
     "text": [
      "['l2e', 'god', 'internal', 'me', 'i6t', 'interval', 'inte4n', 'f2e', 'intr4n']\n"
     ]
    }
   ],
   "source": [
    "print(wordsAbbreviation([\"like\",\"god\",\"internal\",\"me\",\"internet\",\"interval\",\"intension\",\"face\",\"intrusion\"]))"
   ]
  },
  {
   "cell_type": "code",
   "execution_count": null,
   "metadata": {},
   "outputs": [],
   "source": [
    "def longestConsecutive(num):\n",
    "    if not num:\n",
    "        return 0\n",
    "    \n",
    "    st = {}\n",
    "    for v in num:\n",
    "        if v not in st:\n",
    "            st.add(v)\n",
    "    \n",
    "    for n in num:\n",
    "        cnt = 0\n",
    "        pre = n\n",
    "        "
   ]
  }
 ],
 "metadata": {
  "kernelspec": {
   "display_name": "Python 3",
   "language": "python",
   "name": "python3"
  },
  "language_info": {
   "codemirror_mode": {
    "name": "ipython",
    "version": 3
   },
   "file_extension": ".py",
   "mimetype": "text/x-python",
   "name": "python",
   "nbconvert_exporter": "python",
   "pygments_lexer": "ipython3",
   "version": "3.7.4"
  }
 },
 "nbformat": 4,
 "nbformat_minor": 4
}
