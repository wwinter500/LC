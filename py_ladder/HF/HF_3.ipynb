{
 "cells": [
  {
   "cell_type": "code",
   "execution_count": 2,
   "metadata": {},
   "outputs": [],
   "source": [
    "#hash and char statistics\n",
    "def findAnagrams(s, p):\n",
    "    ref = [0] * 256\n",
    "    cnt = [0] * 256\n",
    "    for i in range(len(p)):\n",
    "        ref[ord(p[i])] += 1\n",
    "\n",
    "    for i in range(len(p)):\n",
    "        cnt[ord(s[i])] += 1\n",
    "\n",
    "    ans = []\n",
    "    for i in range(len(p), len(s) - len(p)):\n",
    "        if check(ref, cnt):\n",
    "            ans.append(i - len(p))\n",
    "\n",
    "        cnt[ord(s[i - len(p)])] -= 1\n",
    "        cnt[ord(s[i])] += 1\n",
    "    return ans\n",
    "        \n",
    "def check(a, b):\n",
    "    for i in range(256):\n",
    "        if a[i] != b[i]:\n",
    "            return False\n",
    "\n",
    "    return True"
   ]
  },
  {
   "cell_type": "code",
   "execution_count": 36,
   "metadata": {},
   "outputs": [],
   "source": [
    "#639 - word abbreviation\n",
    "def wordsAbbreviation(dict):\n",
    "    cnts = {}\n",
    "    idx2abb = {}\n",
    "    s2idx = []\n",
    "    abbi = 0\n",
    "    for s in dict:\n",
    "        arr = []\n",
    "        for i in range(1, len(s) - 1):\n",
    "            length = len(s) - 1 - i\n",
    "            if length == 1:\n",
    "                break\n",
    "\n",
    "            abb = s[:i] + str(len(s) - 1 - i) + s[-1]\n",
    "            if abb not in cnts.keys():\n",
    "                cnts[abb] = [abbi, 1]\n",
    "                idx2abb[abbi] = abb\n",
    "                arr.append(abbi)\n",
    "                abbi += 1\n",
    "            else:\n",
    "                cnts[abb][1] += 1\n",
    "        s2idx.append(arr)\n",
    "\n",
    "    ans = []\n",
    "    for i in range(len(dict)):\n",
    "        abb = dict[i]\n",
    "        for abbi in s2idx[i]:\n",
    "            if cnts[idx2abb[abbi]][1] == 1:\n",
    "                abb = idx2abb[abbi]\n",
    "                break\n",
    "\n",
    "        ans.append(abb)\n",
    "    return ans"
   ]
  },
  {
   "cell_type": "code",
   "execution_count": 37,
   "metadata": {},
   "outputs": [
    {
     "name": "stdout",
     "output_type": "stream",
     "text": [
      "['l2e', 'god', 'internal', 'me', 'i6t', 'interval', 'inte4n', 'f2e', 'intr4n']\n"
     ]
    }
   ],
   "source": [
    "print(wordsAbbreviation([\"like\",\"god\",\"internal\",\"me\",\"internet\",\"interval\",\"intension\",\"face\",\"intrusion\"]))"
   ]
  },
  {
   "cell_type": "code",
   "execution_count": 5,
   "metadata": {},
   "outputs": [],
   "source": [
    "#124\n",
    "def longestConsecutive(num):\n",
    "    if not num:\n",
    "        return 0\n",
    "    \n",
    "    st = set()\n",
    "    for v in num:\n",
    "        if v not in st:\n",
    "            st.add(v)\n",
    "    \n",
    "    ans = 1\n",
    "    for cur in num:\n",
    "        if cur not in st:\n",
    "            continue\n",
    "        \n",
    "        cnt = 1\n",
    "        pre,nxt = cur - 1, cur + 1\n",
    "        while st and pre in st:\n",
    "            cnt += 1\n",
    "            st.remove(pre)\n",
    "            pre -= 1\n",
    "        \n",
    "        while st and nxt in st:\n",
    "            cnt += 1\n",
    "            st.remove(nxt)\n",
    "            nxt += 1\n",
    "        \n",
    "        ans = max(ans, cnt)\n",
    "        \n",
    "    return ans"
   ]
  },
  {
   "cell_type": "code",
   "execution_count": 6,
   "metadata": {},
   "outputs": [
    {
     "name": "stdout",
     "output_type": "stream",
     "text": [
      "4\n"
     ]
    }
   ],
   "source": [
    "print(longestConsecutive([100,4,200,1,3,2]))"
   ]
  },
  {
   "cell_type": "code",
   "execution_count": 7,
   "metadata": {},
   "outputs": [],
   "source": [
    "#526 - load balancer\n",
    "class LoadBalancer:\n",
    "    def __init__(self):\n",
    "        self.mp = {}\n",
    "        self.arr = []\n",
    "\n",
    "    def add(self, server_id):\n",
    "        if server_id not in self.mp:\n",
    "            self.mp[server_id] = len(self.arr)\n",
    "            self.arr.append(server_id)\n",
    "\n",
    "    def remove(self, server_id):\n",
    "        if server_id not in self.mp:\n",
    "            return\n",
    "        \n",
    "        last = self.arr[-1]\n",
    "        idx = self.mp[server_id]\n",
    "        self.mp[last] = self.mp[server_id]\n",
    "        self.arr[idx] = last\n",
    "        \n",
    "        del self.mp[server_id]\n",
    "        self.arr.pop()\n",
    "\n",
    "    def pick(self):\n",
    "        ri = random.randint(0, len(self.arr) - 1)\n",
    "        return self.arr[ri]"
   ]
  },
  {
   "cell_type": "code",
   "execution_count": 34,
   "metadata": {},
   "outputs": [],
   "source": [
    "#772 - group anagrams\n",
    "def groupAnagrams(strs):\n",
    "    mp = {}\n",
    "    for s in sorted(strs):\n",
    "        item = ''.join(sorted(s))\n",
    "        print(item)\n",
    "        mp[item] = mp.get(item, []) + [s]\n",
    "    return mp.values()"
   ]
  },
  {
   "cell_type": "code",
   "execution_count": 35,
   "metadata": {},
   "outputs": [
    {
     "name": "stdout",
     "output_type": "stream",
     "text": [
      "aet\n",
      "abt\n",
      "aet\n",
      "ant\n",
      "ant\n",
      "aet\n",
      "dict_values([['ate', 'eat', 'tea'], ['bat'], ['nat', 'tan']])\n"
     ]
    }
   ],
   "source": [
    "print(groupAnagrams([\"eat\",\"tea\",\"tan\",\"ate\",\"nat\",\"bat\"]))"
   ]
  },
  {
   "cell_type": "code",
   "execution_count": 2,
   "metadata": {},
   "outputs": [],
   "source": [
    "#389 - valid sudoku\n",
    "def isValidSudoku(board):\n",
    "    row = [set() for i in range(9)]\n",
    "    col = [set() for i in range(9)]\n",
    "    grd = [set() for i in range(9)]\n",
    "    \n",
    "    for i in range(9):\n",
    "        for j in range(9):\n",
    "            if board[i][j] == '.':\n",
    "                continue\n",
    "                \n",
    "            if board[i][j] in row[i]:\n",
    "                return False\n",
    "            else:\n",
    "                row[i].add(board[i][j])\n",
    "            \n",
    "            if board[i][j] in col[j]:\n",
    "                return False\n",
    "            else:\n",
    "                col[j].add(board[i][j])\n",
    "            \n",
    "            idx = i // 3 * 3 + j // 3\n",
    "            if board[i][j] in grd[idx]:\n",
    "                return False\n",
    "            else:\n",
    "                grd[idx].add(board[i][j])\n",
    "    return True"
   ]
  },
  {
   "cell_type": "code",
   "execution_count": 59,
   "metadata": {},
   "outputs": [],
   "source": [
    "#384 \n",
    "# no multiset, so use dictionary + sums to count\n",
    "def lengthOfLongestSubstring(s):\n",
    "    if not s:\n",
    "        return 0\n",
    "    \n",
    "    ans = 1\n",
    "    dt = {}\n",
    "    l,r = 0, 0\n",
    "    while r < len(s):\n",
    "        if not s[r] in dt.keys():\n",
    "            dt[s[r]] = 1\n",
    "            ans = max(ans, len(dt))\n",
    "        else:\n",
    "            dt[s[r]] += 1\n",
    "            while l < r and r - l + 1 > len(dt):\n",
    "                dt[s[l]] -= 1\n",
    "                if dt[s[l]] == 0:\n",
    "                    del dt[s[l]]\n",
    "                \n",
    "                l += 1\n",
    "        \n",
    "        r += 1\n",
    "        \n",
    "    return ans    "
   ]
  },
  {
   "cell_type": "code",
   "execution_count": 60,
   "metadata": {},
   "outputs": [
    {
     "name": "stdout",
     "output_type": "stream",
     "text": [
      "3\n"
     ]
    }
   ],
   "source": [
    "#print(\"what hell\")\n",
    "print(lengthOfLongestSubstring(\"abcabcbb\"))"
   ]
  },
  {
   "cell_type": "code",
   "execution_count": null,
   "metadata": {},
   "outputs": [],
   "source": []
  }
 ],
 "metadata": {
  "kernelspec": {
   "display_name": "Python 3",
   "language": "python",
   "name": "python3"
  },
  "language_info": {
   "codemirror_mode": {
    "name": "ipython",
    "version": 3
   },
   "file_extension": ".py",
   "mimetype": "text/x-python",
   "name": "python",
   "nbconvert_exporter": "python",
   "pygments_lexer": "ipython3",
   "version": "3.7.4"
  }
 },
 "nbformat": 4,
 "nbformat_minor": 4
}
