{
 "cells": [
  {
   "cell_type": "code",
   "execution_count": null,
   "metadata": {},
   "outputs": [],
   "source": [
    "#Tree based divide and conqure / DFS\n",
    "class TreeNode:\n",
    "    def __init__(self, val):\n",
    "        self.val = val\n",
    "        self.left, self.right = None, None"
   ]
  },
  {
   "cell_type": "code",
   "execution_count": 1,
   "metadata": {},
   "outputs": [],
   "source": [
    "#661 - convert BST to greater tree\n",
    "class Solution:\n",
    "    def convertBST(self, root):\n",
    "        if not root:\n",
    "            return None\n",
    "        \n",
    "        self.sums = 0\n",
    "        self.helper(root)\n",
    "        return root\n",
    "    \n",
    "    def helper(self, root):\n",
    "        if not root:\n",
    "            return \n",
    "\n",
    "        self.helper(root.right)\n",
    "        self.sums += root.val\n",
    "        root.val = self.sums\n",
    "        self.helper(root.left)"
   ]
  },
  {
   "cell_type": "code",
   "execution_count": 2,
   "metadata": {},
   "outputs": [],
   "source": [
    "#448 - find in-order successor in BST\n",
    "def inorderSuccessor(root, p):\n",
    "    if not root or not p:\n",
    "        return None\n",
    "    \n",
    "    if root.val <= p.val:\n",
    "        return inorderSuccessor(root.right, p)\n",
    "    \n",
    "    re = inorderSuccessor(root.left, p)\n",
    "    if re != None:\n",
    "        return re\n",
    "    else:\n",
    "        return root\n",
    "    "
   ]
  },
  {
   "cell_type": "code",
   "execution_count": null,
   "metadata": {},
   "outputs": [],
   "source": [
    "#649 - binary tree upside down\n",
    "def upsideDownBinaryTree(root):\n",
    "    if not root:\n",
    "        return None\n",
    "    \n",
    "    nr, rr =  helper(root)\n",
    "    return nr\n",
    "\n",
    "def helper(root):\n",
    "    if not root.left:\n",
    "        return root, root\n",
    "    \n",
    "    nr, rr = helper(root.left)\n",
    "    rr.right = root\n",
    "    rr.left = root.right\n",
    "    root.left = None\n",
    "    root.right = None\n",
    "    \n",
    "    return nr, root"
   ]
  },
  {
   "cell_type": "code",
   "execution_count": 2,
   "metadata": {},
   "outputs": [],
   "source": [
    "#582 - word break II\n",
    "#dfs soluiton\n",
    "def wordBreak(s, wordDict):\n",
    "    if not s or len(s) == 1 or not wordDict:\n",
    "        return []\n",
    "\n",
    "    ans = []\n",
    "    head = \"\"\n",
    "    dfs(s, wordDict, ans, head, 0)\n",
    "    return ans\n",
    "\n",
    "def dfs(s, wordDict, ans, head, idx):\n",
    "    if idx == len(s) - 1:\n",
    "        ans.append(head)\n",
    "        return\n",
    "    \n",
    "    for i in range(idx + 1, len(s) - 1):\n",
    "        sub = s[idx:i] + \" \"\n",
    "        if sub not in wordDict:\n",
    "            continue\n",
    "        \n",
    "        head += sub\n",
    "        dfs(s, wordDict, ans, head, i)\n",
    "        head = head[:-len(sub)]"
   ]
  },
  {
   "cell_type": "code",
   "execution_count": 11,
   "metadata": {},
   "outputs": [],
   "source": [
    "#582 - memorization searching - word break II\n",
    "def wordBreak(s, wordDict):\n",
    "    if not s or len(s) == 1 or not wordDict:\n",
    "        return []\n",
    "    \n",
    "    return memosearch(s, wordDict, {})\n",
    "\n",
    "def memosearch(s, wordDict, mp):\n",
    "    if s in mp:\n",
    "        return mp[s]\n",
    "    \n",
    "    if len(s) == 0:\n",
    "        return []\n",
    "    \n",
    "    ans = []\n",
    "    for i in range(len(s) - 1):\n",
    "        head, tail = s[:i+1], s[i+1:]\n",
    "        if head not in wordDict:\n",
    "            continue\n",
    "        \n",
    "        tail_partition = memosearch(tail, wordDict, mp)\n",
    "        for part in tail_partition:\n",
    "            ans.append(head + \" \" + part)\n",
    "            \n",
    "    if s in wordDict:\n",
    "        ans.append(s)\n",
    "    \n",
    "    mp[s] = ans\n",
    "    return ans"
   ]
  },
  {
   "cell_type": "code",
   "execution_count": 12,
   "metadata": {},
   "outputs": [
    {
     "name": "stdout",
     "output_type": "stream",
     "text": [
      "l intcode\n",
      "li ntcode\n",
      "lin tcode\n",
      "lint code\n",
      "c ode\n",
      "co de\n",
      "d e\n",
      "cod e\n",
      "lintc ode\n",
      "lintco de\n",
      "lintcod e\n",
      "['lint co de', 'lint code']\n"
     ]
    }
   ],
   "source": [
    "print(wordBreak(\"lintcode\", set([\"lint\", \"code\", \"co\", \"de\"])))"
   ]
  },
  {
   "cell_type": "code",
   "execution_count": null,
   "metadata": {},
   "outputs": [],
   "source": [
    "#11 - Search Range in Binary Search Tree\n",
    "def searchRange(root, k1, k2):\n",
    "    if not root:\n",
    "        return []\n",
    "    \n",
    "    ans = []\n",
    "    dfs(root, k1, k2, ans)\n",
    "    return ans\n",
    "\n",
    "def dfs(root, k1, k2, tmp):\n",
    "    if not root:\n",
    "        return\n",
    "    \n",
    "    dfs(root.left, k1, k2, tmp)\n",
    "    if root.val >= k1 and root.val <= k2\n",
    "        tmp.append(root.val)\n",
    "    dfs(root.right, k1, k2, tmp)"
   ]
  },
  {
   "cell_type": "code",
   "execution_count": null,
   "metadata": {},
   "outputs": [],
   "source": [
    "#430 - scramble \n",
    "def isScramble(s1, s2):\n",
    "    return dfs(s1, s2)\n",
    "\n",
    "def dfs(s1, s2):\n",
    "    if not s1 or not s2 or len(s1) != len(s2):\n",
    "        return False\n",
    "    \n",
    "    if s1 == s2:\n",
    "        return True\n",
    "    \n",
    "    ans = False\n",
    "    for i in range(len(s1)):\n",
    "        s1l,s1r = s1[:i + 1], s1[i + 1:]\n",
    "        s2l, s2r = s2[: i + 1], s2[i + 1:]\n",
    "        ans = ans or (dfs(s1l, s2l) and dfs(s1r, s2r))\n",
    "        ans = ans or (dfs(s1r, s2l) and dfs(s1l, s2r))\n",
    "        \n",
    "    return ans\n",
    "    "
   ]
  },
  {
   "cell_type": "code",
   "execution_count": 25,
   "metadata": {},
   "outputs": [],
   "source": [
    "#107 - word break - memosearch\n",
    "def wordBreak_(s, dict):\n",
    "    if not s and not dict:\n",
    "        return True\n",
    "    if not s or not dict:\n",
    "        return False\n",
    "\n",
    "    return memosearch(s, dict)\n",
    "\n",
    "def memosearch(s, dict):\n",
    "    if s in dict:\n",
    "        return True\n",
    "\n",
    "    for i in range(1, len(s)):\n",
    "        head, tail = s[:i], s[i:]\n",
    "        hr, tr = True, True\n",
    "        if not head in dict:\n",
    "            hr = memosearch(head, dict)\n",
    "            if hr:\n",
    "                dict.add(head)\n",
    "\n",
    "        if not tail in dict:\n",
    "            tr = memosearch(tail, dict)\n",
    "            if tr:\n",
    "                dict.add(tail)\n",
    "\n",
    "        if hr and tr:\n",
    "            return True\n",
    "\n",
    "    return False"
   ]
  },
  {
   "cell_type": "code",
   "execution_count": 29,
   "metadata": {},
   "outputs": [],
   "source": [
    "#dp version\n",
    "def wordBreak(s, dict):\n",
    "    if not s and not dict:\n",
    "        return True\n",
    "    if not s or not dict:\n",
    "        return False\n",
    "    \n",
    "    n = len(s)\n",
    "    dp = [False] * n\n",
    "    valid = set()\n",
    "    for i in range(n):\n",
    "        if not valid:\n",
    "            sub = s[:i + 1]\n",
    "            if sub in dict:\n",
    "                dp[i] = True\n",
    "                valid.add(i)\n",
    "        else:\n",
    "            for p in valid:\n",
    "                sub = s[p + 1: i + 1]\n",
    "                if sub in dict:\n",
    "                    dp[i] = True\n",
    "                    valid.add(i)\n",
    "                    break\n",
    "    return dp[n - 1]\n",
    "    "
   ]
  },
  {
   "cell_type": "code",
   "execution_count": 31,
   "metadata": {},
   "outputs": [
    {
     "name": "stdout",
     "output_type": "stream",
     "text": [
      "False\n"
     ]
    }
   ],
   "source": [
    "#print(wordBreak(\"lintcode\", set([\"lint\", \"code\"])))\n",
    "print(wordBreak(\"ecedcccfebeaecffafdeggbcedfeebffageccefeeebaegabgcabfccfeegfbeafceedffbcaeedfefecbfdeebfeefebgcbdbeggdbcgeefbfggggbcgfcdfg\",\n",
    "                set([\"ab\",\"bc\",\"cd\",\"de\",\"ef\"])))"
   ]
  },
  {
   "cell_type": "code",
   "execution_count": null,
   "metadata": {},
   "outputs": [],
   "source": []
  }
 ],
 "metadata": {
  "kernelspec": {
   "display_name": "Python 3",
   "language": "python",
   "name": "python3"
  },
  "language_info": {
   "codemirror_mode": {
    "name": "ipython",
    "version": 3
   },
   "file_extension": ".py",
   "mimetype": "text/x-python",
   "name": "python",
   "nbconvert_exporter": "python",
   "pygments_lexer": "ipython3",
   "version": "3.7.3"
  }
 },
 "nbformat": 4,
 "nbformat_minor": 4
}
