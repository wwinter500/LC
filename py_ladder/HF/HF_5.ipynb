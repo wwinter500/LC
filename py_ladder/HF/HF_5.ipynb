{
 "cells": [
  {
   "cell_type": "code",
   "execution_count": 1,
   "metadata": {},
   "outputs": [],
   "source": [
    "#Tree based divide and conqure / DFS\n",
    "class TreeNode:\n",
    "    def __init__(self, val):\n",
    "        self.val = val\n",
    "        self.left, self.right = None, None"
   ]
  },
  {
   "cell_type": "code",
   "execution_count": 1,
   "metadata": {},
   "outputs": [],
   "source": [
    "#661 - convert BST to greater tree\n",
    "class Solution:\n",
    "    def convertBST(self, root):\n",
    "        if not root:\n",
    "            return None\n",
    "        \n",
    "        self.sums = 0\n",
    "        self.helper(root)\n",
    "        return root\n",
    "    \n",
    "    def helper(self, root):\n",
    "        if not root:\n",
    "            return \n",
    "\n",
    "        self.helper(root.right)\n",
    "        self.sums += root.val\n",
    "        root.val = self.sums\n",
    "        self.helper(root.left)"
   ]
  },
  {
   "cell_type": "code",
   "execution_count": 2,
   "metadata": {},
   "outputs": [],
   "source": [
    "#448 - find in-order successor in BST\n",
    "def inorderSuccessor(root, p):\n",
    "    if not root or not p:\n",
    "        return None\n",
    "    \n",
    "    if root.val <= p.val:\n",
    "        return inorderSuccessor(root.right, p)\n",
    "    \n",
    "    re = inorderSuccessor(root.left, p)\n",
    "    if re != None:\n",
    "        return re\n",
    "    else:\n",
    "        return root\n",
    "    "
   ]
  },
  {
   "cell_type": "code",
   "execution_count": null,
   "metadata": {},
   "outputs": [],
   "source": [
    "#649 - binary tree upside down\n",
    "def upsideDownBinaryTree(root):\n",
    "    if not root:\n",
    "        return None\n",
    "    \n",
    "    nr, rr =  helper(root)\n",
    "    return nr\n",
    "\n",
    "def helper(root):\n",
    "    if not root.left:\n",
    "        return root, root\n",
    "    \n",
    "    nr, rr = helper(root.left)\n",
    "    rr.right = root\n",
    "    rr.left = root.right\n",
    "    root.left = None\n",
    "    root.right = None\n",
    "    \n",
    "    return nr, root"
   ]
  },
  {
   "cell_type": "code",
   "execution_count": null,
   "metadata": {},
   "outputs": [],
   "source": []
  }
 ],
 "metadata": {
  "kernelspec": {
   "display_name": "Python 3",
   "language": "python",
   "name": "python3"
  },
  "language_info": {
   "codemirror_mode": {
    "name": "ipython",
    "version": 3
   },
   "file_extension": ".py",
   "mimetype": "text/x-python",
   "name": "python",
   "nbconvert_exporter": "python",
   "pygments_lexer": "ipython3",
   "version": "3.7.3"
  }
 },
 "nbformat": 4,
 "nbformat_minor": 4
}
