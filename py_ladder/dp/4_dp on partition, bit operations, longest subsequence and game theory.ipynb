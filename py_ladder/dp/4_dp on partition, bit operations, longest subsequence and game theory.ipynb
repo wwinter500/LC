{
 "cells": [
  {
   "cell_type": "code",
   "execution_count": 66,
   "metadata": {},
   "outputs": [],
   "source": [
    "#package dp\n",
    "#92 - backpack I\n",
    "#dp[i][j] = if can fullfil j size when at most i items\n",
    "def backPack(m, A):\n",
    "    if not A:\n",
    "        return 0\n",
    "\n",
    "    n = len(A)\n",
    "    dp = [[False for j in range(m + 1)] for i in range(n + 1)]\n",
    "    for i in range(n + 1):\n",
    "        dp[i][0] = True\n",
    "\n",
    "    ans = 0\n",
    "    for i in range(1, n + 1):\n",
    "        for j in range(1, m + 1):\n",
    "            if j >= A[i - 1]:\n",
    "                dp[i][j] = dp[i - 1][j] or dp[i - 1][j - A[i - 1]]\n",
    "            else:\n",
    "                dp[i][j] = dp[i - 1][j]\n",
    "\n",
    "    for j in range(m, -1, -1):\n",
    "        if dp[n][j]:\n",
    "            return j\n",
    "\n",
    "    return 0\n",
    "            "
   ]
  },
  {
   "cell_type": "code",
   "execution_count": null,
   "metadata": {},
   "outputs": [],
   "source": []
  },
  {
   "cell_type": "code",
   "execution_count": 67,
   "metadata": {},
   "outputs": [
    {
     "name": "stdout",
     "output_type": "stream",
     "text": [
      "99\n"
     ]
    }
   ],
   "source": [
    "print(backPack(100, [16,16,3,5,16,16,16,16,16,16,16,16,16,16,16,16,16]))"
   ]
  },
  {
   "cell_type": "code",
   "execution_count": 21,
   "metadata": {},
   "outputs": [],
   "source": [
    "#666 - guess number II \n",
    "#dp[i][j] - minimun money to pay to finish the game\n",
    "#dp[i][j] = max(dp[i][k - 1], dp[k + 1][j]) + k\n",
    "import sys\n",
    "def getMoneyAmount(n):\n",
    "    dp = [[0 for j in range(n + 1)] for i in range(n + 1)]\n",
    "    for l in range(2, n + 1):\n",
    "        for s in range(1, n - l + 2):\n",
    "            e = s + l - 1\n",
    "            cost = sys.maxsize\n",
    "            for k in range(s, e + 1):\n",
    "                if k == e:\n",
    "                    cost = min(cost, dp[s][k - 1] + k)\n",
    "                elif k == s:\n",
    "                    cost = min(cost, dp[k + 1][e] + k)\n",
    "                else:\n",
    "                    cost = min(cost, max(dp[s][k - 1], dp[k + 1][e]) + k)\n",
    "                \n",
    "            dp[s][e] = cost\n",
    "    \n",
    "    for i in range(n):\n",
    "        print(dp[i])\n",
    "    return dp[1][n]"
   ]
  },
  {
   "cell_type": "code",
   "execution_count": 22,
   "metadata": {},
   "outputs": [
    {
     "name": "stdout",
     "output_type": "stream",
     "text": [
      "[0, 0, 0, 0, 0, 0, 0, 0, 0, 0, 0]\n",
      "[0, 0, 1, 2, 4, 6, 8, 10, 12, 14, 16]\n",
      "[0, 0, 0, 2, 3, 6, 8, 10, 12, 14, 16]\n",
      "[0, 0, 0, 0, 3, 4, 8, 10, 12, 14, 16]\n",
      "[0, 0, 0, 0, 0, 4, 5, 10, 12, 14, 16]\n",
      "[0, 0, 0, 0, 0, 0, 5, 6, 12, 14, 16]\n",
      "[0, 0, 0, 0, 0, 0, 0, 6, 7, 14, 16]\n",
      "[0, 0, 0, 0, 0, 0, 0, 0, 7, 8, 16]\n",
      "[0, 0, 0, 0, 0, 0, 0, 0, 0, 8, 9]\n",
      "[0, 0, 0, 0, 0, 0, 0, 0, 0, 0, 9]\n",
      "16\n"
     ]
    }
   ],
   "source": [
    "print(getMoneyAmount(10))"
   ]
  },
  {
   "cell_type": "code",
   "execution_count": null,
   "metadata": {},
   "outputs": [],
   "source": [
    "#394 - coins in a line - game theory\n",
    "def firstWillWin(self, n):\n",
    "    if not n:\n",
    "        return False\n",
    "\n",
    "    pre,ppre = True, False\n",
    "    cur = True\n",
    "    for i in range(2, n + 1):\n",
    "        cur = False if pre and ppre else True\n",
    "        ppre = pre\n",
    "        pre = cur\n",
    "\n",
    "    return cur"
   ]
  }
 ],
 "metadata": {
  "kernelspec": {
   "display_name": "Python 3",
   "language": "python",
   "name": "python3"
  },
  "language_info": {
   "codemirror_mode": {
    "name": "ipython",
    "version": 3
   },
   "file_extension": ".py",
   "mimetype": "text/x-python",
   "name": "python",
   "nbconvert_exporter": "python",
   "pygments_lexer": "ipython3",
   "version": "3.7.4"
  }
 },
 "nbformat": 4,
 "nbformat_minor": 4
}
