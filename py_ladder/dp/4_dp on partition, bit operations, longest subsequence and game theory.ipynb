{
 "cells": [
  {
   "cell_type": "code",
   "execution_count": 66,
   "metadata": {},
   "outputs": [],
   "source": [
    "#package dp\n",
    "#92 - backpack I\n",
    "#dp[i][j] = if can fullfil j size when at most i items\n",
    "def backPack(m, A):\n",
    "    if not A:\n",
    "        return 0\n",
    "\n",
    "    n = len(A)\n",
    "    dp = [[False for j in range(m + 1)] for i in range(n + 1)]\n",
    "    for i in range(n + 1):\n",
    "        dp[i][0] = True\n",
    "\n",
    "    ans = 0\n",
    "    for i in range(1, n + 1):\n",
    "        for j in range(1, m + 1):\n",
    "            if j >= A[i - 1]:\n",
    "                dp[i][j] = dp[i - 1][j] or dp[i - 1][j - A[i - 1]]\n",
    "            else:\n",
    "                dp[i][j] = dp[i - 1][j]\n",
    "\n",
    "    for j in range(m, -1, -1):\n",
    "        if dp[n][j]:\n",
    "            return j\n",
    "\n",
    "    return 0\n",
    "            "
   ]
  },
  {
   "cell_type": "code",
   "execution_count": 67,
   "metadata": {},
   "outputs": [
    {
     "name": "stdout",
     "output_type": "stream",
     "text": [
      "99\n"
     ]
    }
   ],
   "source": [
    "print(backPack(100, [16,16,3,5,16,16,16,16,16,16,16,16,16,16,16,16,16]))"
   ]
  },
  {
   "cell_type": "code",
   "execution_count": 72,
   "metadata": {},
   "outputs": [],
   "source": [
    "#"
   ]
  },
  {
   "cell_type": "code",
   "execution_count": 74,
   "metadata": {},
   "outputs": [
    {
     "name": "stdout",
     "output_type": "stream",
     "text": [
      "10\n"
     ]
    }
   ],
   "source": []
  },
  {
   "cell_type": "code",
   "execution_count": null,
   "metadata": {},
   "outputs": [],
   "source": []
  }
 ],
 "metadata": {
  "kernelspec": {
   "display_name": "Python 3",
   "language": "python",
   "name": "python3"
  },
  "language_info": {
   "codemirror_mode": {
    "name": "ipython",
    "version": 3
   },
   "file_extension": ".py",
   "mimetype": "text/x-python",
   "name": "python",
   "nbconvert_exporter": "python",
   "pygments_lexer": "ipython3",
   "version": "3.7.4"
  }
 },
 "nbformat": 4,
 "nbformat_minor": 4
}
