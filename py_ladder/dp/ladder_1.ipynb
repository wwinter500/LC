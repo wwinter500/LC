{
 "cells": [
  {
   "cell_type": "code",
   "execution_count": 21,
   "metadata": {},
   "outputs": [],
   "source": [
    "import sys\n",
    "#114 - EASY\n",
    "def uniquePaths(m, n):\n",
    "    if not m or not n:\n",
    "        return 0\n",
    "    \n",
    "    dp = [[0 for j in range(m)] for i in range(n)]\n",
    "    for i in range(n):\n",
    "        dp[i][0] = 1\n",
    "    \n",
    "    for j in range(m):\n",
    "        dp[0][j] = 1\n",
    "    \n",
    "    for i in range(1, n):\n",
    "        for j in range(1, m):\n",
    "            dp[i][j] = dp[i - 1][j] + dp[i][j - 1]\n",
    "    \n",
    "    return dp[n - 1][m - 1]\n",
    "\n",
    "\n",
    "#669 coin-change\n",
    "def coinChange(coins, amount):\n",
    "    if not coins:\n",
    "        return -1\n",
    "    \n",
    "    dp = [sys.maxsize for i in range(amount + 1)]\n",
    "    dp[0] = 0\n",
    "    for val in range(1, amount + 1):\n",
    "        for c in coins:\n",
    "            if c <= val:\n",
    "                dp[val] = min(dp[val], dp[val - c] + 1)\n",
    "    \n",
    "    if dp[amount] == sys.maxsize:\n",
    "        return -1\n",
    "    \n",
    "    return dp[amount]\n",
    "    "
   ]
  },
  {
   "cell_type": "code",
   "execution_count": 22,
   "metadata": {},
   "outputs": [
    {
     "name": "stdout",
     "output_type": "stream",
     "text": [
      "[0, 1, 1, 2, 2, 1, 2, 2, 3, 3, 2, 3]\n",
      "3\n"
     ]
    }
   ],
   "source": [
    "coins = [1,2,5]\n",
    "amount = 11\n",
    "print(coinChange(coins, amount))"
   ]
  },
  {
   "cell_type": "code",
   "execution_count": 23,
   "metadata": {},
   "outputs": [
    {
     "ename": "SyntaxError",
     "evalue": "unexpected EOF while parsing (<ipython-input-23-3ef6f7683e9f>, line 3)",
     "output_type": "error",
     "traceback": [
      "\u001b[1;36m  File \u001b[1;32m\"<ipython-input-23-3ef6f7683e9f>\"\u001b[1;36m, line \u001b[1;32m3\u001b[0m\n\u001b[1;33m    \u001b[0m\n\u001b[1;37m    ^\u001b[0m\n\u001b[1;31mSyntaxError\u001b[0m\u001b[1;31m:\u001b[0m unexpected EOF while parsing\n"
     ]
    }
   ],
   "source": [
    "#116 jump game\n",
    "def canJump(A):\n",
    "    "
   ]
  },
  {
   "cell_type": "code",
   "execution_count": null,
   "metadata": {},
   "outputs": [],
   "source": []
  }
 ],
 "metadata": {
  "kernelspec": {
   "display_name": "Python 3",
   "language": "python",
   "name": "python3"
  },
  "language_info": {
   "codemirror_mode": {
    "name": "ipython",
    "version": 3
   },
   "file_extension": ".py",
   "mimetype": "text/x-python",
   "name": "python",
   "nbconvert_exporter": "python",
   "pygments_lexer": "ipython3",
   "version": "3.7.3"
  }
 },
 "nbformat": 4,
 "nbformat_minor": 2
}
