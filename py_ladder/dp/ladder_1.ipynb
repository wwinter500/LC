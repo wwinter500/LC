{
 "cells": [
  {
   "cell_type": "code",
   "execution_count": 1,
   "metadata": {},
   "outputs": [],
   "source": [
    "import sys\n",
    "#114 - EASY\n",
    "def uniquePaths(m, n):\n",
    "    if not m or not n:\n",
    "        return 0\n",
    "    \n",
    "    dp = [[0 for j in range(m)] for i in range(n)]\n",
    "    for i in range(n):\n",
    "        dp[i][0] = 1\n",
    "    \n",
    "    for j in range(m):\n",
    "        dp[0][j] = 1\n",
    "    \n",
    "    for i in range(1, n):\n",
    "        for j in range(1, m):\n",
    "            dp[i][j] = dp[i - 1][j] + dp[i][j - 1]\n",
    "    \n",
    "    return dp[n - 1][m - 1]\n",
    "\n",
    "\n",
    "#669 coin-change\n",
    "def coinChange(coins, amount):\n",
    "    if not coins:\n",
    "        return -1\n",
    "    \n",
    "    dp = [sys.maxsize for i in range(amount + 1)]\n",
    "    dp[0] = 0\n",
    "    for val in range(1, amount + 1):\n",
    "        for c in coins:\n",
    "            if c <= val:\n",
    "                dp[val] = min(dp[val], dp[val - c] + 1)\n",
    "    \n",
    "    if dp[amount] == sys.maxsize:\n",
    "        return -1\n",
    "    \n",
    "    return dp[amount]\n",
    "    "
   ]
  },
  {
   "cell_type": "code",
   "execution_count": 2,
   "metadata": {},
   "outputs": [
    {
     "name": "stdout",
     "output_type": "stream",
     "text": [
      "3\n"
     ]
    }
   ],
   "source": [
    "coins = [1,2,5]\n",
    "amount = 11\n",
    "print(coinChange(coins, amount))"
   ]
  },
  {
   "cell_type": "code",
   "execution_count": 28,
   "metadata": {},
   "outputs": [],
   "source": [
    "#116 jump game\n",
    "#from start index, return if can jump to the last index\n",
    "def canJump_dp(A):\n",
    "    if not A:\n",
    "        return False\n",
    "    \n",
    "    n = len(A)\n",
    "    dp = [False for i in range(n)]\n",
    "    dp[0] = True\n",
    "    maxv = max(A)\n",
    "    for i in range(n):\n",
    "        for j in range(maxv, -1, -1):\n",
    "            if i - j >= 0 and dp[i - j] and A[i - j] >= j:\n",
    "                dp[i] = True\n",
    "                break\n",
    "    return dp[n - 1]\n",
    "\n",
    "def canJump_greedy(A):\n",
    "    p = 0\n",
    "    ans = 0\n",
    "    for dis in A[:-1]:\n",
    "        ans = max(ans, p + dis)\n",
    "        if ans <= p:\n",
    "            return False\n",
    "        \n",
    "        p += 1\n",
    "    return True"
   ]
  },
  {
   "cell_type": "code",
   "execution_count": 29,
   "metadata": {},
   "outputs": [
    {
     "name": "stdout",
     "output_type": "stream",
     "text": [
      "[True, True, True, True, True]\n",
      "True\n"
     ]
    }
   ],
   "source": [
    "print(canJump([2,3,1,1,4]))"
   ]
  },
  {
   "cell_type": "code",
   "execution_count": 44,
   "metadata": {},
   "outputs": [],
   "source": [
    "#191 - maximum product subarray\n",
    "def maxProduct(nums):\n",
    "    if not nums:\n",
    "        return 0\n",
    "    \n",
    "    \n",
    "    "
   ]
  },
  {
   "cell_type": "code",
   "execution_count": 45,
   "metadata": {},
   "outputs": [
    {
     "name": "stdout",
     "output_type": "stream",
     "text": [
      "[1, 2, 2, -4, -20] [-12, -4, -2, -2, 1]\n",
      "[3, 2, 1, -2, 5]\n",
      "5\n"
     ]
    }
   ],
   "source": [
    "print(maxProduct([3,2,1,-2,5]))"
   ]
  },
  {
   "cell_type": "code",
   "execution_count": null,
   "metadata": {},
   "outputs": [],
   "source": []
  }
 ],
 "metadata": {
  "kernelspec": {
   "display_name": "Python 3",
   "language": "python",
   "name": "python3"
  },
  "language_info": {
   "codemirror_mode": {
    "name": "ipython",
    "version": 3
   },
   "file_extension": ".py",
   "mimetype": "text/x-python",
   "name": "python",
   "nbconvert_exporter": "python",
   "pygments_lexer": "ipython3",
   "version": "3.7.4"
  }
 },
 "nbformat": 4,
 "nbformat_minor": 4
}
