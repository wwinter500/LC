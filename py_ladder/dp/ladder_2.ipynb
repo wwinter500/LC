{
 "cells": [
  {
   "cell_type": "code",
   "execution_count": 1,
   "metadata": {},
   "outputs": [],
   "source": [
    "#ladder-2 index dp\n",
    "def uniquePathsWithObstacles(obstacleGrid):\n",
    "    if not obstacleGrid or not obstacleGrid[0]:\n",
    "        return 0\n",
    "\n",
    "    n,m = len(obstacleGrid), len(obstacleGrid[0])\n",
    "    dp = [[0 for j in range(m)] for i in range(n)]\n",
    "    for i in range(n):\n",
    "        if obstacleGrid[i][0] == 1:\n",
    "            break\n",
    "\n",
    "        dp[i][0] = 1\n",
    "\n",
    "    for j in range(m):\n",
    "        if obstacleGrid[0][j] == 1:\n",
    "            break\n",
    "\n",
    "        dp[0][j] = 1\n",
    "\n",
    "    for i in range(1, n):\n",
    "        for j in range(1, m):\n",
    "            if obstacleGrid[i][j] == 0:\n",
    "                dp[i][j] = dp[i - 1][j] + dp[i][j - 1]  \n",
    "\n",
    "    return dp[n - 1][m - 1]"
   ]
  },
  {
   "cell_type": "code",
   "execution_count": 11,
   "metadata": {},
   "outputs": [],
   "source": [
    "#515 - paint house\n",
    "def minCost(costs):\n",
    "    nhouse = len(costs)\n",
    "    dp = [costs[0][0],costs[0][1],costs[0][2]]\n",
    "    for i in range(1, nhouse):\n",
    "        r,b,g = dp[0], dp[1], dp[2]\n",
    "        dp[1] = min(r, g) + costs[i][1]\n",
    "        dp[2] = min(r, b) + costs[i][2]\n",
    "\n",
    "    return min(dp)\n",
    "            \n",
    "        "
   ]
  },
  {
   "cell_type": "code",
   "execution_count": 14,
   "metadata": {},
   "outputs": [
    {
     "name": "stdout",
     "output_type": "stream",
     "text": [
      "2 1\n",
      "3\n"
     ]
    }
   ],
   "source": [
    "print(minCost(\n",
    "    [[1,2,3],\n",
    "     [1,4,6]]\n",
    "    ))"
   ]
  },
  {
   "cell_type": "code",
   "execution_count": null,
   "metadata": {},
   "outputs": [],
   "source": []
  }
 ],
 "metadata": {
  "kernelspec": {
   "display_name": "Python 3",
   "language": "python",
   "name": "python3"
  },
  "language_info": {
   "codemirror_mode": {
    "name": "ipython",
    "version": 3
   },
   "file_extension": ".py",
   "mimetype": "text/x-python",
   "name": "python",
   "nbconvert_exporter": "python",
   "pygments_lexer": "ipython3",
   "version": "3.7.4"
  }
 },
 "nbformat": 4,
 "nbformat_minor": 4
}
