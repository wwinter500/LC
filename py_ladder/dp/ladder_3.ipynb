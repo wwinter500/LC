{
 "cells": [
  {
   "cell_type": "code",
   "execution_count": 33,
   "metadata": {},
   "outputs": [],
   "source": [
    "# index_dp with status\n",
    "import sys\n",
    "def minCostII(costs):#O(n*k*k)\n",
    "    if not costs or not costs[0]:\n",
    "        return 0\n",
    "\n",
    "    n,k = len(costs), len(costs[0])\n",
    "    pre = [0 for j in range(k)]\n",
    "    cur = [0 for j in range(k)]\n",
    "  \n",
    "    for i in range(k):\n",
    "        pre[i] = costs[0][i]\n",
    "    \n",
    "    for i in range(1, n):\n",
    "        for j in range(k):\n",
    "            cur[j] = sys.maxsize\n",
    "            for t in range(k):\n",
    "                if j != t:\n",
    "                    cur[j] = min(cur[j], pre[t] + costs[i][j])\n",
    "                    \n",
    "        for j in range(k):\n",
    "            pre[j] = cur[j]\n",
    "    \n",
    "    return min(cur)"
   ]
  },
  {
   "cell_type": "code",
   "execution_count": 43,
   "metadata": {},
   "outputs": [],
   "source": [
    "def findmins(arr):#find min value O(1) except index i\n",
    "    first, second = (sys.maxsize, 0), (sys.maxsize, 0)\n",
    "    for i, v in enumerate(arr):\n",
    "        if v < first[0]:\n",
    "            temp = first\n",
    "            first = (v,i)\n",
    "            second = temp\n",
    "        elif v < second[0]:\n",
    "            second = (v,i)\n",
    "            \n",
    "    return first,second\n",
    "\n",
    "def minCostII(costs):#O(n*k)\n",
    "    if not costs or not costs[0]:\n",
    "        return 0\n",
    "    \n",
    "    n,k = len(costs), len(costs[0])\n",
    "    p0, p1 = findmins(costs[0])\n",
    "    cur = [0 for j in range(k)]\n",
    "    \n",
    "    if n == 1:\n",
    "        return p0[0]\n",
    "    \n",
    "    for i in range(1, n):\n",
    "        for j in range(k):\n",
    "            if j == p0[1]:\n",
    "                cur[j] = p1[0] + costs[i][j]\n",
    "            else:\n",
    "                cur[j] = p0[0] + costs[i][j]\n",
    "                \n",
    "        p0, p1 = findmins(cur)\n",
    "    \n",
    "    return p0[0]"
   ]
  },
  {
   "cell_type": "code",
   "execution_count": 44,
   "metadata": {},
   "outputs": [
    {
     "name": "stdout",
     "output_type": "stream",
     "text": [
      "10\n"
     ]
    }
   ],
   "source": [
    "print(minCostII(\n",
    "    [[14,2,11],\n",
    "     [11,14,5],\n",
    "     [14,3,10]\n",
    "    ]))"
   ]
  },
  {
   "cell_type": "code",
   "execution_count": 48,
   "metadata": {},
   "outputs": [],
   "source": [
    "def houseRobber(A):\n",
    "    if not A:\n",
    "        return 0\n",
    "    if len(A) == 1:\n",
    "        return A[0]\n",
    "    \n",
    "    n = len(A)\n",
    "    dp0, dp1 = 0, A[0]\n",
    "    cur = 0\n",
    "    for i in range(2, n + 1):\n",
    "        cur = max(dp1, dp0 + A[i - 1])\n",
    "        dp0 = dp1\n",
    "        dp1 = cur\n",
    "        \n",
    "    return cur"
   ]
  },
  {
   "cell_type": "code",
   "execution_count": 50,
   "metadata": {},
   "outputs": [],
   "source": [
    "def houseRobber2(nums):\n",
    "    if not nums:\n",
    "        return 0\n",
    "    if len(nums) == 1:\n",
    "        return nums[0]\n",
    "    \n",
    "    dps =[0] * n\n",
    "    dp[0], dp[1] = 0, nums[1]\n",
    "    for i in range(2, n):\n",
    "        dp[i] = max(dp[i - 2] + nums[i], dp[i - 1])\n",
    "    \n",
    "    ans = dp[n - 1]\n",
    "    \n",
    "    dp[0],dp[1] = nums[0], max(nums[0], nums[1])\n",
    "    for i in range(2, n - 1):\n",
    "        dp[i] = max(dp[i - 2] + nums[i], dp[i - 1])\n",
    "    \n",
    "    return max(ans, dp[n - 2])"
   ]
  },
  {
   "cell_type": "code",
   "execution_count": 58,
   "metadata": {},
   "outputs": [],
   "source": [
    "#149 - best time to buy and sell stock\n",
    "def maxProfit(prices):\n",
    "    if not prices:\n",
    "        return 0\n",
    "    \n",
    "    ans, minp, maxp = 0,sys.maxsize,-sys.maxsize - 1\n",
    "    for p in prices:\n",
    "        if p < minp:\n",
    "            minp = p\n",
    "            maxp = p\n",
    "        elif p > maxp:\n",
    "            ans = max(ans, p - minp)\n",
    "            maxp = p\n",
    "        \n",
    "    return ans"
   ]
  },
  {
   "cell_type": "code",
   "execution_count": 61,
   "metadata": {},
   "outputs": [
    {
     "name": "stdout",
     "output_type": "stream",
     "text": [
      "1\n"
     ]
    }
   ],
   "source": [
    "print(maxProfit([3, 2, 3, 1, 2]))"
   ]
  },
  {
   "cell_type": "code",
   "execution_count": 66,
   "metadata": {},
   "outputs": [],
   "source": [
    "#150 - best time to buy and sell stock II - as much trade as you can - greedy\n",
    "def maxProfit(prices):\n",
    "    ans = 0\n",
    "    for i in range(len(prices) - 1):\n",
    "        if prices[i] >= prices[i + 1]:\n",
    "            continue\n",
    "        \n",
    "        ans += prices[i + 1] - prices[i]\n",
    "    \n",
    "    return ans"
   ]
  },
  {
   "cell_type": "code",
   "execution_count": 68,
   "metadata": {},
   "outputs": [
    {
     "name": "stdout",
     "output_type": "stream",
     "text": [
      "0\n"
     ]
    }
   ],
   "source": [
    "print(maxProfit([4,3,2,1]))"
   ]
  },
  {
   "cell_type": "code",
   "execution_count": null,
   "metadata": {},
   "outputs": [],
   "source": [
    "#151 - best time to buy and sell stock II - as much as twice trade\n",
    "def maxProfit(prices):\n",
    "    if not prices:\n",
    "        return 0\n",
    "    \n",
    "    ans, minp, maxp = 0,sys.maxsize,-sys.maxsize - 1\n",
    "    for p in prices:\n",
    "        if p < minp:\n",
    "            minp = p\n",
    "            maxp = p\n",
    "        elif p > maxp:\n",
    "            ans = max(ans, p - minp)\n",
    "            maxp = p\n",
    "    \n",
    "    rmin, rmax =  "
   ]
  }
 ],
 "metadata": {
  "kernelspec": {
   "display_name": "Python 3",
   "language": "python",
   "name": "python3"
  },
  "language_info": {
   "codemirror_mode": {
    "name": "ipython",
    "version": 3
   },
   "file_extension": ".py",
   "mimetype": "text/x-python",
   "name": "python",
   "nbconvert_exporter": "python",
   "pygments_lexer": "ipython3",
   "version": "3.7.4"
  }
 },
 "nbformat": 4,
 "nbformat_minor": 4
}
