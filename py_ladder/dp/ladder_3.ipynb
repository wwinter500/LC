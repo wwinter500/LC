{
 "cells": [
  {
   "cell_type": "code",
   "execution_count": 33,
   "metadata": {},
   "outputs": [],
   "source": [
    "# index_dp with status\n",
    "import sys\n",
    "def minCostII(costs):#O(n*k*k)\n",
    "    if not costs or not costs[0]:\n",
    "        return 0\n",
    "\n",
    "    n,k = len(costs), len(costs[0])\n",
    "    pre = [0 for j in range(k)]\n",
    "    cur = [0 for j in range(k)]\n",
    "  \n",
    "    for i in range(k):\n",
    "        pre[i] = costs[0][i]\n",
    "    \n",
    "    for i in range(1, n):\n",
    "        for j in range(k):\n",
    "            cur[j] = sys.maxsize\n",
    "            for t in range(k):\n",
    "                if j != t:\n",
    "                    cur[j] = min(cur[j], pre[t] + costs[i][j])\n",
    "                    \n",
    "        for j in range(k):\n",
    "            pre[j] = cur[j]\n",
    "    \n",
    "    return min(cur)"
   ]
  },
  {
   "cell_type": "code",
   "execution_count": null,
   "metadata": {},
   "outputs": [],
   "source": [
    "def minCostII(costs):#O(n*k)\n",
    "    if not costs or not costs[0]:\n",
    "        return 0\n",
    "    \n",
    "    \n",
    "    "
   ]
  },
  {
   "cell_type": "code",
   "execution_count": 34,
   "metadata": {},
   "outputs": [
    {
     "name": "stdout",
     "output_type": "stream",
     "text": [
      "10\n"
     ]
    }
   ],
   "source": [
    "print(minCostII(\n",
    "    [[14,2,11],\n",
    "     [11,14,5],\n",
    "     [14,3,10]\n",
    "    ]))"
   ]
  },
  {
   "cell_type": "code",
   "execution_count": null,
   "metadata": {},
   "outputs": [],
   "source": []
  }
 ],
 "metadata": {
  "kernelspec": {
   "display_name": "Python 3",
   "language": "python",
   "name": "python3"
  },
  "language_info": {
   "codemirror_mode": {
    "name": "ipython",
    "version": 3
   },
   "file_extension": ".py",
   "mimetype": "text/x-python",
   "name": "python",
   "nbconvert_exporter": "python",
   "pygments_lexer": "ipython3",
   "version": "3.7.4"
  }
 },
 "nbformat": 4,
 "nbformat_minor": 4
}
