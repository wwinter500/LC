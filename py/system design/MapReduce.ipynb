{
 "cells": [
  {
   "cell_type": "code",
   "execution_count": 2,
   "metadata": {},
   "outputs": [],
   "source": [
    "#Map-Reduce\n",
    "#499 - word count\n",
    "class WordCount:\n",
    "    def mapper(self, _, line):\n",
    "        for w in line.split(\" \"):\n",
    "            yield word, 1\n",
    "            \n",
    "    def reducer(self, key, values):\n",
    "        yield key, sum(values)"
   ]
  },
  {
   "cell_type": "code",
   "execution_count": 12,
   "metadata": {},
   "outputs": [],
   "source": [
    "class NGram:\n",
    "    def mapper(self, _, n, string):\n",
    "        for i in range(n, len(string) + 1):\n",
    "            yield string[i - n:i], 1\n",
    "            \n",
    "    def reducer(self, key, values):\n",
    "        yield key, sum(values)"
   ]
  },
  {
   "cell_type": "code",
   "execution_count": 13,
   "metadata": {},
   "outputs": [
    {
     "name": "stdout",
     "output_type": "stream",
     "text": [
      "('abc', 1)\n"
     ]
    }
   ],
   "source": [
    "obj = NGram()\n",
    "print(next(obj.mapper(_,3,\"abcabc\")))"
   ]
  },
  {
   "cell_type": "code",
   "execution_count": 14,
   "metadata": {},
   "outputs": [],
   "source": [
    "#sort integers\n",
    "class SortIntegers:\n",
    "    def mapper(self, _, nums):\n",
    "        for v in nums:\n",
    "            yield v / 10000, v\n",
    "        \n",
    "    def reducer(self, key, values):\n",
    "        values.sort()\n",
    "        yield key, values"
   ]
  },
  {
   "cell_type": "code",
   "execution_count": 1,
   "metadata": {},
   "outputs": [
    {
     "ename": "IndentationError",
     "evalue": "expected an indented block (<ipython-input-1-33c4dc38c49d>, line 5)",
     "output_type": "error",
     "traceback": [
      "\u001b[1;36m  File \u001b[1;32m\"<ipython-input-1-33c4dc38c49d>\"\u001b[1;36m, line \u001b[1;32m5\u001b[0m\n\u001b[1;33m    def reducer(self, key, values):\u001b[0m\n\u001b[1;37m      ^\u001b[0m\n\u001b[1;31mIndentationError\u001b[0m\u001b[1;31m:\u001b[0m expected an indented block\n"
     ]
    }
   ],
   "source": [
    "from Mr_tools import Document\n",
    "class GoogleSuggestion:\n",
    "    def mapper(self, _, value):\n",
    "\n",
    "    def reducer(self, key, values):\n",
    "        "
   ]
  },
  {
   "cell_type": "code",
   "execution_count": 2,
   "metadata": {},
   "outputs": [],
   "source": [
    "#504 revered index\n",
    "class InvertedIndex:\n",
    "    def mapper(self, _, value):\n",
    "        for w in value.content.split():\n",
    "            yield w, value.id\n",
    "        \n",
    "    def reducer(self, key, values):\n",
    "        yield key, sorted(list(set(values)))"
   ]
  },
  {
   "cell_type": "code",
   "execution_count": null,
   "metadata": {},
   "outputs": [],
   "source": [
    "#503 - anagram\n",
    "class Anagram:\n",
    "    def mapper(self, _, line):\n",
    "        for w in line.split():\n",
    "            yield ''.join(sorted(w)), w\n",
    "\n",
    "    def reducer(self, key, values):\n",
    "        yield key, list(values)"
   ]
  }
 ],
 "metadata": {
  "kernelspec": {
   "display_name": "Python 3",
   "language": "python",
   "name": "python3"
  },
  "language_info": {
   "codemirror_mode": {
    "name": "ipython",
    "version": 3
   },
   "file_extension": ".py",
   "mimetype": "text/x-python",
   "name": "python",
   "nbconvert_exporter": "python",
   "pygments_lexer": "ipython3",
   "version": "3.7.4"
  }
 },
 "nbformat": 4,
 "nbformat_minor": 4
}
