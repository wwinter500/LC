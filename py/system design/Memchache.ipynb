{
 "cells": [
  {
   "cell_type": "code",
   "execution_count": null,
   "metadata": {},
   "outputs": [],
   "source": [
    "#538 - memcache: post get put delete\n",
    "class Memcache:\n",
    "    def __init__(self):\n",
    "        self.db = {}\n",
    "        \n",
    "    def get(self, curtTime, key):\n",
    "        if key not in self.db.keys():\n",
    "            return 2147483647\n",
    "        \n",
    "        self.db[key][1] = curtTime\n",
    "        return self.db[key][0]\n",
    "\n",
    "    def set(self, curtTime, key, value, ttl):\n",
    "        self.db[key] = (value, curtTime, ttl)\n",
    "            \n",
    "    def delete(self, curtTime, key):\n",
    "        if key not in self.db.keys():\n",
    "            return\n",
    "        \n",
    "        del self.db[key]\n",
    "\n",
    "    def incr(self, curtTime, key, delta):\n",
    "        if key not in self.db.keys() or curtTime - self.db[key][1] > self.db[key][2]:\n",
    "            return 2147483647\n",
    "        \n",
    "        self.db[key][0] += delta\n",
    "        self.db[key][1] = curtTime\n",
    "        return self.db[key][0]\n",
    "            \n",
    "    def decr(self, curtTime, key, delta):\n",
    "        if key not in self.db.keys() or curtTime - self.db[key][1] > self.db[key][2]:\n",
    "            return 2147483647\n",
    "        \n",
    "        self.db[key][0] -= delta\n",
    "        self.db[key][1] = curtTime\n",
    "        return self.db[key][0]\n",
    "\n"
   ]
  }
 ],
 "metadata": {
  "kernelspec": {
   "display_name": "Python 3",
   "language": "python",
   "name": "python3"
  },
  "language_info": {
   "codemirror_mode": {
    "name": "ipython",
    "version": 3
   },
   "file_extension": ".py",
   "mimetype": "text/x-python",
   "name": "python",
   "nbconvert_exporter": "python",
   "pygments_lexer": "ipython3",
   "version": "3.7.4"
  }
 },
 "nbformat": 4,
 "nbformat_minor": 4
}
