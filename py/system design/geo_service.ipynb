{
 "cells": [
  {
   "cell_type": "code",
   "execution_count": 1,
   "metadata": {},
   "outputs": [],
   "source": [
    "#geohash\n",
    "#latitude, longtitude -> hashvalue\n",
    "class GeoHash:\n",
    "    def encode(self, latitude, longitude, precision):\n",
    "        _base32 = \"0123456789bcdefghjkmnpqrstuvwxyz\"\n",
    "        lat_bin = self.get_bin(latitude, -90, 90)\n",
    "        lng_bin = self.get_bin(longitude, -180, 180)\n",
    "        \n",
    "        hash_code, b = '', ''\n",
    "        for i in range(30):\n",
    "            b += lng_bin[i] + lat_bin[i]\n",
    "\n",
    "        for i in range(0, 60, 5):\n",
    "            hash_code += _base32[int(b[i:i + 5], 2)]\n",
    "\n",
    "        return hash_code[:precision]\n",
    "            \n",
    "\n",
    "    def get_bin(self, value, left, right):\n",
    "        b = ''\n",
    "        for i in range(30):\n",
    "            mid = (left + right) / 2.0\n",
    "            if value > mid:\n",
    "                left = mid\n",
    "                b += '1'\n",
    "            else:\n",
    "                right = mid\n",
    "                b += '0'\n",
    "        return b"
   ]
  },
  {
   "cell_type": "code",
   "execution_count": 7,
   "metadata": {},
   "outputs": [
    {
     "data": {
      "text/plain": [
       "[39.92706298828125, 116.3946533203125]"
      ]
     },
     "execution_count": 7,
     "metadata": {},
     "output_type": "execute_result"
    }
   ],
   "source": [
    "#geohash II\n",
    "#hashvalue -> latitude, longtitude\n",
    "class GeoHash:\n",
    "    def decode(self, geohash):\n",
    "        _base32 = \"0123456789bcdefghjkmnpqrstuvwxyz\"\n",
    "        b = \"\"\n",
    "        for c in geohash:\n",
    "            tmp = '{0:05b}'.format(_base32.find(c))#1 conver to binary\n",
    "            b += tmp\n",
    "        \n",
    "        odd = ''.join([b[i] for i in range(0, len(b), 2)])#2 seperate\n",
    "        even = ''.join([b[i] for i in range(1, len(b), 2)])\n",
    "        \n",
    "        location = []\n",
    "        location.append(self.get_location(-90.0, 90.0, even))\n",
    "        location.append(self.get_location(-180.0, 180.0, odd))\n",
    "        return location\n",
    "    \n",
    "    def get_location(self, start, end, string):\n",
    "        for c in string:\n",
    "            mid = (start + end) / 2.0\n",
    "            if c == '1':\n",
    "                start = mid\n",
    "            else:\n",
    "                end = mid\n",
    "        return (start + end) / 2.0\n",
    "\n",
    "slt = GeoHash()\n",
    "slt.decode(\"wx4g0s\")\n"
   ]
  },
  {
   "cell_type": "code",
   "execution_count": null,
   "metadata": {},
   "outputs": [],
   "source": []
  }
 ],
 "metadata": {
  "kernelspec": {
   "display_name": "Python 3",
   "language": "python",
   "name": "python3"
  },
  "language_info": {
   "codemirror_mode": {
    "name": "ipython",
    "version": 3
   },
   "file_extension": ".py",
   "mimetype": "text/x-python",
   "name": "python",
   "nbconvert_exporter": "python",
   "pygments_lexer": "ipython3",
   "version": "3.8.3"
  }
 },
 "nbformat": 4,
 "nbformat_minor": 4
}
