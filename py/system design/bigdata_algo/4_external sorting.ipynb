{
 "cells": [
  {
   "cell_type": "code",
   "execution_count": 1,
   "metadata": {},
   "outputs": [],
   "source": [
    "#486\n",
    "def mergekSortedArrays(self, arrays):\n",
    "    ans,pq = [],[]\n",
    "    sums = 0\n",
    "    for i in range(len(arrays)):\n",
    "        if not arrays[i]:\n",
    "            continue\n",
    "\n",
    "        sums += len(arrays[i])\n",
    "        pq.append([arrays[i][0], i, 0])\n",
    "\n",
    "    heapq.heapify(pq)\n",
    "    while pq:\n",
    "        val, row, col = pq[0][0], pq[0][1], pq[0][2]\n",
    "        if col < len(arrays[row]) - 1:\n",
    "            heapq.heappush(pq, [arrays[row][col + 1], row, col + 1])\n",
    "\n",
    "        ans.append(heapq.heappop(pq)[0])\n",
    "\n",
    "    return ans"
   ]
  },
  {
   "cell_type": "code",
   "execution_count": 2,
   "metadata": {},
   "outputs": [],
   "source": [
    "#104 - merge k linked lists\n",
    "def mergeKLists(self, lists):\n",
    "    head = ListNode(-1)\n",
    "    queue = []\n",
    "    for i, node in enumerate(lists):\n",
    "        if node:\n",
    "            queue.append((node.val, node))\n",
    "\n",
    "\n",
    "    heapq.heapify(queue)\n",
    "    cp = head\n",
    "    while queue:\n",
    "        val, node = heapq.heappop(queue)\n",
    "        cp.next = node\n",
    "        cp = cp.next\n",
    "        if node.next:\n",
    "            heapq.heappush(queue, (node.next.val, node.next))\n",
    "\n",
    "    return head.next"
   ]
  },
  {
   "cell_type": "code",
   "execution_count": null,
   "metadata": {},
   "outputs": [],
   "source": [
    "#577 - merge k sorted interval lists\n",
    "def mergeKSortedIntervalLists(self, intervals):\n",
    "    res,queue = [], []\n",
    "    for i in range(len(intervals)):\n",
    "        if intervals[i]: \n",
    "            queue.append((intervals[i][0].start, intervals[i][0].end, i, 0))\n",
    "\n",
    "    heapq.heapify(queue)\n",
    "    while queue:\n",
    "        start, end, idx, pos = heapq.heappop(queue)\n",
    "        if not res or res[-1].end < start:\n",
    "            res.append(Interval(start, end))\n",
    "        else:\n",
    "            res[-1].end = max(res[-1].end, end)\n",
    "\n",
    "        if pos + 1 < len(intervals[idx]):\n",
    "            heapq.heappush(queue,(intervals[idx][pos + 1].start, intervals[idx][pos + 1].end, idx, pos + 1))\n",
    "\n",
    "    return res"
   ]
  }
 ],
 "metadata": {
  "kernelspec": {
   "display_name": "Python 3",
   "language": "python",
   "name": "python3"
  },
  "language_info": {
   "codemirror_mode": {
    "name": "ipython",
    "version": 3
   },
   "file_extension": ".py",
   "mimetype": "text/x-python",
   "name": "python",
   "nbconvert_exporter": "python",
   "pygments_lexer": "ipython3",
   "version": "3.7.4"
  }
 },
 "nbformat": 4,
 "nbformat_minor": 4
}
