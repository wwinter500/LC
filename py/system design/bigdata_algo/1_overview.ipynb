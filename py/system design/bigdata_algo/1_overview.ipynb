{
 "cells": [
  {
   "cell_type": "code",
   "execution_count": 1,
   "metadata": {},
   "outputs": [],
   "source": [
    "#793 - intersection of two array\n",
    "def intersectionOfArrays(arrs):\n",
    "    size = 500001\n",
    "    cnts = [0] * size\n",
    "    for arr in arrs:\n",
    "        for val in arr:\n",
    "            cnts[val] += 1\n",
    "\n",
    "    re = 0\n",
    "    n = len(arrs)\n",
    "    for val in range(size):\n",
    "        if cnts[val] == n:\n",
    "            re += 1\n",
    "    return re"
   ]
  },
  {
   "cell_type": "code",
   "execution_count": 2,
   "metadata": {},
   "outputs": [],
   "source": [
    "#500 - inverted index [word - doc index]\n",
    "class docu():\n",
    "    def __init__(self):\n",
    "        self.content = None\n",
    "        self.id = -1\n",
    "        \n",
    "def invertedIndex(self, docs):\n",
    "    dt = {}\n",
    "    for doc in docs:\n",
    "        for w in doc.content.split():\n",
    "            if w not in dt.keys():\n",
    "                dt[w] = [doc.id]\n",
    "            else:\n",
    "                if dt[w][-1] != doc.id:\n",
    "                    dt[w].append(doc.id)\n",
    "\n",
    "    return dt\n"
   ]
  },
  {
   "cell_type": "code",
   "execution_count": null,
   "metadata": {},
   "outputs": [],
   "source": []
  }
 ],
 "metadata": {
  "kernelspec": {
   "display_name": "Python 3",
   "language": "python",
   "name": "python3"
  },
  "language_info": {
   "codemirror_mode": {
    "name": "ipython",
    "version": 3
   },
   "file_extension": ".py",
   "mimetype": "text/x-python",
   "name": "python",
   "nbconvert_exporter": "python",
   "pygments_lexer": "ipython3",
   "version": "3.7.4"
  }
 },
 "nbformat": 4,
 "nbformat_minor": 4
}
