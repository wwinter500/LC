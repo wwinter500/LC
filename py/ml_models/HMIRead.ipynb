{
 "cells": [
  {
   "cell_type": "code",
   "execution_count": 79,
   "metadata": {},
   "outputs": [],
   "source": [
    "import sys\n",
    "import struct\n",
    "from PIL import Image\n",
    "def readDataFromDDF(ddf):\n",
    "    with open(ddf,'rb') as f:\n",
    "        channels = 3\n",
    "        \n",
    "        #get defect number\n",
    "        f.seek(80, 0)\n",
    "        defs = int.from_bytes(f.read(1), byteorder='big')\n",
    "        print(\"Defect Count: \", defs)\n",
    "        if defs <= 0:\n",
    "            print(\"Broken file to get defects number\")\n",
    "            return\n",
    "        \n",
    "        #get defect size\n",
    "        f.seek(0, 0)\n",
    "        imgM = f.read(4).decode(\"utf-8\") \n",
    "        if imgM == \"HMIU\":\n",
    "            imgw = 32\n",
    "        elif imgM == \"HMIV\":\n",
    "            imgw = 64\n",
    "        elif imgM == \"HMIW\":\n",
    "            imgw = 128\n",
    "        elif imgM == \"HMIX\":\n",
    "            imgw = 192\n",
    "        elif imgM == \"HMIY\":\n",
    "            imgw = 256\n",
    "        elif imgM == \"HMIZ\":\n",
    "            imgw = 512\n",
    "        print(\"Defect Size: \", imgw)\n",
    "        \n",
    "        #\n",
    "        save_to_img = True\n",
    "        buff = []\n",
    "        f.seek(1024, 0)#skip 1k head\n",
    "        for imgIdx in range(defs):\n",
    "            seg = []\n",
    "            for ichannel in range(channels):\n",
    "                piece = []\n",
    "                for ipixel in range(imgw * imgw):\n",
    "                    piece.append(int.from_bytes(f.read(1), byteorder='big'))\n",
    "                \n",
    "                if save_to_img:\n",
    "                    new_img = Image.new(\"L\", (imgw, imgw), \"white\")\n",
    "                    new_img.putdata(piece)\n",
    "                    new_img.save('data/%d_%d_def.jpg' % (imgIdx, ichannel))\n",
    "                else:\n",
    "                    seg.append(piece)\n",
    "            if not save_to_img:\n",
    "                buff.append(seg)\n",
    "    return\n",
    "        "
   ]
  },
  {
   "cell_type": "code",
   "execution_count": 80,
   "metadata": {},
   "outputs": [
    {
     "name": "stdout",
     "output_type": "stream",
     "text": [
      "Defect Count:  130\n",
      "Defect Size:  64\n"
     ]
    }
   ],
   "source": [
    "cont = readDataFromDDF(\"./SetLine.ddf\")"
   ]
  },
  {
   "cell_type": "code",
   "execution_count": 18,
   "metadata": {},
   "outputs": [],
   "source": [
    "import xml.etree.ElementTree as ET\n",
    "def readLabelFromDZF(dzf):\n",
    "    root = ET.parse(dzf).getroot()\n",
    "    #print(root.tag)\n",
    "    #print(root.attrib)\n",
    "    \n",
    "    defs = root.find(\"Test\").find('DefectList')\n",
    "    defslist = []\n",
    "    for d in defs.findall('Defect'):\n",
    "        defslist.append([d.attrib['Index'], d.attrib['ImageID'],d.attrib['ReviewType']])\n",
    "    \n",
    "    #print(defslist)\n",
    "    with open('defectList.md', 'w') as handler:\n",
    "        handler.writelines(\"%s\\n\" % df for df in defslist)\n",
    "    return"
   ]
  },
  {
   "cell_type": "code",
   "execution_count": 19,
   "metadata": {},
   "outputs": [],
   "source": [
    "info = readLabelFromDZF(\"./SetLine.dzf\")\n"
   ]
  },
  {
   "cell_type": "code",
   "execution_count": null,
   "metadata": {},
   "outputs": [],
   "source": []
  }
 ],
 "metadata": {
  "kernelspec": {
   "display_name": "Python 3",
   "language": "python",
   "name": "python3"
  },
  "language_info": {
   "codemirror_mode": {
    "name": "ipython",
    "version": 3
   },
   "file_extension": ".py",
   "mimetype": "text/x-python",
   "name": "python",
   "nbconvert_exporter": "python",
   "pygments_lexer": "ipython3",
   "version": "3.7.3"
  }
 },
 "nbformat": 4,
 "nbformat_minor": 2
}
