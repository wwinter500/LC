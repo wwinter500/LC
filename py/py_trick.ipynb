{
 "cells": [
  {
   "cell_type": "code",
   "execution_count": 1,
   "metadata": {},
   "outputs": [
    {
     "name": "stdout",
     "output_type": "stream",
     "text": [
      "[(1, 1), (2, 5), (4, 4), (4, 6), (4, 7)]\n",
      "[(4, 7), (4, 6), (2, 5), (4, 4), (1, 1)]\n",
      "[(1, 1), (2, 5), (4, 6), (4, 7), (4, 4)]\n",
      "[(4, 7), (4, 6), (2, 5), (4, 4), (1, 1)]\n"
     ]
    }
   ],
   "source": [
    "#sort lambda\n",
    "arr = [(4,6),(4,7),(4,4),(2,5),(1,1)]\n",
    "print(sorted(arr))\n",
    "\n",
    "print(sorted(arr, key = lambda x:x[1], reverse=True))\n",
    "import functools\n",
    "def cmp_arr(a, b):\n",
    "    if a[0] < b[0]:\n",
    "        return -1\n",
    "    elif a[0] == b[0]:\n",
    "        if a[1] < b[1]:\n",
    "            return 1\n",
    "        else:\n",
    "            return 1\n",
    "    else:\n",
    "        return -1\n",
    "print(sorted(arr, key=functools.cmp_to_key(cmp_arr)))\n",
    "from functools import cmp_to_key\n",
    "dic={'and':2,'are':2,'the':4,'is':2,'it':3,'you':3,'a':1}\n",
    "def cmp(a,b):\n",
    "    if a[1] < b[1]:\n",
    "        return 1\n",
    "    elif a[1]>b[1]:\n",
    "        return -1\n",
    "    else:\n",
    "        if a[0] > b[0]:\n",
    "            return 1\n",
    "        else:\n",
    "            return -1\n",
    "ls=sorted(arr,key = cmp_to_key(cmp))\n",
    "print(ls)"
   ]
  },
  {
   "cell_type": "code",
   "execution_count": 2,
   "metadata": {},
   "outputs": [
    {
     "name": "stdout",
     "output_type": "stream",
     "text": [
      "20\n"
     ]
    }
   ],
   "source": [
    "a = 20\n",
    "print((a | 32) ^ 32)"
   ]
  },
  {
   "cell_type": "code",
   "execution_count": 33,
   "metadata": {},
   "outputs": [
    {
     "name": "stdout",
     "output_type": "stream",
     "text": [
      "-0.4472135954999579\n",
      "2.0344439357957027\n",
      "116.56505117707799\n",
      "116.56505117707799\n"
     ]
    }
   ],
   "source": [
    "import math\n",
    "pa = (-10, 20)\n",
    "pb = (0, 0)\n",
    "\n",
    "va= (pa[0] - pb[0], pa[1] - pb[1])\n",
    "vb = (1, 0)\n",
    "\n",
    "cosa = (va[0]*vb[0] + va[1]*vb[1]) / math.sqrt((va[0]**2 + va[1]**2) * (vb[0]**2 + vb[1]**2))\n",
    "cross = (va[0]*vb[1] - va[1]*vb[0])\n",
    "print(cosa)\n",
    "acos = math.acos(cosa)\n",
    "print(acos)\n",
    "angle = math.degrees(acos)\n",
    "print(angle)\n",
    "\n",
    "res = angle if cross < 0 else 360 - angle\n",
    "print(res)"
   ]
  },
  {
   "cell_type": "code",
   "execution_count": null,
   "metadata": {},
   "outputs": [],
   "source": []
  },
  {
   "cell_type": "code",
   "execution_count": null,
   "metadata": {},
   "outputs": [],
   "source": []
  }
 ],
 "metadata": {
  "kernelspec": {
   "display_name": "Python 3",
   "language": "python",
   "name": "python3"
  },
  "language_info": {
   "codemirror_mode": {
    "name": "ipython",
    "version": 3
   },
   "file_extension": ".py",
   "mimetype": "text/x-python",
   "name": "python",
   "nbconvert_exporter": "python",
   "pygments_lexer": "ipython3",
   "version": "3.7.4"
  }
 },
 "nbformat": 4,
 "nbformat_minor": 4
}
