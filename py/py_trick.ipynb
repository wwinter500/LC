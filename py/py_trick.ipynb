{
 "cells": [
  {
   "cell_type": "code",
   "execution_count": 33,
   "metadata": {},
   "outputs": [
    {
     "name": "stdout",
     "output_type": "stream",
     "text": [
      "[(1, 1), (2, 5), (4, 4), (4, 6), (4, 7)]\n",
      "[(4, 7), (4, 6), (2, 5), (4, 4), (1, 1)]\n",
      "[(1, 1), (2, 5), (4, 6), (4, 7), (4, 4)]\n",
      "[(4, 7), (4, 6), (2, 5), (4, 4), (1, 1)]\n"
     ]
    }
   ],
   "source": [
    "#sort lambda\n",
    "arr = [(4,6),(4,7),(4,4),(2,5),(1,1)]\n",
    "print(sorted(arr))\n",
    "\n",
    "print(sorted(arr, key = lambda x:x[1], reverse=True))\n",
    "import functools\n",
    "def cmp_arr(a, b):\n",
    "    if a[0] < b[0]:\n",
    "        return -1\n",
    "    elif a[0] == b[0]:\n",
    "        if a[1] < b[1]:\n",
    "            return 1\n",
    "        else:\n",
    "            return 1\n",
    "    else:\n",
    "        return -1\n",
    "print(sorted(arr, key=functools.cmp_to_key(cmp_arr)))\n",
    "from functools import cmp_to_key\n",
    "dic={'and':2,'are':2,'the':4,'is':2,'it':3,'you':3,'a':1}\n",
    "def cmp(a,b):\n",
    "    if a[1] < b[1]:\n",
    "        return 1\n",
    "    elif a[1]>b[1]:\n",
    "        return -1\n",
    "    else:\n",
    "        if a[0] > b[0]:\n",
    "            return 1\n",
    "        else:\n",
    "            return -1\n",
    "ls=sorted(arr,key = cmp_to_key(cmp))\n",
    "print(ls)"
   ]
  },
  {
   "cell_type": "code",
   "execution_count": 30,
   "metadata": {},
   "outputs": [
    {
     "name": "stdout",
     "output_type": "stream",
     "text": [
      "[(4, 7), (4, 6), (2, 5), (4, 4), (1, 1)]\n"
     ]
    }
   ],
   "source": []
  },
  {
   "cell_type": "code",
   "execution_count": 31,
   "metadata": {},
   "outputs": [
    {
     "name": "stdout",
     "output_type": "stream",
     "text": [
      "[(1, 1), (2, 5), (4, 6), (4, 7), (4, 4)]\n"
     ]
    }
   ],
   "source": []
  },
  {
   "cell_type": "code",
   "execution_count": 32,
   "metadata": {},
   "outputs": [
    {
     "name": "stdout",
     "output_type": "stream",
     "text": [
      "[(4, 7), (4, 6), (2, 5), (4, 4), (1, 1)]\n"
     ]
    }
   ],
   "source": []
  },
  {
   "cell_type": "code",
   "execution_count": null,
   "metadata": {},
   "outputs": [],
   "source": []
  }
 ],
 "metadata": {
  "kernelspec": {
   "display_name": "Python 3",
   "language": "python",
   "name": "python3"
  },
  "language_info": {
   "codemirror_mode": {
    "name": "ipython",
    "version": 3
   },
   "file_extension": ".py",
   "mimetype": "text/x-python",
   "name": "python",
   "nbconvert_exporter": "python",
   "pygments_lexer": "ipython3",
   "version": "3.7.4"
  }
 },
 "nbformat": 4,
 "nbformat_minor": 4
}
