{
 "cells": [
  {
   "cell_type": "code",
   "execution_count": 110,
   "metadata": {},
   "outputs": [
    {
     "ename": "SyntaxError",
     "evalue": "invalid syntax (<ipython-input-110-dedf3f54f17c>, line 44)",
     "output_type": "error",
     "traceback": [
      "\u001b[1;36m  File \u001b[1;32m\"<ipython-input-110-dedf3f54f17c>\"\u001b[1;36m, line \u001b[1;32m44\u001b[0m\n\u001b[1;33m    if length > len(lowstr)\u001b[0m\n\u001b[1;37m                           ^\u001b[0m\n\u001b[1;31mSyntaxError\u001b[0m\u001b[1;31m:\u001b[0m invalid syntax\n"
     ]
    }
   ],
   "source": [
    "#find sequentila valuse between low and high\n",
    "def sequentialDigits2(low, high): #incorrect\n",
    "    lowstr,highstr = str(low), str(high)\n",
    "    head = (int)(lowstr[0]) \n",
    "    \n",
    "    st = set()\n",
    "    ans = []\n",
    "    while True:\n",
    "        headstr = str(head)\n",
    "        valstr = str(head)[0]\n",
    "        dig = (int)(valstr)\n",
    "        length = len(lowstr) + len(headstr) - 2\n",
    "        \n",
    "        valid = True\n",
    "        for i in range(length):\n",
    "            dig += 1\n",
    "            if dig >= 10:\n",
    "                valid = False\n",
    "                break\n",
    "                \n",
    "            valstr += str(dig)\n",
    "            \n",
    "        if valid:\n",
    "            val = (int)(valstr)\n",
    "            if val < low:\n",
    "                continue\n",
    "            if val > high:\n",
    "                break\n",
    "            \n",
    "            if val not in st:\n",
    "                st.add(val)\n",
    "                ans.append(val)\n",
    "                \n",
    "        head += 1 * len(headstr)\n",
    "    \n",
    "    return ans\n",
    "\n",
    "def sequentialDigits(low, high):\n",
    "    lowstr, highstr = str(low), str(high)\n",
    "    head = (int)(lowstr[0])\n",
    "    \n",
    "    ans = []\n",
    "    for length in range(len(lowstr), len(highstr) + 1):\n",
    "        if length > len(lowstr):\n",
    "            head = 1\n",
    "            \n",
    "        while head < 10 and length <= (9 - head + 1):\n",
    "            val = 0\n",
    "            for i in range(length):\n",
    "                val *= 10\n",
    "                val += head + i\n",
    "            \n",
    "            if val > high:\n",
    "                break\n",
    "            \n",
    "            if val >= low:\n",
    "                ans.append(val)\n",
    "            head += 1\n",
    "\n",
    "    return ans "
   ]
  },
  {
   "cell_type": "code",
   "execution_count": 111,
   "metadata": {},
   "outputs": [
    {
     "name": "stdout",
     "output_type": "stream",
     "text": [
      "[12, 23, 34, 45, 56, 67, 78, 89, 123, 234, 345, 456, 567, 678, 789, 1234, 2345, 3456, 4567, 5678, 6789, 12345, 23456, 34567, 45678, 56789, 123456, 234567, 345678, 456789, 1234567, 2345678, 3456789, 12345678, 23456789, 123456789]\n"
     ]
    }
   ],
   "source": [
    "print(sequentialDigits(10, 1000000000))"
   ]
  },
  {
   "cell_type": "code",
   "execution_count": null,
   "metadata": {},
   "outputs": [],
   "source": []
  },
  {
   "cell_type": "code",
   "execution_count": null,
   "metadata": {},
   "outputs": [],
   "source": []
  }
 ],
 "metadata": {
  "kernelspec": {
   "display_name": "Python 3",
   "language": "python",
   "name": "python3"
  },
  "language_info": {
   "codemirror_mode": {
    "name": "ipython",
    "version": 3
   },
   "file_extension": ".py",
   "mimetype": "text/x-python",
   "name": "python",
   "nbconvert_exporter": "python",
   "pygments_lexer": "ipython3",
   "version": "3.7.3"
  }
 },
 "nbformat": 4,
 "nbformat_minor": 2
}
