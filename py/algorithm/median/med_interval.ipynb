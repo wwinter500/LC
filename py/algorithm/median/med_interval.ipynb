{
 "cells": [
  {
   "cell_type": "code",
   "execution_count": 11,
   "metadata": {},
   "outputs": [],
   "source": [
    "class Interval:\n",
    "    def __init__(self, s, e):\n",
    "        self.start = s\n",
    "        self.end = e\n",
    "        \n",
    "def merge(intervals):\n",
    "    if intervals == []:\n",
    "        return \n",
    "    \n",
    "    ans, sq = [], []\n",
    "    for rang in intervals:\n",
    "        sq.append([rang.start, 0])\n",
    "        sq.append([rang.end, 1])\n",
    "    \n",
    "    sq.sort()\n",
    "    stack = []\n",
    "    for pt in sq:\n",
    "        if stack == [] or pt[1] == 0:\n",
    "            stack.append(pt[0])\n",
    "            continue\n",
    "        \n",
    "        l = stack.pop()\n",
    "        if stack == []:\n",
    "            ans.append(Interval(l, pt[0]))\n",
    "        \n",
    "    return ans"
   ]
  },
  {
   "cell_type": "code",
   "execution_count": 13,
   "metadata": {},
   "outputs": [
    {
     "name": "stdout",
     "output_type": "stream",
     "text": [
      "0 10\n",
      "15 20\n"
     ]
    }
   ],
   "source": [
    "tsq = [[0,8],[5,10],[15,20]]\n",
    "ints = []\n",
    "for lt in tsq:\n",
    "    ints.append(Interval(lt[0], lt[1]))\n",
    "\n",
    "re = merge(ints)\n",
    "for ri in re:\n",
    "    print(ri.start, ri.end)"
   ]
  },
  {
   "cell_type": "code",
   "execution_count": null,
   "metadata": {},
   "outputs": [],
   "source": [
    "#LC452 minimum number of arrow to burst ballon\n",
    "#sort based on end point\n",
    "def findMinArrowShots(self, points: List[List[int]]) -> int:\n",
    "    if not points:\n",
    "        return 0\n",
    "\n",
    "    points.sort(key = lambda x: x[1])\n",
    "    ans = 1\n",
    "    lastend = points[0][1]\n",
    "    for i in  range(1, len(points)):\n",
    "        if points[i][0] > lastend:\n",
    "            ans += 1\n",
    "            lastend = points[i][1]\n",
    "\n",
    "    return ans"
   ]
  }
 ],
 "metadata": {
  "kernelspec": {
   "display_name": "Python 3",
   "language": "python",
   "name": "python3"
  },
  "language_info": {
   "codemirror_mode": {
    "name": "ipython",
    "version": 3
   },
   "file_extension": ".py",
   "mimetype": "text/x-python",
   "name": "python",
   "nbconvert_exporter": "python",
   "pygments_lexer": "ipython3",
   "version": "3.8.3"
  }
 },
 "nbformat": 4,
 "nbformat_minor": 4
}
