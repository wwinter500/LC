{
 "cells": [
  {
   "cell_type": "code",
   "execution_count": 1,
   "metadata": {},
   "outputs": [],
   "source": [
    "#binary tree\n",
    "class TreeNode:\n",
    "    def __init__(self, val):\n",
    "        self.val = val\n",
    "        self.left, self.right = None, None\n",
    "\n"
   ]
  },
  {
   "cell_type": "code",
   "execution_count": 2,
   "metadata": {},
   "outputs": [],
   "source": [
    "#902 k smallest element on bst\n",
    "def kthSmallest(root, k):\n",
    "    \n",
    "    return None\n",
    "    "
   ]
  },
  {
   "cell_type": "code",
   "execution_count": 4,
   "metadata": {},
   "outputs": [],
   "source": [
    "def lowestCommonAncestor3(root, A, B):\n",
    "    if not p or not q:\n",
    "        return None\n",
    "\n",
    "    return self.helper(root, p, q)\n",
    "\n",
    "def helper(self, root, a, b):\n",
    "    if not root:\n",
    "        return None\n",
    "    if root == a or root == b:\n",
    "        return root\n",
    "\n",
    "    ln = self.helper(root.left, a, b)\n",
    "    rn = self.helper(root.right, a, b)\n",
    "\n",
    "    if ln and rn:\n",
    "        return root\n",
    "    elif ln:\n",
    "        return ln\n",
    "    elif rn:\n",
    "        return rn\n",
    "    return None"
   ]
  },
  {
   "cell_type": "code",
   "execution_count": 4,
   "metadata": {},
   "outputs": [],
   "source": [
    "#578 lowest common ancestor\n"
   ]
  },
  {
   "cell_type": "code",
   "execution_count": 6,
   "metadata": {},
   "outputs": [],
   "source": [
    "def inorderPredecessor(root, p):\n",
    "    #return predecessor node of BST\n",
    "    if not root or not p:\n",
    "        return None\n",
    "\n",
    "    node = root\n",
    "    lance, rchild = None, None\n",
    "    while node:\n",
    "        if node == p:\n",
    "            break\n",
    "        elif node.val > p.val:\n",
    "            node = node.left\n",
    "        else:\n",
    "            lance = node\n",
    "            node = node.right\n",
    "    \n",
    "    if not node:\n",
    "        return None\n",
    "    elif not node.right:\n",
    "        return lance\n",
    "    else:\n",
    "        while node and node.right:\n",
    "            node = node.right\n",
    "        rchild = node\n",
    "\n",
    "    if rchild:\n",
    "        return rchild\n",
    "    elif lance:\n",
    "        return lance\n",
    "    else:\n",
    "        return None "
   ]
  },
  {
   "cell_type": "code",
   "execution_count": 1,
   "metadata": {},
   "outputs": [],
   "source": [
    "def inorderSuccessor(root, p):\n",
    "    if not root or not p:\n",
    "        return None\n",
    "    \n",
    "    node = root\n",
    "    rance, lchild = None, None\n",
    "    "
   ]
  },
  {
   "cell_type": "code",
   "execution_count": null,
   "metadata": {},
   "outputs": [],
   "source": [
    "#lc - 1443. Minimum Time to Collect All Apples in a Tree\n",
    "class Solution(object):#bfs + dfs\n",
    "    def minTime(self, n, edges, hasApple):\n",
    "        edge_table = [[] for _ in range(n)] \n",
    "        apple_set = set()\n",
    "        visited = set()\n",
    "        for i, v in enumerate(hasApple):\n",
    "            if v:\n",
    "                apple_set.add(i)\n",
    "            \n",
    "        for edge in edges:\n",
    "            edge_table[edge[0]].append(edge[1])\n",
    "            edge_table[edge[1]].append(edge[0])\n",
    "\n",
    "        res = self.dfs(edge_table, apple_set, visited, 0)\n",
    "        return res - 2 if res > 0 else res\n",
    "    \n",
    "    def dfs(self, edge_table, apples, visited,node):\n",
    "        temp = 0\n",
    "        visited.add(node)\n",
    "        for nxt in edge_table[node]:\n",
    "            if nxt in visited:\n",
    "                continue\n",
    "                \n",
    "            steps = self.dfs(edge_table, apples, visited, nxt)\n",
    "            temp += steps\n",
    "        \n",
    "        if temp != 0 or node in apples:\n",
    "            temp += 2\n",
    "        if node in apples:\n",
    "            apples.remove(node)\n",
    "            \n",
    "        return temp"
   ]
  }
 ],
 "metadata": {
  "kernelspec": {
   "display_name": "Python 3",
   "language": "python",
   "name": "python3"
  },
  "language_info": {
   "codemirror_mode": {
    "name": "ipython",
    "version": 3
   },
   "file_extension": ".py",
   "mimetype": "text/x-python",
   "name": "python",
   "nbconvert_exporter": "python",
   "pygments_lexer": "ipython3",
   "version": "3.8.3"
  }
 },
 "nbformat": 4,
 "nbformat_minor": 4
}
