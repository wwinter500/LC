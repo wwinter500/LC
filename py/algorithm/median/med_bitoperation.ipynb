{
 "cells": [
  {
   "cell_type": "code",
   "execution_count": 21,
   "metadata": {},
   "outputs": [],
   "source": [
    "#83 - single number II\n",
    "def singleNumberII(A):\n",
    "    n = len(A)\n",
    "    one, two = 0, 0\n",
    "    for v in A:\n",
    "        two = two | (one & v)\n",
    "        one = one ^ v\n",
    "        \n",
    "        temp = one & two\n",
    "        two = two ^ temp\n",
    "        one = one ^ temp\n",
    "\n",
    "    return one | two\n",
    "print(singleNumberII([10,10,10,2]))"
   ]
  },
  {
   "cell_type": "code",
   "execution_count": 29,
   "metadata": {},
   "outputs": [],
   "source": [
    "#Prison Cells After N Days\n",
    "def prisonAfterNDays(cells, N):\n",
    "    bits = convert2bits(cells)\n",
    "    for _ in range(N):\n",
    "        bits = (~(bits >> 1) ^ (bits << 1)) & 126\n",
    "        print(bin(bits))\n",
    "        \n",
    "    return convert2arr(bits)\n",
    "\n",
    "def convert2bits(array):\n",
    "    re = 0\n",
    "    bits = 1\n",
    "    n = len(array)\n",
    "    for i in range(n - 1, -1, -1):\n",
    "        if array[i] == 1:\n",
    "            re |= bits\n",
    "        bits = bits << 1\n",
    "    \n",
    "    return re\n",
    "\n",
    "def convert2arr(bits):\n",
    "    ans = []\n",
    "    b = 1 \n",
    "    for _ in range(8):\n",
    "        ans.append(0 if (bits & b == 0) else 1)\n",
    "        b = b << 1\n",
    "    \n",
    "    ans.reverse()\n",
    "    return ans\n",
    "\n",
    "ori = [1,1,0,1,1,0,0,1]\n",
    "#bits = convert2bits(ori)\n",
    "#print(bin(bits))\n",
    "#revised = convert2arr(bits)\n",
    "#print(revised)\n",
    "\n",
    "print(prisonAfterNDays([0,1,0,1,1,0,0,1], 7))"
   ]
  },
  {
   "cell_type": "code",
   "execution_count": null,
   "metadata": {},
   "outputs": [],
   "source": []
  }
 ],
 "metadata": {
  "kernelspec": {
   "display_name": "Python 3",
   "language": "python",
   "name": "python3"
  },
  "language_info": {
   "codemirror_mode": {
    "name": "ipython",
    "version": 3
   },
   "file_extension": ".py",
   "mimetype": "text/x-python",
   "name": "python",
   "nbconvert_exporter": "python",
   "pygments_lexer": "ipython3",
   "version": "3.8.3"
  }
 },
 "nbformat": 4,
 "nbformat_minor": 4
}
