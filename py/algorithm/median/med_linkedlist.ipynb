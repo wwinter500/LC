{
 "cells": [
  {
   "cell_type": "code",
   "execution_count": null,
   "metadata": {},
   "outputs": [],
   "source": [
    "#1292 - Odd Even Linked List\n",
    "def oddEvenList(self, head):\n",
    "    if not head or not head.next or not head.next.next:\n",
    "        return head\n",
    "\n",
    "    oddhead, evenhead = ListNode(0), ListNode(0)\n",
    "    oddhead.next = head\n",
    "    evenhead.next = head.next\n",
    "\n",
    "    odd, even = head, head.next\n",
    "    while True:\n",
    "        if not even or not even.next:\n",
    "            break\n",
    "\n",
    "        tmp = even.next\n",
    "        even.next = tmp.next\n",
    "        odd.next = tmp\n",
    "\n",
    "        even= even.next\n",
    "        odd = odd.next\n",
    "\n",
    "    odd.next = evenhead.next\n",
    "    return oddhead.next"
   ]
  }
 ],
 "metadata": {
  "kernelspec": {
   "display_name": "Python 3",
   "language": "python",
   "name": "python3"
  },
  "language_info": {
   "codemirror_mode": {
    "name": "ipython",
    "version": 3
   },
   "file_extension": ".py",
   "mimetype": "text/x-python",
   "name": "python",
   "nbconvert_exporter": "python",
   "pygments_lexer": "ipython3",
   "version": "3.7.4"
  }
 },
 "nbformat": 4,
 "nbformat_minor": 4
}
