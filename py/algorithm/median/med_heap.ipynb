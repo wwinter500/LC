{
 "cells": [
  {
   "cell_type": "code",
   "execution_count": 1,
   "metadata": {},
   "outputs": [],
   "source": [
    "def heapify(A):\n",
    "    ans = []\n",
    "    for v in A:\n",
    "        ans.append(v)\n",
    "        \n",
    "        idx = len(ans) - 1\n",
    "        par = idx\n",
    "        while par > 0:\n",
    "            tmp = par\n",
    "            if par % 2 == 0:\n",
    "                tmp = (int)((par - 2) / 2)\n",
    "            else:\n",
    "                tmp = (int)((par - 1) / 2)\n",
    "            \n",
    "            if ans[par] < ans[tmp]:\n",
    "                ans[par], ans[tmp] = ans[tmp], ans[par]\n",
    "                par = tmp\n",
    "            else:\n",
    "                break\n",
    "            \n",
    "    return ans"
   ]
  },
  {
   "cell_type": "code",
   "execution_count": 7,
   "metadata": {},
   "outputs": [],
   "source": [
    "import heapq"
   ]
  },
  {
   "cell_type": "code",
   "execution_count": 2,
   "metadata": {},
   "outputs": [],
   "source": [
    "def nthUglyNumber(n):\n",
    "    if n <= 0:\n",
    "        return -1\n",
    "    base = [2,3,5]\n",
    "    pq = Queue.PriorityQueue()\n",
    "    st = set()\n",
    "\n",
    "    pq.put(1)\n",
    "    n -= 1\n",
    "    ans = 1\n",
    "    while n > 0:\n",
    "        v = pq.get()\n",
    "\n",
    "        for b in base:\n",
    "            if v*b in st:\n",
    "                continue\n",
    "\n",
    "            pq.put(v * b)\n",
    "            st.add(v * b)\n",
    "            n -= 1\n",
    "            ans = v * b\n",
    "\n",
    "            if n == 0:\n",
    "                return ans\n",
    "    return ans"
   ]
  },
  {
   "cell_type": "code",
   "execution_count": null,
   "metadata": {},
   "outputs": [],
   "source": [
    "#104\n",
    "class ListNode(object):\n",
    "\n",
    "    def __init__(self, val, next=None):\n",
    "        self.val = val\n",
    "        self.next = next\n",
    "        \n",
    "def mergeKLists(lists):\n",
    "    if not lists:\n",
    "        return []\n",
    "    \n",
    "    head = ListNode()\n",
    "    cp = head\n",
    "    pq = Queue.PriorityQueue()\n",
    "    \n",
    "    nl = len(lists)\n",
    "    \n",
    "    for i in range(nl):\n",
    "        if not lists[i]:\n",
    "            continue\n",
    "        \n",
    "        pq.put([lists[i].val, i])\n",
    "    \n",
    "    while pq:\n",
    "        while pq:\n",
    "            ls = pq.get()[1]\n",
    "            cp.next = ls\n",
    "            ls = ls.next\n",
    "            cp = cp.next\n",
    "        \n",
    "        for i in range(nl):\n",
    "            if not lists[i]:\n",
    "                continue\n",
    "            \n",
    "            pq.put([lists[i].val, i])\n",
    "    \n",
    "    \n",
    "    return head.next"
   ]
  },
  {
   "cell_type": "code",
   "execution_count": null,
   "metadata": {},
   "outputs": [],
   "source": [
    "#544\n",
    "def topk(nums, k):\n",
    "    if not nums or k < 1:\n",
    "        return []\n",
    "    \n",
    "    pq = Queue.priorityqueue()\n",
    "    for v in nums:\n",
    "        if not pq or pq.top() < v:\n",
    "            pq.put(v)\n",
    "        \n",
    "        if len(pq) > k:\n",
    "            pq.pop()\n",
    "    \n",
    "    ans = []\n",
    "    while pq:\n",
    "        ans.append(pq.pop())\n",
    "    \n",
    "    return ans"
   ]
  },
  {
   "cell_type": "code",
   "execution_count": 9,
   "metadata": {},
   "outputs": [
    {
     "name": "stdout",
     "output_type": "stream",
     "text": [
      "[(2, 0), (7, 1), (13, 2), (19, 3)]\n"
     ]
    },
    {
     "data": {
      "text/plain": [
       "32"
      ]
     },
     "execution_count": 9,
     "metadata": {},
     "output_type": "execute_result"
    }
   ],
   "source": [
    "#super ugly number\n",
    "def nthSuperUglyNumber(n, primes) -> int:\n",
    "    length = len(primes)\n",
    "    times = [0] * length\n",
    "    uglys = [1]\n",
    "    minlist = [(primes[i] * uglys[times[i]], i) for i in range(length)]\n",
    "    \n",
    "    heapq.heapify(minlist)\n",
    "    while len(uglys) < n:\n",
    "        umin, min_times = heapq.heappop(minlist)\n",
    "        times[min_times] += 1\n",
    "\n",
    "        if umin != uglys[-1]:\n",
    "            uglys.append(umin)\n",
    "\n",
    "        heapq.heappush(minlist, (primes[min_times] * uglys[times[min_times]], min_times))\n",
    "\n",
    "    return uglys[-1]\n",
    "\n",
    "nthSuperUglyNumber(12, [2, 7, 13, 19])"
   ]
  },
  {
   "cell_type": "code",
   "execution_count": null,
   "metadata": {},
   "outputs": [],
   "source": [
    "#freq stack\n",
    "class FreqStack:\n",
    "    def __init__(self):\n",
    "        self.seq = 0\n",
    "        self.freq = {}\n",
    "        self.hp = []\n",
    "    \n",
    "    def push(self, x):\n",
    "        if x not in self.freq:\n",
    "            self.freq[x] = 0\n",
    "        self.freq[x] += 1\n",
    "        \n",
    "        self.seq += 1\n",
    "        key = self.freq[x] << 16 | self.seq\n",
    "        heapq.heappush(self.hp, (key,x))\n",
    "    \n",
    "    def pop(self):\n",
    "        k, x = heapq.heappop(self.hp)\n",
    "        self.freq[x] -= 1\n",
    "        return x\n",
    "    "
   ]
  }
 ],
 "metadata": {
  "kernelspec": {
   "display_name": "Python 3",
   "language": "python",
   "name": "python3"
  },
  "language_info": {
   "codemirror_mode": {
    "name": "ipython",
    "version": 3
   },
   "file_extension": ".py",
   "mimetype": "text/x-python",
   "name": "python",
   "nbconvert_exporter": "python",
   "pygments_lexer": "ipython3",
   "version": "3.8.3"
  }
 },
 "nbformat": 4,
 "nbformat_minor": 4
}
