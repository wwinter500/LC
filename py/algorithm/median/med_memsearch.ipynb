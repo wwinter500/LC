{
 "cells": [
  {
   "cell_type": "code",
   "execution_count": 9,
   "metadata": {},
   "outputs": [
    {
     "data": {
      "text/plain": [
       "3"
      ]
     },
     "execution_count": 9,
     "metadata": {},
     "output_type": "execute_result"
    }
   ],
   "source": [
    "def wordBreak3(s, dict):\n",
    "    if not s or not dict:\n",
    "        return 0\n",
    "    \n",
    "    maxlen = max([len(word) for word in list(dict)])\n",
    "    memo = {}\n",
    "    for w in dict:\n",
    "        memo[w] = 1\n",
    "    return dfs(s, dict, memo, 0, maxlen) \n",
    "\n",
    "def dfs(s, dict, memo, index, maxlen):\n",
    "    if index == len(s):\n",
    "        return 1\n",
    "    if s[index:] in memo:\n",
    "        return memo[s[index:]]\n",
    "    \n",
    "    cnt = 0\n",
    "    for l in range(1, maxlen + 1):\n",
    "        subs = s[index:index + l]\n",
    "        if subs not in dict:\n",
    "            continue\n",
    "        \n",
    "        cnt += dfs(s, dict, memo, index + l, maxlen) * memo[subs]\n",
    "    memo[s[index:]] = cnt\n",
    "    return cnt\n",
    "\n",
    "wordBreak3(\"CatMat\", set([\"Cat\", \"Mat\", \"Ca\", \"tM\", \"at\", \"C\", \"Dog\", \"og\", \"Do\"]))"
   ]
  },
  {
   "cell_type": "code",
   "execution_count": null,
   "metadata": {},
   "outputs": [],
   "source": [
    "#binary tree with factor\n",
    "def bianryTreeWithFactor(self, arr)\n",
    "    mod = 10 ** 9 + 7\n",
    "    arr.sort()\n",
    "    n = len(arr)\n",
    "    mem = {}\n",
    "    for v in arr:\n",
    "        mem[v] = 1\n",
    "\n",
    "    for i in range(n):\n",
    "        for j in range(0, i + 1):\n",
    "            product = arr[i] * arr[j] \n",
    "            if product in mem.keys():\n",
    "                tmp = mem[arr[i]] * mem[arr[j]]\n",
    "                if arr[i] != arr[j]:\n",
    "                    tmp *= 2\n",
    "\n",
    "                mem[product] += tmp\n",
    "                mem[product] = mem[product] % mod \n",
    "\n",
    "    return sum([val for key, val in mem.items()]) % mod"
   ]
  }
 ],
 "metadata": {
  "kernelspec": {
   "display_name": "Python 3",
   "language": "python",
   "name": "python3"
  },
  "language_info": {
   "codemirror_mode": {
    "name": "ipython",
    "version": 3
   },
   "file_extension": ".py",
   "mimetype": "text/x-python",
   "name": "python",
   "nbconvert_exporter": "python",
   "pygments_lexer": "ipython3",
   "version": "3.8.3"
  }
 },
 "nbformat": 4,
 "nbformat_minor": 4
}
