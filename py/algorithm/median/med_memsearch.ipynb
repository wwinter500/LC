{
 "cells": [
  {
   "cell_type": "code",
   "execution_count": 9,
   "metadata": {},
   "outputs": [
    {
     "data": {
      "text/plain": [
       "3"
      ]
     },
     "execution_count": 9,
     "metadata": {},
     "output_type": "execute_result"
    }
   ],
   "source": [
    "def wordBreak3(s, dict):\n",
    "    if not s or not dict:\n",
    "        return 0\n",
    "    \n",
    "    maxlen = max([len(word) for word in list(dict)])\n",
    "    memo = {}\n",
    "    for w in dict:\n",
    "        memo[w] = 1\n",
    "    return dfs(s, dict, memo, 0, maxlen) \n",
    "\n",
    "def dfs(s, dict, memo, index, maxlen):\n",
    "    if index == len(s):\n",
    "        return 1\n",
    "    if s[index:] in memo:\n",
    "        return memo[s[index:]]\n",
    "    \n",
    "    cnt = 0\n",
    "    for l in range(1, maxlen + 1):\n",
    "        subs = s[index:index + l]\n",
    "        if subs not in dict:\n",
    "            continue\n",
    "        \n",
    "        cnt += dfs(s, dict, memo, index + l, maxlen) * memo[subs]\n",
    "    memo[s[index:]] = cnt\n",
    "    return cnt\n",
    "\n",
    "wordBreak3(\"CatMat\", set([\"Cat\", \"Mat\", \"Ca\", \"tM\", \"at\", \"C\", \"Dog\", \"og\", \"Do\"]))"
   ]
  },
  {
   "cell_type": "code",
   "execution_count": null,
   "metadata": {},
   "outputs": [],
   "source": []
  }
 ],
 "metadata": {
  "kernelspec": {
   "display_name": "Python 3",
   "language": "python",
   "name": "python3"
  },
  "language_info": {
   "codemirror_mode": {
    "name": "ipython",
    "version": 3
   },
   "file_extension": ".py",
   "mimetype": "text/x-python",
   "name": "python",
   "nbconvert_exporter": "python",
   "pygments_lexer": "ipython3",
   "version": "3.7.4"
  }
 },
 "nbformat": 4,
 "nbformat_minor": 4
}
