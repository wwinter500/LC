{
 "cells": [
  {
   "cell_type": "code",
   "execution_count": 10,
   "metadata": {},
   "outputs": [
    {
     "name": "stdout",
     "output_type": "stream",
     "text": [
      "aaa\n"
     ]
    },
    {
     "data": {
      "text/plain": [
       "1"
      ]
     },
     "execution_count": 10,
     "metadata": {},
     "output_type": "execute_result"
    }
   ],
   "source": [
    "#683-word break III\n",
    "#dfs only version\n",
    "def wordbreak(s, wordDict):\n",
    "    if not s or not wordDict:\n",
    "        return 0\n",
    "    s = s.lower()\n",
    "\n",
    "    newdict = set()\n",
    "    for st in wordDict:\n",
    "        newdict.add(st.lower())\n",
    "    \n",
    "    return dfs(s, newdict)\n",
    "\n",
    "def dfs(s, wordDict):\n",
    "    if s == \"\":\n",
    "        return 0\n",
    "    \n",
    "    ans = 0\n",
    "    if s in wordDict:\n",
    "        ans += 1\n",
    "        \n",
    "    for i in range(1, len(s)):\n",
    "        sub = s[:i]\n",
    "        if sub not in wordDict:\n",
    "            continue\n",
    "        \n",
    "        ans += dfs(s[i:], wordDict)\n",
    "    return ans\n",
    "\n",
    "wordbreak(\"aAa\", {\"aaaa\",\"Aa\",\"aaa\"})"
   ]
  },
  {
   "cell_type": "code",
   "execution_count": 22,
   "metadata": {},
   "outputs": [],
   "source": [
    "import sys\n",
    "class Solution:\n",
    "    #Solution dfs - not optimized\n",
    "    def travelPlan_dfs(self, arr):\n",
    "        if not arr:\n",
    "            return 0\n",
    "        \n",
    "        visited = set([i for i in range(len(arr))])\n",
    "        total = 0\n",
    "        res = sys.maxsize\n",
    "                \n",
    "        return self.dfs(arr, visited, 0, 0, total, res) \n",
    "    \n",
    "    def dfs(self, arr, visited, cur, dst, total, res):\n",
    "        if cur == dst and not visited:\n",
    "            return total\n",
    "\n",
    "        for i, dist in enumerate(arr[cur]):\n",
    "            if i != cur and i in visited:\n",
    "                visited.remove(i)\n",
    "                total += dist\n",
    "                res = min(res, self.dfs(arr, visited, i, dst, total, res))\n",
    "                total -= dist\n",
    "                visited.add(i)\n",
    "        \n",
    "        return res\n",
    "    \n",
    "sl = Solution()\n",
    "print(sl.travelPlan_dfs([[0,10000,2],[5,0,10000],[10000,4,0]]))"
   ]
  },
  {
   "cell_type": "code",
   "execution_count": 4,
   "metadata": {},
   "outputs": [
    {
     "data": {
      "text/plain": [
       "[[1, 5, 9],\n",
       " [1, 6, 8],\n",
       " [2, 4, 9],\n",
       " [2, 5, 8],\n",
       " [2, 6, 7],\n",
       " [3, 4, 8],\n",
       " [3, 5, 7],\n",
       " [4, 5, 6]]"
      ]
     },
     "execution_count": 4,
     "metadata": {},
     "output_type": "execute_result"
    }
   ],
   "source": [
    "#combination sum III\n",
    "def combinationSum3(k, n):\n",
    "    nums = [i for i in range(1, 10)]\n",
    "    ans = []\n",
    "    dfs(nums, 0, ans, [], k, n)\n",
    "    return ans\n",
    "\n",
    "def dfs(nums, index, ans, comb, k, n):\n",
    "    if k == 0:\n",
    "        if n == 0:\n",
    "            ans.append(comb[:])\n",
    "        return\n",
    "    \n",
    "    for i in range(index, len(nums)):\n",
    "        if nums[i] > n:\n",
    "            break\n",
    "            \n",
    "        comb.append(nums[i])\n",
    "        dfs(nums, i + 1, ans, comb, k - 1, n - nums[i])\n",
    "        comb.pop()\n",
    "\n",
    "combinationSum3(3, 15)"
   ]
  },
  {
   "cell_type": "code",
   "execution_count": 45,
   "metadata": {},
   "outputs": [
    {
     "name": "stdout",
     "output_type": "stream",
     "text": [
      "Counter({'4': 1, '6': 1, '0': 1, '9': 1})\n"
     ]
    },
    {
     "data": {
      "text/plain": [
       "True"
      ]
     },
     "execution_count": 45,
     "metadata": {},
     "output_type": "execute_result"
    }
   ],
   "source": [
    "#reorder of power of 2\n",
    "#lable: range value, set\n",
    "import math\n",
    "import collections\n",
    "class Solution:\n",
    "    def reorderedPowerOf2(self, N: int) -> bool:\n",
    "        count = collections.Counter(str(N))\n",
    "        return any(count == collections.Counter(str(1 << b)) for b in range(31))\n",
    "\n",
    "slt = Solution()\n",
    "slt.reorderedPowerOf2(4609)"
   ]
  },
  {
   "cell_type": "code",
   "execution_count": null,
   "metadata": {},
   "outputs": [],
   "source": [
    "#backtrack - dfs\n",
    "#pacific and altlantic water flow\n",
    "class Solution:\n",
    "    def pacificAtlantic(self, matrix: List[List[int]]) -> List[List[int]]:\n",
    "        if not matrix: return []\n",
    "        pac, atl = set(), set()\n",
    "        m, n = len(matrix), len(matrix[0])\n",
    "        for i in range(n):\n",
    "            self.dfs(0, i, matrix, pac, 0)\n",
    "            self.dfs(m - 1, i, matrix, atl, 0)\n",
    "        \n",
    "        for j in range(m):\n",
    "            self.dfs(j, 0, matrix, pac, 0)\n",
    "            self.dfs(j, n - 1, matrix, atl, 0)\n",
    "        \n",
    "        return list(pac & atl)\n",
    "    \n",
    "    def dfs(self, row, col, mat, target, height):\n",
    "        m, n = len(mat), len(mat[0])\n",
    "        if row < 0 or row >= m or col < 0 or col >= n or (row, col) in target:\n",
    "            return \n",
    "        if mat[row][col] < height:\n",
    "            return\n",
    "        target.add((row, col))\n",
    "        \n",
    "        for dr, dc in [(-1, 0),(0, 1),(0, -1),(1, 0)]:\n",
    "            self.dfs(row + dr, col + dc, mat, target, mat[row][col])"
   ]
  }
 ],
 "metadata": {
  "kernelspec": {
   "display_name": "Python 3",
   "language": "python",
   "name": "python3"
  },
  "language_info": {
   "codemirror_mode": {
    "name": "ipython",
    "version": 3
   },
   "file_extension": ".py",
   "mimetype": "text/x-python",
   "name": "python",
   "nbconvert_exporter": "python",
   "pygments_lexer": "ipython3",
   "version": "3.8.3"
  }
 },
 "nbformat": 4,
 "nbformat_minor": 4
}
