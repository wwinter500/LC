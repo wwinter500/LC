{
 "cells": [
  {
   "cell_type": "code",
   "execution_count": 21,
   "metadata": {},
   "outputs": [],
   "source": [
    "#683-word break III\n",
    "#dfs only version\n",
    "def wordbreak(s, wordDict):\n",
    "    if not s or not wordDict:\n",
    "        return 0\n",
    "    \n",
    "    if s.isupper():\n",
    "        s.lower()\n",
    "    \n",
    "    newdict = set()\n",
    "    for st in wordDict:\n",
    "        newdict.add(st.lower())\n",
    "    \n",
    "    print(newdict)\n",
    "    return dfs(s, newdict)\n",
    "\n",
    "def dfs(s, wordDict):\n",
    "    if s == \"\":\n",
    "        return 0\n",
    "    \n",
    "    ans = 0\n",
    "    if s in wordDict:\n",
    "        ans += 1\n",
    "        \n",
    "    for i in range(1, len(s)):\n",
    "        sub = s[:i]\n",
    "        if sub not in wordDict:\n",
    "            continue\n",
    "        \n",
    "        ans += dfs(s[i:], wordDict)\n",
    "    \n",
    "    return ans\n",
    "    "
   ]
  },
  {
   "cell_type": "code",
   "execution_count": 22,
   "metadata": {},
   "outputs": [
    {
     "name": "stdout",
     "output_type": "stream",
     "text": [
      "{'aa', 'aaa', 'aaaa'}\n",
      "1\n"
     ]
    }
   ],
   "source": [
    "s = \"aaaaaaaa\"\n",
    "st = {\"aaaa\",\"Aa\",\"aaa\"}\n",
    "print(wordbreak(s, st))"
   ]
  },
  {
   "cell_type": "code",
   "execution_count": null,
   "metadata": {},
   "outputs": [],
   "source": []
  }
 ],
 "metadata": {
  "kernelspec": {
   "display_name": "Python 3",
   "language": "python",
   "name": "python3"
  },
  "language_info": {
   "codemirror_mode": {
    "name": "ipython",
    "version": 3
   },
   "file_extension": ".py",
   "mimetype": "text/x-python",
   "name": "python",
   "nbconvert_exporter": "python",
   "pygments_lexer": "ipython3",
   "version": "3.7.4"
  }
 },
 "nbformat": 4,
 "nbformat_minor": 4
}
