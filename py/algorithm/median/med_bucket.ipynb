{
 "cells": [
  {
   "cell_type": "code",
   "execution_count": null,
   "metadata": {},
   "outputs": [],
   "source": [
    "#3sum with multiplicity\n",
    "def threeSumMulti(self, arr: List[int], target: int) -> int:\n",
    "    bucket = [0] * (101)\n",
    "    for val in arr:\n",
    "        bucket[val] += 1\n",
    "    ans = 0\n",
    "    for i in range(101):\n",
    "        if not bucket[i]:\n",
    "            continue\n",
    "        for j in range(i, 101):\n",
    "            if not bucket[j]:\n",
    "                continue\n",
    "\n",
    "            k = target - i - j\n",
    "            if k < 0 or k < j or k > 100 or not bucket[k]:\n",
    "                continue\n",
    "\n",
    "            if i == j and j == k:\n",
    "                ans += (bucket[i] - 2) * (bucket[i] - 1) * bucket[i] // 6\n",
    "            elif i == j and j != k:\n",
    "                ans += (bucket[i] - 1) * bucket[i] // 2 * bucket[k]\n",
    "            elif i != j and j == k:\n",
    "                ans += bucket[i] * (bucket[j] - 1) * bucket[j] // 2\n",
    "            else:\n",
    "                ans += bucket[i] * bucket[j] * bucket[k]\n",
    "\n",
    "    return ans % (10 ** 9 + 7)"
   ]
  }
 ],
 "metadata": {
  "kernelspec": {
   "display_name": "Python 3",
   "language": "python",
   "name": "python3"
  },
  "language_info": {
   "codemirror_mode": {
    "name": "ipython",
    "version": 3
   },
   "file_extension": ".py",
   "mimetype": "text/x-python",
   "name": "python",
   "nbconvert_exporter": "python",
   "pygments_lexer": "ipython3",
   "version": "3.8.3"
  }
 },
 "nbformat": 4,
 "nbformat_minor": 4
}
