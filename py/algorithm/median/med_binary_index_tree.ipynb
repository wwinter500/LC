{
 "cells": [
  {
   "cell_type": "code",
   "execution_count": 8,
   "metadata": {},
   "outputs": [
    {
     "name": "stdout",
     "output_type": "stream",
     "text": [
      "[0, 1, 3, 3, 10, 5]\n",
      "3\n",
      "9\n"
     ]
    }
   ],
   "source": [
    "#range sum query - mutable\n",
    "class NumArray:\n",
    "    def __init__(self, nums):\n",
    "        self.n = len(nums)\n",
    "        self.arr, self.bitree = [0] * self.n, [0] * (self.n + 1)\n",
    "        for i in range(self.n):\n",
    "            self.update(i, nums[i])\n",
    "    \n",
    "        print(self.bitree)\n",
    "    def lowbit(self, a):\n",
    "        return a & (-a)\n",
    "    \n",
    "    def update(self, index, val):\n",
    "        delta = val - self.arr[i]\n",
    "        index += 1\n",
    "        while index < self.n + 1:\n",
    "            self.bitree[index] += delta\n",
    "            index += self.lowbit(index)\n",
    "    \n",
    "    def prefixSum(self, index):\n",
    "        index += 1\n",
    "        sums = 0\n",
    "        while index > 0:#notice\n",
    "            sums += self.bitree[index]\n",
    "            index -= self.lowbit(index)\n",
    "        return sums\n",
    "    \n",
    "    def sumRange(self, j, i):\n",
    "        return self.prefixSum(j) - self.prefixSum(i - 1)\n",
    "\n",
    "sl = NumArray([1,2,3,4,5])\n",
    "print(sl.prefixSum(1))\n",
    "print(sl.sumRange(3, 1))"
   ]
  },
  {
   "cell_type": "code",
   "execution_count": null,
   "metadata": {},
   "outputs": [],
   "source": []
  }
 ],
 "metadata": {
  "kernelspec": {
   "display_name": "Python 3",
   "language": "python",
   "name": "python3"
  },
  "language_info": {
   "codemirror_mode": {
    "name": "ipython",
    "version": 3
   },
   "file_extension": ".py",
   "mimetype": "text/x-python",
   "name": "python",
   "nbconvert_exporter": "python",
   "pygments_lexer": "ipython3",
   "version": "3.8.3"
  }
 },
 "nbformat": 4,
 "nbformat_minor": 4
}
