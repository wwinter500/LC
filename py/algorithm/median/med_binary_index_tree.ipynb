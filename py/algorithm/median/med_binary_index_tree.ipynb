{
 "cells": [
  {
   "cell_type": "code",
   "execution_count": null,
   "metadata": {},
   "outputs": [],
   "source": [
    "#range sum query - mutable\n",
    "class NumArray:\n",
    "    def __init__(self, nums):\n",
    "        self.n = len(nums)\n",
    "        self.arr, self.bitree = [0] * n, [0] * (n + 1)\n",
    "        for i in range(self.n):\n",
    "            self.update(i, nums[i])\n",
    "    \n",
    "    def lowbit(self, a):\n",
    "        return a & (-a)\n",
    "    \n",
    "    def update(self, i, val):\n",
    "        delta = val - self.arr[i]\n",
    "        index = i + 1\n",
    "        while index < len(self.n + 1):\n",
    "            self.bitree[index - 1] += delta\n",
    "            index += self.lowbit(index)\n",
    "    \n",
    "    def prefixSum(self, i):\n",
    "        index = i + 1\n",
    "        sums = 0\n",
    "        while index > 0:\n",
    "            sums += self.bitree[index - 1]\n",
    "            index -= self.lowbit(index)\n",
    "        return sums\n",
    "    \n",
    "    def sumRange(self, i):\n",
    "        return self.prefixSum(j) - self.prefixSum(i - 1)\n",
    "    "
   ]
  }
 ],
 "metadata": {
  "kernelspec": {
   "display_name": "Python 3",
   "language": "python",
   "name": "python3"
  },
  "language_info": {
   "codemirror_mode": {
    "name": "ipython",
    "version": 3
   },
   "file_extension": ".py",
   "mimetype": "text/x-python",
   "name": "python",
   "nbconvert_exporter": "python",
   "pygments_lexer": "ipython3",
   "version": "3.7.4"
  }
 },
 "nbformat": 4,
 "nbformat_minor": 4
}
