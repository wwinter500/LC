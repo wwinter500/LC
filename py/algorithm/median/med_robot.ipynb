{
 "cells": [
  {
   "cell_type": "code",
   "execution_count": 1,
   "metadata": {},
   "outputs": [],
   "source": [
    "#robot encircular\n",
    "def isRobotBounded(instructions: str) -> bool:\n",
    "    #count steps on each directions\n",
    "    dirs = 0\n",
    "    steps = [0] * 4\n",
    "    for ins in instructions * 4:\n",
    "        if ins == 'G':\n",
    "            steps[dirs] += 1\n",
    "        if ins == 'L':\n",
    "            dirs = (dirs + 1) % 4\n",
    "        if ins == 'R':\n",
    "            dirs = (dirs - 1) % 4\n",
    "\n",
    "    return steps[0] == steps[2] and steps[1] == steps[3]"
   ]
  },
  {
   "cell_type": "code",
   "execution_count": null,
   "metadata": {},
   "outputs": [],
   "source": []
  }
 ],
 "metadata": {
  "kernelspec": {
   "display_name": "Python 3",
   "language": "python",
   "name": "python3"
  },
  "language_info": {
   "codemirror_mode": {
    "name": "ipython",
    "version": 3
   },
   "file_extension": ".py",
   "mimetype": "text/x-python",
   "name": "python",
   "nbconvert_exporter": "python",
   "pygments_lexer": "ipython3",
   "version": "3.7.4"
  }
 },
 "nbformat": 4,
 "nbformat_minor": 4
}
