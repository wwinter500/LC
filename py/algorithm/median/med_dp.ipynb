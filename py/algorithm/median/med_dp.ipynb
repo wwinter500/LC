{
 "cells": [
  {
   "cell_type": "code",
   "execution_count": 10,
   "metadata": {},
   "outputs": [
    {
     "data": {
      "text/plain": [
       "-1"
      ]
     },
     "execution_count": 10,
     "metadata": {},
     "output_type": "execute_result"
    }
   ],
   "source": [
    "#knight shortest path II\n",
    "#bfs\n",
    "import collections\n",
    "def shortestPath2(grid):\n",
    "    if not grid or not grid[0]:\n",
    "        return -1\n",
    "    \n",
    "    n,m = len(grid), len(grid[0])\n",
    "    f = [[-1] * m for _ in range(n)]\n",
    "    f[0][0] = 0\n",
    "\n",
    "    qu = collections.deque([(0,0)])\n",
    "    dirs = [(-2, 1),(2, 1),(1, 2),(-1, 2)]\n",
    "    \n",
    "    while qu:\n",
    "        x, y = qu.popleft()\n",
    "        for dx, dy in dirs:\n",
    "            nx, ny = x + dx, y + dy\n",
    "            if 0 <= nx < n and 0 <= ny < m and grid[nx][ny] == 0 and (f[nx][ny] == -1 or f[nx][ny] > f[x][y] + 1):\n",
    "                f[nx][ny] = f[x][y] + 1\n",
    "                qu.append((nx, ny))\n",
    "    return f[n - 1][m - 1]\n",
    "\n",
    "shortestPath2([[0,0,0,0],[0,0,0,0],[0,1,0,0]])"
   ]
  },
  {
   "cell_type": "code",
   "execution_count": 23,
   "metadata": {},
   "outputs": [
    {
     "data": {
      "text/plain": [
       "11"
      ]
     },
     "execution_count": 23,
     "metadata": {},
     "output_type": "execute_result"
    }
   ],
   "source": [
    "#triangle\n",
    "import sys\n",
    "def minimumTotal(triangle):\n",
    "    if not triangle:\n",
    "        return 0\n",
    "    \n",
    "    level = len(triangle)\n",
    "    f = [[0 for _ in range(i)] for i in range(1, level + 1)]\n",
    "    \n",
    "    f[0][0] = triangle[0][0]\n",
    "    for l in range(1, level):\n",
    "        for r in range(l + 1):\n",
    "            f[l][r] = min(f[l-1][min(l - 1, r)], f[l - 1][max(0, r - 1)]) + triangle[l][r]\n",
    "    \n",
    "    return min(f[level - 1])\n",
    "\n",
    "minimumTotal([[2],[3,4], [6,5,7], [4,1,8,3]])"
   ]
  },
  {
   "cell_type": "code",
   "execution_count": 7,
   "metadata": {},
   "outputs": [
    {
     "data": {
      "text/plain": [
       "2"
      ]
     },
     "execution_count": 7,
     "metadata": {},
     "output_type": "execute_result"
    }
   ],
   "source": [
    "import collections\n",
    "#Number of Longest Increasing Subsequence\n",
    "class Solution:\n",
    "    def findNumberOfLIS(self, nums):\n",
    "        ans = [0, 0]\n",
    "        l = len(nums)\n",
    "        dp = collections.defaultdict(list)\n",
    "        for i in range(l):\n",
    "            dp[i] = [1, 1]\n",
    "        for i in range(l):\n",
    "            for j in range(i):\n",
    "                if nums[i] > nums[j]:\n",
    "                    if dp[j][0] + 1 > dp[i][0]:\n",
    "                        dp[i] = [dp[j][0] + 1, dp[j][1]]\n",
    "                    elif dp[j][0] + 1 == dp[i][0]:\n",
    "                        dp[i] = [dp[i][0], dp[i][1] + dp[j][1]]\n",
    "        for i in dp.keys():\n",
    "            if dp[i][0] > ans[0]:\n",
    "                ans = [dp[i][0], dp[i][1]]\n",
    "            elif dp[i][0] == ans[0]:\n",
    "                ans = [dp[i][0], ans[1] + dp[i][1]]\n",
    "        return ans[1]\n",
    "    \n",
    "slt = Solution()\n",
    "slt.findNumberOfLIS([1,3,5,4,7])"
   ]
  },
  {
   "cell_type": "code",
   "execution_count": 1,
   "metadata": {},
   "outputs": [],
   "source": [
    "#word break\n",
    "#segmentation dp\n",
    "def wordbreak(S, dict):\n",
    "    n = len(S) \n",
    "    dp = [False] * (n + 1)\n",
    "    dp[0] = True\n",
    "    \n",
    "    maxlen = max([len(x) for x in dict]) if dict else 0\n",
    "    for i in range(1, n + 1):\n",
    "        for l in range(maxlen, 0, -1):\n",
    "            if i < l or not dp[i - l]:\n",
    "                continue\n",
    "            \n",
    "            if s[i - l : i] in dict:\n",
    "                dp[i] = True\n",
    "                break\n",
    "    \n",
    "    return dp[n]\n"
   ]
  },
  {
   "cell_type": "code",
   "execution_count": null,
   "metadata": {},
   "outputs": [],
   "source": []
  }
 ],
 "metadata": {
  "kernelspec": {
   "display_name": "Python 3",
   "language": "python",
   "name": "python3"
  },
  "language_info": {
   "codemirror_mode": {
    "name": "ipython",
    "version": 3
   },
   "file_extension": ".py",
   "mimetype": "text/x-python",
   "name": "python",
   "nbconvert_exporter": "python",
   "pygments_lexer": "ipython3",
   "version": "3.8.3"
  }
 },
 "nbformat": 4,
 "nbformat_minor": 4
}
