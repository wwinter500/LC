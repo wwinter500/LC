{
 "cells": [
  {
   "cell_type": "markdown",
   "metadata": {},
   "source": [
    "#single source, non-negative weight graph\n",
    "#Dijkstra solution: greedy / with heap"
   ]
  },
  {
   "cell_type": "code",
   "execution_count": 47,
   "metadata": {},
   "outputs": [],
   "source": [
    "import sys\n",
    "import heapq\n",
    "#lintcode 1029 cheapest flights within k stops\n",
    "#def findCheapestPrice(self, n : int, flights : List[List[int]], src : int, dst : int, K : int):\n",
    "#instead of using queue, use heap to implement greedy solution\n",
    "def findCheapestPrice(n, flights, src, dst, K):\n",
    "    dists = [sys.maxsize for _ in range(n)]\n",
    "    f_table = {}\n",
    "    for s,e, costs in flights:\n",
    "        if s not in f_table:\n",
    "            f_table[s] = set([(e, costs)])\n",
    "        else:\n",
    "            f_table[s].add((e, costs))\n",
    "    \n",
    "    heap = []\n",
    "    heap.append((0, src, 0))\n",
    "    while heap:\n",
    "        print(heap)\n",
    "        total, cur, stops = heapq.heappop(heap)\n",
    "        dists[cur] = total\n",
    "        if cur == dst:\n",
    "            break\n",
    "        if cur not in f_table or stops > K:\n",
    "            continue\n",
    "            \n",
    "        for nxt, cost in f_table[cur]:\n",
    "            heapq.heappush(heap, (total + cost, nxt, stops + 1))\n",
    "    \n",
    "    if dists[dst] == sys.maxsize:\n",
    "        return -1\n",
    "    return dists[dst]\n",
    "\n",
    "print(findCheapestPrice(5, [[0,1,1],[0,2,5],[1,2,1],[2,3,1],[3,4,1]], 0, 4, 2))"
   ]
  },
  {
   "cell_type": "code",
   "execution_count": 4,
   "metadata": {},
   "outputs": [
    {
     "ename": "AttributeError",
     "evalue": "'zip' object has no attribute 'items'",
     "output_type": "error",
     "traceback": [
      "\u001b[1;31m---------------------------------------------------------------------------\u001b[0m",
      "\u001b[1;31mAttributeError\u001b[0m                            Traceback (most recent call last)",
      "\u001b[1;32m<ipython-input-4-f9dd53fa34f3>\u001b[0m in \u001b[0;36m<module>\u001b[1;34m\u001b[0m\n\u001b[0;32m     24\u001b[0m \u001b[1;33m\u001b[0m\u001b[0m\n\u001b[0;32m     25\u001b[0m     \u001b[1;32mreturn\u001b[0m \u001b[1;33m[\u001b[0m\u001b[0mdfs\u001b[0m\u001b[1;33m(\u001b[0m\u001b[0ma\u001b[0m\u001b[1;33m,\u001b[0m\u001b[0mb\u001b[0m\u001b[1;33m,\u001b[0m \u001b[0mset\u001b[0m\u001b[1;33m(\u001b[0m\u001b[1;33m)\u001b[0m\u001b[1;33m)\u001b[0m \u001b[1;32mfor\u001b[0m \u001b[0ma\u001b[0m\u001b[1;33m,\u001b[0m \u001b[0mb\u001b[0m \u001b[1;32min\u001b[0m \u001b[0mqueries\u001b[0m\u001b[1;33m]\u001b[0m\u001b[1;33m\u001b[0m\u001b[1;33m\u001b[0m\u001b[0m\n\u001b[1;32m---> 26\u001b[1;33m \u001b[0mcalcEquation\u001b[0m\u001b[1;33m(\u001b[0m\u001b[1;33m[\u001b[0m\u001b[1;33m[\u001b[0m\u001b[1;34m\"a\"\u001b[0m\u001b[1;33m,\u001b[0m\u001b[1;34m\"b\"\u001b[0m\u001b[1;33m]\u001b[0m\u001b[1;33m,\u001b[0m\u001b[1;33m[\u001b[0m\u001b[1;34m\"b\"\u001b[0m\u001b[1;33m,\u001b[0m\u001b[1;34m\"c\"\u001b[0m\u001b[1;33m]\u001b[0m\u001b[1;33m]\u001b[0m\u001b[1;33m,\u001b[0m \u001b[1;33m[\u001b[0m\u001b[1;36m2.0\u001b[0m\u001b[1;33m,\u001b[0m\u001b[1;36m3.0\u001b[0m\u001b[1;33m]\u001b[0m\u001b[1;33m,\u001b[0m \u001b[1;33m[\u001b[0m\u001b[1;33m[\u001b[0m\u001b[1;34m\"a\"\u001b[0m\u001b[1;33m,\u001b[0m\u001b[1;34m\"c\"\u001b[0m\u001b[1;33m]\u001b[0m\u001b[1;33m,\u001b[0m\u001b[1;33m[\u001b[0m\u001b[1;34m\"b\"\u001b[0m\u001b[1;33m,\u001b[0m\u001b[1;34m\"a\"\u001b[0m\u001b[1;33m]\u001b[0m\u001b[1;33m,\u001b[0m\u001b[1;33m[\u001b[0m\u001b[1;34m\"a\"\u001b[0m\u001b[1;33m,\u001b[0m\u001b[1;34m\"e\"\u001b[0m\u001b[1;33m]\u001b[0m\u001b[1;33m,\u001b[0m\u001b[1;33m[\u001b[0m\u001b[1;34m\"a\"\u001b[0m\u001b[1;33m,\u001b[0m\u001b[1;34m\"a\"\u001b[0m\u001b[1;33m]\u001b[0m\u001b[1;33m,\u001b[0m\u001b[1;33m[\u001b[0m\u001b[1;34m\"x\"\u001b[0m\u001b[1;33m,\u001b[0m\u001b[1;34m\"x\"\u001b[0m\u001b[1;33m]\u001b[0m\u001b[1;33m]\u001b[0m\u001b[1;33m)\u001b[0m\u001b[1;33m\u001b[0m\u001b[1;33m\u001b[0m\u001b[0m\n\u001b[0m\u001b[0;32m     27\u001b[0m \u001b[1;33m\u001b[0m\u001b[0m\n",
      "\u001b[1;32m<ipython-input-4-f9dd53fa34f3>\u001b[0m in \u001b[0;36mcalcEquation\u001b[1;34m(equations, values, queries)\u001b[0m\n\u001b[0;32m      3\u001b[0m \u001b[1;32mdef\u001b[0m \u001b[0mcalcEquation\u001b[0m\u001b[1;33m(\u001b[0m\u001b[0mequations\u001b[0m\u001b[1;33m,\u001b[0m \u001b[0mvalues\u001b[0m\u001b[1;33m,\u001b[0m \u001b[0mqueries\u001b[0m\u001b[1;33m)\u001b[0m\u001b[1;33m:\u001b[0m\u001b[1;33m\u001b[0m\u001b[1;33m\u001b[0m\u001b[0m\n\u001b[0;32m      4\u001b[0m     \u001b[0mgraph\u001b[0m \u001b[1;33m=\u001b[0m \u001b[0mcollections\u001b[0m\u001b[1;33m.\u001b[0m\u001b[0mdefaultdict\u001b[0m\u001b[1;33m(\u001b[0m\u001b[0mdict\u001b[0m\u001b[1;33m)\u001b[0m\u001b[1;33m\u001b[0m\u001b[1;33m\u001b[0m\u001b[0m\n\u001b[1;32m----> 5\u001b[1;33m     \u001b[0mprint\u001b[0m\u001b[1;33m(\u001b[0m\u001b[0mzip\u001b[0m\u001b[1;33m(\u001b[0m\u001b[0mequations\u001b[0m\u001b[1;33m,\u001b[0m \u001b[0mvalues\u001b[0m\u001b[1;33m)\u001b[0m\u001b[1;33m.\u001b[0m\u001b[0mitems\u001b[0m\u001b[1;33m(\u001b[0m\u001b[1;33m)\u001b[0m\u001b[1;33m)\u001b[0m\u001b[1;33m\u001b[0m\u001b[1;33m\u001b[0m\u001b[0m\n\u001b[0m\u001b[0;32m      6\u001b[0m     \u001b[1;32mfor\u001b[0m \u001b[1;33m(\u001b[0m\u001b[0ma\u001b[0m\u001b[1;33m,\u001b[0m \u001b[0mb\u001b[0m\u001b[1;33m)\u001b[0m\u001b[1;33m,\u001b[0m \u001b[0mc\u001b[0m \u001b[1;32min\u001b[0m \u001b[0mzip\u001b[0m\u001b[1;33m(\u001b[0m\u001b[0mequations\u001b[0m\u001b[1;33m,\u001b[0m \u001b[0mvalues\u001b[0m\u001b[1;33m)\u001b[0m\u001b[1;33m:\u001b[0m\u001b[1;33m\u001b[0m\u001b[1;33m\u001b[0m\u001b[0m\n\u001b[0;32m      7\u001b[0m         \u001b[0mgraph\u001b[0m\u001b[1;33m[\u001b[0m\u001b[0ma\u001b[0m\u001b[1;33m]\u001b[0m\u001b[1;33m[\u001b[0m\u001b[0ma\u001b[0m\u001b[1;33m]\u001b[0m \u001b[1;33m=\u001b[0m \u001b[0mgraph\u001b[0m\u001b[1;33m[\u001b[0m\u001b[0mb\u001b[0m\u001b[1;33m]\u001b[0m\u001b[1;33m[\u001b[0m\u001b[0mb\u001b[0m\u001b[1;33m]\u001b[0m \u001b[1;33m=\u001b[0m \u001b[1;36m1.0\u001b[0m\u001b[1;33m\u001b[0m\u001b[1;33m\u001b[0m\u001b[0m\n",
      "\u001b[1;31mAttributeError\u001b[0m: 'zip' object has no attribute 'items'"
     ]
    }
   ],
   "source": [
    "#Evaluate Division\n",
    "import collections\n",
    "def calcEquation(equations, values, queries):\n",
    "    graph = collections.defaultdict(dict)\n",
    "    \n",
    "    for (a, b), c in zip(equations, values):\n",
    "        graph[a][a] = graph[b][b] = 1.0\n",
    "        graph[a][b], graph[b][a] = c, 1.0 / c\n",
    "    \n",
    "    def dfs(i, j, path):\n",
    "        if i not in graph or j not in graph:\n",
    "            return -1.0\n",
    "        \n",
    "        if j not in graph[i]:\n",
    "            path.add(i)\n",
    "            for k in graph[i]:\n",
    "                if k not in path and dfs(k,j,path) != -1.0:\n",
    "                    graph[i][j] = graph[i][k] * graph[k][j]\n",
    "                    break\n",
    "        \n",
    "        if j not in graph[i]:\n",
    "            return -1.0\n",
    "        return graph[i][j]\n",
    "    \n",
    "    return [dfs(a,b, set()) for a, b in queries]\n",
    "calcEquation([[\"a\",\"b\"],[\"b\",\"c\"]], [2.0,3.0], [[\"a\",\"c\"],[\"b\",\"a\"],[\"a\",\"e\"],[\"a\",\"a\"],[\"x\",\"x\"]])\n",
    "    "
   ]
  },
  {
   "cell_type": "code",
   "execution_count": null,
   "metadata": {},
   "outputs": [],
   "source": [
    "#785 Is Graph Bipartite?\n",
    "def isBipartite(graph: List[List[int]]) -> bool:\n",
    "        if not graph:\n",
    "            return False\n",
    "        \n",
    "        pois = set([i for i in range(len(graph)) if graph[i]])\n",
    "        aset, bset = set(), set()\n",
    "        \n",
    "        qu = collections.deque([])\n",
    "        for i in range(len(graph)):\n",
    "            if i not in pois:\n",
    "                continue\n",
    "            \n",
    "            rnd = 0\n",
    "            qu.append(i)\n",
    "            pois.remove(i)\n",
    "            while qu:\n",
    "                s = len(qu)\n",
    "                for _ in range(s):\n",
    "                    cur = qu.popleft()\n",
    "                    if rnd % 2 == 0:\n",
    "                        aset.add(cur)\n",
    "                    else:\n",
    "                        bset.add(cur)\n",
    "\n",
    "                    for nxt in graph[cur]:\n",
    "                        if nxt not in pois:\n",
    "                            if rnd % 2 == 0 and nxt in aset:\n",
    "                                return False\n",
    "                            if rnd % 2 == 1 and nxt in bset:\n",
    "                                return False\n",
    "                            continue\n",
    "\n",
    "                        qu.append(nxt)\n",
    "                        pois.remove(nxt)\n",
    "\n",
    "                rnd += 1\n",
    "    \n",
    "        return True"
   ]
  }
 ],
 "metadata": {
  "kernelspec": {
   "display_name": "Python 3",
   "language": "python",
   "name": "python3"
  },
  "language_info": {
   "codemirror_mode": {
    "name": "ipython",
    "version": 3
   },
   "file_extension": ".py",
   "mimetype": "text/x-python",
   "name": "python",
   "nbconvert_exporter": "python",
   "pygments_lexer": "ipython3",
   "version": "3.8.3"
  }
 },
 "nbformat": 4,
 "nbformat_minor": 4
}
