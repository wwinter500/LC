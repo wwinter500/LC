{
 "cells": [
  {
   "cell_type": "code",
   "execution_count": 1,
   "metadata": {},
   "outputs": [],
   "source": [
    "def trapwater(hist):\n",
    "    #TODO: 1d trap rain water\n",
    "    return\n",
    "    "
   ]
  },
  {
   "cell_type": "code",
   "execution_count": 2,
   "metadata": {},
   "outputs": [],
   "source": [
    "def longestPalindrome(s):\n",
    "    #manacher O(n) -algo\n",
    "    #a. insert #\n",
    "    exp = \"&#\"\n",
    "    for ch in s:\n",
    "        exp += ch\n",
    "        exp += \"#\"\n",
    "    print(exp)\n",
    "    #process exp\n",
    "    dis = [0] * len(exp)\n",
    "    mx,mid = 0,0\n",
    "    resMX, resID = 0,0\n",
    "    for i in range(1, len(exp)):\n",
    "        dis[i] = min(dis[2 * mid - i], mx - i) if mx > i else 1\n",
    "        while exp[dis[i] + i] == exp[i - dis[i]]:\n",
    "            dis[i] += 1\n",
    "        \n",
    "        if mx < i + dis[i]:\n",
    "            mx = i + dis[i]\n",
    "            mid = i\n",
    "        \n",
    "        if resMX < dis[i]:\n",
    "            resMX = dis[i]\n",
    "            resID = i\n",
    "    \n",
    "    return s[(resID - resMX) / 2 : resMX - 1]"
   ]
  },
  {
   "cell_type": "code",
   "execution_count": 38,
   "metadata": {},
   "outputs": [],
   "source": [
    "def kDistinctCharacters(s, k):\n",
    "    if not s or k <= 0:\n",
    "        return 0\n",
    "    \n",
    "    ans = 0\n",
    "    l, r = 0,0\n",
    "    dt = {}\n",
    "    while r < len(s):\n",
    "        while r < len(s) and len(dt) < k:\n",
    "            if s[r] in dt:\n",
    "                dt[s[r]] += 1\n",
    "            else:\n",
    "                dt[s[r]] = 1\n",
    "            \n",
    "            r += 1\n",
    "        \n",
    "        while l < r and len(dt) >= k:\n",
    "            ans += len(s) - r + 1\n",
    "            \n",
    "            dt[s[l]] -= 1\n",
    "            if dt[s[l]] == 0:\n",
    "                del dt[s[l]]\n",
    "            \n",
    "            l += 1\n",
    "    return ans"
   ]
  },
  {
   "cell_type": "code",
   "execution_count": 39,
   "metadata": {},
   "outputs": [
    {
     "data": {
      "text/plain": [
       "55"
      ]
     },
     "execution_count": 39,
     "metadata": {},
     "output_type": "execute_result"
    }
   ],
   "source": [
    "kDistinctCharacters(\"abcabcabcabc\", 3)"
   ]
  },
  {
   "cell_type": "code",
   "execution_count": 42,
   "metadata": {},
   "outputs": [],
   "source": [
    "def twoSum5(nums, target):\n",
    "    if not nums:\n",
    "        return 0\n",
    "    \n",
    "    l, r = 0 , len(nums) - 1\n",
    "    ans = 0\n",
    "    while l < r:\n",
    "        sv = nums[l] + nums[r]\n",
    "        if sv <= target:\n",
    "            ans += r - l\n",
    "            l += 1\n",
    "        else:\n",
    "            r -= 1\n",
    "    \n",
    "    return ans\n",
    "        "
   ]
  },
  {
   "cell_type": "code",
   "execution_count": 43,
   "metadata": {},
   "outputs": [
    {
     "name": "stdout",
     "output_type": "stream",
     "text": [
      "5\n"
     ]
    }
   ],
   "source": [
    "print(twoSum5([2, 7, 11, 15], 24))"
   ]
  },
  {
   "cell_type": "code",
   "execution_count": 44,
   "metadata": {},
   "outputs": [],
   "source": [
    "def twoSum6(nums, target):\n",
    "    if not nums:\n",
    "        return 0\n",
    "\n",
    "    nums.sort()\n",
    "    ans = 0\n",
    "    l, r = 0, len(nums) - 1\n",
    "    while l < r:\n",
    "        while l > 0 and nums[l] == nums[l - 1]:\n",
    "            l += 1\n",
    "        \n",
    "        while r < len(nums) - 1 and nums[r] == nums[r + 1]:\n",
    "            r -= 1\n",
    "        \n",
    "        if l >= r:\n",
    "            break\n",
    "            \n",
    "        sv = nums[l] + nums[r]\n",
    "        if sv == target:\n",
    "            ans += 1\n",
    "            l += 1\n",
    "            r -= 1\n",
    "        elif sv < target:\n",
    "            l += 1\n",
    "        else:\n",
    "            r -= 1\n",
    "    \n",
    "    return ans"
   ]
  },
  {
   "cell_type": "code",
   "execution_count": 45,
   "metadata": {},
   "outputs": [
    {
     "name": "stdout",
     "output_type": "stream",
     "text": [
      "2\n"
     ]
    }
   ],
   "source": [
    "print(twoSum6([1,1,2,45,46,46], 47))"
   ]
  },
  {
   "cell_type": "code",
   "execution_count": 46,
   "metadata": {},
   "outputs": [],
   "source": [
    "def twoSumClosest(nums, target):\n",
    "    if not nums:\n",
    "        return 0\n",
    "    \n",
    "    nums.sort()\n",
    "    ans = sys.maxsize\n",
    "    l,r = 0, len(nums) - 1\n",
    "    while l < r:\n",
    "        sv = nums[l] + nums[r]\n",
    "        if sv == target:\n",
    "            return 0\n",
    "        elif sv < target:\n",
    "            ans = min(ans, abs(sv - target))\n",
    "            l += 1\n",
    "        else:\n",
    "            ans = min(ans, abs(sv - target))\n",
    "            r -= 1\n",
    "    \n",
    "    return ans\n",
    "        "
   ]
  },
  {
   "cell_type": "code",
   "execution_count": 49,
   "metadata": {},
   "outputs": [],
   "source": [
    "def triangleCount(S):\n",
    "    if not S:\n",
    "        return 0\n",
    "    \n",
    "    S.sort()\n",
    "    ans = 0\n",
    "    for i in range(len(S) - 1, 1, -1):\n",
    "        l,r = 0, i - 1\n",
    "        while l < r:\n",
    "            sv = S[l] + S[r]\n",
    "            if S[i] >= sv:\n",
    "                l += 1\n",
    "            else:\n",
    "                ans += r - l\n",
    "                r -= 1\n",
    "        \n",
    "    return ans"
   ]
  },
  {
   "cell_type": "code",
   "execution_count": 51,
   "metadata": {},
   "outputs": [
    {
     "name": "stdout",
     "output_type": "stream",
     "text": [
      "3\n"
     ]
    }
   ],
   "source": [
    "print(triangleCount([3,4,6,7]))"
   ]
  },
  {
   "cell_type": "code",
   "execution_count": 61,
   "metadata": {},
   "outputs": [],
   "source": [
    "def sortColors(nums):\n",
    "    if not nums:\n",
    "        return []\n",
    "    \n",
    "    l,r = 0, 0\n",
    "    cnt = 0\n",
    "    while r < len(nums):\n",
    "        while l < r and nums[l] == 0:\n",
    "            l += 1\n",
    "        \n",
    "        while r < len(nums) and nums[r] != 0:\n",
    "            if nums[r] == 1:\n",
    "                cnt += 1\n",
    "            r += 1\n",
    "        \n",
    "        if r == len(nums):\n",
    "            break\n",
    "        else:\n",
    "            nums[r],nums[l] = nums[l], nums[r]\n",
    "            l += 1\n",
    "            r += 1\n",
    "\n",
    "    for i in range(0, cnt):\n",
    "        nums[l + i] = 1\n",
    "    \n",
    "    l += cnt\n",
    "    while l < len(nums):\n",
    "        nums[l] = 2\n",
    "        l += 1\n",
    "        \n",
    "    return nums\n",
    "    "
   ]
  },
  {
   "cell_type": "code",
   "execution_count": 62,
   "metadata": {},
   "outputs": [
    {
     "name": "stdout",
     "output_type": "stream",
     "text": [
      "[0, 0, 0, 0, 0, 0, 0, 1, 1, 1, 2, 2, 2, 2, 2]\n"
     ]
    }
   ],
   "source": [
    "print(sortColors([0,2,2,2,2,1,0,1,0,0,0,1,0,2,0]))"
   ]
  },
  {
   "cell_type": "code",
   "execution_count": 65,
   "metadata": {},
   "outputs": [],
   "source": [
    "import sys\n",
    "def threeSumClosest(numbers, target):\n",
    "    if not numbers:\n",
    "        return 0\n",
    "    \n",
    "    numbers.sort()\n",
    "    ans = 0\n",
    "    mdif = sys.maxsize\n",
    "    for i in range(0, len(numbers) - 2):\n",
    "        l,r = i + 1, len(numbers) - 1\n",
    "        while l < r:\n",
    "            sv = numbers[l] + numbers[r] + numbers[i]\n",
    "            if sv == target:\n",
    "                return target\n",
    "            \n",
    "            if abs(sv - target) < mdif:\n",
    "                mdif = abs(sv - target)\n",
    "                ans = sv\n",
    "                \n",
    "            if sv < target:\n",
    "                l += 1\n",
    "            else:\n",
    "                r -= 1\n",
    "    return ans\n",
    "                "
   ]
  },
  {
   "cell_type": "code",
   "execution_count": 67,
   "metadata": {},
   "outputs": [
    {
     "name": "stdout",
     "output_type": "stream",
     "text": [
      "2\n"
     ]
    }
   ],
   "source": [
    "print(threeSumClosest([-1,2,1,-4], 1))"
   ]
  },
  {
   "cell_type": "code",
   "execution_count": 46,
   "metadata": {},
   "outputs": [],
   "source": [
    "import copy\n",
    "#longest super array\n",
    "class Solution: #\n",
    "    def longestSuperArray(self, nums):\n",
    "        table = dict()\n",
    "        for num in nums:\n",
    "            if num not in table:\n",
    "                table[num] = 1\n",
    "            else:\n",
    "                table[num] += 1\n",
    "        \n",
    "        print(table.items())\n",
    "        n = len(nums)\n",
    "        maxLength = 0\n",
    "        left, right = 0, 0\n",
    "        for r in range(n - 1, 0, -1):\n",
    "            cp = copy.deepcopy(table)\n",
    "            if r + 1 <= maxLength:\n",
    "                break\n",
    "            \n",
    "            for l in range(r):\n",
    "                if r - l + 1 <= maxLength:\n",
    "                    break\n",
    "                \n",
    "                if self.validSuperSequence(table):\n",
    "                    maxLength = r - l + 1\n",
    "                    left,right = l , r\n",
    "                    \n",
    "                cp[nums[l]] -= 1\n",
    "                if cp[nums[l]] == 0:\n",
    "                    del cp[nums[l]]\n",
    "                    \n",
    "            table[nums[r]] -= 1\n",
    "            if table[nums[r]] == 0:\n",
    "                del table[nums[r]]\n",
    "                \n",
    "        return nums[left:right + 1]\n",
    "    \n",
    "    def validSuperArray(self, table):\n",
    "        minTimes, maxTimes = 3001, 0\n",
    "        for k, v in table.items():\n",
    "            minTimes = min(v, minTimes)\n",
    "            maxTimes = max(v, maxTimes)\n",
    "\n",
    "        minNum, maxNum = 0, 0\n",
    "        for k, v in table.items():\n",
    "            if v == minTimes:\n",
    "                minNum += 1\n",
    "            if v == maxTimes:\n",
    "                maxNum += 1\n",
    "        \n",
    "        for k,v in table.items():\n",
    "            if v != minTimes and v != maxTimes:\n",
    "                 return False\n",
    "\n",
    "        if (minTimes == maxTimes and minNum == 1) or (minTimes == 1 and minNum == 1) or (maxTimes - minTimes == 1 and maxNum == 1):\n",
    "            return True\n",
    "        else:\n",
    "            return False"
   ]
  },
  {
   "cell_type": "code",
   "execution_count": null,
   "metadata": {},
   "outputs": [],
   "source": [
    "#1877 - longest super sequence\n"
   ]
  },
  {
   "cell_type": "code",
   "execution_count": 51,
   "metadata": {},
   "outputs": [
    {
     "name": "stdout",
     "output_type": "stream",
     "text": [
      "[0, 1, 0, 0, 1, 0, 0, 1, 1, 0, 0, 0, 1, 1, 0, 1, 0, 1, 0, 1, 0, 0, 0, 1, 0, 0, 1, 1, 0, 1, 1, 1, 1, 1, 0, 0, 1, 0, 1, 1, 0]\n"
     ]
    }
   ],
   "source": [
    "sl = Solution()\n",
    "#print(sl.longestSuperSequence([1,1,1,3,2,2,2,3,3]))\n",
    "#print(sl.longestSuperSequence([1,1,3,2,2,3,4,4,4,5]))\n",
    "print(sl.longestSuperSequence([0,1,0,0,1,0,0,1,1,0,0,0,1,1,0,1,0,1,0,1,0,0,0,1,0,0,1,1,0,1,1,1,1,1,0,0,1,0,1,1,0,0,0,0,0,0,0,0,1,1,0,0,1,1,1,1,0,0,0,1,0,0,1,1,0,0,0,1,0,0,1,1,0,0,0,0,1,0,0,1,1,1,1,1,1,1,0,1,1,0,1,1,1,0,0,0,1,0,1,1]))"
   ]
  },
  {
   "cell_type": "code",
   "execution_count": 3,
   "metadata": {},
   "outputs": [],
   "source": [
    "class Solution_1877:\n",
    "    def longestSuperSequence(self, nums):\n",
    "        \n",
    "            \n",
    "            "
   ]
  },
  {
   "cell_type": "code",
   "execution_count": 4,
   "metadata": {},
   "outputs": [
    {
     "name": "stdout",
     "output_type": "stream",
     "text": [
      "dict_items([(1, {0, 1, 2}), (3, {8, 3, 7}), (2, {4, 5, 6})])\n",
      "dict_items([(3, {1, 2, 3})])\n",
      "[]\n"
     ]
    }
   ],
   "source": [
    "sl = Solution_1877()\n",
    "print(sl.longestSuperSequence([1,1,1,3,2,2,2,3,3]))"
   ]
  },
  {
   "cell_type": "code",
   "execution_count": 10,
   "metadata": {},
   "outputs": [
    {
     "name": "stdout",
     "output_type": "stream",
     "text": [
      "0 0\n",
      "1 2\n",
      "2\n"
     ]
    }
   ],
   "source": [
    "class Solution_lc_1438(object):\n",
    "    def longestSubarray(self, nums, limit):\n",
    "        length = len(nums)\n",
    "        if length <= 1:\n",
    "            return length\n",
    "        \n",
    "        l, r = 0, 0\n",
    "        res = 0\n",
    "        while r < length:\n",
    "            r = l + 1\n",
    "            mininfo, maxinfo = nums[l], nums[l]\n",
    "            while r < length and self.valid(nums[r], mininfo, maxinfo, limit):\n",
    "                mininfo = min(mininfo, nums[r])\n",
    "                maxinfo = max(maxinfo, nums[r])\n",
    "                r += 1\n",
    "            \n",
    "            if r - l > res:\n",
    "                print(l, r - 1)\n",
    "                res = r - l\n",
    "                \n",
    "            if r == length:\n",
    "                break\n",
    "            \n",
    "            l = r - 1\n",
    "            mininfo, maxinfo = nums[r], nums[r]\n",
    "            while l >= 0 and self.valid(nums[l], mininfo, maxinfo, limit):\n",
    "                mininfo = min(mininfo, nums[l])\n",
    "                maxinfo = max(maxinfo, nums[l])\n",
    "                l -= 1\n",
    "            \n",
    "            l += 1\n",
    "        \n",
    "        return res\n",
    "            \n",
    "    def valid(self, a, minv, maxv, limit):\n",
    "        return abs(minv - a) <= limit and abs(maxv - a) <= limit\n",
    "\n",
    "sl = Solution_lc_1438()\n",
    "print(sl.longestSubarray([8,2,4,7], 4))"
   ]
  },
  {
   "cell_type": "code",
   "execution_count": null,
   "metadata": {},
   "outputs": [],
   "source": [
    "#1877 - longest super sequence\n",
    "def longestSuperSequence(self, nums):\n",
    "    "
   ]
  }
 ],
 "metadata": {
  "kernelspec": {
   "display_name": "Python 3",
   "language": "python",
   "name": "python3"
  },
  "language_info": {
   "codemirror_mode": {
    "name": "ipython",
    "version": 3
   },
   "file_extension": ".py",
   "mimetype": "text/x-python",
   "name": "python",
   "nbconvert_exporter": "python",
   "pygments_lexer": "ipython3",
   "version": "3.7.4"
  }
 },
 "nbformat": 4,
 "nbformat_minor": 4
}
