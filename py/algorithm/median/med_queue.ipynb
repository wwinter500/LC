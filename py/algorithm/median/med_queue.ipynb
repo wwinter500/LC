{
 "cells": [
  {
   "cell_type": "code",
   "execution_count": 1,
   "metadata": {},
   "outputs": [],
   "source": [
    "import sys\n",
    "import heapq\n",
    "import random\n",
    "\n",
    "#pole operation use stack / queue\n"
   ]
  },
  {
   "cell_type": "code",
   "execution_count": 77,
   "metadata": {},
   "outputs": [],
   "source": [
    "class MyQueue:\n",
    "    \n",
    "    def __init__(self):\n",
    "        self.st_pri = []\n",
    "        self.st_sup = []\n",
    "\n",
    "\n",
    "    def push(self, element):\n",
    "        self.st_pri.append(element)\n",
    "\n",
    "    def pop(self):\n",
    "        if self.st_sup == [] and self.st_pri == []:\n",
    "            return -1;\n",
    "        elif self.st_sup == []:\n",
    "            while self.st_pri != []:\n",
    "                self.st_sup.append(self.st_pri.pop())\n",
    "        \n",
    "        return self.st_sup.pop()\n",
    "    \n",
    "    def top(self):\n",
    "        if self.st_sup == [] and self.st_pri == []:\n",
    "            return -1;\n",
    "        elif self.st_sup == []:\n",
    "            while self.st_pri != []:\n",
    "                self.st_sup.append(self.st_pri.pop())\n",
    "        \n",
    "        return self.st_sup[-1]"
   ]
  },
  {
   "cell_type": "code",
   "execution_count": 11,
   "metadata": {},
   "outputs": [],
   "source": [
    "#944 - TODO\n",
    "def maxSubmatrix(matrix):\n",
    "    n = len(matrix)\n",
    "    m = len(matrix[0])\n",
    "        \n",
    "    #a. update matrix\n",
    "    for i in range(1, m):\n",
    "        matrix[0][i] += matrix[0][i - 1]\n",
    "    \n",
    "    for i in range(1, n):\n",
    "        matrix[i][0] += matrix[i - 1][0]\n",
    "    \n",
    "    for i in range(1, n):\n",
    "        for j in range(1, m):\n",
    "            matrix[i][j] += matrix[i][j - 1] + matrix[i - 1][j] - matrix[i - 1][j - 1]\n",
    "    \n",
    "    #b. record based i on x axis\n",
    "    \n",
    "    return 0"
   ]
  },
  {
   "cell_type": "code",
   "execution_count": 14,
   "metadata": {},
   "outputs": [],
   "source": [
    "def mergekSortedArrays(arrays):\n",
    "    ans,pq = [],[]\n",
    "    sums = 0\n",
    "    for i in range(len(arrays)):\n",
    "        if not arrays[i]:\n",
    "            continue\n",
    "            \n",
    "        sums += len(arrays[i])\n",
    "        pq.append([arrays[i][0], i, 0])\n",
    "    \n",
    "    heapq.heapify(pq)\n",
    "    while pq:\n",
    "        val, row, col = pq[0][0], pq[0][1], pq[0][2]\n",
    "        if col < len(arrays[row]) - 1:\n",
    "            heapq.heappush(pq, [arrays[row][col + 1], row, col + 1])\n",
    "\n",
    "        ans.append(heapq.heappop(pq)[0])\n",
    "\n",
    "    return ans"
   ]
  },
  {
   "cell_type": "code",
   "execution_count": 1,
   "metadata": {},
   "outputs": [],
   "source": [
    "#124\n",
    "def longestConsecutive(num):\n",
    "    st = set()\n",
    "    for v in num:\n",
    "        if v not in st:\n",
    "            st.add(v)\n",
    "    \n",
    "    ans = 1\n",
    "    while st:\n",
    "        cur = st.pop()\n",
    "        left, right = cur - 1, cur + 1\n",
    "        cnt = 1\n",
    "        \n",
    "        while st and left in st:\n",
    "            st.remove(left)\n",
    "            left -= 1\n",
    "        \n",
    "        while st and right in st:\n",
    "            st.remove(right)\n",
    "            right += 1\n",
    "        \n",
    "        ans = max(ans, right - left - 1)\n",
    "    \n",
    "    \n",
    "    return ans"
   ]
  },
  {
   "cell_type": "code",
   "execution_count": 14,
   "metadata": {},
   "outputs": [],
   "source": [
    "#LC - contest\n",
    "from collections import deque\n",
    "import sys\n",
    "class Solution(object):\n",
    "    def maxSubarraySumCircular(self, A):\n",
    "        presum = 0\n",
    "        max_sum = max(A)\n",
    "        \n",
    "        length = len(A) \n",
    "        queue = deque([])\n",
    "        for t in range(2):\n",
    "            for i,v in enumerate(A):\n",
    "                presum += v\n",
    "                index = length * t + i\n",
    "                while queue and queue[-1][0] > presum:\n",
    "                    queue.pop()\n",
    "                \n",
    "                while queue and index - queue[0][1] > length:\n",
    "                    queue.popleft()\n",
    "                \n",
    "                if queue:\n",
    "                    max_sum = max(max_sum, presum - queue[0][0])\n",
    "                \n",
    "                queue.append((presum, index))\n",
    "        \n",
    "        return max_sum\n",
    "sl = Solution()\n",
    "print(sl.maxSubarraySumCircular([3,1,3,2,6]))"
   ]
  },
  {
   "cell_type": "code",
   "execution_count": 15,
   "metadata": {},
   "outputs": [
    {
     "name": "stdout",
     "output_type": "stream",
     "text": [
      "15\n"
     ]
    }
   ],
   "source": [
    "#remove duplicate letter to make sure result is the smallest in lexicographical order\n",
    "def removeDuplicateLetters(s):\n",
    "    counter = collections.Counter(s)\n",
    "        available = set()\n",
    "        stack = []\n",
    "        for ch in s:\n",
    "            counter[ch] -= 1\n",
    "            if ch in available:\n",
    "                continue\n",
    "            \n",
    "            while stack and stack[-1] >= ch and counter[stack[-1]] > 0:\n",
    "                tmp = stack.pop()\n",
    "                available.remove(tmp)\n",
    "            \n",
    "            stack.append(ch)\n",
    "            available.add(ch)\n",
    "        \n",
    "        return ''.join(stack)"
   ]
  },
  {
   "cell_type": "code",
   "execution_count": 1,
   "metadata": {},
   "outputs": [
    {
     "ename": "SyntaxError",
     "evalue": "invalid syntax (<ipython-input-1-77c472fcfd81>, line 12)",
     "output_type": "error",
     "traceback": [
      "\u001b[0;36m  File \u001b[0;32m\"<ipython-input-1-77c472fcfd81>\"\u001b[0;36m, line \u001b[0;32m12\u001b[0m\n\u001b[0;31m    while stack and stack[-1] >= ch and counter[stack[1-]] > 0:\u001b[0m\n\u001b[0m                                                        ^\u001b[0m\n\u001b[0;31mSyntaxError\u001b[0m\u001b[0;31m:\u001b[0m invalid syntax\n"
     ]
    }
   ],
   "source": []
  },
  {
   "cell_type": "code",
   "execution_count": null,
   "metadata": {},
   "outputs": [],
   "source": [
    "#wiggle stack\n",
    "def wiggleMaxLength(self, nums: List[int]) -> int:\n",
    "    stack = []\n",
    "    curr = 0\n",
    "    for num in nums:\n",
    "        if stack and stack[-1] == num:\n",
    "            continue\n",
    "        if len(stack) < 2:\n",
    "            stack.append(num)\n",
    "            if len(stack) == 2:\n",
    "                curr = (stack[1] - stack[0]) // abs(stack[1] - stack[0])\n",
    "        else:\n",
    "            if (curr == -1 and num > stack[-1]) or (curr == 1 and num < stack[-1]):\n",
    "                curr *= -1\n",
    "            else:\n",
    "                stack.pop()\n",
    "\n",
    "            stack.append(num)\n",
    "\n",
    "    return len(stack)"
   ]
  }
 ],
 "metadata": {
  "kernelspec": {
   "display_name": "Python 3",
   "language": "python",
   "name": "python3"
  },
  "language_info": {
   "codemirror_mode": {
    "name": "ipython",
    "version": 3
   },
   "file_extension": ".py",
   "mimetype": "text/x-python",
   "name": "python",
   "nbconvert_exporter": "python",
   "pygments_lexer": "ipython3",
   "version": "3.8.3"
  }
 },
 "nbformat": 4,
 "nbformat_minor": 4
}
