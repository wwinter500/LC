{
 "cells": [
  {
   "cell_type": "code",
   "execution_count": 43,
   "metadata": {},
   "outputs": [
    {
     "ename": "ModuleNotFoundError",
     "evalue": "No module named 'CUI'",
     "output_type": "error",
     "traceback": [
      "\u001b[1;31m---------------------------------------------------------------------------\u001b[0m",
      "\u001b[1;31mModuleNotFoundError\u001b[0m                       Traceback (most recent call last)",
      "\u001b[1;32m<ipython-input-43-3cd4dc9309fe>\u001b[0m in \u001b[0;36m<module>\u001b[1;34m\u001b[0m\n\u001b[0;32m      1\u001b[0m \u001b[1;32mimport\u001b[0m \u001b[0msys\u001b[0m\u001b[1;33m\u001b[0m\u001b[1;33m\u001b[0m\u001b[0m\n\u001b[0;32m      2\u001b[0m \u001b[0msys\u001b[0m\u001b[1;33m.\u001b[0m\u001b[0mpath\u001b[0m\u001b[1;33m.\u001b[0m\u001b[0mappend\u001b[0m\u001b[1;33m(\u001b[0m\u001b[1;34m\"C:\\\\Users\\\\AnthonyDD\\\\Documents\\\\github\\\\py\\\\algorithm\"\u001b[0m\u001b[1;33m)\u001b[0m\u001b[1;33m\u001b[0m\u001b[1;33m\u001b[0m\u001b[0m\n\u001b[1;32m----> 3\u001b[1;33m \u001b[1;32mimport\u001b[0m \u001b[0mCUI\u001b[0m\u001b[1;33m\u001b[0m\u001b[1;33m\u001b[0m\u001b[0m\n\u001b[0m",
      "\u001b[1;31mModuleNotFoundError\u001b[0m: No module named 'CUI'"
     ]
    }
   ],
   "source": [
    "import sys\n",
    "sys.path.append(\"C:\\\\Users\\\\AnthonyDD\\\\Documents\\\\github\\\\py\\\\algorithm\")\n",
    "import CUI"
   ]
  },
  {
   "cell_type": "code",
   "execution_count": 5,
   "metadata": {},
   "outputs": [],
   "source": [
    "import collections\n",
    "import heapq"
   ]
  },
  {
   "cell_type": "code",
   "execution_count": 1,
   "metadata": {},
   "outputs": [
    {
     "name": "stdout",
     "output_type": "stream",
     "text": [
      "[1]\n",
      "a\n"
     ]
    },
    {
     "data": {
      "text/plain": [
       "True"
      ]
     },
     "execution_count": 1,
     "metadata": {},
     "output_type": "execute_result"
    }
   ],
   "source": [
    "#Repeated Substring Pattern\n",
    "def getFactorList(n):\n",
    "    factors = [1]\n",
    "    nums = set([i for i in range(1, n // 2 + 1)])\n",
    "    for f in range(2, n // 2 + 1):\n",
    "        if f not in nums or n % f != 0:\n",
    "            continue\n",
    "        \n",
    "        d = n // f\n",
    "        nums.remove(f)\n",
    "        factors.append(f)\n",
    "        if d != f:\n",
    "            nums.remove(d)\n",
    "            factors.append(n // f)\n",
    "    return factors\n",
    "        \n",
    "def subPattern(s):\n",
    "    if len(s) == 1:\n",
    "        return False\n",
    "    \n",
    "    n = len(s)\n",
    "    factors = getFactorList(n)\n",
    "    \n",
    "    print(factors)\n",
    "    for p in factors:\n",
    "        sub = s[:p]\n",
    "        start = p\n",
    "        repeat = True\n",
    "        while start < n:\n",
    "            if sub != s[start : start + p]:\n",
    "                repeat = False\n",
    "                break\n",
    "            start += p\n",
    "        if repeat:\n",
    "            return True\n",
    "    return False\n",
    "\n",
    "subPattern(\"aa\")"
   ]
  },
  {
   "cell_type": "code",
   "execution_count": 21,
   "metadata": {},
   "outputs": [
    {
     "data": {
      "text/plain": [
       "[9, 7, 8]"
      ]
     },
     "execution_count": 21,
     "metadata": {},
     "output_type": "execute_result"
    }
   ],
   "source": [
    "#Partition Labels\n",
    "def partitionLabels(S):\n",
    "    if not S:\n",
    "        return []\n",
    "\n",
    "    n = len(S)\n",
    "    farpos = {}\n",
    "    for i in range(n):\n",
    "        farpos[S[i]] = i\n",
    "    \n",
    "    res = []\n",
    "    l, r = 0, 0\n",
    "    for i in range(n):\n",
    "        if i > r:\n",
    "            res.append(r - l + 1)\n",
    "            l = i\n",
    "        r = max(r, farpos[S[i]])\n",
    "\n",
    "    if l < n:\n",
    "        res.append(n - l)\n",
    "    return res\n",
    "\n",
    "#partitionLabels(\"ababcbacadefegdehijhklij\")\n",
    "partitionLabels(\"caedbdedda\")"
   ]
  },
  {
   "cell_type": "code",
   "execution_count": null,
   "metadata": {},
   "outputs": [],
   "source": [
    "#contain duplicate III\n",
    "def getID(i, w):\n",
    "    return i < 0 ? (i + 1) // 2 - 1 : i // w\n",
    "    \n",
    "def containsNearbyAlmostDuplicate(nums, k, t):\n",
    "    #loc diff <= k, while value diff <= t\n",
    "    i = j = 0\n",
    "    nearby = {}\n",
    "    n = len(nums)\n",
    "    \n",
    "    while i < n:\n",
    "        while j < min(i + k + 1, n):\n",
    "            for m in range(nums[j] - abs[t], nums[j] + abs(t) + 1):\n",
    "                if m in nearby: \n",
    "                    return True\n",
    "                \n",
    "                nearby[nums[j]] = nearby.get(nums[j], 0) + 1\n",
    "                j += 1\n",
    "        \n",
    "        nearby[nums[i]] -= 1\n",
    "        if nearby[nums[i]] == 0:\n",
    "            del nearby[nums[i]]\n",
    "        i += 1\n",
    "    return False\n",
    "                "
   ]
  },
  {
   "cell_type": "code",
   "execution_count": 6,
   "metadata": {},
   "outputs": [
    {
     "data": {
      "text/plain": [
       "2"
      ]
     },
     "execution_count": 6,
     "metadata": {},
     "output_type": "execute_result"
    }
   ],
   "source": [
    "#delete operation between two strings\n",
    "#return: number of operation of deleting\n",
    "#label: value range, data set\n",
    "def minDistance(word1: str, word2: str) -> int:\n",
    "    m,n = len(word1), len(word2)\n",
    "    dp = [[0] * (n + 1) for i in range(m + 1)]#length of subsequence of same string\n",
    "    for i in range(1, m + 1):\n",
    "        for j in range(1, n + 1):\n",
    "            dp[i][j] = max(dp[i - 1][j], dp[i][j - 1], dp[i - 1][j - 1] + (word1[i - 1] == word2[j - 1]))\n",
    "    return m + n - 2 * dp[m][n]\n",
    "minDistance(\"sea\", \"eat\")"
   ]
  },
  {
   "cell_type": "code",
   "execution_count": 27,
   "metadata": {},
   "outputs": [
    {
     "data": {
      "text/plain": [
       "[123, 234, 345, 456, 567, 678, 789, 1234, 2345]"
      ]
     },
     "execution_count": 27,
     "metadata": {},
     "output_type": "execute_result"
    }
   ],
   "source": [
    "#sequential digits\n",
    "#lable: value range, data set\n",
    "def sequentialDigits(low: int, high: int):\n",
    "    ans = []\n",
    "    lowstr, highstr = str(low), str(high)\n",
    "    lowlen, highlen = len(lowstr), len(highstr)\n",
    "    \n",
    "    qu = collections.deque([])\n",
    "    for i in range(1, 10):\n",
    "        ss = str(i)\n",
    "        for j in range(1, lowlen):\n",
    "            if ss[-1] == '9':\n",
    "                break\n",
    "            ss += str(int(ss[-1]) + 1)\n",
    "            \n",
    "        if int(ss) >= low:\n",
    "            qu.append(ss)\n",
    "    \n",
    "    while qu:\n",
    "        size = len(qu)\n",
    "        for _ in range(size):\n",
    "            cur = qu.popleft()\n",
    "            ans.append(int(cur))\n",
    "            if cur[-1] == '9':\n",
    "                continue\n",
    "            \n",
    "            nxt = cur + str(int(cur[-1]) + 1)\n",
    "            if len(nxt) <= highlen and int(nxt) <= high:\n",
    "                qu.append(nxt)\n",
    "            \n",
    "    return ans\n",
    "            \n",
    "        \n",
    "sequentialDigits(100, 3100)\n",
    "#sequentialDigits(10, 1000000000)"
   ]
  },
  {
   "cell_type": "code",
   "execution_count": 10,
   "metadata": {},
   "outputs": [
    {
     "data": {
      "text/plain": [
       "[8, 7]"
      ]
     },
     "execution_count": 10,
     "metadata": {},
     "output_type": "execute_result"
    }
   ],
   "source": [
    "#majority element II\n",
    "#O(1) space and linnea time\n",
    "#morre voting solution\n",
    "def majorityElement(nums):\n",
    "    #found candidates\n",
    "    cnt1, cnt2  = 0, 0\n",
    "    elem1, elem2 = 0, 0\n",
    "    for x in nums:\n",
    "        if x == elem1:\n",
    "            cnt1 += 1\n",
    "        elif x == elem2:\n",
    "            cnt2 += 1\n",
    "        elif cnt1 == 0:\n",
    "            elem1,cnt1 = x,1\n",
    "        elif cnt2 == 0:\n",
    "            elem2,cnt2 = x,1\n",
    "        else:\n",
    "            cnt1 -= 1\n",
    "            cnt2 -= 1\n",
    "    \n",
    "    cnt1, cnt2 = 0, 0\n",
    "    for x in nums:\n",
    "        if x == elem1:\n",
    "            cnt1 += 1\n",
    "        if x == elem2:\n",
    "            cnt2 += 1\n",
    "    \n",
    "    res = []\n",
    "    if elem1 != elem2:\n",
    "        if cnt1 > len(nums) // 3:\n",
    "            res.append(elem1)\n",
    "        if cnt2 > len(nums) // 3:\n",
    "            res.append(elem2)\n",
    "    else:\n",
    "        res.append(elem1)\n",
    "    return res\n",
    "\n",
    "#majorityElement([1,2,2,3,2,1,1,3])\n",
    "majorityElement([8,8,7,7,7])\n",
    "  "
   ]
  },
  {
   "cell_type": "code",
   "execution_count": 8,
   "metadata": {},
   "outputs": [
    {
     "data": {
      "text/plain": [
       "3"
      ]
     },
     "execution_count": 8,
     "metadata": {},
     "output_type": "execute_result"
    }
   ],
   "source": [
    "#gas startion\n",
    "#1 pointer\n",
    "def canCompleteCircuit(gas, cost) -> int:\n",
    "    if sum(gas) < sum(cost):\n",
    "        return -1\n",
    "    \n",
    "    gas_remain = 0\n",
    "    start = 0\n",
    "    for i in range(len(gas)):\n",
    "        gas_remain += gas[i] - cost[i]\n",
    "        if gas_remain < 0:\n",
    "            start = i + 1\n",
    "            gas_remain = 0\n",
    "    \n",
    "    return start\n",
    "\n",
    "\n",
    "canCompleteCircuit([1,2,3,4,5], [3,4,5,1,2])"
   ]
  },
  {
   "cell_type": "code",
   "execution_count": 1,
   "metadata": {},
   "outputs": [
    {
     "data": {
      "text/plain": [
       "'210'"
      ]
     },
     "execution_count": 1,
     "metadata": {},
     "output_type": "execute_result"
    }
   ],
   "source": [
    "#largest number\n",
    "#return string\n",
    "from functools import cmp_to_key\n",
    "def largestNumber(nums):\n",
    "    if not nums:\n",
    "        return \"\"\n",
    "    \n",
    "    nums.sort(key = cmp_to_key(lambda x, y: -1 if str(x) + str(y) > str(y) + str(x) else 1))\n",
    "    res = int(''.join([str(n) for n in nums]))\n",
    "    return str(res)\n",
    "\n",
    "largestNumber([21, 0])"
   ]
  },
  {
   "cell_type": "code",
   "execution_count": 2,
   "metadata": {},
   "outputs": [],
   "source": [
    "#first missing positive\n",
    "#O(n) time & O(1) space\n",
    "#test case: [1,2,0] ->3, [3,4,-1,1] -> 2, [7,8,9,11,12] -> 1\n",
    "def firstMissingPositive(nums):\n",
    "    n = len(nums)\n",
    "    #preprocess\n",
    "    for i in range(n):\n",
    "        if nums[i] < 0 or nums[i] > n:\n",
    "            nums[i] = 0\n",
    "    \n",
    "    for i in range(n):\n",
    "        if nums[i] == i + 1 or nums[i] == 0:\n",
    "            continue\n",
    "        \n",
    "        nxt = nums[i]\n",
    "        while 0 < nxt <= n and nums[nxt - 1] != nxt:\n",
    "            temp = nxt\n",
    "            nxt = nums[temp - 1]\n",
    "            nums[temp - 1] = temp\n",
    "        \n",
    "        if nums[i] != i + 1:\n",
    "            nums[i] = 0\n",
    "    \n",
    "    for i in range(n):\n",
    "        if nums[i] == 0:\n",
    "            return i + 1\n",
    "    \n",
    "    return n + 1"
   ]
  },
  {
   "cell_type": "code",
   "execution_count": 18,
   "metadata": {},
   "outputs": [
    {
     "name": "stdout",
     "output_type": "stream",
     "text": [
      "4\n",
      "4\n",
      "5\n",
      "5\n"
     ]
    },
    {
     "data": {
      "text/plain": [
       "5"
      ]
     },
     "execution_count": 18,
     "metadata": {},
     "output_type": "execute_result"
    }
   ],
   "source": [
    "#first unique number\n",
    "class DataStream:\n",
    "    def __init__(self, nums):\n",
    "        self.counter = {}\n",
    "        self.heap = []\n",
    "        self.nn = len(nums)\n",
    "        for i, v in enumerate(nums):\n",
    "            if v not in self.counter:\n",
    "                self.counter[v] = []\n",
    "            self.counter[v].append(i)\n",
    "\n",
    "        for k in self.counter.keys():\n",
    "            if len(self.counter[k]) == 1:\n",
    "                self.heap.append((self.counter[k][0], k))\n",
    "\n",
    "        heapq.heapify(self.heap)\n",
    "    \n",
    "    def add(self, num):\n",
    "        if num not in self.counter:\n",
    "            self.counter[num] = []\n",
    "        self.counter[num].append(self.nn)\n",
    "        self.nn += 1\n",
    "        \n",
    "        if len(self.counter[num]) == 1:\n",
    "            self.heap.append((self.counter[num][0], num))\n",
    "        \n",
    "        return\n",
    "    \n",
    "    def firstUnique(self):\n",
    "        while self.heap:\n",
    "            index, val = heapq.heappop(self.heap)\n",
    "            if len(self.counter[val]) == 1:\n",
    "                heapq.heappush(self.heap, (index, val))\n",
    "                print(val)\n",
    "                return val\n",
    "        \n",
    "        return -1\n",
    "\n",
    "slt = DataStream([2,3,4,5,6,3,2])\n",
    "slt.firstUnique()\n",
    "slt.firstUnique()\n",
    "slt.add(4)\n",
    "slt.firstUnique()\n",
    "slt.add(3)\n",
    "slt.firstUnique()"
   ]
  },
  {
   "cell_type": "code",
   "execution_count": null,
   "metadata": {},
   "outputs": [],
   "source": []
  }
 ],
 "metadata": {
  "kernelspec": {
   "display_name": "Python 3",
   "language": "python",
   "name": "python3"
  },
  "language_info": {
   "codemirror_mode": {
    "name": "ipython",
    "version": 3
   },
   "file_extension": ".py",
   "mimetype": "text/x-python",
   "name": "python",
   "nbconvert_exporter": "python",
   "pygments_lexer": "ipython3",
   "version": "3.7.4"
  }
 },
 "nbformat": 4,
 "nbformat_minor": 4
}
