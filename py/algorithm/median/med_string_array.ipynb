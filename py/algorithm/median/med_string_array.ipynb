{
 "cells": [
  {
   "cell_type": "code",
   "execution_count": 5,
   "metadata": {},
   "outputs": [],
   "source": [
    "import collections\n",
    "import heapq"
   ]
  },
  {
   "cell_type": "code",
   "execution_count": 1,
   "metadata": {},
   "outputs": [
    {
     "name": "stdout",
     "output_type": "stream",
     "text": [
      "[1]\n",
      "a\n"
     ]
    },
    {
     "data": {
      "text/plain": [
       "True"
      ]
     },
     "execution_count": 1,
     "metadata": {},
     "output_type": "execute_result"
    }
   ],
   "source": [
    "#Repeated Substring Pattern\n",
    "def getFactorList(n):\n",
    "    factors = [1]\n",
    "    nums = set([i for i in range(1, n // 2 + 1)])\n",
    "    for f in range(2, n // 2 + 1):\n",
    "        if f not in nums or n % f != 0:\n",
    "            continue\n",
    "        \n",
    "        d = n // f\n",
    "        nums.remove(f)\n",
    "        factors.append(f)\n",
    "        if d != f:\n",
    "            nums.remove(d)\n",
    "            factors.append(n // f)\n",
    "    return factors\n",
    "        \n",
    "def subPattern(s):\n",
    "    if len(s) == 1:\n",
    "        return False\n",
    "    \n",
    "    n = len(s)\n",
    "    factors = getFactorList(n)\n",
    "    \n",
    "    print(factors)\n",
    "    for p in factors:\n",
    "        sub = s[:p]\n",
    "        start = p\n",
    "        repeat = True\n",
    "        while start < n:\n",
    "            if sub != s[start : start + p]:\n",
    "                repeat = False\n",
    "                break\n",
    "            start += p\n",
    "        if repeat:\n",
    "            return True\n",
    "    return False\n",
    "\n",
    "subPattern(\"aa\")"
   ]
  },
  {
   "cell_type": "code",
   "execution_count": 21,
   "metadata": {},
   "outputs": [
    {
     "data": {
      "text/plain": [
       "[9, 7, 8]"
      ]
     },
     "execution_count": 21,
     "metadata": {},
     "output_type": "execute_result"
    }
   ],
   "source": [
    "#Partition Labels\n",
    "def partitionLabels(S):\n",
    "    if not S:\n",
    "        return []\n",
    "\n",
    "    n = len(S)\n",
    "    farpos = {}\n",
    "    for i in range(n):\n",
    "        farpos[S[i]] = i\n",
    "    \n",
    "    res = []\n",
    "    l, r = 0, 0\n",
    "    for i in range(n):\n",
    "        if i > r:\n",
    "            res.append(r - l + 1)\n",
    "            l = i\n",
    "        r = max(r, farpos[S[i]])\n",
    "\n",
    "    if l < n:\n",
    "        res.append(n - l)\n",
    "    return res\n",
    "\n",
    "#partitionLabels(\"ababcbacadefegdehijhklij\")\n",
    "partitionLabels(\"caedbdedda\")"
   ]
  },
  {
   "cell_type": "code",
   "execution_count": null,
   "metadata": {},
   "outputs": [],
   "source": [
    "#contain duplicate III\n",
    "def getID(i, w):\n",
    "    return i < 0 ? (i + 1) // 2 - 1 : i // w\n",
    "    \n",
    "def containsNearbyAlmostDuplicate(nums, k, t):\n",
    "    #loc diff <= k, while value diff <= t\n",
    "    i = j = 0\n",
    "    nearby = {}\n",
    "    n = len(nums)\n",
    "    \n",
    "    while i < n:\n",
    "        while j < min(i + k + 1, n):\n",
    "            for m in range(nums[j] - abs[t], nums[j] + abs(t) + 1):\n",
    "                if m in nearby: \n",
    "                    return True\n",
    "                \n",
    "                nearby[nums[j]] = nearby.get(nums[j], 0) + 1\n",
    "                j += 1\n",
    "        \n",
    "        nearby[nums[i]] -= 1\n",
    "        if nearby[nums[i]] == 0:\n",
    "            del nearby[nums[i]]\n",
    "        i += 1\n",
    "    return False\n",
    "                "
   ]
  },
  {
   "cell_type": "code",
   "execution_count": 27,
   "metadata": {},
   "outputs": [
    {
     "data": {
      "text/plain": [
       "[123, 234, 345, 456, 567, 678, 789, 1234, 2345]"
      ]
     },
     "execution_count": 27,
     "metadata": {},
     "output_type": "execute_result"
    }
   ],
   "source": [
    "#sequential digits\n",
    "#lable: value range, data set\n",
    "def sequentialDigits(low: int, high: int):\n",
    "    ans = []\n",
    "    lowstr, highstr = str(low), str(high)\n",
    "    lowlen, highlen = len(lowstr), len(highstr)\n",
    "    \n",
    "    qu = collections.deque([])\n",
    "    for i in range(1, 10):\n",
    "        ss = str(i)\n",
    "        for j in range(1, lowlen):\n",
    "            if ss[-1] == '9':\n",
    "                break\n",
    "            ss += str(int(ss[-1]) + 1)\n",
    "            \n",
    "        if int(ss) >= low:\n",
    "            qu.append(ss)\n",
    "    \n",
    "    while qu:\n",
    "        size = len(qu)\n",
    "        for _ in range(size):\n",
    "            cur = qu.popleft()\n",
    "            ans.append(int(cur))\n",
    "            if cur[-1] == '9':\n",
    "                continue\n",
    "            \n",
    "            nxt = cur + str(int(cur[-1]) + 1)\n",
    "            if len(nxt) <= highlen and int(nxt) <= high:\n",
    "                qu.append(nxt)\n",
    "            \n",
    "    return ans\n",
    "            \n",
    "        \n",
    "sequentialDigits(100, 3100)\n",
    "#sequentialDigits(10, 1000000000)"
   ]
  },
  {
   "cell_type": "code",
   "execution_count": 10,
   "metadata": {},
   "outputs": [
    {
     "data": {
      "text/plain": [
       "[8, 7]"
      ]
     },
     "execution_count": 10,
     "metadata": {},
     "output_type": "execute_result"
    }
   ],
   "source": [
    "#majority element II\n",
    "#O(1) space and linnea time\n",
    "#morre voting solution\n",
    "def majorityElement(nums):\n",
    "    #found candidates\n",
    "    cnt1, cnt2  = 0, 0\n",
    "    elem1, elem2 = 0, 0\n",
    "    for x in nums:\n",
    "        if x == elem1:\n",
    "            cnt1 += 1\n",
    "        elif x == elem2:\n",
    "            cnt2 += 1\n",
    "        elif cnt1 == 0:\n",
    "            elem1,cnt1 = x,1\n",
    "        elif cnt2 == 0:\n",
    "            elem2,cnt2 = x,1\n",
    "        else:\n",
    "            cnt1 -= 1\n",
    "            cnt2 -= 1\n",
    "    \n",
    "    cnt1, cnt2 = 0, 0\n",
    "    for x in nums:\n",
    "        if x == elem1:\n",
    "            cnt1 += 1\n",
    "        if x == elem2:\n",
    "            cnt2 += 1\n",
    "    \n",
    "    res = []\n",
    "    if elem1 != elem2:\n",
    "        if cnt1 > len(nums) // 3:\n",
    "            res.append(elem1)\n",
    "        if cnt2 > len(nums) // 3:\n",
    "            res.append(elem2)\n",
    "    else:\n",
    "        res.append(elem1)\n",
    "    return res\n",
    "\n",
    "#majorityElement([1,2,2,3,2,1,1,3])\n",
    "majorityElement([8,8,7,7,7])\n",
    "  "
   ]
  },
  {
   "cell_type": "code",
   "execution_count": 8,
   "metadata": {},
   "outputs": [
    {
     "data": {
      "text/plain": [
       "3"
      ]
     },
     "execution_count": 8,
     "metadata": {},
     "output_type": "execute_result"
    }
   ],
   "source": [
    "#gas startion\n",
    "#1 pointer\n",
    "def canCompleteCircuit(gas, cost) -> int:\n",
    "    if sum(gas) < sum(cost):\n",
    "        return -1\n",
    "    \n",
    "    gas_remain = 0\n",
    "    start = 0\n",
    "    for i in range(len(gas)):\n",
    "        gas_remain += gas[i] - cost[i]\n",
    "        if gas_remain < 0:\n",
    "            start = i + 1\n",
    "            gas_remain = 0\n",
    "    \n",
    "    return start\n",
    "\n",
    "\n",
    "canCompleteCircuit([1,2,3,4,5], [3,4,5,1,2])"
   ]
  },
  {
   "cell_type": "code",
   "execution_count": 1,
   "metadata": {},
   "outputs": [
    {
     "data": {
      "text/plain": [
       "'210'"
      ]
     },
     "execution_count": 1,
     "metadata": {},
     "output_type": "execute_result"
    }
   ],
   "source": [
    "#largest number\n",
    "#return string\n",
    "from functools import cmp_to_key\n",
    "def largestNumber(nums):\n",
    "    if not nums:\n",
    "        return \"\"\n",
    "    \n",
    "    nums.sort(key = cmp_to_key(lambda x, y: -1 if str(x) + str(y) > str(y) + str(x) else 1))\n",
    "    res = int(''.join([str(n) for n in nums]))\n",
    "    return str(res)\n",
    "\n",
    "largestNumber([21, 0])"
   ]
  },
  {
   "cell_type": "code",
   "execution_count": 2,
   "metadata": {},
   "outputs": [],
   "source": [
    "#first missing positive\n",
    "#O(n) time & O(1) space\n",
    "#test case: [1,2,0] ->3, [3,4,-1,1] -> 2, [7,8,9,11,12] -> 1\n",
    "def firstMissingPositive(nums):\n",
    "    n = len(nums)\n",
    "    #preprocess\n",
    "    for i in range(n):\n",
    "        if nums[i] < 0 or nums[i] > n:\n",
    "            nums[i] = 0\n",
    "    \n",
    "    for i in range(n):\n",
    "        if nums[i] == i + 1 or nums[i] == 0:\n",
    "            continue\n",
    "        \n",
    "        nxt = nums[i]\n",
    "        while 0 < nxt <= n and nums[nxt - 1] != nxt:\n",
    "            temp = nxt\n",
    "            nxt = nums[temp - 1]\n",
    "            nums[temp - 1] = temp\n",
    "        \n",
    "        if nums[i] != i + 1:\n",
    "            nums[i] = 0\n",
    "    \n",
    "    for i in range(n):\n",
    "        if nums[i] == 0:\n",
    "            return i + 1\n",
    "    \n",
    "    return n + 1"
   ]
  },
  {
   "cell_type": "code",
   "execution_count": 18,
   "metadata": {},
   "outputs": [
    {
     "name": "stdout",
     "output_type": "stream",
     "text": [
      "4\n",
      "4\n",
      "5\n",
      "5\n"
     ]
    },
    {
     "data": {
      "text/plain": [
       "5"
      ]
     },
     "execution_count": 18,
     "metadata": {},
     "output_type": "execute_result"
    }
   ],
   "source": [
    "#first unique number\n",
    "class DataStream:\n",
    "    def __init__(self, nums):\n",
    "        self.counter = {}\n",
    "        self.heap = []\n",
    "        self.nn = len(nums)\n",
    "        for i, v in enumerate(nums):\n",
    "            if v not in self.counter:\n",
    "                self.counter[v] = []\n",
    "            self.counter[v].append(i)\n",
    "\n",
    "        for k in self.counter.keys():\n",
    "            if len(self.counter[k]) == 1:\n",
    "                self.heap.append((self.counter[k][0], k))\n",
    "\n",
    "        heapq.heapify(self.heap)\n",
    "    \n",
    "    def add(self, num):\n",
    "        if num not in self.counter:\n",
    "            self.counter[num] = []\n",
    "        self.counter[num].append(self.nn)\n",
    "        self.nn += 1\n",
    "        \n",
    "        if len(self.counter[num]) == 1:\n",
    "            self.heap.append((self.counter[num][0], num))\n",
    "        \n",
    "        return\n",
    "    \n",
    "    def firstUnique(self):\n",
    "        while self.heap:\n",
    "            index, val = heapq.heappop(self.heap)\n",
    "            if len(self.counter[val]) == 1:\n",
    "                heapq.heappush(self.heap, (index, val))\n",
    "                print(val)\n",
    "                return val\n",
    "        \n",
    "        return -1\n",
    "\n",
    "slt = DataStream([2,3,4,5,6,3,2])\n",
    "slt.firstUnique()\n",
    "slt.firstUnique()\n",
    "slt.add(4)\n",
    "slt.firstUnique()\n",
    "slt.add(3)\n",
    "slt.firstUnique()"
   ]
  },
  {
   "cell_type": "code",
   "execution_count": 1,
   "metadata": {},
   "outputs": [],
   "source": [
    "#smallest rangeII - 910\n",
    "def smallestRange(self, A, K):\n",
    "    A.sort()\n",
    "    ans = A[-1] - A[0]\n",
    "    for i in range(1, len(A)):\n",
    "        h = max(A[-1] - K, A[i - 1] + K)\n",
    "        l = min(A[0] + K, A[i] - K)\n",
    "        ans = min(ans, h - l)\n",
    "    return ans"
   ]
  },
  {
   "cell_type": "code",
   "execution_count": 1,
   "metadata": {},
   "outputs": [],
   "source": [
    "# find unsorted subarray\n",
    "def findUnsortedSubarr(nums):\n",
    "    minIdx, maxval = len(nums), min(nums) - 1\n",
    "    \n",
    "    stack = []\n",
    "    for i, n in enumerate(nums):\n",
    "        while stack and stack[-1][0] > n:\n",
    "            val, index = stack.pop()\n",
    "            maxval = max(maxval, val)\n",
    "            minIdx = min(minIdx, index)\n",
    "\n",
    "        stack.append((n, i))\n",
    "\n",
    "    if minIdx == len(nums):\n",
    "        return 0\n",
    "\n",
    "    right = len(stack)\n",
    "    for i in range(len(stack)):\n",
    "        if stack[i][0] >= maxval:\n",
    "            right = i\n",
    "            break\n",
    "\n",
    "    return stack[right - 1][1] - minIdx + 1"
   ]
  },
  {
   "cell_type": "code",
   "execution_count": 22,
   "metadata": {},
   "outputs": [
    {
     "name": "stdout",
     "output_type": "stream",
     "text": [
      "['1', '1', '1', '2', '1']\n",
      "['1', '1', '2', '1', '1']\n",
      "['1', '2', '1', '1', '1']\n",
      "['2', '1', '1', '1', '1']\n",
      "['1', '1', '1', '1', '2'] ['2', '1', '1', '1', '1']\n",
      "4\n"
     ]
    }
   ],
   "source": [
    "# Minimum Adjacent Swaps to Reach the Kth Smallest Number\n",
    "def nextPermutation(nums):\n",
    "    i = len(nums) - 2\n",
    "    while i >= 0 and nums[i] >= nums[i + 1]:\n",
    "        i -= 1\n",
    "    \n",
    "    if i >= 0:\n",
    "        j = len(nums) - 1\n",
    "        while j >= 0 and nums[j] <= nums[i]:\n",
    "            j -= 1\n",
    "        \n",
    "        nums[i], nums[j] = nums[j], nums[i]\n",
    "    \n",
    "    nums[i + 1:] = nums[i + 1:][::-1]\n",
    "        \n",
    "def getKSmallestNumber(num, k):\n",
    "    arr = list(num)\n",
    "    for i in range(k):\n",
    "        nextPermutation(arr)\n",
    "        print(arr)\n",
    "    \n",
    "    return arr\n",
    "\n",
    "def minDiff(ori, tar):\n",
    "    print(ori, tar)\n",
    "    n = len(tar)\n",
    "    steps = 0\n",
    "    for i in range(n):\n",
    "        j = i\n",
    "        while j < n and ori[j] != tar[i]:\n",
    "            j += 1\n",
    "        \n",
    "        while j != i:\n",
    "            steps += 1\n",
    "            ori[j], ori[j - 1] = ori[j - 1], ori[j]\n",
    "            j -= 1\n",
    "    return steps\n",
    "\n",
    "\n",
    "def getMinSwaps(num: str, k: int) -> int:\n",
    "    knext = getKSmallestNumber(num, k)\n",
    "    return minDiff(list(num), knext)\n",
    "\n",
    "#print(getKSmallestNumber([1,2,3,4], 4))\n",
    "#print(getMinSwaps(\"11112\",4))"
   ]
  },
  {
   "cell_type": "code",
   "execution_count": 23,
   "metadata": {},
   "outputs": [
    {
     "ename": "NameError",
     "evalue": "name 'List' is not defined",
     "output_type": "error",
     "traceback": [
      "\u001b[0;31m---------------------------------------------------------------------------\u001b[0m",
      "\u001b[0;31mNameError\u001b[0m                                 Traceback (most recent call last)",
      "\u001b[0;32m<ipython-input-23-3eaf61b99b58>\u001b[0m in \u001b[0;36m<module>\u001b[0;34m\u001b[0m\n\u001b[1;32m      1\u001b[0m \u001b[0;31m#non-descent array\u001b[0m\u001b[0;34m\u001b[0m\u001b[0;34m\u001b[0m\u001b[0;34m\u001b[0m\u001b[0m\n\u001b[0;32m----> 2\u001b[0;31m \u001b[0;32mdef\u001b[0m \u001b[0mcheckPossibility\u001b[0m\u001b[0;34m(\u001b[0m\u001b[0mself\u001b[0m\u001b[0;34m,\u001b[0m \u001b[0mnums\u001b[0m\u001b[0;34m:\u001b[0m \u001b[0mList\u001b[0m\u001b[0;34m[\u001b[0m\u001b[0mint\u001b[0m\u001b[0;34m]\u001b[0m\u001b[0;34m)\u001b[0m \u001b[0;34m->\u001b[0m \u001b[0mbool\u001b[0m\u001b[0;34m:\u001b[0m\u001b[0;34m\u001b[0m\u001b[0;34m\u001b[0m\u001b[0m\n\u001b[0m\u001b[1;32m      3\u001b[0m     \u001b[0mvalid\u001b[0m\u001b[0;34m,\u001b[0m \u001b[0mmodify\u001b[0m \u001b[0;34m=\u001b[0m  \u001b[0mself\u001b[0m\u001b[0;34m.\u001b[0m\u001b[0mhelper\u001b[0m\u001b[0;34m(\u001b[0m\u001b[0mnums\u001b[0m\u001b[0;34m,\u001b[0m \u001b[0;36m0\u001b[0m\u001b[0;34m,\u001b[0m \u001b[0mlen\u001b[0m\u001b[0;34m(\u001b[0m\u001b[0mnums\u001b[0m\u001b[0;34m)\u001b[0m \u001b[0;34m-\u001b[0m \u001b[0;36m1\u001b[0m\u001b[0;34m)\u001b[0m\u001b[0;34m\u001b[0m\u001b[0;34m\u001b[0m\u001b[0m\n\u001b[1;32m      4\u001b[0m     \u001b[0;32mreturn\u001b[0m \u001b[0mvalid\u001b[0m\u001b[0;34m\u001b[0m\u001b[0;34m\u001b[0m\u001b[0m\n\u001b[1;32m      5\u001b[0m \u001b[0;34m\u001b[0m\u001b[0m\n",
      "\u001b[0;31mNameError\u001b[0m: name 'List' is not defined"
     ]
    }
   ],
   "source": [
    "#non-descent array\n",
    "def checkPossibility(self, nums: List[int]) -> bool:\n",
    "    valid, modify =  self.helper(nums, 0, len(nums) - 1)\n",
    "    return valid\n",
    "\n",
    "def helper(self, nums, left, right):\n",
    "    if left >= right:\n",
    "        return True, 0\n",
    "\n",
    "    i = left + 1 \n",
    "    while i <= right and nums[i] >= nums[i - 1]:\n",
    "        i += 1\n",
    "\n",
    "    if i == right + 1:\n",
    "        return True, 0\n",
    "\n",
    "    valid, modify = self.helper(nums, i, right)\n",
    "    if not valid or modify > 0:\n",
    "        return False, modify + 1\n",
    "\n",
    "    if i - left == 1 or right - i == 0:\n",
    "        return True, 1\n",
    "    elif nums[i - 2] <= nums[i] or nums[i + 1] >= nums[i - 1]:\n",
    "        return True, 1\n",
    "    else:\n",
    "        return False, 2"
   ]
  },
  {
   "cell_type": "code",
   "execution_count": null,
   "metadata": {},
   "outputs": [],
   "source": [
    "#presum - optimization\n",
    "def checkSubarraySum(self, nums: List[int], k: int) -> bool:\n",
    "    if len(nums) < 2:\n",
    "        return False\n",
    "\n",
    "    presum = []\n",
    "    sums = 0\n",
    "    for i in range(len(nums)):\n",
    "        sums += nums[i]\n",
    "        presum.append(sums % k)\n",
    "        if len(presum) > 1 and presum[-1] == 0:\n",
    "            return True\n",
    "\n",
    "\n",
    "    prezero = {}\n",
    "    for i, val in enumerate(presum):\n",
    "        if val not in prezero:\n",
    "            prezero[val] = i + 1\n",
    "        else:\n",
    "            if i - prezero[val] >= 1:\n",
    "                return True\n",
    "    return False"
   ]
  },
  {
   "cell_type": "code",
   "execution_count": 24,
   "metadata": {},
   "outputs": [
    {
     "data": {
      "text/plain": [
       "4"
      ]
     },
     "execution_count": 24,
     "metadata": {},
     "output_type": "execute_result"
    }
   ],
   "source": [
    "def numberOfWays(arr, k):\n",
    "      arr.sort()\n",
    "      ans = 0\n",
    "      l, r = 0, len(arr) - 1\n",
    "      while l < r:\n",
    "        if arr[l] + arr[r] < k:\n",
    "          l += 1\n",
    "        elif arr[l] + arr[r] > k:\n",
    "          r -= 1\n",
    "        elif arr[l] != arr[r]:\n",
    "          lcp, rcp = l, r\n",
    "          while lcp < rcp and arr[lcp] == arr[l]:\n",
    "            lcp += 1\n",
    "\n",
    "          while lcp < rcp and arr[rcp] == arr[r]:\n",
    "            rcp -= 1\n",
    "\n",
    "          ans += (lcp - l) * (r - rcp)\n",
    "          l = lcp\n",
    "          r = rcp\n",
    "        else:\n",
    "            ans += (r - l + 1)* (r - l) // 2\n",
    "            break\n",
    "      return ans\n",
    "\n",
    "numberOfWays([1, 5, 3, 3, 3], 6)"
   ]
  },
  {
   "cell_type": "code",
   "execution_count": null,
   "metadata": {},
   "outputs": [],
   "source": [
    "#sliding window- 1888\n",
    "def minFlips(self, s: str) -> int:\n",
    "    if len(s) < 2:\n",
    "        return 0\n",
    "\n",
    "    n = len(s)\n",
    "    s = s + s\n",
    "    s1 = ''.join([str(i % 2) for i in range(2*n)])\n",
    "    s2 = ''.join([str((i + 1) % 2) for i in range(2*n)])\n",
    "    ans = sys.maxsize\n",
    "    ans1,ans2 = 0, 0\n",
    "    i = 0\n",
    "    for i in range(n*2):\n",
    "        if s1[i] != s[i]:\n",
    "            ans1 += 1\n",
    "        if s2[i] != s[i]:\n",
    "            ans2 += 1\n",
    "        if i >= n:\n",
    "            if s1[i - n] != s[i - n]:\n",
    "                ans1 -= 1\n",
    "            if s2[i - n] != s[i - n]:\n",
    "                ans2 -= 1\n",
    "        if i >= n- 1:\n",
    "            ans = min(ans1, ans2, ans)\n",
    "    return ans"
   ]
  },
  {
   "cell_type": "code",
   "execution_count": null,
   "metadata": {},
   "outputs": [],
   "source": [
    "#Number of Matching Subsequences\n",
    "def numMatchingSubseq(self, s: str, words: List[str]) -> int:\n",
    "    nxtPos = []\n",
    "    n = len(s)\n",
    "    tmp = [-1] * 26\n",
    "    for i in range(n - 1, -1, -1):\n",
    "        tmp[ord(s[i]) - ord('a')] = i\n",
    "        nxtPos.append(tmp[:])\n",
    "    nxtPos = nxtPos[::-1]\n",
    "\n",
    "    ans = 0\n",
    "    for word in words:\n",
    "        if self.isSubseq(word, nxtPos):\n",
    "            ans += 1\n",
    "    return ans\n",
    "\n",
    "def isSubseq(self, word, nxtPos):\n",
    "    lenw, lens = len(word), len(nxtPos)\n",
    "    i, j = 0, 0\n",
    "    while i < lenw and j < lens:\n",
    "        j = nxtPos[j][ord(word[i]) - ord('a')]\n",
    "        if j < 0:\n",
    "            return False\n",
    "        i += 1\n",
    "        j += 1\n",
    "    return i == lenw"
   ]
  }
 ],
 "metadata": {
  "kernelspec": {
   "display_name": "Python 3",
   "language": "python",
   "name": "python3"
  },
  "language_info": {
   "codemirror_mode": {
    "name": "ipython",
    "version": 3
   },
   "file_extension": ".py",
   "mimetype": "text/x-python",
   "name": "python",
   "nbconvert_exporter": "python",
   "pygments_lexer": "ipython3",
   "version": "3.8.3"
  }
 },
 "nbformat": 4,
 "nbformat_minor": 4
}
