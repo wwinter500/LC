{
 "cells": [
  {
   "cell_type": "code",
   "execution_count": null,
   "metadata": {},
   "outputs": [],
   "source": [
    "#get prime number within range\n",
    "def getPrimes(maxval):\n",
    "    #maxval > 2\n",
    "    p = []\n",
    "    np = set()\n",
    "    for i in range(2, maxval + 1):\n",
    "        if i not in np:\n",
    "            p.append(i)\n",
    "            \n",
    "        for pv in p:\n",
    "            np.add(i * pv)\n",
    "\n",
    "    return p\n",
    "\n",
    "def isPrime(val):\n",
    "    for i in range(2, val // 2):\n",
    "        if val % i != 0:\n",
    "            return False\n",
    "    return True\n"
   ]
  },
  {
   "cell_type": "code",
   "execution_count": null,
   "metadata": {},
   "outputs": [],
   "source": [
    "def findunique(nums):\n",
    "    counter = {}\n",
    "    heap = []\n",
    "    for i, v in enumerate(nums):\n",
    "        if v not in counter:\n",
    "            counter[v] = []\n",
    "        counter[v].append(i)\n",
    "    \n",
    "    for k in counter.keys():\n",
    "        if len(counter[k]) == 1:\n",
    "            heap.append((counter[k][0], k))\n",
    "    \n",
    "    heapq.heapify(heap)\n",
    "    \n",
    "findunique([2,3,4,5,6,3,2])"
   ]
  }
 ],
 "metadata": {
  "kernelspec": {
   "display_name": "Python 3",
   "language": "python",
   "name": "python3"
  },
  "language_info": {
   "codemirror_mode": {
    "name": "ipython",
    "version": 3
   },
   "file_extension": ".py",
   "mimetype": "text/x-python",
   "name": "python",
   "nbconvert_exporter": "python",
   "pygments_lexer": "ipython3",
   "version": "3.8.3"
  }
 },
 "nbformat": 4,
 "nbformat_minor": 4
}
