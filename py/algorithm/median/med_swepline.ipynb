{
 "cells": [
  {
   "cell_type": "code",
   "execution_count": 6,
   "metadata": {},
   "outputs": [],
   "source": [
    "#821 -swep line\n",
    "def timeIntersection(self, seqA, seqB):\n",
    "    if not seqA or not seqB:\n",
    "        return []\n",
    "\n",
    "    poi = []\n",
    "    for p in seqA + seqB:\n",
    "        poi.append([p.start, True])\n",
    "        poi.append([p.end, False])\n",
    "\n",
    "    poi.sort()\n",
    "    cnt = 0\n",
    "    res = []\n",
    "    start = 0\n",
    "    for p in poi:\n",
    "        tmp = cnt\n",
    "        if p[1]:\n",
    "            cnt += 1\n",
    "        else:\n",
    "            cnt -= 1\n",
    "\n",
    "        if cnt == 2:\n",
    "            start = p[0]\n",
    "        elif tmp == 2:\n",
    "            res.append(Interval(start, p[0]))\n",
    "\n",
    "    return res"
   ]
  },
  {
   "cell_type": "code",
   "execution_count": 7,
   "metadata": {},
   "outputs": [],
   "source": [
    "#sqa= [[1, 2],[5, 100]]\n",
    "#sqb = [[1, 6]]\n",
    "#sqa = [[1,1433],[9279,19765],[26161,39426],[49239,64932], [74912,76691],[85962,91108],[93716,99942]]\n",
    "#sqb = [[1,10867],[19371,31118],[33255,48940],[56456,73844],[77740,88520],[96055,98003]]\n",
    "#sqa = [[1,2],[10,15]]\n",
    "#sqb = [[3,5],[7,9]]\n",
    "sqa = [[1,1541],[3636,13815],[22103,34302],[42625,43724],[46407,55013],[58006,71310],[75371,84941],[93661,99952]]\n",
    "sqb = [[1,12006],[14350,24913],[31312,45963],[54444,69193],[78834,97674],[99791,101077]]\n",
    "\n",
    "#print(timeIntersection(sqa, sqb))"
   ]
  },
  {
   "cell_type": "code",
   "execution_count": 23,
   "metadata": {},
   "outputs": [],
   "source": [
    "def minMeetingRooms(intervals):\n",
    "    if intervals == []:\n",
    "        return 0\n",
    "    \n",
    "    ans,cnt = 0,0\n",
    "    sq = []\n",
    "    for rang in intervals:\n",
    "        sq.append([rang.start, 0])\n",
    "        sq.append([rang.end, 1])\n",
    "    \n",
    "    sq.sort()\n",
    "    for pt in sq:\n",
    "        if pt[1] == 0:\n",
    "            cnt += 1\n",
    "            ans = max(ans, cnt)\n",
    "        else:\n",
    "            cnt -= 1\n",
    "    return ans\n",
    "\n",
    "tsq = [[0,30],[5,10],[15,20]]\n",
    "ints = []\n",
    "for lt in tsq:\n",
    "    ints.append(Interval(lt[0], lt[1]))\n",
    "    \n",
    "print(minMeetingRooms(ints))"
   ]
  },
  {
   "cell_type": "code",
   "execution_count": 11,
   "metadata": {},
   "outputs": [
    {
     "data": {
      "text/plain": [
       "True"
      ]
     },
     "execution_count": 11,
     "metadata": {},
     "output_type": "execute_result"
    }
   ],
   "source": [
    "#car pooling\n",
    "def carPooling(trips, capacity) -> bool:\n",
    "    if not trips:\n",
    "        return True\n",
    "    \n",
    "    cnt = 0\n",
    "    locs = []\n",
    "    #format of sweepling point should be careful\n",
    "    for n, start, end in trips:\n",
    "        locs.append((start, 1, n))\n",
    "        locs.append((end, 0, n))\n",
    "    \n",
    "    locs.sort()\n",
    "    for l in locs:\n",
    "        if l[1] == 1:\n",
    "            cnt += l[2]\n",
    "            if cnt > capacity:\n",
    "                return False\n",
    "        else:\n",
    "            cnt -= l[2]\n",
    "        \n",
    "    return True\n",
    "\n",
    "carPooling([[9,3,4],[9,1,7],[4,2,4],[7,4,5]], 23)"
   ]
  },
  {
   "cell_type": "code",
   "execution_count": null,
   "metadata": {},
   "outputs": [],
   "source": []
  }
 ],
 "metadata": {
  "kernelspec": {
   "display_name": "Python 3",
   "language": "python",
   "name": "python3"
  },
  "language_info": {
   "codemirror_mode": {
    "name": "ipython",
    "version": 3
   },
   "file_extension": ".py",
   "mimetype": "text/x-python",
   "name": "python",
   "nbconvert_exporter": "python",
   "pygments_lexer": "ipython3",
   "version": "3.8.3"
  }
 },
 "nbformat": 4,
 "nbformat_minor": 4
}
