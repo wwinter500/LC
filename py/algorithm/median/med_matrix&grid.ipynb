{
 "cells": [
  {
   "cell_type": "code",
   "execution_count": 2,
   "metadata": {},
   "outputs": [
    {
     "data": {
      "text/plain": [
       "9"
      ]
     },
     "execution_count": 2,
     "metadata": {},
     "output_type": "execute_result"
    }
   ],
   "source": [
    "def countSubmatrix(matrix):\n",
    "    if len(matrix) == 0:\n",
    "        return 0\n",
    "    n, m = len(matrix),len(matrix[0])\n",
    "    tot = [0 for i in range(m)]\n",
    "    sta = [[0,0] for i in range(m)]\n",
    "    ans = 0\n",
    "    for i in range(0, n):\n",
    "        cnt, top, tmp = 0, 0, 0\n",
    "        for j in range(0, m):\n",
    "            if matrix[i][j]:\n",
    "                cnt, top = 0, 0\n",
    "                tot[j] = 0\n",
    "                continue\n",
    "            tot[j] += 1\n",
    "            tmp = 1\n",
    "            while top and sta[top][0] >= tot[j]:\n",
    "                tmp += sta[top][1]\n",
    "                cnt -= sta[top][0] * sta[top][1]\n",
    "                top -= 1\n",
    "            top += 1\n",
    "            sta[top][0] = tot[j]\n",
    "            sta[top][1] = tmp\n",
    "            cnt += tot[j] * tmp\n",
    "            ans += cnt\n",
    "    return ans\n",
    "\n",
    "countSubmatrix([[0,0],[0,0]])"
   ]
  },
  {
   "cell_type": "code",
   "execution_count": 13,
   "metadata": {},
   "outputs": [
    {
     "data": {
      "text/plain": [
       "2"
      ]
     },
     "execution_count": 13,
     "metadata": {},
     "output_type": "execute_result"
    }
   ],
   "source": [
    "#unique path III\n",
    "#paths to walk each no-obstacle once to reach end\n",
    "def uniquePathsIII(grid) -> int:\n",
    "    if not grid or not grid[0]:\n",
    "        return 0\n",
    "    \n",
    "    n,m = len(grid), len(grid[0])\n",
    "    available = set()\n",
    "    \n",
    "    start, end = None, None\n",
    "    for i in range(n):\n",
    "        for j in range(m):\n",
    "            if grid[i][j] == 0 or grid[i][j] == 2:\n",
    "                available.add((i, j))\n",
    "            if grid[i][j] == 1:\n",
    "                start = (i, j)\n",
    "            if grid[i][j] == 2:\n",
    "                end = (i, j)\n",
    "                \n",
    "    return dfs(grid, start[0],start[1], end[0], end[1], available)\n",
    "\n",
    "def dfs(grid, x, y, tarx, tary, available):\n",
    "    if x == tarx and y == tary:\n",
    "        return 1 if not available else 0\n",
    "    \n",
    "    res = 0\n",
    "    for dx, dy in [(-1, 0),(0, 1),(0, -1),(1, 0)]:\n",
    "        nx, ny = dx + x, dy + y\n",
    "        if 0 <= nx < len(grid) and 0 <= ny < len(grid[0]) and abs(grid[nx][ny]) != 1 and (nx, ny) in available:\n",
    "            available.remove((nx, ny))\n",
    "            res += dfs(grid, nx, ny, tarx, tary, available)\n",
    "            available.add((nx, ny))\n",
    "    return res\n",
    "\n",
    "uniquePathsIII([[1,0,0,0],[0,0,0,0],[0,0,2,-1]])"
   ]
  },
  {
   "cell_type": "code",
   "execution_count": 1,
   "metadata": {},
   "outputs": [],
   "source": [
    "#LeetCode 1631. Path With Minimum Effort ***\n",
    "#dijkstra - solution1 -greedy\n",
    "#use heap to find best location first\n",
    "#then update neighbor\n",
    "def minimumEffortPath(heights):\n",
    "    n, m = len(heights), len(heights[0])\n",
    "    dirs = [(0, -1),(1,  0),(-1, 0),(0, 1)]\n",
    "    rec = [sys.maxsize] * (n * m)\n",
    "    rec[0] = 0\n",
    "    hp = [(0, 0)]\n",
    "\n",
    "    while hp:\n",
    "        cost, pos = heapq.heappop(hp);\n",
    "        if pos == n * m - 1:\n",
    "            return cost\n",
    "\n",
    "        y, x = pos // m, pos % m\n",
    "        for dy, dx in dirs:\n",
    "            ny, nx = y + dy, x + dx\n",
    "            if 0 <= ny < n and 0 <= nx < m:\n",
    "                npos = ny * m + nx\n",
    "                ncost = abs(heights[ny][nx] - heights[y][x])\n",
    "                if max(cost, ncost) < rec[npos]:\n",
    "                    rec[npos] = max(cost, ncost)\n",
    "                    heapq.heappush(hp, (rec[npos], npos))\n",
    "\n",
    "    return -1\n",
    "\n",
    "#dp - solution2\n",
    "def minimumEffortPath(heights):\n",
    "    n, m = len(heights), len(heights[0])\n",
    "    dp = [[sys.maxsize] * 100 for _ in range(100)]\n",
    "    dp[0][0] =0\n",
    "    dirs = [(0, -1),(1, 0),(-1, 0),(0, 1)]\n",
    "    \n",
    "    for k in range(n * m):\n",
    "        stable = True\n",
    "        for y in range(n):\n",
    "            for x in range(m):\n",
    "                for dy, dx in dirs:\n",
    "                    ny, nx = y + dy, x + dx\n",
    "                    if 0 <= ny < n and 0 <= nx < m:\n",
    "                        t = max(dp[ny][nx], abs(heights[ny][nx] - heights[y][x]))\n",
    "                        if t < dp[y][x]:\n",
    "                            stable = False\n",
    "                            dp[y][x] = t\n",
    "        if stable:\n",
    "            break\n",
    "    \n",
    "    return dp[n - 1][m - 1]"
   ]
  },
  {
   "cell_type": "code",
   "execution_count": 1,
   "metadata": {},
   "outputs": [
    {
     "ename": "NameError",
     "evalue": "name 'List' is not defined",
     "output_type": "error",
     "traceback": [
      "\u001b[0;31m---------------------------------------------------------------------------\u001b[0m",
      "\u001b[0;31mNameError\u001b[0m                                 Traceback (most recent call last)",
      "\u001b[0;32m<ipython-input-1-a1e8f93edf73>\u001b[0m in \u001b[0;36m<module>\u001b[0;34m\u001b[0m\n\u001b[1;32m      1\u001b[0m \u001b[0;31m#number of submatrix with sum == target\u001b[0m\u001b[0;34m\u001b[0m\u001b[0;34m\u001b[0m\u001b[0;34m\u001b[0m\u001b[0m\n\u001b[0;32m----> 2\u001b[0;31m \u001b[0;32mdef\u001b[0m \u001b[0mnumSubmatrixSumTarget\u001b[0m\u001b[0;34m(\u001b[0m\u001b[0mself\u001b[0m\u001b[0;34m,\u001b[0m \u001b[0mmatrix\u001b[0m\u001b[0;34m:\u001b[0m \u001b[0mList\u001b[0m\u001b[0;34m[\u001b[0m\u001b[0mList\u001b[0m\u001b[0;34m[\u001b[0m\u001b[0mint\u001b[0m\u001b[0;34m]\u001b[0m\u001b[0;34m]\u001b[0m\u001b[0;34m,\u001b[0m \u001b[0mtarget\u001b[0m\u001b[0;34m:\u001b[0m \u001b[0mint\u001b[0m\u001b[0;34m)\u001b[0m \u001b[0;34m->\u001b[0m \u001b[0mint\u001b[0m\u001b[0;34m:\u001b[0m\u001b[0;34m\u001b[0m\u001b[0;34m\u001b[0m\u001b[0m\n\u001b[0m\u001b[1;32m      3\u001b[0m     \u001b[0mn\u001b[0m\u001b[0;34m,\u001b[0m \u001b[0mm\u001b[0m \u001b[0;34m=\u001b[0m \u001b[0mlen\u001b[0m\u001b[0;34m(\u001b[0m\u001b[0mmatrix\u001b[0m\u001b[0;34m)\u001b[0m\u001b[0;34m,\u001b[0m \u001b[0mlen\u001b[0m\u001b[0;34m(\u001b[0m\u001b[0mmatrix\u001b[0m\u001b[0;34m[\u001b[0m\u001b[0;36m0\u001b[0m\u001b[0;34m]\u001b[0m\u001b[0;34m)\u001b[0m\u001b[0;34m\u001b[0m\u001b[0;34m\u001b[0m\u001b[0m\n\u001b[1;32m      4\u001b[0m     \u001b[0mans\u001b[0m \u001b[0;34m=\u001b[0m \u001b[0;36m0\u001b[0m\u001b[0;34m\u001b[0m\u001b[0;34m\u001b[0m\u001b[0m\n\u001b[1;32m      5\u001b[0m     \u001b[0;32mfor\u001b[0m \u001b[0mi\u001b[0m \u001b[0;32min\u001b[0m \u001b[0mrange\u001b[0m\u001b[0;34m(\u001b[0m\u001b[0mn\u001b[0m\u001b[0;34m)\u001b[0m\u001b[0;34m:\u001b[0m\u001b[0;34m\u001b[0m\u001b[0;34m\u001b[0m\u001b[0m\n",
      "\u001b[0;31mNameError\u001b[0m: name 'List' is not defined"
     ]
    }
   ],
   "source": [
    "#number of submatrix with sum == target\n",
    "def numSubmatrixSumTarget(self, matrix: List[List[int]], target: int) -> int:\n",
    "    n, m = len(matrix), len(matrix[0])\n",
    "    ans = 0\n",
    "    for i in range(n):\n",
    "        for j in range(1, m):\n",
    "            matrix[i][j] += matrix[i][j - 1]\n",
    "\n",
    "    for j in range(m):\n",
    "        for k in range(j, m):\n",
    "            res = {0 : 1}\n",
    "            csum = 0\n",
    "            for r in matrix:\n",
    "                csum += r[k] - (r[j - 1] if j else 0)\n",
    "                if csum - target in res:\n",
    "                    ans += res[csum - target]\n",
    "                res[csum] = res[csum] + 1 if csum in res else 1\n",
    "    return ans"
   ]
  },
  {
   "cell_type": "code",
   "execution_count": null,
   "metadata": {},
   "outputs": [],
   "source": [
    "#the maze II\n",
    "def shortestDistance(self, maze: List[List[int]], start: List[int], destination: List[int]) -> int:\n",
    "    start, destination = tuple(start), tuple(destination)\n",
    "    row,col = len(maze),len(maze[0])\n",
    "    def neighbors(maze, node):\n",
    "        temp = []\n",
    "        used = set()\n",
    "        used.add(node)\n",
    "        for dx, dy in [(-1, 0), (0, 1), (0, -1), (1, 0)]:\n",
    "            (x,y), dist = node, 0\n",
    "            while 0 <= x+dx < row and 0 <= y+dy < col and maze[x+dx][y+dy] == 0:\n",
    "                x += dx\n",
    "                y += dy\n",
    "                dist += 1\n",
    "            if (x,y) not in used:\n",
    "                temp.append((dist, (x,y)))\n",
    "        return temp\n",
    "\n",
    "    heap = [(0, start)]\n",
    "    visited = set()\n",
    "    while heap:\n",
    "        dist, node = heapq.heappop(heap)\n",
    "        if node in visited: continue\n",
    "        if node == destination:\n",
    "            return dist\n",
    "        visited.add(node)\n",
    "        for neighbor_dist, neighbor in neighbors(maze, node):\n",
    "            heapq.heappush(heap, (dist+neighbor_dist, neighbor))\n",
    "    return -1"
   ]
  }
 ],
 "metadata": {
  "kernelspec": {
   "display_name": "Python 3",
   "language": "python",
   "name": "python3"
  },
  "language_info": {
   "codemirror_mode": {
    "name": "ipython",
    "version": 3
   },
   "file_extension": ".py",
   "mimetype": "text/x-python",
   "name": "python",
   "nbconvert_exporter": "python",
   "pygments_lexer": "ipython3",
   "version": "3.8.3"
  }
 },
 "nbformat": 4,
 "nbformat_minor": 4
}
