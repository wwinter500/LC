{
 "cells": [
  {
   "cell_type": "code",
   "execution_count": 9,
   "metadata": {},
   "outputs": [],
   "source": [
    "from collections import deque\n",
    "import sys\n",
    "#787 bfs - the maze 1\n",
    "def hasPath(self, maze, start, destination):\n",
    "    if not maze or not maze[0]:\n",
    "        return False\n",
    "    \n",
    "    n,m = len(maze), len(maze[0])\n",
    "    qu = deque([(start[0], start[1])])\n",
    "    dirs = [(0, 1), (1, 0), (0, -1), (-1, 0)]\n",
    "    while qu:\n",
    "        y,x = qu.popleft()\n",
    "        if y == destination[0] and x == destination[1]:\n",
    "            return true\n",
    "        \n",
    "        maze[y][x] = 2\n",
    "        for dy, dx in dirs:\n",
    "            ny, nx = y + dy, x + dx\n",
    "            while ny >= 0 and ny < n and nx >= 0 and nx < m and maze[ny][nx] != 1:\n",
    "                ny += dy\n",
    "                nx += dx\n",
    "            \n",
    "            ny -= dy\n",
    "            nx -= dx\n",
    "            \n",
    "            if maze[ny][nx] == 0:\n",
    "                qu.append((ny, nx))\n",
    "    \n",
    "    return False\n",
    "        "
   ]
  },
  {
   "cell_type": "code",
   "execution_count": 38,
   "metadata": {},
   "outputs": [],
   "source": [
    "#788 shortest path steps from start to destination at maze\n",
    "def shortestDistance(maze, start, destination):\n",
    "    if not maze or not maze[0]:\n",
    "        return 0\n",
    "    \n",
    "    n,m = len(maze), len(maze[0])\n",
    "    qu = deque([(start[0], start[1], 0)])\n",
    "    dirs = [(0, 1), (-1, 0), (0, -1), (1, 0)]\n",
    "    visited = {(start[0], start[1])}\n",
    "    ans = -1\n",
    "    \n",
    "    while qu:\n",
    "        s = len(qu)\n",
    "        for i in range(s):\n",
    "            y, x, pts = qu.popleft()\n",
    "            if y == destination[0] and x == destination[1]:\n",
    "                ans = pts if ans == -1 else min(ans, pts)\n",
    "                \n",
    "            for dy, dx in dirs:\n",
    "                ny, nx = y + dy, x + dx\n",
    "                count = 0\n",
    "                while  0 <= ny < n and 0 <= nx < m and maze[ny][nx] == 0:\n",
    "                    ny += dy\n",
    "                    nx += dx\n",
    "                    count += 1\n",
    "                    \n",
    "                ny -= dy\n",
    "                nx -= dx\n",
    "                \n",
    "                if (ny,nx) not in visited:\n",
    "                    qu.append((ny, nx, pts + count))\n",
    "                    visited.add((ny, nx))\n",
    "                    \n",
    "    return ans"
   ]
  },
  {
   "cell_type": "code",
   "execution_count": 39,
   "metadata": {},
   "outputs": [
    {
     "name": "stdout",
     "output_type": "stream",
     "text": [
      "12\n"
     ]
    }
   ],
   "source": [
    "maze = [ [0, 0, 1, 0, 0], [0, 0, 0, 0, 0], [0, 0, 0, 1, 0], [1, 1, 0, 1, 1],[0, 0, 0, 0, 0]]\n",
    "start = [0, 4]\n",
    "destination = [4, 4]\n",
    "print(shortestDistance(maze, start, destination))"
   ]
  },
  {
   "cell_type": "code",
   "execution_count": 19,
   "metadata": {},
   "outputs": [],
   "source": []
  },
  {
   "cell_type": "code",
   "execution_count": 20,
   "metadata": {},
   "outputs": [
    {
     "name": "stdout",
     "output_type": "stream",
     "text": [
      "[[True, True, True, False], [False, True, False, False], [False, False, False, False], [False, False, False, False]]\n",
      "[[0, 0], [1, 0], [1, 1], [2, 0]]\n"
     ]
    }
   ],
   "source": []
  },
  {
   "cell_type": "code",
   "execution_count": null,
   "metadata": {},
   "outputs": [],
   "source": []
  }
 ],
 "metadata": {
  "kernelspec": {
   "display_name": "Python 3",
   "language": "python",
   "name": "python3"
  },
  "language_info": {
   "codemirror_mode": {
    "name": "ipython",
    "version": 3
   },
   "file_extension": ".py",
   "mimetype": "text/x-python",
   "name": "python",
   "nbconvert_exporter": "python",
   "pygments_lexer": "ipython3",
   "version": "3.7.4"
  }
 },
 "nbformat": 4,
 "nbformat_minor": 4
}
