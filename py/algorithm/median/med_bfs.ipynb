{
 "cells": [
  {
   "cell_type": "code",
   "execution_count": 2,
   "metadata": {},
   "outputs": [],
   "source": [
    "from collections import deque\n",
    "import re\n",
    "import sys"
   ]
  },
  {
   "cell_type": "code",
   "execution_count": null,
   "metadata": {},
   "outputs": [],
   "source": [
    "#787 bfs - the maze 1\n",
    "def hasPath(self, maze, start, destination):\n",
    "    if not maze or not maze[0]:\n",
    "        return False\n",
    "    \n",
    "    n,m = len(maze), len(maze[0])\n",
    "    qu = deque([(start[0], start[1])])\n",
    "    dirs = [(0, 1), (1, 0), (0, -1), (-1, 0)]\n",
    "    while qu:\n",
    "        y,x = qu.popleft()\n",
    "        if y == destination[0] and x == destination[1]:\n",
    "            return true\n",
    "        \n",
    "        maze[y][x] = 2\n",
    "        for dy, dx in dirs:\n",
    "            ny, nx = y + dy, x + dx\n",
    "            while ny >= 0 and ny < n and nx >= 0 and nx < m and maze[ny][nx] != 1:\n",
    "                ny += dy\n",
    "                nx += dx\n",
    "            \n",
    "            ny -= dy\n",
    "            nx -= dx\n",
    "            \n",
    "            if maze[ny][nx] == 0:\n",
    "                qu.append((ny, nx))\n",
    "    \n",
    "    return False"
   ]
  },
  {
   "cell_type": "code",
   "execution_count": 38,
   "metadata": {},
   "outputs": [],
   "source": [
    "#788 shortest path steps from start to destination at maze\n",
    "def shortestDistance(maze, start, destination):\n",
    "    if not maze or not maze[0]:\n",
    "        return 0\n",
    "    \n",
    "    n,m = len(maze), len(maze[0])\n",
    "    qu = deque([(start[0], start[1], 0)])\n",
    "    dirs = [(0, 1), (-1, 0), (0, -1), (1, 0)]\n",
    "    visited = {(start[0], start[1])}\n",
    "    ans = -1\n",
    "    \n",
    "    while qu:\n",
    "        s = len(qu)\n",
    "        for i in range(s):\n",
    "            y, x, pts = qu.popleft()\n",
    "            if y == destination[0] and x == destination[1]:\n",
    "                ans = pts if ans == -1 else min(ans, pts)\n",
    "                \n",
    "            for dy, dx in dirs:\n",
    "                ny, nx = y + dy, x + dx\n",
    "                count = 0\n",
    "                while  0 <= ny < n and 0 <= nx < m and maze[ny][nx] == 0:\n",
    "                    ny += dy\n",
    "                    nx += dx\n",
    "                    count += 1\n",
    "                    \n",
    "                ny -= dy\n",
    "                nx -= dx\n",
    "                \n",
    "                if (ny,nx) not in visited:\n",
    "                    qu.append((ny, nx, pts + count))\n",
    "                    visited.add((ny, nx))\n",
    "                    \n",
    "    return ans"
   ]
  },
  {
   "cell_type": "code",
   "execution_count": 39,
   "metadata": {},
   "outputs": [
    {
     "name": "stdout",
     "output_type": "stream",
     "text": [
      "12\n"
     ]
    }
   ],
   "source": [
    "maze = [ [0, 0, 1, 0, 0], [0, 0, 0, 0, 0], [0, 0, 0, 1, 0], [1, 1, 0, 1, 1],[0, 0, 0, 0, 0]]\n",
    "start = [0, 4]\n",
    "destination = [4, 4]\n",
    "print(shortestDistance(maze, start, destination))"
   ]
  },
  {
   "cell_type": "code",
   "execution_count": 19,
   "metadata": {},
   "outputs": [],
   "source": [
    "#1723 shortest path in matrix with at most removing k obstacle\n",
    "def shortestPath(grid: List[List[int]], k: int) -> int:\n",
    "        n,m = len(grid), len(grid[0])\n",
    "        qu = collections.deque([(0, 0)])\n",
    "        ktable = [[sys.maxsize] * m for _ in range(n)]\n",
    "        ktable[0][0] = 0 \n",
    "        \n",
    "        steps = 0\n",
    "        dirs = [(-1, 0),(0, 1),(0, -1),(1, 0)]\n",
    "        while qu:\n",
    "            s = len(qu)\n",
    "            for _ in range(s):\n",
    "                y, x = qu.popleft()\n",
    "                if y == n - 1 and x == m - 1:\n",
    "                    return steps\n",
    "                    \n",
    "                for dy, dx in dirs:\n",
    "                    ny, nx = y + dy, x + dx\n",
    "                    if ny >= 0 and ny < n and nx >= 0 and nx < m:\n",
    "                        if grid[ny][nx] == 1 and ktable[ny][nx] > ktable[y][x] + 1:\n",
    "                            ktable[ny][nx] = ktable[y][x] + 1\n",
    "                            if ktable[ny][nx] <= k:\n",
    "                                qu.append((ny, nx))\n",
    "                                \n",
    "                        if grid[ny][nx] == 0 and ktable[ny][nx] > ktable[y][x]:\n",
    "                            ktable[ny][nx] = ktable[y][x]\n",
    "                            if ktable[ny][nx] <= k:\n",
    "                                qu.append((ny, nx))\n",
    "                                \n",
    "            steps += 1\n",
    "        return -1"
   ]
  },
  {
   "cell_type": "code",
   "execution_count": 20,
   "metadata": {},
   "outputs": [
    {
     "name": "stdout",
     "output_type": "stream",
     "text": [
      "[[True, True, True, False], [False, True, False, False], [False, False, False, False], [False, False, False, False]]\n",
      "[[0, 0], [1, 0], [1, 1], [2, 0]]\n"
     ]
    }
   ],
   "source": [
    "#bfs - knight shortest path II\n",
    "import collections\n",
    "def shortestPath2(grid):\n",
    "    if not grid or not grid[0]:\n",
    "        return -1\n",
    "    \n",
    "    n,m = len(grid), len(grid[0])\n",
    "    visited = set((0, 0))\n",
    "    qu = collections.deque([(0,0)])\n",
    "    dirs = [(-2, 1),(2, 1),(1, 2),(-1, 2)]\n",
    "    \n",
    "    steps = 0\n",
    "    while qu:\n",
    "        s = len(qu)\n",
    "        for _ in range(s):\n",
    "            x, y = qu.popleft()\n",
    "            if x == n - 1 and y == m - 1:\n",
    "                return steps\n",
    "\n",
    "            for dx, dy in dirs:\n",
    "                nx, ny = x + dx, y + dy\n",
    "                if 0 <= nx < n and 0 <= ny < m and grid[nx][ny] == 0 and (nx, ny) not in visited:\n",
    "                    visited.add((nx, ny))\n",
    "                    qu.append((nx, ny))\n",
    "        steps += 1\n",
    "    return -1\n",
    "\n",
    "shortestPath2([[0,0,0,0],[0,0,0,0],[0,1,0,0]])"
   ]
  },
  {
   "cell_type": "code",
   "execution_count": 3,
   "metadata": {},
   "outputs": [
    {
     "data": {
      "text/plain": [
       "0"
      ]
     },
     "execution_count": 3,
     "metadata": {},
     "output_type": "execute_result"
    }
   ],
   "source": [
    "#remove substrings\n",
    "def minLength(s, dict):\n",
    "    if not s:\n",
    "        return 0\n",
    "\n",
    "    res = len(s)\n",
    "    qu = deque([s])\n",
    "    checked = set([s])\n",
    "    while qu:\n",
    "        cur = qu.popleft()\n",
    "        for sub in dict:\n",
    "            i = cur.find(sub) \n",
    "            while i != -1:\n",
    "                nxt = cur[:i] + cur[i + len(sub):]\n",
    "                if nxt not in checked:\n",
    "                    res = min(res, len(nxt))\n",
    "                    checked.add(nxt)\n",
    "                    qu.append(nxt)\n",
    "\n",
    "                i = cur.find(sub, i + 1)\n",
    "    return res\n",
    "\n",
    "minLength(\"abcabd\", set([\"ab\",\"abcd\"]))"
   ]
  },
  {
   "cell_type": "code",
   "execution_count": 1,
   "metadata": {},
   "outputs": [],
   "source": [
    "#minimum height tree\n",
    "def minimumHeightTree(n, edges):\n",
    "    if n == 1:\n",
    "        return [0]\n",
    "    \n",
    "    graph = [set() for _ in range(n)]#p1\n",
    "    for a, b in edges:\n",
    "        graph[a].add(b)\n",
    "        graph[b].add(a)\n",
    "    \n",
    "    leaves = [i for i in range(n) if len(graph[i]) == 1]\n",
    "    while n > 2:#p2\n",
    "        n -= len(leaves)\n",
    "        new_leaves = []\n",
    "        for leaf in leaves:\n",
    "            neighbor = graph[leaf].pop()#3\n",
    "            graph[neighbor].remove(leaf)\n",
    "            if graph[neighbor] == 1:\n",
    "                new_leaves.append(neighbor)\n",
    "        \n",
    "        leaves = new_leaves\n",
    "    return leaves"
   ]
  },
  {
   "cell_type": "code",
   "execution_count": null,
   "metadata": {},
   "outputs": [],
   "source": [
    "#travesal based on vertical - bfs\n",
    "def verticalOrder(self, root):\n",
    "    results = collections.defaultdict(list)\n",
    "    queue = collections.deque()\n",
    "\n",
    "    queue.append((root, 0))\n",
    "    # 宽度优先遍历，同时记录列编号\n",
    "    while queue:\n",
    "        node, col_idx = queue.popleft()\n",
    "        if node:\n",
    "            results[col_idx].append(node.val)\n",
    "            queue.append((node.left, col_idx - 1))\n",
    "            queue.append((node.right, col_idx + 1))\n",
    "\n",
    "    return [results[i] for i in sorted(results)]"
   ]
  }
 ],
 "metadata": {
  "kernelspec": {
   "display_name": "Python 3",
   "language": "python",
   "name": "python3"
  },
  "language_info": {
   "codemirror_mode": {
    "name": "ipython",
    "version": 3
   },
   "file_extension": ".py",
   "mimetype": "text/x-python",
   "name": "python",
   "nbconvert_exporter": "python",
   "pygments_lexer": "ipython3",
   "version": "3.8.3"
  }
 },
 "nbformat": 4,
 "nbformat_minor": 4
}
