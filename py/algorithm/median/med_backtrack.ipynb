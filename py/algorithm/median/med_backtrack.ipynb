{
 "cells": [
  {
   "cell_type": "code",
   "execution_count": null,
   "metadata": {},
   "outputs": [],
   "source": [
    "#Find Leaves of Binary Tree\n",
    "class Solution:\n",
    "    def findLeaves(self, root: TreeNode) -> List[List[int]]:\n",
    "        levelmap = collections.defaultdict(list)\n",
    "        deeplevel = self.dfs(root, levelmap)\n",
    "        ans = []\n",
    "        for l in range(0, deeplevel + 1):\n",
    "            ans.append(levelmap[l])\n",
    "        return ans\n",
    "    \n",
    "    def dfs(self, root, levelmap):\n",
    "        if not root:\n",
    "            return -1\n",
    "        \n",
    "        ll = self.dfs(root.left, levelmap)\n",
    "        rl = self.dfs(root.right, levelmap)\n",
    "        level = max(ll, rl) + 1\n",
    "        levelmap[level].append(root.val)\n",
    "        return level"
   ]
  }
 ],
 "metadata": {
  "kernelspec": {
   "display_name": "Python 3",
   "language": "python",
   "name": "python3"
  },
  "language_info": {
   "codemirror_mode": {
    "name": "ipython",
    "version": 3
   },
   "file_extension": ".py",
   "mimetype": "text/x-python",
   "name": "python",
   "nbconvert_exporter": "python",
   "pygments_lexer": "ipython3",
   "version": "3.8.3"
  }
 },
 "nbformat": 4,
 "nbformat_minor": 4
}
