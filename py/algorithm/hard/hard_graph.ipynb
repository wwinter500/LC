{
 "cells": [
  {
   "cell_type": "code",
   "execution_count": 8,
   "metadata": {},
   "outputs": [],
   "source": [
    "import collections"
   ]
  },
  {
   "cell_type": "code",
   "execution_count": 30,
   "metadata": {},
   "outputs": [
    {
     "name": "stdout",
     "output_type": "stream",
     "text": [
      "[1, 2, 0, 0, 0] [1, 2, 0, 0, 0] 3 []\n",
      "[1, 2, 3, 0, 0] [1, 2, 3, 0, 0] 4 []\n",
      "[1, 2, 3, 4, 0] [1, 2, 3, 4, 0] 5 []\n",
      "[1, 2, 3, 4, 5] [1, 2, 3, 4, 5] 6 []\n",
      "[1, 2, 3, 4, 5] [1, 2, 3, 4, 5] 5 [[3, 4]]\n",
      "[1, 2, 3, 4, 5] [1, 2, 3, 4, 5] 4 [[3, 4], [2, 3]]\n",
      "[1, 2, 3, 4, 5] [1, 2, 3, 4, 5] 3 [[3, 4], [2, 3], [1, 2]]\n",
      "[1, 2, 3, 4, 5] [1, 2, 3, 4, 5] 2 [[3, 4], [2, 3], [1, 2], [0, 1]]\n"
     ]
    },
    {
     "data": {
      "text/plain": [
       "[[3, 4], [2, 3], [1, 2], [0, 1]]"
      ]
     },
     "execution_count": 30,
     "metadata": {},
     "output_type": "execute_result"
    }
   ],
   "source": [
    "#1192. ***** Critical Connections in a Network - amazon\n",
    "#two array to verify\n",
    "#dfs + memo\n",
    "def dfs(curr, prev, disc, low, time, ans, edgemap):\n",
    "    disc[curr] = time\n",
    "    low[curr] = time\n",
    "    time += 1#*\n",
    "    for next in edgemap[curr]:\n",
    "        if not disc[next]:\n",
    "            dfs(next, curr, disc, low, time, ans, edgemap)\n",
    "            low[curr] = min(low[curr], low[next])\n",
    "        elif next != prev:#stop dfs when it has been initial with first reached time\n",
    "            low[curr] = min(low[curr], low[next])\n",
    "        if low[next] > disc[curr]:#* show this is not cycle to \n",
    "            ans.append([curr, next])\n",
    "\n",
    "        print(disc, low, time, ans)\n",
    "        \n",
    "def criticalConnections(n, connections):\n",
    "    edgemap = collections.defaultdict(list)\n",
    "    for a, b in connections:\n",
    "        edgemap[a].append(b)\n",
    "        edgemap[b].append(a)\n",
    "    \n",
    "    time = 1\n",
    "    disc, low, ans = [0] * n, [0] * n, []\n",
    "    \n",
    "    \n",
    "    dfs(0, -1,disc, low, time, ans, edgemap)\n",
    "    return ans\n",
    "#criticalConnections(4,[[0,1],[1,2],[2,0],[1,3]])\n",
    "criticalConnections(5,[[0,1],[1,2],[2,3],[3,4]])"
   ]
  },
  {
   "cell_type": "code",
   "execution_count": null,
   "metadata": {},
   "outputs": [],
   "source": [
    "#"
   ]
  }
 ],
 "metadata": {
  "kernelspec": {
   "display_name": "Python 3",
   "language": "python",
   "name": "python3"
  },
  "language_info": {
   "codemirror_mode": {
    "name": "ipython",
    "version": 3
   },
   "file_extension": ".py",
   "mimetype": "text/x-python",
   "name": "python",
   "nbconvert_exporter": "python",
   "pygments_lexer": "ipython3",
   "version": "3.8.3"
  }
 },
 "nbformat": 4,
 "nbformat_minor": 4
}
