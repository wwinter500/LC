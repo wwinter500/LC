{
 "cells": [
  {
   "cell_type": "code",
   "execution_count": null,
   "metadata": {},
   "outputs": [],
   "source": [
    "#Count of Smaller Numbers After Self\n",
    "def countSmaller(self, nums):\n",
    "    "
   ]
  },
  {
   "cell_type": "code",
   "execution_count": null,
   "metadata": {},
   "outputs": [],
   "source": [
    "#best time to sell stock III - at most twice operation\n",
    "def bestTimeToSellStock(arr):\n",
    "    n = len(arr)\n",
    "    pbuy, psell = [0] * n, [0] * n\n",
    "    minbuy = arr[0]\n",
    "    for i in range(1, n):\n",
    "        minbuy = min(minbuy, arr[i])\n",
    "        psell[i] = max(psell[i - 1], arr[i] - minbuy)\n",
    "    \n",
    "    maxsell = arr[-1]\n",
    "    for i in range(n - 2, -1, -1):\n",
    "        maxsell = max(maxsell, arr[i])\n",
    "        pbuy[i] = max(pbuy[i + 1], maxsell - arr[i])\n",
    "    \n",
    "    ans = 0\n",
    "    for i in range(n):\n",
    "        ans = max(ans, pbuy[i] + psell[i])\n",
    "    return ans\n",
    "\n",
    "bestTimeToSellStock([1, 2,3])"
   ]
  }
 ],
 "metadata": {
  "kernelspec": {
   "display_name": "Python 3",
   "language": "python",
   "name": "python3"
  },
  "language_info": {
   "codemirror_mode": {
    "name": "ipython",
    "version": 3
   },
   "file_extension": ".py",
   "mimetype": "text/x-python",
   "name": "python",
   "nbconvert_exporter": "python",
   "pygments_lexer": "ipython3",
   "version": "3.8.3"
  }
 },
 "nbformat": 4,
 "nbformat_minor": 4
}
