{
 "cells": [
  {
   "cell_type": "code",
   "execution_count": 3,
   "metadata": {},
   "outputs": [
    {
     "name": "stdout",
     "output_type": "stream",
     "text": [
      "2 3\n"
     ]
    },
    {
     "data": {
      "text/plain": [
       "[0, 3]"
      ]
     },
     "execution_count": 3,
     "metadata": {},
     "output_type": "execute_result"
    }
   ],
   "source": [
    "#three equal parts\n",
    "#find i, j to divide [0, i], [ i + 1, j - 1], [j, n -1] equal\n",
    "#O(n^2) TOL\n",
    "def threeEqualParts(A):\n",
    "    n = len(A)\n",
    "    indexes = [i for i in range(n) if A[i] == 1]\n",
    "    m = len(indexes)\n",
    "\n",
    "    if m == 0: return [0, 2]\n",
    "\n",
    "    if m % 3 != 0: return [-1, -1]\n",
    "    p1, p2 = indexes[0], indexes[m//3-1]\n",
    "    p3, p4 = indexes[m//3], indexes[2*m//3-1]\n",
    "    p5, p6 = indexes[2*m//3], indexes[-1]\n",
    "    part1, part2, part3 = A[p1:p2+1], A[p3:p4+1], A[p5:p6+1]\n",
    "\n",
    "    if part1 != part2 or part2 != part3: return [-1, -1]\n",
    "\n",
    "    l1 = p3 - p2 - 1\n",
    "    l2 = p5 - p4 - 1\n",
    "    l3 = n - p6 - 1\n",
    "\n",
    "    if l3 > l2 or l3 > l1: return [-1, -1]\n",
    "\n",
    "    return [p2 + l3, p4 + l3 + 1]\n",
    "\n",
    "threeEqualParts([1,0,1,0, 1])"
   ]
  },
  {
   "cell_type": "code",
   "execution_count": null,
   "metadata": {},
   "outputs": [],
   "source": [
    "#best time to sell stock III - at most twice operation\n",
    "def bestTimeToSellStock(arr):\n",
    "    n = len(arr)\n",
    "    pbuy, psell = [0] * n, [0] * n\n",
    "    minbuy = arr[0]\n",
    "    for i in range(1, n):\n",
    "        minbuy = min(minbuy, arr[i])\n",
    "        psell[i] = max(psell[i - 1], arr[i] - minbuy)\n",
    "    \n",
    "    maxsell = arr[-1]\n",
    "    for i in range(n - 2, -1, -1):\n",
    "        maxsell = max(maxsell, arr[i])\n",
    "        pbuy[i] = max(pbuy[i + 1], maxsell - arr[i])\n",
    "    \n",
    "    ans = 0\n",
    "    for i in range(n):\n",
    "        ans = max(ans, pbuy[i] + psell[i])\n",
    "    return ans\n",
    "\n",
    "bestTimeToSellStock([1, 2,3])"
   ]
  }
 ],
 "metadata": {
  "kernelspec": {
   "display_name": "Python 3",
   "language": "python",
   "name": "python3"
  },
  "language_info": {
   "codemirror_mode": {
    "name": "ipython",
    "version": 3
   },
   "file_extension": ".py",
   "mimetype": "text/x-python",
   "name": "python",
   "nbconvert_exporter": "python",
   "pygments_lexer": "ipython3",
   "version": "3.8.3"
  }
 },
 "nbformat": 4,
 "nbformat_minor": 4
}
