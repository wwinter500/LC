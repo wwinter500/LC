{
 "cells": [
  {
   "cell_type": "code",
   "execution_count": 2,
   "metadata": {},
   "outputs": [],
   "source": [
    "#841 string replace\n",
    "class trieNode:\n",
    "    def __init__(self):\n",
    "        self.child = [None for i in range(26)]\n",
    "        self.isStr = False\n",
    "\n",
    "def stringReplace(a, b, s):\n",
    "    #rolling hash"
   ]
  },
  {
   "cell_type": "code",
   "execution_count": 3,
   "metadata": {},
   "outputs": [],
   "source": [
    "a = [\"ab\"]\n",
    "b = [\"cc\"]\n",
    "s = \"abssw\"\n",
    "stringReplace(a,b,s)"
   ]
  },
  {
   "cell_type": "code",
   "execution_count": null,
   "metadata": {},
   "outputs": [],
   "source": [
    "#594 \n",
    "def strStr2(source, target):\n",
    "    "
   ]
  }
 ],
 "metadata": {
  "kernelspec": {
   "display_name": "Python 3",
   "language": "python",
   "name": "python3"
  },
  "language_info": {
   "codemirror_mode": {
    "name": "ipython",
    "version": 3
   },
   "file_extension": ".py",
   "mimetype": "text/x-python",
   "name": "python",
   "nbconvert_exporter": "python",
   "pygments_lexer": "ipython3",
   "version": "3.7.3"
  }
 },
 "nbformat": 4,
 "nbformat_minor": 2
}
