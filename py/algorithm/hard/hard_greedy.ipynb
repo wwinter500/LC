{
 "cells": [
  {
   "cell_type": "code",
   "execution_count": null,
   "metadata": {},
   "outputs": [],
   "source": [
    "#gas station Greedy + heapq\n",
    "import heapq\n",
    "def gasStationII(self, target, distances, original, apply):\n",
    "    ans = 0\n",
    "    if distances[-1] < target:\n",
    "        distances.append(target)\n",
    "        apply.append(0)\n",
    "    \n",
    "    pre = 0\n",
    "    fule = original\n",
    "    hq = []\n",
    "    for i, d in enumerate(distances):\n",
    "        if d > target:\n",
    "            d = target\n",
    "        \n",
    "        gap = d - pre\n",
    "        while fule < gap and hq:\n",
    "            fule += heapq.heappop(hq) * -1\n",
    "            ans += 1\n",
    "            \n",
    "        if fule < gap:\n",
    "            break\n",
    "            \n",
    "        fule -= gap\n",
    "        \n",
    "        heapq.heappush(hp, -apply[i])\n",
    "        pre = d\n",
    "        \n",
    "        if d == distance:\n",
    "            return ans\n",
    "    return -1"
   ]
  }
 ],
 "metadata": {
  "kernelspec": {
   "display_name": "Python 3",
   "language": "python",
   "name": "python3"
  },
  "language_info": {
   "codemirror_mode": {
    "name": "ipython",
    "version": 3
   },
   "file_extension": ".py",
   "mimetype": "text/x-python",
   "name": "python",
   "nbconvert_exporter": "python",
   "pygments_lexer": "ipython3",
   "version": "3.8.3"
  }
 },
 "nbformat": 4,
 "nbformat_minor": 4
}
