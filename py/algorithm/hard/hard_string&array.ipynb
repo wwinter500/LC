{
 "cells": [
  {
   "cell_type": "code",
   "execution_count": 5,
   "metadata": {},
   "outputs": [],
   "source": [
    "import random        "
   ]
  },
  {
   "cell_type": "code",
   "execution_count": null,
   "metadata": {},
   "outputs": [],
   "source": [
    "#841 string replace\n",
    "def stringReplace(a, b, s):\n",
    "    seed = 33\n",
    "    mod = 1000000007\n",
    "    ans = 0\n",
    "    mxLen = -1\n",
    "    aHash, sHash, base = [], [], []\n",
    "    for i in a:\n",
    "        ans = 1\n",
    "        mxLen = max(mxLen, len(i))\n",
    "        for j in i:\n",
    "            ans = (ans * seed + ord(j) - ord('a')) % mod\n",
    "        aHash.append(ans)\n",
    "    ans = 1\n",
    "    sHash.append(ans)\n",
    "    mxLen = max(mxLen, len(s))\n",
    "    for i in s:\n",
    "        ans = (ans * seed + ord(i) - ord('a')) % mod\n",
    "        sHash.append(ans)\n",
    "    ans = 1\n",
    "    base.append(ans)\n",
    "    for i in range(mxLen):\n",
    "        ans = ans * seed % mod\n",
    "        base.append(ans)\n",
    "    ret = [i for i in s]\n",
    "    i = 0\n",
    "    while i < len(s):\n",
    "        maxLen = -1\n",
    "        index = 0\n",
    "        for j in range(len(a)):\n",
    "            lenaj = len(a[j])\n",
    "            l = i + 1\n",
    "            r = i + lenaj\n",
    "            if r > len(s):\n",
    "                continue\n",
    "            sHashValue = (sHash[r] - base[r - l + 1] * sHash[l - 1] % mod + mod) % mod\n",
    "            aHashValue = (aHash[j] - base[lenaj] + mod) % mod\n",
    "            if sHashValue == aHashValue and lenaj > maxLen:\n",
    "                maxLen = lenaj\n",
    "                index = j\n",
    "        if maxLen != -1:\n",
    "            for j in range(maxLen):\n",
    "                ret[i + j] = b[index][j]\n",
    "            i = i + maxLen - 1\n",
    "        i = i + 1\n",
    "    return \"\".join(ret)\n",
    "        \n",
    "a = [\"ab\"]\n",
    "b = [\"cc\"]\n",
    "s = \"abssw\"\n",
    "stringReplace(a,b,s)   "
   ]
  },
  {
   "cell_type": "code",
   "execution_count": 3,
   "metadata": {},
   "outputs": [],
   "source": [
    "#Longest Duplicate Substring\n",
    "#binary search based on length\n",
    "#memory search sub string\n",
    "#hash string\n",
    "def longestDupSubstring(S: str) -> str:\n",
    "    "
   ]
  },
  {
   "cell_type": "code",
   "execution_count": 7,
   "metadata": {},
   "outputs": [
    {
     "data": {
      "text/plain": [
       "4"
      ]
     },
     "execution_count": 7,
     "metadata": {},
     "output_type": "execute_result"
    }
   ],
   "source": [
    "#594- hash string\n",
    "def strStr2(source, target):\n",
    "    if not source or not target:\n",
    "        return -1\n",
    "    \n",
    "    tlen, slen = len(target), len(source)\n",
    "    if tlen == 0:\n",
    "        return 0\n",
    "    \n",
    "    mod = random.randint(1000000, 2000000)\n",
    "    hash_target = 0\n",
    "    m26 = 1\n",
    "    for i in range(tlen):\n",
    "        hash_target = (hash_target *26 + ord(target[i]) - ord('a')) % mod\n",
    "        if hash_target < 0:\n",
    "            hash_target += mod\n",
    "    \n",
    "    for i in range(tlen - 1):\n",
    "        m26 = m26 * 26 % mod\n",
    "    \n",
    "    value = 0\n",
    "    for i in range(slen):\n",
    "        if i >= tlen:\n",
    "            value = (value - m26 * (ord(source[i - tlen]) - ord('a'))) % mod\n",
    "        value = (value * 26 + ord(source[i]) - ord('a')) % mod\n",
    "        if value < 0:\n",
    "            value += mod\n",
    "        \n",
    "        if i >= tlen - 1 and value == hash_target:\n",
    "            return i - tlen + 1\n",
    "    return -1\n",
    "\n",
    "strStr2(\"aaabaaac\", \"aaac\")"
   ]
  },
  {
   "cell_type": "code",
   "execution_count": 2,
   "metadata": {},
   "outputs": [
    {
     "data": {
      "text/plain": [
       "2"
      ]
     },
     "execution_count": 2,
     "metadata": {},
     "output_type": "execute_result"
    }
   ],
   "source": [
    "#best time to sell stock III - at most twice operation\n",
    "def bestTimeToSellStock(arr):\n",
    "    n = len(arr)\n",
    "    pbuy, psell = [0] * n, [0] * n\n",
    "    minbuy = arr[0]\n",
    "    for i in range(1, n):\n",
    "        minbuy = min(minbuy, arr[i])\n",
    "        psell[i] = max(psell[i - 1], arr[i] - minbuy)\n",
    "    \n",
    "    maxsell = arr[-1]\n",
    "    for i in range(n - 2, -1, -1):\n",
    "        maxsell = max(maxsell, arr[i])\n",
    "        pbuy[i] = max(pbuy[i + 1], maxsell - arr[i])\n",
    "    \n",
    "    ans = 0\n",
    "    for i in range(n):\n",
    "        ans = max(ans, pbuy[i] + psell[i])\n",
    "    return ans\n",
    "\n",
    "bestTimeToSellStock([1, 2,3])"
   ]
  },
  {
   "cell_type": "code",
   "execution_count": null,
   "metadata": {},
   "outputs": [],
   "source": []
  }
 ],
 "metadata": {
  "kernelspec": {
   "display_name": "Python 3",
   "language": "python",
   "name": "python3"
  },
  "language_info": {
   "codemirror_mode": {
    "name": "ipython",
    "version": 3
   },
   "file_extension": ".py",
   "mimetype": "text/x-python",
   "name": "python",
   "nbconvert_exporter": "python",
   "pygments_lexer": "ipython3",
   "version": "3.8.3"
  }
 },
 "nbformat": 4,
 "nbformat_minor": 4
}
