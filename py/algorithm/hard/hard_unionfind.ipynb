{
 "cells": [
  {
   "cell_type": "code",
   "execution_count": null,
   "metadata": {},
   "outputs": [],
   "source": [
    "#952. Largest Component Size by Common Factor\n",
    "def biggestDivisor(a, b):\n",
    "    if a > b:\n",
    "        a, b = b, a\n",
    "    \n",
    "    while b:#while bigger > 0\n",
    "        a, b = b, a % b\n",
    "    return a\n",
    "\n",
    "def largestComponentSize(A):\n",
    "    if not A:\n",
    "        return 0\n",
    "    n = len(A)\n",
    "    mn = max(A)\n",
    "    uf = UnionFind(mn)\n",
    "    \n",
    "    for i in range(0, n - 1):\n",
    "        for j in range(i + 1, n):\n",
    "            if biggestDivisor(A[i], A[j]) > 1:\n",
    "                uf.union(A[i] - 1, A[j] - 1)\n",
    "    \n",
    "    return uf.largestComponentSize()\n",
    "\n",
    "largestComponentSize([2,3,6,7,4,12,21,39])"
   ]
  },
  {
   "cell_type": "code",
   "execution_count": null,
   "metadata": {},
   "outputs": [],
   "source": [
    "#union find\n",
    "class UnionFind:\n",
    "    def __init__(self, n):\n",
    "        self.pnts = [i for i in range(n)]\n",
    "        self.cnts = n\n",
    "    \n",
    "    def find(self, a):\n",
    "        ap = self.pnts[a]\n",
    "        while ap != self.pnts[ap]:\n",
    "            ap = self.pnts[ap]\n",
    "        \n",
    "        while ap != self.pnts[a]:\n",
    "            tmp = self.pnts[a]\n",
    "            self.pnts[a] = ap\n",
    "            a = tmp\n",
    "        \n",
    "        return ap\n",
    "    \n",
    "    def union(self, a, b):\n",
    "        ap = self.find(a)\n",
    "        bp = self.find(b)\n",
    "        \n",
    "        if ap != bp:\n",
    "            self.pnts[bp] = ap\n",
    "            self.cnts -= 1\n",
    "    \n",
    "    def largestComponentSize(self):\n",
    "        cnt_table = {}\n",
    "        for i in range(len(self.pnts)):\n",
    "            ip = self.find(i)\n",
    "            if ip not in cnt_table:\n",
    "                cnt_table[ip] = 0\n",
    "            cnt_table[ip] += 1\n",
    "  \n",
    "        return max([v for k, v in cnt_table.items()])"
   ]
  }
 ],
 "metadata": {
  "kernelspec": {
   "display_name": "Python 3",
   "language": "python",
   "name": "python3"
  },
  "language_info": {
   "codemirror_mode": {
    "name": "ipython",
    "version": 3
   },
   "file_extension": ".py",
   "mimetype": "text/x-python",
   "name": "python",
   "nbconvert_exporter": "python",
   "pygments_lexer": "ipython3",
   "version": "3.8.3"
  }
 },
 "nbformat": 4,
 "nbformat_minor": 4
}
