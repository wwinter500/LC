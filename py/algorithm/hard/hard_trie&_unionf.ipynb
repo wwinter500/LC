{
 "cells": [
  {
   "cell_type": "code",
   "execution_count": 2,
   "metadata": {},
   "outputs": [],
   "source": [
    "class trieNode:\n",
    "    def __init__(self):\n",
    "        self.children = [None] * 26\n",
    "        self.ifword = False\n",
    "    \n",
    "class trieTree:\n",
    "    def __init__(self):\n",
    "        self.root = trieNode()\n",
    "    \n",
    "    def insert(self, word):\n",
    "        cp = self.root\n",
    "        for ch in word:\n",
    "            idx = ord(ch) - ord('a')\n",
    "            if not cp.children[idx]:\n",
    "                cp.children[idx] = trieNode()\n",
    "            \n",
    "            cp = cp.children[idx]\n",
    "        \n",
    "        cp.ifword = True\n",
    "    \n",
    "    def search(self, word):\n",
    "        cp = self.root\n",
    "        for ch in word:\n",
    "            idx = ord(ch) - ord('a')\n",
    "            if not cp.children[idx]:\n",
    "                return False\n",
    "            \n",
    "            cp = cp.children[idx]\n",
    "        \n",
    "        return cp.ifword\n",
    "    \n",
    "    def searchprefix(self, pre, n):\n",
    "        cp = self.root\n",
    "        ans = []\n",
    "        \n",
    "        for ch in pre:\n",
    "            idx = ord(ch) - ord('a')\n",
    "            if not cp.children[idx]:\n",
    "                return []\n",
    "            \n",
    "            cp = cp.children[idx]\n",
    "        \n",
    "        self.dfs(ans, pre, n, cp)\n",
    "        return ans\n",
    "    \n",
    "    def dfs(self, ans, pre, n, cp):\n",
    "        if len(pre) == n:\n",
    "            ans.append(pre)\n",
    "            return\n",
    "        \n",
    "        for i in range(26):\n",
    "            if not cp.children[i]:\n",
    "                continue\n",
    "            \n",
    "            pre += chr(ord('a') + i)\n",
    "            self.dfs(ans, pre, n, cp.children[i])\n",
    "            pre = pre[:-1]"
   ]
  },
  {
   "cell_type": "code",
   "execution_count": 40,
   "metadata": {},
   "outputs": [],
   "source": [
    "#union find\n",
    "class UnionFind:\n",
    "    def __init__(self, n):\n",
    "        self.pnts = [i for i in range(n)]\n",
    "        self.cnts = n\n",
    "    \n",
    "    def find(self, a):\n",
    "        ap = self.pnts[a]\n",
    "        while ap != self.pnts[ap]:\n",
    "            ap = self.pnts[ap]\n",
    "        \n",
    "        while ap != self.pnts[a]:\n",
    "            tmp = self.pnts[a]\n",
    "            self.pnts[a] = ap\n",
    "            a = tmp\n",
    "        \n",
    "        return ap\n",
    "    \n",
    "    def union(self, a, b):\n",
    "        ap = self.find(a)\n",
    "        bp = self.find(b)\n",
    "        \n",
    "        if ap != bp:\n",
    "            self.pnts[bp] = ap\n",
    "            self.cnts -= 1\n",
    "    \n",
    "    def largestComponentSize(self):\n",
    "        cnt_table = {}\n",
    "        for i in range(len(self.pnts)):\n",
    "            ip = self.find(i)\n",
    "            if ip not in cnt_table:\n",
    "                cnt_table[ip] = 0\n",
    "            cnt_table[ip] += 1\n",
    "  \n",
    "        return max([v for k, v in cnt_table.items()])"
   ]
  },
  {
   "cell_type": "code",
   "execution_count": 41,
   "metadata": {},
   "outputs": [
    {
     "data": {
      "text/plain": [
       "1"
      ]
     },
     "execution_count": 41,
     "metadata": {},
     "output_type": "execute_result"
    }
   ],
   "source": [
    "def biggestDivisor(a, b):\n",
    "    if a > b:\n",
    "        a, b = b, a\n",
    "    \n",
    "    while b:#while bigger > 0\n",
    "        a, b = b, a % b\n",
    "    return a\n",
    "\n",
    "biggestDivisor(1, 12)"
   ]
  },
  {
   "cell_type": "code",
   "execution_count": 43,
   "metadata": {},
   "outputs": [
    {
     "data": {
      "text/plain": [
       "8"
      ]
     },
     "execution_count": 43,
     "metadata": {},
     "output_type": "execute_result"
    }
   ],
   "source": [
    "#952. Largest Component Size by Common Factor\n",
    "\n",
    "def largestComponentSize(A):\n",
    "    if not A:\n",
    "        return 0\n",
    "    n = len(A)\n",
    "    mn = max(A)\n",
    "    uf = UnionFind(mn)\n",
    "    \n",
    "    for i in range(0, n - 1):\n",
    "        for j in range(i + 1, n):\n",
    "            if biggestDivisor(A[i], A[j]) > 1:\n",
    "                uf.union(A[i] - 1, A[j] - 1)\n",
    "    \n",
    "    return uf.largestComponentSize()\n",
    "\n",
    "largestComponentSize([2,3,6,7,4,12,21,39])"
   ]
  },
  {
   "cell_type": "code",
   "execution_count": 3,
   "metadata": {},
   "outputs": [
    {
     "name": "stdout",
     "output_type": "stream",
     "text": [
      "['abat']\n"
     ]
    }
   ],
   "source": [
    "def testTrie(words):\n",
    "    trie = trieTree()\n",
    "    for w in words:\n",
    "        trie.insert(w)\n",
    "    \n",
    "    return trie.searchprefix(\"ab\", len(words[0]))\n",
    "print(testTrie([\"abat\",\"baba\",\"atan\",\"atal\"]))"
   ]
  },
  {
   "cell_type": "code",
   "execution_count": null,
   "metadata": {},
   "outputs": [],
   "source": [
    "#634 word squares\n",
    "def wordSquares(words):\n",
    "    if not words or not words[0]:\n",
    "        return []\n",
    "    \n",
    "    ans = []\n",
    "    trie = trieTree()\n",
    "    length = len(words[0])\n",
    "    for w in words:\n",
    "        trie.insert(w)\n",
    "    \n",
    "    temp = []\n",
    "    for w in words:\n",
    "        temp.append(w)\n",
    "        dfs(ans, temp, trie, length)\n",
    "        temp.pop()\n",
    "    \n",
    "    return ans\n",
    "\n",
    "def dfs(ans, temp, trie,length):\n",
    "    if len(temp) == length:\n",
    "        ans.append(temp)\n",
    "        return\n",
    "    \n",
    "    "
   ]
  },
  {
   "cell_type": "code",
   "execution_count": null,
   "metadata": {},
   "outputs": [],
   "source": [
    "\n",
    "#word search II\n",
    "def wordSearchII(board, words):"
   ]
  },
  {
   "cell_type": "code",
   "execution_count": null,
   "metadata": {},
   "outputs": [],
   "source": [
    "#word search III\n",
    "def wordSearchIII(board, words):\n",
    "    trie = Trie()\n",
    "    for word in words:\n",
    "        trie.insert(word)\n",
    "    \n",
    "    res = 0\n",
    "    node = trie.root\n",
    "    for i in range(len(board)):\n",
    "        for j in range(len(board[0])):\n",
    "            res = max(res, search(node, board, i, j))\n",
    "    return res\n",
    "\n",
    "def search(node, board, x, y):"
   ]
  }
 ],
 "metadata": {
  "kernelspec": {
   "display_name": "Python 3",
   "language": "python",
   "name": "python3"
  },
  "language_info": {
   "codemirror_mode": {
    "name": "ipython",
    "version": 3
   },
   "file_extension": ".py",
   "mimetype": "text/x-python",
   "name": "python",
   "nbconvert_exporter": "python",
   "pygments_lexer": "ipython3",
   "version": "3.8.3"
  }
 },
 "nbformat": 4,
 "nbformat_minor": 4
}
