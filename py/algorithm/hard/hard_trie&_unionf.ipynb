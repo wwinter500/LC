{
 "cells": [
  {
   "cell_type": "code",
   "execution_count": 1,
   "metadata": {},
   "outputs": [],
   "source": [
    "class trieNode():\n",
    "    def __init__(self):\n",
    "        self.children = [None] * 26\n",
    "        self.ifword = False\n",
    "    \n",
    "class trieTree():\n",
    "    def __init__(self):\n",
    "        self.root = trieNode()\n",
    "    \n",
    "    def insert(self, word):\n",
    "        cp = self.root\n",
    "        for ch in word:\n",
    "            idx = ord(ch) - ord('a')\n",
    "            if not cp.children[idx]:\n",
    "                cp.children[idx] = trieNode()\n",
    "            \n",
    "            cp = cp.children[idx]\n",
    "        \n",
    "        cp.ifword = True\n",
    "    \n",
    "    def search(self, word):\n",
    "        cp = self.root\n",
    "        for ch in word:\n",
    "            idx = ord(ch) - ord('a')\n",
    "            if not cp.children[idx]:\n",
    "                return False\n",
    "            \n",
    "            cp = cp.children[idx]\n",
    "        \n",
    "        return cp.ifword\n",
    "    \n",
    "    def searchprefix(self, pre, n):\n",
    "        cp = self.root\n",
    "        ans = []\n",
    "        \n",
    "        for ch in pre:\n",
    "            idx = ord(ch) - ord('a')\n",
    "            if not cp.children[idx]:\n",
    "                return []\n",
    "            \n",
    "            cp = cp.children[idx]\n",
    "        \n",
    "        self.dfs(ans, pre, n, cp)\n",
    "        return ans\n",
    "    \n",
    "    def dfs(self, ans, pre, n, cp):\n",
    "        if len(pre) == n:\n",
    "            ans.append(pre)\n",
    "            return\n",
    "        \n",
    "        for i in range(26):\n",
    "            if not cp.children[i]:\n",
    "                continue\n",
    "            \n",
    "            pre += chr(ord('a') + i)\n",
    "            self.dfs(ans, cp.children[i], pre, n, cp.children[i])\n",
    "            pre = pre[:-1]"
   ]
  },
  {
   "cell_type": "code",
   "execution_count": 4,
   "metadata": {},
   "outputs": [
    {
     "ename": "TypeError",
     "evalue": "dfs() takes 5 positional arguments but 6 were given",
     "output_type": "error",
     "traceback": [
      "\u001b[1;31m---------------------------------------------------------------------------\u001b[0m",
      "\u001b[1;31mTypeError\u001b[0m                                 Traceback (most recent call last)",
      "\u001b[1;32m<ipython-input-4-a1dec4c780cf>\u001b[0m in \u001b[0;36m<module>\u001b[1;34m\u001b[0m\n\u001b[0;32m      5\u001b[0m \u001b[1;33m\u001b[0m\u001b[0m\n\u001b[0;32m      6\u001b[0m     \u001b[1;32mreturn\u001b[0m \u001b[0mtrie\u001b[0m\u001b[1;33m.\u001b[0m\u001b[0msearchprefix\u001b[0m\u001b[1;33m(\u001b[0m\u001b[1;34m\"at\"\u001b[0m\u001b[1;33m,\u001b[0m \u001b[0mlen\u001b[0m\u001b[1;33m(\u001b[0m\u001b[0mwords\u001b[0m\u001b[1;33m[\u001b[0m\u001b[1;36m0\u001b[0m\u001b[1;33m]\u001b[0m\u001b[1;33m)\u001b[0m\u001b[1;33m)\u001b[0m\u001b[1;33m\u001b[0m\u001b[1;33m\u001b[0m\u001b[0m\n\u001b[1;32m----> 7\u001b[1;33m \u001b[0mprint\u001b[0m\u001b[1;33m(\u001b[0m\u001b[0mtestTrie\u001b[0m\u001b[1;33m(\u001b[0m\u001b[1;33m[\u001b[0m\u001b[1;34m\"abat\"\u001b[0m\u001b[1;33m,\u001b[0m\u001b[1;34m\"baba\"\u001b[0m\u001b[1;33m,\u001b[0m\u001b[1;34m\"atan\"\u001b[0m\u001b[1;33m,\u001b[0m\u001b[1;34m\"atal\"\u001b[0m\u001b[1;33m]\u001b[0m\u001b[1;33m)\u001b[0m\u001b[1;33m)\u001b[0m\u001b[1;33m\u001b[0m\u001b[1;33m\u001b[0m\u001b[0m\n\u001b[0m",
      "\u001b[1;32m<ipython-input-4-a1dec4c780cf>\u001b[0m in \u001b[0;36mtestTrie\u001b[1;34m(words)\u001b[0m\n\u001b[0;32m      4\u001b[0m         \u001b[0mtrie\u001b[0m\u001b[1;33m.\u001b[0m\u001b[0minsert\u001b[0m\u001b[1;33m(\u001b[0m\u001b[0mw\u001b[0m\u001b[1;33m)\u001b[0m\u001b[1;33m\u001b[0m\u001b[1;33m\u001b[0m\u001b[0m\n\u001b[0;32m      5\u001b[0m \u001b[1;33m\u001b[0m\u001b[0m\n\u001b[1;32m----> 6\u001b[1;33m     \u001b[1;32mreturn\u001b[0m \u001b[0mtrie\u001b[0m\u001b[1;33m.\u001b[0m\u001b[0msearchprefix\u001b[0m\u001b[1;33m(\u001b[0m\u001b[1;34m\"at\"\u001b[0m\u001b[1;33m,\u001b[0m \u001b[0mlen\u001b[0m\u001b[1;33m(\u001b[0m\u001b[0mwords\u001b[0m\u001b[1;33m[\u001b[0m\u001b[1;36m0\u001b[0m\u001b[1;33m]\u001b[0m\u001b[1;33m)\u001b[0m\u001b[1;33m)\u001b[0m\u001b[1;33m\u001b[0m\u001b[1;33m\u001b[0m\u001b[0m\n\u001b[0m\u001b[0;32m      7\u001b[0m \u001b[0mprint\u001b[0m\u001b[1;33m(\u001b[0m\u001b[0mtestTrie\u001b[0m\u001b[1;33m(\u001b[0m\u001b[1;33m[\u001b[0m\u001b[1;34m\"abat\"\u001b[0m\u001b[1;33m,\u001b[0m\u001b[1;34m\"baba\"\u001b[0m\u001b[1;33m,\u001b[0m\u001b[1;34m\"atan\"\u001b[0m\u001b[1;33m,\u001b[0m\u001b[1;34m\"atal\"\u001b[0m\u001b[1;33m]\u001b[0m\u001b[1;33m)\u001b[0m\u001b[1;33m)\u001b[0m\u001b[1;33m\u001b[0m\u001b[1;33m\u001b[0m\u001b[0m\n",
      "\u001b[1;32m<ipython-input-1-134da3312b9e>\u001b[0m in \u001b[0;36msearchprefix\u001b[1;34m(self, pre, n)\u001b[0m\n\u001b[0;32m     41\u001b[0m             \u001b[0mcp\u001b[0m \u001b[1;33m=\u001b[0m \u001b[0mcp\u001b[0m\u001b[1;33m.\u001b[0m\u001b[0mchildren\u001b[0m\u001b[1;33m[\u001b[0m\u001b[0midx\u001b[0m\u001b[1;33m]\u001b[0m\u001b[1;33m\u001b[0m\u001b[1;33m\u001b[0m\u001b[0m\n\u001b[0;32m     42\u001b[0m \u001b[1;33m\u001b[0m\u001b[0m\n\u001b[1;32m---> 43\u001b[1;33m         \u001b[0mself\u001b[0m\u001b[1;33m.\u001b[0m\u001b[0mdfs\u001b[0m\u001b[1;33m(\u001b[0m\u001b[0mans\u001b[0m\u001b[1;33m,\u001b[0m \u001b[0mpre\u001b[0m\u001b[1;33m,\u001b[0m \u001b[0mn\u001b[0m\u001b[1;33m,\u001b[0m \u001b[0mcp\u001b[0m\u001b[1;33m)\u001b[0m\u001b[1;33m\u001b[0m\u001b[1;33m\u001b[0m\u001b[0m\n\u001b[0m\u001b[0;32m     44\u001b[0m         \u001b[1;32mreturn\u001b[0m \u001b[0mans\u001b[0m\u001b[1;33m\u001b[0m\u001b[1;33m\u001b[0m\u001b[0m\n\u001b[0;32m     45\u001b[0m \u001b[1;33m\u001b[0m\u001b[0m\n",
      "\u001b[1;32m<ipython-input-1-134da3312b9e>\u001b[0m in \u001b[0;36mdfs\u001b[1;34m(self, ans, pre, n, cp)\u001b[0m\n\u001b[0;32m     54\u001b[0m \u001b[1;33m\u001b[0m\u001b[0m\n\u001b[0;32m     55\u001b[0m             \u001b[0mpre\u001b[0m \u001b[1;33m+=\u001b[0m \u001b[0mchr\u001b[0m\u001b[1;33m(\u001b[0m\u001b[0mord\u001b[0m\u001b[1;33m(\u001b[0m\u001b[1;34m'a'\u001b[0m\u001b[1;33m)\u001b[0m \u001b[1;33m+\u001b[0m \u001b[0mi\u001b[0m\u001b[1;33m)\u001b[0m\u001b[1;33m\u001b[0m\u001b[1;33m\u001b[0m\u001b[0m\n\u001b[1;32m---> 56\u001b[1;33m             \u001b[0mself\u001b[0m\u001b[1;33m.\u001b[0m\u001b[0mdfs\u001b[0m\u001b[1;33m(\u001b[0m\u001b[0mans\u001b[0m\u001b[1;33m,\u001b[0m \u001b[0mcp\u001b[0m\u001b[1;33m.\u001b[0m\u001b[0mchildren\u001b[0m\u001b[1;33m[\u001b[0m\u001b[0mi\u001b[0m\u001b[1;33m]\u001b[0m\u001b[1;33m,\u001b[0m \u001b[0mpre\u001b[0m\u001b[1;33m,\u001b[0m \u001b[0mn\u001b[0m\u001b[1;33m,\u001b[0m \u001b[0mcp\u001b[0m\u001b[1;33m.\u001b[0m\u001b[0mchildren\u001b[0m\u001b[1;33m[\u001b[0m\u001b[0mi\u001b[0m\u001b[1;33m]\u001b[0m\u001b[1;33m)\u001b[0m\u001b[1;33m\u001b[0m\u001b[1;33m\u001b[0m\u001b[0m\n\u001b[0m\u001b[0;32m     57\u001b[0m             \u001b[0mpre\u001b[0m \u001b[1;33m=\u001b[0m \u001b[0mpre\u001b[0m\u001b[1;33m[\u001b[0m\u001b[1;33m:\u001b[0m\u001b[1;33m-\u001b[0m\u001b[1;36m1\u001b[0m\u001b[1;33m]\u001b[0m\u001b[1;33m\u001b[0m\u001b[1;33m\u001b[0m\u001b[0m\n",
      "\u001b[1;31mTypeError\u001b[0m: dfs() takes 5 positional arguments but 6 were given"
     ]
    }
   ],
   "source": [
    "def testTrie(words):\n",
    "    trie = trieTree()\n",
    "    for w in words:\n",
    "        trie.insert(w)\n",
    "    \n",
    "    return trie.searchprefix(\"at\", len(words[0]))\n",
    "print(testTrie([\"abat\",\"baba\",\"atan\",\"atal\"]))"
   ]
  },
  {
   "cell_type": "code",
   "execution_count": null,
   "metadata": {},
   "outputs": [],
   "source": [
    "        \n",
    "#634 word squares\n",
    "def wordSquares(words):"
   ]
  },
  {
   "cell_type": "code",
   "execution_count": null,
   "metadata": {},
   "outputs": [],
   "source": []
  }
 ],
 "metadata": {
  "kernelspec": {
   "display_name": "Python 3",
   "language": "python",
   "name": "python3"
  },
  "language_info": {
   "codemirror_mode": {
    "name": "ipython",
    "version": 3
   },
   "file_extension": ".py",
   "mimetype": "text/x-python",
   "name": "python",
   "nbconvert_exporter": "python",
   "pygments_lexer": "ipython3",
   "version": "3.7.4"
  }
 },
 "nbformat": 4,
 "nbformat_minor": 4
}
