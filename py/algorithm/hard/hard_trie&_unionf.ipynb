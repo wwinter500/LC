{
 "cells": [
  {
   "cell_type": "code",
   "execution_count": 1,
   "metadata": {},
   "outputs": [],
   "source": [
    "class trieNode():\n",
    "    def __init__(self):\n",
    "        self.children = [None] * 26\n",
    "        self.ifword = False\n",
    "    \n",
    "class trieTree():\n",
    "    def __init__(self):\n",
    "        self.root = trieNode()\n",
    "    \n",
    "    def insert(self, word):\n",
    "        cp = self.root\n",
    "        for ch in word:\n",
    "            idx = ord(ch) - ord('a')\n",
    "            if not cp.children[idx]:\n",
    "                cp.children[idx] = trieNode()\n",
    "            \n",
    "            cp = cp.children[idx]\n",
    "        \n",
    "        cp.ifword = True\n",
    "    \n",
    "    def search(self, word):\n",
    "        cp = self.root\n",
    "        for ch in word:\n",
    "            idx = ord(ch) - ord('a')\n",
    "            if not cp.children[idx]:\n",
    "                return False\n",
    "            \n",
    "            cp = cp.children[idx]\n",
    "        \n",
    "        return cp.ifword\n",
    "    \n",
    "    def searchprefix(self, pre, n):\n",
    "        cp = self.root\n",
    "        ans = []\n",
    "        \n",
    "        for ch in pre:\n",
    "            idx = ord(ch) - ord('a')\n",
    "            if not cp.children[idx]:\n",
    "                return []\n",
    "            \n",
    "            cp = cp.children[idx]\n",
    "        \n",
    "        self.dfs(ans, pre, n, cp)\n",
    "        return ans\n",
    "    \n",
    "    def dfs(self, ans, pre, n, cp):\n",
    "        if len(pre) == n:\n",
    "            ans.append(pre)\n",
    "            return\n",
    "        \n",
    "        for i in range(26):\n",
    "            if not cp.children[i]:\n",
    "                continue\n",
    "            \n",
    "            pre += chr(ord('a') + i)\n",
    "            self.dfs(ans, pre, n, cp.children[i])\n",
    "            pre = pre[:-1]"
   ]
  },
  {
   "cell_type": "code",
   "execution_count": 4,
   "metadata": {},
   "outputs": [
    {
     "name": "stdout",
     "output_type": "stream",
     "text": [
      "['abat']\n"
     ]
    }
   ],
   "source": [
    "def testTrie(words):\n",
    "    trie = trieTree()\n",
    "    for w in words:\n",
    "        trie.insert(w)\n",
    "    \n",
    "    return trie.searchprefix(\"ab\", len(words[0]))\n",
    "print(testTrie([\"abat\",\"baba\",\"atan\",\"atal\"]))"
   ]
  },
  {
   "cell_type": "code",
   "execution_count": null,
   "metadata": {},
   "outputs": [],
   "source": [
    "#634 word squares\n",
    "def wordSquares(words):\n",
    "    if not words or not words[0]:\n",
    "        return []\n",
    "    \n",
    "    ans = []\n",
    "    trie = trieTree()\n",
    "    length = len(words[0])\n",
    "    for w in words:\n",
    "        trie.insert(w)\n",
    "    \n",
    "    temp = []\n",
    "    for w in words:\n",
    "        temp.append(w)\n",
    "        dfs(ans, temp, trie, length)\n",
    "        temp.pop()\n",
    "    \n",
    "    return ans\n",
    "\n",
    "def dfs(ans, temp, trie,length):\n",
    "    if len(temp) == length:\n",
    "        ans.append(temp)\n",
    "        return\n",
    "    \n",
    "    "
   ]
  },
  {
   "cell_type": "code",
   "execution_count": null,
   "metadata": {},
   "outputs": [],
   "source": []
  }
 ],
 "metadata": {
  "kernelspec": {
   "display_name": "Python 3",
   "language": "python",
   "name": "python3"
  },
  "language_info": {
   "codemirror_mode": {
    "name": "ipython",
    "version": 3
   },
   "file_extension": ".py",
   "mimetype": "text/x-python",
   "name": "python",
   "nbconvert_exporter": "python",
   "pygments_lexer": "ipython3",
   "version": "3.7.4"
  }
 },
 "nbformat": 4,
 "nbformat_minor": 4
}
