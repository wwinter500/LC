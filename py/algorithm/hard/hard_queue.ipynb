{
 "cells": [
  {
   "cell_type": "code",
   "execution_count": null,
   "metadata": {},
   "outputs": [],
   "source": [
    "from collections import deque\n",
    "def push(dq, nums, i):\n",
    "    while dq and nums[dq[-1]] < nums[i]:\n",
    "        dq.pop()\n",
    "    \n",
    "    dq.append(i)\n",
    "    \n",
    "def maxSlidingWindow(nums, k):\n",
    "    if not nums or not k:\n",
    "        return []\n",
    "    \n",
    "    dq = deque([])\n",
    "    ans = []\n",
    "    for i in range(k - 1):\n",
    "        push(dq, nums, i)\n",
    "    \n",
    "    for i in range(k - 1, len(nums)):\n",
    "        push(dq, nums, i)\n",
    "        ans.append(nums[dq[0]])\n",
    "        if dq[0] == i - k + 1:\n",
    "            dq.popleft()\n",
    "        \n",
    "    return ans\n",
    "re = maxSlidingWindow([1,2,7,7,2], 1)\n",
    "print(re)"
   ]
  }
 ],
 "metadata": {
  "kernelspec": {
   "display_name": "Python 3",
   "language": "python",
   "name": "python3"
  },
  "language_info": {
   "codemirror_mode": {
    "name": "ipython",
    "version": 3
   },
   "file_extension": ".py",
   "mimetype": "text/x-python",
   "name": "python",
   "nbconvert_exporter": "python",
   "pygments_lexer": "ipython3",
   "version": "3.8.3"
  }
 },
 "nbformat": 4,
 "nbformat_minor": 4
}
