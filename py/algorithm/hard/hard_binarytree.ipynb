{
 "cells": [
  {
   "cell_type": "code",
   "execution_count": 1,
   "metadata": {},
   "outputs": [],
   "source": [
    "class UndirectedGraphNode:\n",
    "     def __init__(self, x):\n",
    "        self.label = x\n",
    "        self.neighbors = []\n",
    "        \n",
    "class TreeNode:\n",
    "    def __init__(self, val):\n",
    "        self.val = val\n",
    "        self.left, self.right = None, None"
   ]
  },
  {
   "cell_type": "code",
   "execution_count": null,
   "metadata": {},
   "outputs": [],
   "source": [
    "#binary tree camera\n",
    "def minCameraCover(self, root: TreeNode) -> int:\n",
    "    ans = [0]\n",
    "    def dfs(node):\n",
    "        if not node:\n",
    "            return 1\n",
    "        lefts = dfs(node.left)\n",
    "        rights = dfs(node.right)\n",
    "\n",
    "        if lefts == 0 or rights == 0:#0 means None-covered\n",
    "            ans[0] += 1\n",
    "            return 2\n",
    "        if lefts == 2 or rights == 2:\n",
    "            return 1\n",
    "        return 0\n",
    "\n",
    "    if dfs(root) == 0:#status 0 = None, 1 = covered, 2 = camera\n",
    "        return ans[0] + 1 \n",
    "    return ans[0]"
   ]
  },
  {
   "cell_type": "code",
   "execution_count": null,
   "metadata": {},
   "outputs": [],
   "source": [
    "#1530 - encode n-ary tree to binary tree\n",
    "class Solution:\n",
    "    def decode(self, root):\n",
    "        # write your code here\n",
    "\n",
    "    def encode(self, root):\n",
    "        # write your code here"
   ]
  },
  {
   "cell_type": "code",
   "execution_count": null,
   "metadata": {},
   "outputs": [],
   "source": [
    "#124 binary tree maximum path sum\n",
    "def maxPathSum(root) -> int:\n",
    "    if not root:\n",
    "        return 0\n",
    "\n",
    "    maxbranch, maxpath = self.dfs(root)\n",
    "    return maxpath\n",
    "\n",
    "def dfs(self, root):\n",
    "    if root == None:\n",
    "        return -sys.maxsize - 1, -sys.maxsize - 1\n",
    "\n",
    "    left, leftpath = self.dfs(root.left)\n",
    "    right, rightpath = self.dfs(root.right)\n",
    "\n",
    "    maxbranch = max(0, max(left, right)) + root.val\n",
    "    maxpath = max((max(0, left) + max(0, right) + root.val), max(leftpath, rightpath))\n",
    "\n",
    "    return maxbranch, maxpath\n",
    "    "
   ]
  }
 ],
 "metadata": {
  "kernelspec": {
   "display_name": "Python 3",
   "language": "python",
   "name": "python3"
  },
  "language_info": {
   "codemirror_mode": {
    "name": "ipython",
    "version": 3
   },
   "file_extension": ".py",
   "mimetype": "text/x-python",
   "name": "python",
   "nbconvert_exporter": "python",
   "pygments_lexer": "ipython3",
   "version": "3.8.3"
  }
 },
 "nbformat": 4,
 "nbformat_minor": 4
}
