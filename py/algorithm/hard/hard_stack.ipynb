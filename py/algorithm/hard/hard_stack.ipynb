{
 "cells": [
  {
   "cell_type": "code",
   "execution_count": null,
   "metadata": {},
   "outputs": [],
   "source": [
    "#basic calculater III\n",
    "class Solution:\n",
    "    def basicCalculaterIII(self, s) -> int:\n",
    "        self.i = 0\n",
    "        return self.parseStr(s)\n",
    "\n",
    "    def parseStr(self, s):\n",
    "        nums = []\n",
    "        op = '+'\n",
    "        while self.i < len(s) and s[self.i] != ')':\n",
    "            if s[self.i] == ' ':\n",
    "                self.i += 1\n",
    "                continue\n",
    "            if s[self.i] == '(':\n",
    "                n = self.parseStr(s)\n",
    "            else:\n",
    "                n = self.parseNum(s)\n",
    "\n",
    "            if s[self.i] == '+':\n",
    "                nums.append(n)\n",
    "            elif s[self.i] == '-':\n",
    "                nums.append(-n)\n",
    "            elif s[self.i] == '*':\n",
    "                nums[-1] *= n\n",
    "            elif s[self.i] == '/':\n",
    "                nums[-1] = int(nums[-1] / n)\n",
    "\n",
    "            if self.i >= len(s):\n",
    "                break\n",
    "\n",
    "            op = s[self.i]\n",
    "            self.i += 1\n",
    "\n",
    "        res = 0\n",
    "        for n in nums:\n",
    "            res += n\n",
    "        return s\n",
    "\n",
    "    def parseStr(self, s):\n",
    "        n = 0\n",
    "        while self.i < len(s) and s[self.i].isdigit():\n",
    "            n += int(s[self.i]) + n * 10\n",
    "\n",
    "        return n\n",
    "\n",
    "\n",
    "        "
   ]
  }
 ],
 "metadata": {
  "kernelspec": {
   "display_name": "Python 3",
   "language": "python",
   "name": "python3"
  },
  "language_info": {
   "codemirror_mode": {
    "name": "ipython",
    "version": 3
   },
   "file_extension": ".py",
   "mimetype": "text/x-python",
   "name": "python",
   "nbconvert_exporter": "python",
   "pygments_lexer": "ipython3",
   "version": "3.8.3"
  }
 },
 "nbformat": 4,
 "nbformat_minor": 4
}
