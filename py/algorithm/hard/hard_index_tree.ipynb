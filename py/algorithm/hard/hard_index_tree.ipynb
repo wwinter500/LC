{
 "cells": [
  {
   "cell_type": "code",
   "execution_count": 4,
   "metadata": {},
   "outputs": [
    {
     "data": {
      "text/plain": [
       "[2, 1, 1, 0]"
      ]
     },
     "execution_count": 4,
     "metadata": {},
     "output_type": "execute_result"
    }
   ],
   "source": [
    "#Count of Smaller Numbers After Self\n",
    "def countSmaller(nums):\n",
    "    res = []\n",
    "    rank = {val: i for i, val in enumerate(sorted(nums))}#find out how much value smaller or equal in array\n",
    "    bitree = [0] *(len(nums) + 1)\n",
    "    \n",
    "    def lowbit(n):\n",
    "        return n &(-n)\n",
    "    \n",
    "    def update(i):\n",
    "        i += 1\n",
    "        while i < len(bitree):\n",
    "            bitree[i] += 1\n",
    "            i += lowbit(i)\n",
    "    \n",
    "    def preSum(i):\n",
    "        s = 0\n",
    "        while i:\n",
    "            s += bitree[i]\n",
    "            i -= lowbit(i)\n",
    "        \n",
    "        return s  \n",
    "    \n",
    "    \n",
    "    for x in reversed(nums):\n",
    "        res.append(preSum(rank[x]))\n",
    "        update(rank[x])\n",
    "    \n",
    "    return res[::-1]\n",
    "\n",
    "countSmaller([5,2,6,1])"
   ]
  },
  {
   "cell_type": "code",
   "execution_count": 9,
   "metadata": {},
   "outputs": [
    {
     "name": "stdout",
     "output_type": "stream",
     "text": [
      "1 a\n",
      "5 d\n",
      "10 c\n"
     ]
    }
   ],
   "source": [
    "dit = {1:'a', 10:'c', 5:'d'}\n",
    "for k, v in sorted(dit.items()):\n",
    "    print(k, v)"
   ]
  },
  {
   "cell_type": "code",
   "execution_count": null,
   "metadata": {},
   "outputs": [],
   "source": []
  }
 ],
 "metadata": {
  "kernelspec": {
   "display_name": "Python 3",
   "language": "python",
   "name": "python3"
  },
  "language_info": {
   "codemirror_mode": {
    "name": "ipython",
    "version": 3
   },
   "file_extension": ".py",
   "mimetype": "text/x-python",
   "name": "python",
   "nbconvert_exporter": "python",
   "pygments_lexer": "ipython3",
   "version": "3.8.3"
  }
 },
 "nbformat": 4,
 "nbformat_minor": 4
}
