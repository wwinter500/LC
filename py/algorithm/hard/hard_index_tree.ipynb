{
 "cells": [
  {
   "cell_type": "code",
   "execution_count": 13,
   "metadata": {},
   "outputs": [
    {
     "name": "stdout",
     "output_type": "stream",
     "text": [
      "5 5 0 [0, 0, 0, 0, 0, 0, 1]\n",
      "4 4 0 [0, 0, 0, 0, 0, 1, 2]\n",
      "3 3 0 [0, 0, 0, 0, 1, 1, 2]\n",
      "2 2 0 [0, 0, 0, 1, 2, 1, 2]\n",
      "1 1 0 [0, 0, 1, 1, 3, 1, 2]\n",
      "0 0 0 [0, 1, 2, 1, 4, 1, 2]\n"
     ]
    },
    {
     "data": {
      "text/plain": [
       "[0, 0, 0, 0, 0, 0]"
      ]
     },
     "execution_count": 13,
     "metadata": {},
     "output_type": "execute_result"
    }
   ],
   "source": [
    "#Count of Smaller Numbers After Self\n",
    "#for each value, find its index at sorted array\n",
    "#then based on that index, find existed after index which smaller than itself\n",
    "def countSmaller(nums):\n",
    "    res = []\n",
    "    rank = {val: i for i, val in enumerate(sorted(nums))}#find out how much value smaller or equal in array\n",
    "    bitree = [0] *(len(nums) + 1)\n",
    "    \n",
    "    def lowbit(n):\n",
    "        return n &(-n)\n",
    "    \n",
    "    def update(i):\n",
    "        i += 1\n",
    "        while i < len(bitree):\n",
    "            bitree[i] += 1#key point here, plus one\n",
    "            i += lowbit(i)\n",
    "    \n",
    "    def preSum(i):\n",
    "        s = 0\n",
    "        while i:\n",
    "            s += bitree[i]\n",
    "            i -= lowbit(i)\n",
    "        \n",
    "        return s  \n",
    "    \n",
    "    \n",
    "    for x in reversed(nums):\n",
    "        cnt = preSum(rank[x])\n",
    "        res.append(cnt)\n",
    "        update(rank[x])\n",
    "        #print(x, rank[x], cnt, bitree)\n",
    "        \n",
    "    return res[::-1]\n",
    "\n",
    "countSmaller([0,1,2,3,4,5])"
   ]
  },
  {
   "cell_type": "code",
   "execution_count": 9,
   "metadata": {},
   "outputs": [
    {
     "name": "stdout",
     "output_type": "stream",
     "text": [
      "1 a\n",
      "5 d\n",
      "10 c\n"
     ]
    }
   ],
   "source": []
  },
  {
   "cell_type": "code",
   "execution_count": null,
   "metadata": {},
   "outputs": [],
   "source": []
  }
 ],
 "metadata": {
  "kernelspec": {
   "display_name": "Python 3",
   "language": "python",
   "name": "python3"
  },
  "language_info": {
   "codemirror_mode": {
    "name": "ipython",
    "version": 3
   },
   "file_extension": ".py",
   "mimetype": "text/x-python",
   "name": "python",
   "nbconvert_exporter": "python",
   "pygments_lexer": "ipython3",
   "version": "3.8.3"
  }
 },
 "nbformat": 4,
 "nbformat_minor": 4
}
