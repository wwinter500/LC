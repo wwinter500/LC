{
 "cells": [
  {
   "cell_type": "code",
   "execution_count": 3,
   "metadata": {},
   "outputs": [],
   "source": [
    "class ListNode:\n",
    "    def __init__(self, key, val):\n",
    "        self.val = val\n",
    "        self.key = key\n",
    "        self.next = None\n",
    "        \n",
    "class LRUCache:\n",
    "    def __init__(self, capacity):\n",
    "        self.head, self.tail = ListNode(-1, -1), ListNode(-1, -1)\n",
    "        self.hashmap = {}\n",
    "        self.cnt = 0\n",
    "        self.cap = capacity\n",
    "        \n",
    "    def get(self, key):\n",
    "        if key not in self.hashmap:\n",
    "            return -1\n",
    "        \n",
    "        tmp = self.hashmap[key].next\n",
    "        self.hashmap[key].next = self.hashmap[key].next.next\n",
    "        self.tail.next = tmp\n",
    "        self.hashmap[key] = tail\n",
    "        tail = tail.next\n",
    "        return tmp.val\n",
    "        \n",
    "    def set(self, key, value):\n",
    "        if key not in self.hashmap:\n",
    "            self.cnt += 1\n",
    "            self.hashmap[key] = tail\n",
    "            tail.next = ListNode(key, value)\n",
    "            tail = tail.next\n",
    "            \n",
    "            if self.cnt > self.cap:\n",
    "                oldkey = self.head.next.key\n",
    "                self.head.next = self.head.next.next\n",
    "                self.hashmap.remove(oldkey)\n",
    "                self.cnt -= 1\n",
    "        else:\n",
    "            self.hashmap[key].next.val = value\n",
    "            \n",
    "            tmp = self.hashmap[key].next\n",
    "            self.hashmap[key].next = self.hashmap[key].next.next\n",
    "            self.tail.next = tmp\n",
    "            self.hashmap[key] = tail\n",
    "            tail = tail.next"
   ]
  },
  {
   "cell_type": "code",
   "execution_count": null,
   "metadata": {},
   "outputs": [],
   "source": [
    "#word abbreviation\n",
    "class Solution:\n",
    "    def wordsAbbreviation(self, words):\n",
    "        self.dict = {}\n",
    "        self.helper(words, 0)\n",
    "        return list(map(self.dict.get, words))\n",
    "\n",
    "    def abbr(self, word, size):\n",
    "        if len(word) - size <= 3:\n",
    "            return word\n",
    "        \n",
    "        return word[:size + 1] + str(len(word) - size - 2) + word[-1]\n",
    "\n",
    "    def helper(self, words, size):\n",
    "        dlist = collections.defaultdict(list)\n",
    "        for w in words:\n",
    "            dlist[self.abbr(w, size)].append(w)\n",
    "        \n",
    "        for abbr, wlist in dlist.items():\n",
    "            if len(wlist) == 1:\n",
    "                self.dict[wlist[0]] = abbr\n",
    "                continue\n",
    "            self.helper(wlist, size + 1)"
   ]
  }
 ],
 "metadata": {
  "kernelspec": {
   "display_name": "Python 3",
   "language": "python",
   "name": "python3"
  },
  "language_info": {
   "codemirror_mode": {
    "name": "ipython",
    "version": 3
   },
   "file_extension": ".py",
   "mimetype": "text/x-python",
   "name": "python",
   "nbconvert_exporter": "python",
   "pygments_lexer": "ipython3",
   "version": "3.8.3"
  }
 },
 "nbformat": 4,
 "nbformat_minor": 4
}
