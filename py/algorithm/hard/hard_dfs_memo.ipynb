{
 "cells": [
  {
   "cell_type": "code",
   "execution_count": 5,
   "metadata": {},
   "outputs": [],
   "source": [
    "#582- word break II\n",
    "#solution 1 - time exceed \n",
    "def wordBreak2(s, wordDict):\n",
    "    ans = []\n",
    "    \n",
    "    partition(s, wordDict, ans, \"\")\n",
    "    return ans\n",
    "\n",
    "def partition2(s, wordDict, ans, memo):\n",
    "    if s == \"\":\n",
    "        memo = memo[:-1]\n",
    "        ans.append(memo)\n",
    "        return\n",
    "    \n",
    "    for i in range(len(s)):\n",
    "        sub = s[:i + 1]\n",
    "        if sub in wordDict:\n",
    "            memo += sub + \" \"\n",
    "            partition(s[i + 1:], wordDict, ans, memo)\n",
    "            memo = memo[:-len(sub) - 1]"
   ]
  },
  {
   "cell_type": "code",
   "execution_count": 2,
   "metadata": {},
   "outputs": [],
   "source": [
    "def wordBreak(s, wordDict):\n",
    "    return partition(s, wordDict, {})\n",
    "\n",
    "def partition(s, wordDict, memo):\n",
    "    if s in memo:\n",
    "        return memo[s]\n",
    "    if s == \"\":\n",
    "        return []\n",
    "    \n",
    "    subre = []\n",
    "    for i in range(1, len(s)):\n",
    "        pre = s[:i]\n",
    "        if pre not in wordDict:\n",
    "            continue\n",
    "            \n",
    "        subp = partition(s[i:], wordDict, memo)\n",
    "        for part in subp:\n",
    "            subre.append(pre + \" \" + part)\n",
    "        \n",
    "    if s in wordDict:\n",
    "        subre.append(s)\n",
    "    \n",
    "    memo[s] = subre\n",
    "    return subre\n",
    "        "
   ]
  },
  {
   "cell_type": "code",
   "execution_count": 3,
   "metadata": {},
   "outputs": [
    {
     "name": "stdout",
     "output_type": "stream",
     "text": [
      "['aaa aaaa', 'aaaa aaa']\n"
     ]
    }
   ],
   "source": [
    "#regular expression match\n",
    "#dfs + memo\n",
    "class Solution:\n",
    "    def isMatch(self, s: str, p: str):\n",
    "        return self.helper(s, 0, p, 0, {})\n",
    "\n",
    "    def helper(self, s, i, p, j, memo):\n",
    "        if (i, j) in memo:\n",
    "            return memo[(i, j)]\n",
    "        \n",
    "        if i == len(s):\n",
    "            return self.is_empty(p[j:])\n",
    "        if j == len(p):\n",
    "            return self.is_empty(s[i:])\n",
    "        \n",
    "        if j + 1 < len(p) and p[j + 1] == '*':\n",
    "            matched = (self.is_matched_char(s[i], p[j]) and self.helper(s, i + 1, p, j, memo)) or self.helper(s, i, p, j + 2, memo)\n",
    "        else:\n",
    "            matched = self.is_matched_char(s[i], p[j]) and self.helper(s, i + 1, p, j+ 1, memo)\n",
    "        \n",
    "        memo[(i, j)] = matched\n",
    "        \n",
    "        return matched\n",
    "    \n",
    "    def is_empty(self, s):\n",
    "        if len(s) % 2 == 1:\n",
    "            return False\n",
    "        \n",
    "        for i in range(len(s) // 2):\n",
    "            if s[i * 2 + 1] != '*':\n",
    "                return False\n",
    "        \n",
    "        return True\n",
    "    \n",
    "    def is_matched_char(self, ch1, ch2):\n",
    "        return ch1 == ch2 or ch2 == '.'"
   ]
  },
  {
   "cell_type": "code",
   "execution_count": null,
   "metadata": {},
   "outputs": [],
   "source": [
    "#1192. ***** Critical Connections in a Network - amazon\n",
    "#two array to verify\n",
    "#dfs + memo\n",
    "def dfs(curr, prev, disc, low, time, ans, edgemap):\n",
    "    disc[curr] = time\n",
    "    low[curr] = time\n",
    "    time += 1#*\n",
    "    for next in edgemap[curr]:\n",
    "        if not disc[next]:\n",
    "            dfs(next, curr, disc, low, time, ans, edgemap)\n",
    "            low[curr] = min(low[curr], low[next])\n",
    "        elif next != prev:#stop dfs when it has been initial with first reached time\n",
    "            low[curr] = min(low[curr], low[next])\n",
    "        if low[next] > disc[curr]:#* show this is not cycle to \n",
    "            ans.append([curr, next])\n",
    "\n",
    "        print(disc, low, time, ans)\n",
    "        \n",
    "def criticalConnections(n, connections):\n",
    "    edgemap = collections.defaultdict(list)\n",
    "    for a, b in connections:\n",
    "        edgemap[a].append(b)\n",
    "        edgemap[b].append(a)\n",
    "    \n",
    "    time = 1\n",
    "    disc, low, ans = [0] * n, [0] * n, []\n",
    "    \n",
    "    \n",
    "    dfs(0, -1,disc, low, time, ans, edgemap)\n",
    "    return ans\n",
    "#criticalConnections(4,[[0,1],[1,2],[2,0],[1,3]])\n",
    "criticalConnections(5,[[0,1],[1,2],[2,3],[3,4]])"
   ]
  }
 ],
 "metadata": {
  "kernelspec": {
   "display_name": "Python 3",
   "language": "python",
   "name": "python3"
  },
  "language_info": {
   "codemirror_mode": {
    "name": "ipython",
    "version": 3
   },
   "file_extension": ".py",
   "mimetype": "text/x-python",
   "name": "python",
   "nbconvert_exporter": "python",
   "pygments_lexer": "ipython3",
   "version": "3.8.3"
  }
 },
 "nbformat": 4,
 "nbformat_minor": 4
}
