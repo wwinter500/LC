{
 "cells": [
  {
   "cell_type": "code",
   "execution_count": 1,
   "metadata": {},
   "outputs": [
    {
     "ename": "NameError",
     "evalue": "name 'List' is not defined",
     "output_type": "error",
     "traceback": [
      "\u001b[0;31m---------------------------------------------------------------------------\u001b[0m",
      "\u001b[0;31mNameError\u001b[0m                                 Traceback (most recent call last)",
      "\u001b[0;32m<ipython-input-1-a0870dd1b159>\u001b[0m in \u001b[0;36m<module>\u001b[0;34m\u001b[0m\n\u001b[1;32m      2\u001b[0m \u001b[0;31m#if num == odd, mulitiply by 2\u001b[0m\u001b[0;34m\u001b[0m\u001b[0;34m\u001b[0m\u001b[0;34m\u001b[0m\u001b[0m\n\u001b[1;32m      3\u001b[0m \u001b[0;31m#if num == even, divide by 2\u001b[0m\u001b[0;34m\u001b[0m\u001b[0;34m\u001b[0m\u001b[0;34m\u001b[0m\u001b[0m\n\u001b[0;32m----> 4\u001b[0;31m \u001b[0;32mdef\u001b[0m \u001b[0mminimumDeviation\u001b[0m\u001b[0;34m(\u001b[0m\u001b[0mself\u001b[0m\u001b[0;34m,\u001b[0m \u001b[0mnums\u001b[0m\u001b[0;34m:\u001b[0m \u001b[0mList\u001b[0m\u001b[0;34m[\u001b[0m\u001b[0mint\u001b[0m\u001b[0;34m]\u001b[0m\u001b[0;34m)\u001b[0m \u001b[0;34m->\u001b[0m \u001b[0mint\u001b[0m\u001b[0;34m:\u001b[0m\u001b[0;34m\u001b[0m\u001b[0;34m\u001b[0m\u001b[0m\n\u001b[0m\u001b[1;32m      5\u001b[0m     \u001b[0mpq\u001b[0m \u001b[0;34m=\u001b[0m \u001b[0;34m[\u001b[0m\u001b[0;34m]\u001b[0m\u001b[0;34m\u001b[0m\u001b[0;34m\u001b[0m\u001b[0m\n\u001b[1;32m      6\u001b[0m     \u001b[0mmmin\u001b[0m \u001b[0;34m=\u001b[0m \u001b[0msys\u001b[0m\u001b[0;34m.\u001b[0m\u001b[0mmaxsize\u001b[0m\u001b[0;34m\u001b[0m\u001b[0;34m\u001b[0m\u001b[0m\n",
      "\u001b[0;31mNameError\u001b[0m: name 'List' is not defined"
     ]
    }
   ],
   "source": [
    "#minimum deviation of arry\n",
    "#if num == odd, mulitiply by 2\n",
    "#if num == even, divide by 2\n",
    "def minimumDeviation(self, nums: List[int]) -> int:\n",
    "    pq = []\n",
    "    mmin = sys.maxsize\n",
    "    for n in nums:\n",
    "        if n & 1:\n",
    "            mmin = min(mmin, 2 * n)\n",
    "            heapq.heappush(pq, -2 * n)\n",
    "        else:\n",
    "            mmin = min(mmin, n)\n",
    "            heapq.heappush(pq, -n)\n",
    "\n",
    "    ans = -1 * pq[0] - mmin\n",
    "    while (-1 * pq[0]) & 1 == 0:\n",
    "        cur = (-1 * heapq.heappop(pq)) // 2\n",
    "        mmin = min(mmin, cur)\n",
    "        heapq.heappush(pq, -1 * cur)\n",
    "\n",
    "        ans = min(ans, -1 * pq[0] - mmin)\n",
    "    return ans"
   ]
  },
  {
   "cell_type": "code",
   "execution_count": 2,
   "metadata": {},
   "outputs": [
    {
     "name": "stdout",
     "output_type": "stream",
     "text": [
      "102\n"
     ]
    }
   ],
   "source": [
    "#LC - 1439 Find the Kth smallest sum of a Matrix with sorted Row\n",
    "import sys\n",
    "import heapq\n",
    "class Solution(object): # ****\n",
    "    def kthSmallest(self, mat, k):\n",
    "        n, m = len(mat), len(mat[0])\n",
    "        dp = [[sys.maxsize] * k for _ in range(2)]\n",
    "        \n",
    "        cur, nxt = 0, 0\n",
    "        for i in range(min(m, k)):\n",
    "            dp[0][i] = mat[0][i]\n",
    "            \n",
    "        for r in range(1, n):\n",
    "            cur = nxt\n",
    "            nxt = 1 - nxt\n",
    "            \n",
    "            heap = []\n",
    "            for c in range(k):\n",
    "                for x in range(min(k, m)):\n",
    "                    heapq.heappush(heap, dp[cur][c] + mat[r][x])\n",
    "            \n",
    "            for c in range(k):\n",
    "                dp[nxt][c] = heapq.heappop(heap)\n",
    "        \n",
    "        return dp[nxt][k - 1]\n",
    "sl = Solution()\n",
    "print(sl.kthSmallest([[1, 2, 3], [100, 1000, 2000]], 2))"
   ]
  },
  {
   "cell_type": "code",
   "execution_count": 3,
   "metadata": {},
   "outputs": [],
   "source": [
    "dirs4 = [[0, -1], [-1, 0],[0, 1],[1, 0]]\n",
    "#trap rain water II\n",
    "def trapRainWater(heights):\n",
    "    if heights == []:\n",
    "        return 0\n",
    "    \n",
    "    vis = [[False for j in range(len(heights[0]))] for i in range(len(heights))]\n",
    "    pq = qu.PriorityQueue()\n",
    "    for i in range(len(heights)):\n",
    "        for j in range(len(heights[0])):\n",
    "            if i == 0 or i == len(heights) - 1 or j == 0 or j == len(heights[0]) - 1:\n",
    "                pq.put([heights[i][j], i , j])\n",
    "                vis[i][j] = True\n",
    "    ans = 0\n",
    "    level = 0\n",
    "    while not pq.empty():\n",
    "        #TODO: BFS\n",
    "        hd = pq.get()\n",
    "        pq.task_done()\n",
    "        \n",
    "        while hd[0] > level:\n",
    "            level += 1\n",
    "            \n",
    "        for di in dirs4:\n",
    "            ny = di[0] + hd[1]\n",
    "            nx = di[1] + hd[2]\n",
    "            if ny < len(heights) and ny >= 0 and nx < len(heights[0]) and nx >= 0 and vis[ny][nx] == False:\n",
    "                if level > heights[ny][nx]:\n",
    "                    ans += level - heights[ny][nx]\n",
    "                \n",
    "                vis[ny][nx] = True\n",
    "                pq.put([heights[ny][nx], ny, nx])\n",
    "    return ans"
   ]
  },
  {
   "cell_type": "code",
   "execution_count": 18,
   "metadata": {},
   "outputs": [
    {
     "name": "stdout",
     "output_type": "stream",
     "text": [
      "8 5 3\n",
      "5 3 2\n",
      "3 2 1\n"
     ]
    },
    {
     "data": {
      "text/plain": [
       "True"
      ]
     },
     "execution_count": 18,
     "metadata": {},
     "output_type": "execute_result"
    }
   ],
   "source": [
    "import heapq\n",
    "#Construct Target Array With Multiple Sums\n",
    "def isPossible(target) -> bool:\n",
    "    hp = []\n",
    "    sums = sum(target)\n",
    "    origin = [1 for i in range(len(target))]\n",
    "    for i in range(len(target)):\n",
    "        heapq.heappush(hp, -target[i])\n",
    "\n",
    "    while hp:\n",
    "        val = heapq.heappop(hp) * -1\n",
    "        sums -= val\n",
    "        if val == 1 or sums == 1:\n",
    "            return True\n",
    "        if val < sums or sums == 0 or val - sums == 0:\n",
    "            return False\n",
    "        \n",
    "        print(val, sums, val % sums)\n",
    "        val -= sums\n",
    "        sums += val\n",
    "        heapq.heappush(hp, -val)\n",
    "        \n",
    "    return True\n",
    "isPossible([5, 8])"
   ]
  },
  {
   "cell_type": "code",
   "execution_count": null,
   "metadata": {},
   "outputs": [],
   "source": []
  }
 ],
 "metadata": {
  "kernelspec": {
   "display_name": "Python 3",
   "language": "python",
   "name": "python3"
  },
  "language_info": {
   "codemirror_mode": {
    "name": "ipython",
    "version": 3
   },
   "file_extension": ".py",
   "mimetype": "text/x-python",
   "name": "python",
   "nbconvert_exporter": "python",
   "pygments_lexer": "ipython3",
   "version": "3.8.3"
  }
 },
 "nbformat": 4,
 "nbformat_minor": 4
}
