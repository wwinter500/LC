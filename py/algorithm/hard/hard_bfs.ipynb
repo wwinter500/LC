{
 "cells": [
  {
   "cell_type": "code",
   "execution_count": null,
   "metadata": {},
   "outputs": [],
   "source": [
    "import collections\n",
    "#lake escape - escape with kuna [dog]\n",
    "#tag: lintcode, bfs\n",
    "def lakeEscape(self, side_length, lake_grid, albert_row, albert_column, kuna_row, kuna_column):\n",
    "    visited = set()\n",
    "    import collections\n",
    "    eq = collections.deque([(0,albert_row, albert_column)])\n",
    "    while eq:\n",
    "        cc,nx,ny = eq.popleft()\n",
    "        if (cc,nx,ny) in visited:\n",
    "            continue\n",
    "        visited.add((cc,nx,ny))\n",
    "        for dx, dy in [(1, 0), (-1, 0), (0, 1), (0, -1)]:\n",
    "            isHole,arrive, findDog = 0, 0, 0\n",
    "            cx, cy = nx, ny\n",
    "            for j in range(side_length):\n",
    "                cx += dx\n",
    "                cy += dy\n",
    "                if (cx == kuna_row and cy == kuna_column):\n",
    "                    findDog = 1\n",
    "                if (cx < 0 or cx >= side_length or cy < 0 or cy >= side_length):\n",
    "                    arrive = 1\n",
    "                    break\n",
    "                if (lake_grid[cx][cy] == -1):\n",
    "                    isHole = 1\n",
    "                    break\n",
    "                if (lake_grid[cx][cy] == 1):\n",
    "                    break\n",
    "            if (arrive == 1):\n",
    "                if (cc == 1 or findDog == 1):\n",
    "                    return True\n",
    "            else:\n",
    "                if (isHole == 0):\n",
    "                    if (findDog == 1):\n",
    "                        eq.append((1, cx, cy))\n",
    "                    else:\n",
    "                        eq.append((cc, cx, cy))\n",
    "    return False\n"
   ]
  },
  {
   "cell_type": "code",
   "execution_count": null,
   "metadata": {},
   "outputs": [],
   "source": [
    "#swim in raised water\n",
    "#use heap instead of queue to solve\n",
    "def swimInWater(self, grid: List[List[int]]) -> int:\n",
    "    n = len(grid)\n",
    "    time = 0\n",
    "    hp = []\n",
    "    visited = set([(0, 0)])\n",
    "    if grid[0][1] < grid[1][0]:\n",
    "        heapq.heappush(hp, (grid[0][0], 0, 0))\n",
    "    else:\n",
    "        heapq.heappush(hp, (grid[0][0], 0, 0))\n",
    "\n",
    "    while hp:\n",
    "        while hp and hp[0][0] <= time:\n",
    "            t, x, y = heapq.heappop(hp)\n",
    "            if x == n - 1 and y == n - 1:\n",
    "                return time\n",
    "            for dx, dy in [(-1, 0),(0, 1),(0, -1),(1, 0)]:\n",
    "                nx, ny = x + dx, y + dy\n",
    "                if 0 <= nx < n and 0 <= ny < n and (nx, ny) not in visited:\n",
    "                    visited.add((nx, ny))\n",
    "                    heapq.heappush(hp, (grid[nx][ny], nx, ny))\n",
    "\n",
    "        time += 1\n",
    "    return -1   "
   ]
  }
 ],
 "metadata": {
  "kernelspec": {
   "display_name": "Python 3",
   "language": "python",
   "name": "python3"
  },
  "language_info": {
   "codemirror_mode": {
    "name": "ipython",
    "version": 3
   },
   "file_extension": ".py",
   "mimetype": "text/x-python",
   "name": "python",
   "nbconvert_exporter": "python",
   "pygments_lexer": "ipython3",
   "version": "3.8.3"
  }
 },
 "nbformat": 4,
 "nbformat_minor": 4
}
