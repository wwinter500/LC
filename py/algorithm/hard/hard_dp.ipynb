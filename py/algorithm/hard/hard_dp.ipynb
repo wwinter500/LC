{
 "cells": [
  {
   "cell_type": "code",
   "execution_count": null,
   "metadata": {},
   "outputs": [],
   "source": [
    "#437 - dp for patition\n",
    "def copyBooks(pages, k):\n",
    "    if not pages:\n",
    "        return 0\n",
    "    \n",
    "    n = len(pages)\n",
    "    if k > n:\n",
    "        k = n\n",
    "    \n",
    "    sums = [0]\n",
    "    for p in pages:\n",
    "        sums.append(sums[-1] + p)\n",
    "    \n",
    "    f = [[0] * k for _ in range(n)]\n",
    "    \n",
    "    #TODO: patition dp"
   ]
  }
 ],
 "metadata": {
  "kernelspec": {
   "display_name": "Python 3",
   "language": "python",
   "name": "python3"
  },
  "language_info": {
   "codemirror_mode": {
    "name": "ipython",
    "version": 3
   },
   "file_extension": ".py",
   "mimetype": "text/x-python",
   "name": "python",
   "nbconvert_exporter": "python",
   "pygments_lexer": "ipython3",
   "version": "3.7.4"
  }
 },
 "nbformat": 4,
 "nbformat_minor": 4
}
