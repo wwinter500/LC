{
 "cells": [
  {
   "cell_type": "code",
   "execution_count": 1,
   "metadata": {},
   "outputs": [],
   "source": [
    "#437 - dp for patition\n",
    "def copyBooks(pages, k):\n",
    "    if not pages:\n",
    "        return 0\n",
    "    \n",
    "    n = len(pages)\n",
    "    if k > n:\n",
    "        k = n\n",
    "    \n",
    "    sums = [0]\n",
    "    for p in pages:\n",
    "        sums.append(sums[-1] + p)\n",
    "    \n",
    "    f = [[0] * k for _ in range(n)]\n",
    "    \n",
    "    #TODO: patition dp"
   ]
  },
  {
   "cell_type": "code",
   "execution_count": 8,
   "metadata": {},
   "outputs": [
    {
     "name": "stdout",
     "output_type": "stream",
     "text": [
      "1227968\n"
     ]
    }
   ],
   "source": [
    "import collections\n",
    "#1861 - rat jump\n",
    "def ratJump(arr):\n",
    "    MOD = 1000000007\n",
    "    n = len(arr)\n",
    "    dp = [[0] * 2 for i in range(n + 10)]\n",
    "\n",
    "    dp[0][0] = 1\n",
    "    odd = [1, 2, 4]\n",
    "    even = [1, 3, 4]\n",
    "    for i in range(n - 1):\n",
    "        for j in range(3):\n",
    "            if i + odd[j] >= n or arr[i + odd[j]] == 0:\n",
    "                dp[i + odd[j]][1] += dp[i][0]\n",
    "                dp[i + odd[j]][1] %= MOD\n",
    "            if i + even[j] >= n or arr[i + even[j]] == 0:\n",
    "                dp[i + even[j]][0] += dp[i][1]\n",
    "                dp[i + even[j]][0] %= MOD\n",
    "\n",
    "            ans = 0\n",
    "    for i in range(n - 1, n + 4):\n",
    "        ans = (ans + dp[i][0] + dp[i][1]) % MOD\n",
    "    return (int)(ans)\n",
    "\n",
    "print(ratJump([0,0,0,1,0,1,0,0,0,0,0,1,1,0,0,0,0,0,0,1,0,0,0,1,0,0,0,0,0,0,1,1,0,0,0,1,1,0,0,0,0,0]))"
   ]
  },
  {
   "cell_type": "code",
   "execution_count": 23,
   "metadata": {},
   "outputs": [],
   "source": [
    "#398 longest continuous increasing subsequence II\n",
    "class SLT:\n",
    "    def longestContinuousIncreasingSubsequence2(self, matrix):\n",
    "        if not matrix or not matrix[0]:\n",
    "            return 0\n",
    "\n",
    "        n,m = len(matrix), len(matrix[0])\n",
    "        f = [[1] * m for _ in range(n)]\n",
    "        self.dirs = [(-1, 0),(0, 1),(0, -1),(1, 0)]\n",
    "        ends = []\n",
    "        for i in range(n):\n",
    "            for j in range(m):\n",
    "                isEnd = True\n",
    "                for dx, dy in self.dirs:\n",
    "                    nx, ny = i + dx, j + dy\n",
    "                    if 0 <= nx < n and 0 <= ny < m and matrix[nx][ny] > matrix[i][j]:\n",
    "                        isEnd = False\n",
    "                        break\n",
    "                if isEnd:\n",
    "                    ends.append((i, j))\n",
    "        \n",
    "        for x, y in ends:\n",
    "            self.dfs(matrix, x, y, f)\n",
    "        print(f)\n",
    "        return max([max(arr) for arr in f])\n",
    "    \n",
    "    def dfs(self, matrix, x, y, f):\n",
    "        for dx, dy in self.dirs:\n",
    "            nx, ny = x + dx, y + dy\n",
    "            if 0 <= nx < len(matrix) and 0 <= ny < len(matrix[0]) and matrix[nx][ny] < matrix[x][y]:\n",
    "                f[nx][ny] = max(f[nx][ny], f[x][y] + 1)\n",
    "                self.dfs(matrix, nx, ny, f)\n",
    "                \n",
    "slt = SLT()\n",
    "slt.longestContinuousIncreasingSubsequence2( \\\n",
    "[[1, 2, 3, 4, 5], \\\n",
    " [16,17,24,23,6], \\\n",
    " [15,18,25,22,7], \\\n",
    " [14,19,20,21,8], \\\n",
    " [13,12,11,10,9]])     \n",
    "\n",
    "slt.longestContinuousIncreasingSubsequence2( \\\n",
    "[[1, 2], \\\n",
    " [5, 3]])"
   ]
  },
  {
   "cell_type": "code",
   "execution_count": 27,
   "metadata": {},
   "outputs": [
    {
     "name": "stdout",
     "output_type": "stream",
     "text": [
      "[[4, 3], [1, 2]]\n"
     ]
    },
    {
     "data": {
      "text/plain": [
       "4"
      ]
     },
     "execution_count": 27,
     "metadata": {},
     "output_type": "execute_result"
    }
   ],
   "source": []
  },
  {
   "cell_type": "code",
   "execution_count": null,
   "metadata": {},
   "outputs": [],
   "source": []
  }
 ],
 "metadata": {
  "kernelspec": {
   "display_name": "Python 3",
   "language": "python",
   "name": "python3"
  },
  "language_info": {
   "codemirror_mode": {
    "name": "ipython",
    "version": 3
   },
   "file_extension": ".py",
   "mimetype": "text/x-python",
   "name": "python",
   "nbconvert_exporter": "python",
   "pygments_lexer": "ipython3",
   "version": "3.7.4"
  }
 },
 "nbformat": 4,
 "nbformat_minor": 4
}
