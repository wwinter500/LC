{
 "cells": [
  {
   "cell_type": "code",
   "execution_count": 7,
   "metadata": {},
   "outputs": [
    {
     "name": "stdout",
     "output_type": "stream",
     "text": [
      "dict_items([(3, 3), (6, 1), (2, 3), (5, 4)])\n",
      "dict_items([(3, 1), (6, 1), (2, 3), (5, 4)])\n"
     ]
    }
   ],
   "source": [
    "#deep copy\n",
    "import copy\n",
    "table = {3:1, 6:1, 2:3,5:4}\n",
    "\n",
    "cp = copy.deepcopy(table)\n",
    "cp[3] = 3\n",
    "print(cp.items())\n",
    "print(table.items())"
   ]
  },
  {
   "cell_type": "code",
   "execution_count": null,
   "metadata": {},
   "outputs": [],
   "source": [
    "#split string to substring to only alphabet\n",
    "import re\n",
    "substrs = re.findall(u'[a-z]+', paragraph.lower())\n",
    "\n",
    "cur = \"abcdefg\"\n",
    "cur = cur[:-2]\n",
    "print(cur)"
   ]
  },
  {
   "cell_type": "code",
   "execution_count": 11,
   "metadata": {},
   "outputs": [
    {
     "name": "stdout",
     "output_type": "stream",
     "text": [
      "127\n",
      "010 2\n"
     ]
    }
   ],
   "source": [
    "a = '1111111'\n",
    "print(int(a, 2))\n",
    "\n",
    "\"{0:b}\".format(37)\n",
    "\n",
    "a = 5\n",
    "res = ''\n",
    "for ch in bin(a).replace('0b', ''):\n",
    "    if ch == '0':\n",
    "        res += '1'\n",
    "    else:\n",
    "        res += '0'\n",
    "\n",
    "print(res, int(res, 2))\n"
   ]
  },
  {
   "cell_type": "code",
   "execution_count": 2,
   "metadata": {},
   "outputs": [
    {
     "name": "stdout",
     "output_type": "stream",
     "text": [
      "3\n"
     ]
    }
   ],
   "source": [
    "mat = [[1,1],[2,3]]\n",
    "print(max([max(arr) for arr in mat]))"
   ]
  },
  {
   "cell_type": "code",
   "execution_count": 32,
   "metadata": {},
   "outputs": [
    {
     "name": "stdout",
     "output_type": "stream",
     "text": [
      "[0, 2, 3]\n"
     ]
    }
   ],
   "source": [
    "dict = {0:1, 3:14, 2:10}\n",
    "print(sorted(dict.keys()))"
   ]
  },
  {
   "cell_type": "code",
   "execution_count": 3,
   "metadata": {},
   "outputs": [
    {
     "data": {
      "text/plain": [
       "[0, 3]"
      ]
     },
     "execution_count": 3,
     "metadata": {},
     "output_type": "execute_result"
    }
   ],
   "source": [
    "#find all substring in string\n",
    "import re\n",
    "[m.start() for m in re.finditer('ab', 'abcabd')]"
   ]
  },
  {
   "cell_type": "code",
   "execution_count": 1,
   "metadata": {},
   "outputs": [
    {
     "ename": "NameError",
     "evalue": "name 's' is not defined",
     "output_type": "error",
     "traceback": [
      "\u001b[1;31m---------------------------------------------------------------------------\u001b[0m",
      "\u001b[1;31mNameError\u001b[0m                                 Traceback (most recent call last)",
      "\u001b[1;32m<ipython-input-1-3b979ef4f5ea>\u001b[0m in \u001b[0;36m<module>\u001b[1;34m\u001b[0m\n\u001b[0;32m      1\u001b[0m \u001b[1;31m#find next position\u001b[0m\u001b[1;33m\u001b[0m\u001b[1;33m\u001b[0m\u001b[1;33m\u001b[0m\u001b[0m\n\u001b[1;32m----> 2\u001b[1;33m \u001b[0mi\u001b[0m \u001b[1;33m=\u001b[0m \u001b[0ms\u001b[0m\u001b[1;33m.\u001b[0m\u001b[0mfind\u001b[0m\u001b[1;33m(\u001b[0m\u001b[0msub\u001b[0m\u001b[1;33m)\u001b[0m\u001b[1;33m\u001b[0m\u001b[1;33m\u001b[0m\u001b[0m\n\u001b[0m\u001b[0;32m      3\u001b[0m \u001b[0mi\u001b[0m \u001b[1;33m=\u001b[0m \u001b[0ms\u001b[0m\u001b[1;33m.\u001b[0m\u001b[0mfind\u001b[0m\u001b[1;33m(\u001b[0m\u001b[0msub\u001b[0m\u001b[1;33m,\u001b[0m \u001b[0mi\u001b[0m \u001b[1;33m+\u001b[0m \u001b[1;36m1\u001b[0m\u001b[1;33m)\u001b[0m\u001b[1;33m\u001b[0m\u001b[1;33m\u001b[0m\u001b[0m\n",
      "\u001b[1;31mNameError\u001b[0m: name 's' is not defined"
     ]
    }
   ],
   "source": [
    "#find next position\n",
    "i = s.find(sub)\n",
    "i = s.find(sub, i + 1)\n"
   ]
  },
  {
   "cell_type": "code",
   "execution_count": 8,
   "metadata": {},
   "outputs": [],
   "source": [
    "import collections\n",
    "import heapq\n",
    "#collections.deque\n",
    "#collections.defaultdict(dict)\n",
    "#collections.Counter()\n",
    "#collections.OrderedDict()"
   ]
  },
  {
   "cell_type": "code",
   "execution_count": 1,
   "metadata": {},
   "outputs": [
    {
     "name": "stdout",
     "output_type": "stream",
     "text": [
      "{3}\n"
     ]
    }
   ],
   "source": [
    "a , b =set([1,2, 3]), set([3, 4, 5])\n",
    "print(a & b)"
   ]
  },
  {
   "cell_type": "code",
   "execution_count": 44,
   "metadata": {},
   "outputs": [
    {
     "name": "stdout",
     "output_type": "stream",
     "text": [
      "[[[0, 0], [10, 0]], [[0, 0], [10, 0]], [[0, 0], [10, 0]], [[0, 0], [10, 0]], [[0, 0], [10, 0]], [[0, 0], [10, 0]], [[0, 0], [10, 0]], [[0, 0], [10, 0]], [[0, 0], [10, 0]], [[0, 0], [10, 0]]]\n"
     ]
    }
   ],
   "source": [
    "a = [[0, 0]]\n",
    "b = []\n",
    "for i in range(10):\n",
    "    b.append(a)\n",
    "\n",
    "b[0].append([10, 0])\n",
    "print(b)"
   ]
  },
  {
   "cell_type": "code",
   "execution_count": 55,
   "metadata": {},
   "outputs": [
    {
     "name": "stdout",
     "output_type": "stream",
     "text": [
      "[3, 2, 1]\n"
     ]
    },
    {
     "data": {
      "text/plain": [
       "6"
      ]
     },
     "execution_count": 55,
     "metadata": {},
     "output_type": "execute_result"
    }
   ],
   "source": [
    "def subsetXORSum(nums) -> int:\n",
    "    arr = []    \n",
    "    dfs(nums, 0, arr)\n",
    "    print(arr)\n",
    "    return sum(arr) \n",
    "\n",
    "def dfs(nums, index, xorList):\n",
    "    if index == len(nums):\n",
    "        return\n",
    "    dfs(nums, index + 1, xorList)\n",
    "    s = len(xorList)\n",
    "    for i in range(s):\n",
    "        xorList.append(xorList[i] ^ nums[index])\n",
    "    xorList.append(nums[index])\n",
    "\n",
    "subsetXORSum([1, 3])"
   ]
  },
  {
   "cell_type": "code",
   "execution_count": null,
   "metadata": {},
   "outputs": [],
   "source": []
  }
 ],
 "metadata": {
  "kernelspec": {
   "display_name": "Python 3",
   "language": "python",
   "name": "python3"
  },
  "language_info": {
   "codemirror_mode": {
    "name": "ipython",
    "version": 3
   },
   "file_extension": ".py",
   "mimetype": "text/x-python",
   "name": "python",
   "nbconvert_exporter": "python",
   "pygments_lexer": "ipython3",
   "version": "3.8.3"
  }
 },
 "nbformat": 4,
 "nbformat_minor": 4
}
