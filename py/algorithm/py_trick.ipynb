{
 "cells": [
  {
   "cell_type": "code",
   "execution_count": 1,
   "metadata": {},
   "outputs": [
    {
     "name": "stdout",
     "output_type": "stream",
     "text": [
      "[(1, 1), (2, 5), (4, 4), (4, 6), (4, 7)]\n",
      "[(4, 7), (4, 6), (2, 5), (4, 4), (1, 1)]\n",
      "[(1, 1), (2, 5), (4, 6), (4, 7), (4, 4)]\n",
      "[(4, 7), (4, 6), (2, 5), (4, 4), (1, 1)]\n"
     ]
    }
   ],
   "source": [
    "#sort lambda\n",
    "arr = [(4,6),(4,7),(4,4),(2,5),(1,1)]\n",
    "print(sorted(arr))\n",
    "\n",
    "print(sorted(arr, key = lambda x:x[1], reverse=True))\n",
    "import functools\n",
    "def cmp_arr(a, b):\n",
    "    if a[0] < b[0]:\n",
    "        return -1\n",
    "    elif a[0] == b[0]:\n",
    "        if a[1] < b[1]:\n",
    "            return 1\n",
    "        else:\n",
    "            return 1\n",
    "    else:\n",
    "        return -1\n",
    "print(sorted(arr, key=functools.cmp_to_key(cmp_arr)))\n",
    "from functools import cmp_to_key\n",
    "dic={'and':2,'are':2,'the':4,'is':2,'it':3,'you':3,'a':1}\n",
    "def cmp(a,b):\n",
    "    if a[1] < b[1]:\n",
    "        return 1\n",
    "    elif a[1]>b[1]:\n",
    "        return -1\n",
    "    else:\n",
    "        if a[0] > b[0]:\n",
    "            return 1\n",
    "        else:\n",
    "            return -1\n",
    "ls=sorted(arr,key = cmp_to_key(cmp))\n",
    "print(ls)"
   ]
  },
  {
   "cell_type": "code",
   "execution_count": 33,
   "metadata": {},
   "outputs": [
    {
     "name": "stdout",
     "output_type": "stream",
     "text": [
      "-0.4472135954999579\n",
      "2.0344439357957027\n",
      "116.56505117707799\n",
      "116.56505117707799\n"
     ]
    }
   ],
   "source": [
    "import math\n",
    "pa = (-10, 20)\n",
    "pb = (0, 0)\n",
    "\n",
    "va= (pa[0] - pb[0], pa[1] - pb[1])\n",
    "vb = (1, 0)\n",
    "\n",
    "cosa = (va[0]*vb[0] + va[1]*vb[1]) / math.sqrt((va[0]**2 + va[1]**2) * (vb[0]**2 + vb[1]**2))\n",
    "cross = (va[0]*vb[1] - va[1]*vb[0])\n",
    "print(cosa)\n",
    "acos = math.acos(cosa)\n",
    "print(acos)\n",
    "angle = math.degrees(acos)\n",
    "print(angle)\n",
    "\n",
    "res = angle if cross < 0 else 360 - angle\n",
    "print(res)"
   ]
  },
  {
   "cell_type": "code",
   "execution_count": 7,
   "metadata": {},
   "outputs": [
    {
     "name": "stdout",
     "output_type": "stream",
     "text": [
      "dict_items([(3, 3), (6, 1), (2, 3), (5, 4)])\n",
      "dict_items([(3, 1), (6, 1), (2, 3), (5, 4)])\n"
     ]
    }
   ],
   "source": [
    "#deep copy\n",
    "import copy\n",
    "table = {3:1, 6:1, 2:3,5:4}\n",
    "\n",
    "cp = copy.deepcopy(table)\n",
    "cp[3] = 3\n",
    "print(cp.items())\n",
    "print(table.items())"
   ]
  },
  {
   "cell_type": "code",
   "execution_count": 8,
   "metadata": {},
   "outputs": [
    {
     "name": "stdout",
     "output_type": "stream",
     "text": [
      "[20, 20]\n"
     ]
    }
   ],
   "source": [
    "class Solution:\n",
    "    def func(self):\n",
    "        val = [10, 20]\n",
    "        def nestfunc():\n",
    "            val[0] = 20\n",
    "        \n",
    "        nestfunc()\n",
    "        print(val)\n",
    "\n",
    "sl = Solution()\n",
    "sl.func()"
   ]
  },
  {
   "cell_type": "code",
   "execution_count": 19,
   "metadata": {},
   "outputs": [
    {
     "name": "stdout",
     "output_type": "stream",
     "text": [
      "[[4, 4], [5, 2], [5, 0], [6, 1], [7, 1], [7, 0]]\n"
     ]
    }
   ],
   "source": [
    "from functools import cmp_to_key\n",
    "def compare(a, b):\n",
    "    if a[0] < b[0] or (a[0] == b[0] and a[1] > b[1]):\n",
    "        return -1\n",
    "    else:\n",
    "        return 0\n",
    "    \n",
    "def sortarray(arraylist):\n",
    "    arraylist.sort(key=cmp_to_key(compare))\n",
    "    #or\n",
    "    arraylist.sort(key=lambda _:(-_[0], _[1]))#\n",
    "    print(arraylist)\n",
    "    \n",
    "\n",
    "sortarray([[7,0], [4,4], [7,1], [5,0], [6,1], [5,2]])"
   ]
  },
  {
   "cell_type": "code",
   "execution_count": null,
   "metadata": {},
   "outputs": [],
   "source": [
    "#split string to substring to only alphabet\n",
    "import re\n",
    "substrs = re.findall(u'[a-z]+', paragraph.lower())\n",
    "\n",
    "cur = \"abcdefg\"\n",
    "cur = cur[:-2]\n",
    "print(cur)"
   ]
  },
  {
   "cell_type": "code",
   "execution_count": 11,
   "metadata": {},
   "outputs": [
    {
     "name": "stdout",
     "output_type": "stream",
     "text": [
      "127\n",
      "010 2\n"
     ]
    }
   ],
   "source": [
    "a = '1111111'\n",
    "print(int(a, 2))\n",
    "\n",
    "a = 5\n",
    "res = ''\n",
    "for ch in bin(a).replace('0b', ''):\n",
    "    if ch == '0':\n",
    "        res += '1'\n",
    "    else:\n",
    "        res += '0'\n",
    "\n",
    "print(res, int(res, 2))\n",
    "\n"
   ]
  },
  {
   "cell_type": "code",
   "execution_count": 2,
   "metadata": {},
   "outputs": [
    {
     "name": "stdout",
     "output_type": "stream",
     "text": [
      "3\n"
     ]
    }
   ],
   "source": [
    "mat = [[1,1],[2,3]]\n",
    "print(max([max(arr) for arr in mat]))"
   ]
  },
  {
   "cell_type": "code",
   "execution_count": 9,
   "metadata": {},
   "outputs": [
    {
     "data": {
      "text/plain": [
       "11"
      ]
     },
     "execution_count": 9,
     "metadata": {},
     "output_type": "execute_result"
    }
   ],
   "source": [
    "\n",
    "def f1(a):\n",
    "    a += 1\n",
    "    return a\n",
    "\n",
    "def f2(b):\n",
    "    a = b\n",
    "    return f1(a)\n",
    "    \n",
    "f2(10)\n",
    "\n",
    "#python value type => immutable type"
   ]
  },
  {
   "cell_type": "code",
   "execution_count": 3,
   "metadata": {},
   "outputs": [
    {
     "data": {
      "text/plain": [
       "[0, 3]"
      ]
     },
     "execution_count": 3,
     "metadata": {},
     "output_type": "execute_result"
    }
   ],
   "source": [
    "#find all substring in string\n",
    "import re\n",
    "[m.start() for m in re.finditer('ab', 'abcabd')]"
   ]
  },
  {
   "cell_type": "code",
   "execution_count": 1,
   "metadata": {},
   "outputs": [
    {
     "ename": "NameError",
     "evalue": "name 's' is not defined",
     "output_type": "error",
     "traceback": [
      "\u001b[1;31m---------------------------------------------------------------------------\u001b[0m",
      "\u001b[1;31mNameError\u001b[0m                                 Traceback (most recent call last)",
      "\u001b[1;32m<ipython-input-1-3b979ef4f5ea>\u001b[0m in \u001b[0;36m<module>\u001b[1;34m\u001b[0m\n\u001b[0;32m      1\u001b[0m \u001b[1;31m#find next position\u001b[0m\u001b[1;33m\u001b[0m\u001b[1;33m\u001b[0m\u001b[1;33m\u001b[0m\u001b[0m\n\u001b[1;32m----> 2\u001b[1;33m \u001b[0mi\u001b[0m \u001b[1;33m=\u001b[0m \u001b[0ms\u001b[0m\u001b[1;33m.\u001b[0m\u001b[0mfind\u001b[0m\u001b[1;33m(\u001b[0m\u001b[0msub\u001b[0m\u001b[1;33m)\u001b[0m\u001b[1;33m\u001b[0m\u001b[1;33m\u001b[0m\u001b[0m\n\u001b[0m\u001b[0;32m      3\u001b[0m \u001b[0mi\u001b[0m \u001b[1;33m=\u001b[0m \u001b[0ms\u001b[0m\u001b[1;33m.\u001b[0m\u001b[0mfind\u001b[0m\u001b[1;33m(\u001b[0m\u001b[0msub\u001b[0m\u001b[1;33m,\u001b[0m \u001b[0mi\u001b[0m \u001b[1;33m+\u001b[0m \u001b[1;36m1\u001b[0m\u001b[1;33m)\u001b[0m\u001b[1;33m\u001b[0m\u001b[1;33m\u001b[0m\u001b[0m\n",
      "\u001b[1;31mNameError\u001b[0m: name 's' is not defined"
     ]
    }
   ],
   "source": [
    "#find next position\n",
    "i = s.find(sub)\n",
    "i = s.find(sub, i + 1)\n"
   ]
  },
  {
   "cell_type": "code",
   "execution_count": 8,
   "metadata": {},
   "outputs": [],
   "source": [
    "import collections\n",
    "import heapq\n",
    "#collections.deque\n",
    "#collections.defaultdict(dict)\n",
    "#collections.Counter()\n",
    "#collections.OrderedDict()"
   ]
  },
  {
   "cell_type": "code",
   "execution_count": 10,
   "metadata": {},
   "outputs": [
    {
     "name": "stdout",
     "output_type": "stream",
     "text": [
      "[(2, 4), (3, 5), (4, 6)]\n"
     ]
    }
   ],
   "source": [
    "def findunique(nums):\n",
    "    counter = {}\n",
    "    heap = []\n",
    "    for i, v in enumerate(nums):\n",
    "        if v not in counter:\n",
    "            counter[v] = []\n",
    "        counter[v].append(i)\n",
    "    \n",
    "    for k in counter.keys():\n",
    "        if len(counter[k]) == 1:\n",
    "            heap.append((counter[k][0], k))\n",
    "    \n",
    "    heapq.heapify(heap)\n",
    "    \n",
    "findunique([2,3,4,5,6,3,2])"
   ]
  },
  {
   "cell_type": "code",
   "execution_count": null,
   "metadata": {},
   "outputs": [],
   "source": []
  }
 ],
 "metadata": {
  "kernelspec": {
   "display_name": "Python 3",
   "language": "python",
   "name": "python3"
  },
  "language_info": {
   "codemirror_mode": {
    "name": "ipython",
    "version": 3
   },
   "file_extension": ".py",
   "mimetype": "text/x-python",
   "name": "python",
   "nbconvert_exporter": "python",
   "pygments_lexer": "ipython3",
   "version": "3.7.4"
  }
 },
 "nbformat": 4,
 "nbformat_minor": 4
}
