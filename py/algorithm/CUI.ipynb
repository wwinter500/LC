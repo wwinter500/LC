{
 "cells": [
  {
   "cell_type": "code",
   "execution_count": 11,
   "metadata": {},
   "outputs": [],
   "source": [
    "import queue as qu\n",
    "class TreeNode:\n",
    "    def __init__(self, val):\n",
    "        self.left = None\n",
    "        self.right = None\n",
    "        self.val = val\n",
    "    \n",
    "    def printTree(self, endchar):\n",
    "        #print when root node\n",
    "        if self is None:\n",
    "            return\n",
    "        \n",
    "        print(self.val)\n",
    "        if self.left is not None:\n",
    "            self.left.printTree()\n",
    "        if self.right is not None:\n",
    "            self.right.printTree()\n",
    "        return"
   ]
  },
  {
   "cell_type": "code",
   "execution_count": 20,
   "metadata": {},
   "outputs": [],
   "source": [
    "import heapq\n",
    "def getPrimeList(n):\n",
    "    primes = []\n",
    "    nonprimes = set()\n",
    "    hp = [i for i in range(2, n + 1)]\n",
    "    heapq.heapify(hp)\n",
    "    \n",
    "    while hp:\n",
    "        cur = heapq.heappop(hp)\n",
    "        if cur not in nonprimes:\n",
    "            primes.append(cur)\n",
    "        \n",
    "        for pv in primes:\n",
    "            v = pv * cur\n",
    "            if v > n:\n",
    "                break\n",
    "            if v not in nonprimes:\n",
    "                nonprimes.add(v)\n",
    "\n",
    "    return primes"
   ]
  },
  {
   "cell_type": "code",
   "execution_count": 41,
   "metadata": {},
   "outputs": [
    {
     "name": "stdout",
     "output_type": "stream",
     "text": [
      "[1]\n",
      "a\n"
     ]
    },
    {
     "data": {
      "text/plain": [
       "True"
      ]
     },
     "execution_count": 41,
     "metadata": {},
     "output_type": "execute_result"
    }
   ],
   "source": []
  },
  {
   "cell_type": "code",
   "execution_count": 36,
   "metadata": {},
   "outputs": [
    {
     "name": "stdout",
     "output_type": "stream",
     "text": [
      "3\n"
     ]
    }
   ],
   "source": [
    "def largestCommonFactor(a, b):\n",
    "    if a == 1 or b == 1:\n",
    "        return 1\n",
    "    \n",
    "    while a:\n",
    "        temp = a\n",
    "        a = a // b\n",
    "        b = temp\n",
    "    \n",
    "    return b\n",
    "\n",
    "print(largestCommonFactor(3, 6))\n",
    "\n",
    "def mySqrt(x):\n",
    "    w = x\n",
    "    while w * w > x:\n",
    "        w = (w + x // w) >> 1\n",
    "    \n",
    "    return w\n",
    "    "
   ]
  },
  {
   "cell_type": "code",
   "execution_count": null,
   "metadata": {},
   "outputs": [],
   "source": [
    "#any value in array - 1, and the rest of value would be the same\n",
    "def validSuperSequence(arr):\n",
    "    minv, maxv = min(arr), max(arr)\n",
    "    mincnt, maxcnt = 0, 0\n",
    "    if minv == maxv:\n",
    "        return True\n",
    "    \n",
    "    for v in arr:\n",
    "        if v != minv and v != maxv:\n",
    "             return False\n",
    "        if v == minv:\n",
    "            mincnt += 1\n",
    "        if v == maxv:\n",
    "            maxcnt += 1\n",
    "    \n",
    "    if minv == 1 and mincnt == 1:\n",
    "        return True\n",
    "    elif maxv - minv == 1 and maxcnt == 1:\n",
    "        return True\n",
    "    else:\n",
    "        return False"
   ]
  }
 ],
 "metadata": {
  "kernelspec": {
   "display_name": "Python 3",
   "language": "python",
   "name": "python3"
  },
  "language_info": {
   "codemirror_mode": {
    "name": "ipython",
    "version": 3
   },
   "file_extension": ".py",
   "mimetype": "text/x-python",
   "name": "python",
   "nbconvert_exporter": "python",
   "pygments_lexer": "ipython3",
   "version": "3.7.4"
  }
 },
 "nbformat": 4,
 "nbformat_minor": 4
}
