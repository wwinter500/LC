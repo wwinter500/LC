{
 "cells": [
  {
   "cell_type": "code",
   "execution_count": null,
   "metadata": {},
   "outputs": [],
   "source": [
    "#any value in array - 1, and the rest of value would be the same\n",
    "def validSuperSequence(arr):\n",
    "    minv, maxv = min(arr), max(arr)\n",
    "    mincnt, maxcnt = 0, 0\n",
    "    if minv == maxv:\n",
    "        return True\n",
    "    \n",
    "    for v in arr:\n",
    "        if v != minv and v != maxv:\n",
    "             return False\n",
    "        if v == minv:\n",
    "            mincnt += 1\n",
    "        if v == maxv:\n",
    "            maxcnt += 1\n",
    "    \n",
    "    if minv == 1 and mincnt == 1:\n",
    "        return True\n",
    "    elif maxv - minv == 1 and maxcnt == 1:\n",
    "        return True\n",
    "    else:\n",
    "        return False"
   ]
  }
 ],
 "metadata": {
  "kernelspec": {
   "display_name": "Python 3",
   "language": "python",
   "name": "python3"
  },
  "language_info": {
   "codemirror_mode": {
    "name": "ipython",
    "version": 3
   },
   "file_extension": ".py",
   "mimetype": "text/x-python",
   "name": "python",
   "nbconvert_exporter": "python",
   "pygments_lexer": "ipython3",
   "version": "3.7.4"
  }
 },
 "nbformat": 4,
 "nbformat_minor": 4
}
