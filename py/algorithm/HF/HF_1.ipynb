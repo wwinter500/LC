{
 "cells": [
  {
   "cell_type": "code",
   "execution_count": 44,
   "metadata": {},
   "outputs": [],
   "source": [
    "#Flag HF\n",
    "#FB- online judge original\n",
    "#512 decode ways\n",
    "def numDecodings(s):\n",
    "    if not s:\n",
    "        return 0\n",
    "\n",
    "    n = len(s)\n",
    "    dp = [0 for i in range(n + 1)]\n",
    "    dp[0] = 1\n",
    "    dp[1] = 1 if s[0] != '0' else 0\n",
    "    for i in range(2, n + 1):\n",
    "        sub = int(s[i-2:i])\n",
    "\n",
    "        if s[i - 1] != '0':\n",
    "            if sub > 10 and sub <= 26:\n",
    "                dp[i] = dp[i - 1] + dp[i - 2]\n",
    "            else:\n",
    "                dp[i] = dp[i - 1]\n",
    "        else:\n",
    "            if sub == 10 or sub == 20:\n",
    "                dp[i] = dp[i - 2]\n",
    "            else:\n",
    "                return 0\n",
    "\n",
    "    return dp[n]"
   ]
  },
  {
   "cell_type": "code",
   "execution_count": 45,
   "metadata": {},
   "outputs": [
    {
     "name": "stdout",
     "output_type": "stream",
     "text": [
      "6240\n"
     ]
    }
   ],
   "source": [
    "print(numDecodings(\"11111878787676172120121101212918291829819\"))#re = 6240"
   ]
  },
  {
   "cell_type": "code",
   "execution_count": 50,
   "metadata": {},
   "outputs": [],
   "source": [
    "#log sorting - python\n",
    "def mykey(x):\n",
    "    pos = x.index(' ')\n",
    "    return (x[pos + 1:], x[:pos])\n",
    "\n",
    "def logSort(logs):\n",
    "    withInt = []\n",
    "    withStr = []\n",
    "    for l in logs:\n",
    "        if l.split(' ')[-1].isdigit():\n",
    "            withInt.append(l)\n",
    "        else:\n",
    "            withStr.append(l)\n",
    "    print(withStr)\n",
    "    return sorted(withStr, key=mykey) + withInt"
   ]
  },
  {
   "cell_type": "code",
   "execution_count": 51,
   "metadata": {},
   "outputs": [
    {
     "name": "stdout",
     "output_type": "stream",
     "text": [
      "['a100 Act zoo', 'g9 act car']\n",
      "['a100 Act zoo', 'g9 act car', 'zo4 4 7', 'a1 9 2 3 1']\n"
     ]
    }
   ],
   "source": [
    "print(logSort([\"zo4 4 7\",\"a100 Act zoo\",\"a1 9 2 3 1\",\"g9 act car\"]))"
   ]
  },
  {
   "cell_type": "code",
   "execution_count": null,
   "metadata": {},
   "outputs": [],
   "source": []
  }
 ],
 "metadata": {
  "kernelspec": {
   "display_name": "Python 3",
   "language": "python",
   "name": "python3"
  },
  "language_info": {
   "codemirror_mode": {
    "name": "ipython",
    "version": 3
   },
   "file_extension": ".py",
   "mimetype": "text/x-python",
   "name": "python",
   "nbconvert_exporter": "python",
   "pygments_lexer": "ipython3",
   "version": "3.7.4"
  }
 },
 "nbformat": 4,
 "nbformat_minor": 4
}
