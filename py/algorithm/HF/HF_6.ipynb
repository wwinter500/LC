{
 "cells": [
  {
   "cell_type": "code",
   "execution_count": 3,
   "metadata": {},
   "outputs": [],
   "source": [
    "#DFS with high effeiciency\n",
    "#634 - word squares - dfs with trim\n",
    "from string import ascii_lowercase\n",
    "class TrieNode:\n",
    "    def __init__(self):\n",
    "        self.children = [26] * None\n",
    "        self.ifword = False\n",
    "\n",
    "class Trie:\n",
    "    def __init__(self):\n",
    "        self.root = TrieNode()\n",
    "    \n",
    "    def insert(self, word):\n",
    "        cp = self.root\n",
    "        for ch in word:\n",
    "            idx = ascii_lowercase.index(ch)\n",
    "            if not cp[idx]:\n",
    "                cp.children[idx] = TrieNode()\n",
    "            cp = cp.children[idx]\n",
    "        \n",
    "        cp.ifword = True\n",
    "        \n",
    "    def search(self, word):\n",
    "        if not word:\n",
    "            return False\n",
    "        \n",
    "        cp = self.root\n",
    "        for ch in word:\n",
    "            idx = ascii_lowercase.index(ch)\n",
    "            if not cp.children[idx]:\n",
    "                return False\n",
    "            \n",
    "            cp = cp.children[idx]\n",
    "        \n",
    "        return cp.ifword\n",
    "    \n",
    "def wordSquares(words):\n",
    "    if not words:\n",
    "        return 0\n",
    "    \n",
    "    trie = Trie()\n",
    "    for word in words:\n",
    "        tire.insert(word)\n",
    "    \n",
    "    ans = 0\n",
    "    st = set(words)\n",
    "    for w in words:\n",
    "        \n",
    "    return 0\n",
    "    "
   ]
  },
  {
   "cell_type": "code",
   "execution_count": 2,
   "metadata": {},
   "outputs": [
    {
     "ename": "SyntaxError",
     "evalue": "unexpected EOF while parsing (<ipython-input-2-f0748f9aeb24>, line 3)",
     "output_type": "error",
     "traceback": [
      "\u001b[1;36m  File \u001b[1;32m\"<ipython-input-2-f0748f9aeb24>\"\u001b[1;36m, line \u001b[1;32m3\u001b[0m\n\u001b[1;33m    \u001b[0m\n\u001b[1;37m    ^\u001b[0m\n\u001b[1;31mSyntaxError\u001b[0m\u001b[1;31m:\u001b[0m unexpected EOF while parsing\n"
     ]
    }
   ],
   "source": [
    "#623 - factorization\n",
    "def getFactors(n):\n",
    "    "
   ]
  },
  {
   "cell_type": "code",
   "execution_count": 6,
   "metadata": {},
   "outputs": [
    {
     "name": "stdout",
     "output_type": "stream",
     "text": [
      "0\n"
     ]
    }
   ],
   "source": [
    "\n",
    "print(ascii_lowercase.index('a'))"
   ]
  },
  {
   "cell_type": "code",
   "execution_count": null,
   "metadata": {},
   "outputs": [],
   "source": []
  }
 ],
 "metadata": {
  "kernelspec": {
   "display_name": "Python 3",
   "language": "python",
   "name": "python3"
  },
  "language_info": {
   "codemirror_mode": {
    "name": "ipython",
    "version": 3
   },
   "file_extension": ".py",
   "mimetype": "text/x-python",
   "name": "python",
   "nbconvert_exporter": "python",
   "pygments_lexer": "ipython3",
   "version": "3.7.4"
  }
 },
 "nbformat": 4,
 "nbformat_minor": 4
}
