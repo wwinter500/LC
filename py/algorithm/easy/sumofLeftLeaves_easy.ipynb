{
 "cells": [
  {
   "cell_type": "code",
   "execution_count": 2,
   "metadata": {},
   "outputs": [
    {
     "ename": "SyntaxError",
     "evalue": "(unicode error) 'unicodeescape' codec can't decode bytes in position 2-3: truncated \\UXXXXXXXX escape (<ipython-input-2-5e67e68a4046>, line 3)",
     "output_type": "error",
     "traceback": [
      "\u001b[1;36m  File \u001b[1;32m\"<ipython-input-2-5e67e68a4046>\"\u001b[1;36m, line \u001b[1;32m3\u001b[0m\n\u001b[1;33m    sys.path.insert(1, 'C:\\Users\\donwu\\Python_ladder\\easy')\u001b[0m\n\u001b[1;37m                      ^\u001b[0m\n\u001b[1;31mSyntaxError\u001b[0m\u001b[1;31m:\u001b[0m (unicode error) 'unicodeescape' codec can't decode bytes in position 2-3: truncated \\UXXXXXXXX escape\n"
     ]
    }
   ],
   "source": [
    "import import_ipynb##import from another ipynb file\n",
    "import CUI"
   ]
  },
  {
   "cell_type": "code",
   "execution_count": 29,
   "metadata": {},
   "outputs": [],
   "source": [
    "class Solution:\n",
    "    def __init__(self):\n",
    "        return\n",
    "    \n",
    "    def sumOfLeftLeaves(self, root):\n",
    "        if root is None:\n",
    "            return 0\n",
    "        if root.left is None and root.right is None:\n",
    "            return root.val\n",
    "        if root.right is not None and root.right.left is None and root.right.right is None: \n",
    "            return self.sumOfLeftLeaves(root.left)\n",
    "        \n",
    "        return self.sumOfLeftLeaves(root.left) + self.sumOfLeftLeaves(root.right)"
   ]
  },
  {
   "cell_type": "code",
   "execution_count": 31,
   "metadata": {},
   "outputs": [
    {
     "ename": "AttributeError",
     "evalue": "'Solution' object has no attribute 'whatever'",
     "output_type": "error",
     "traceback": [
      "\u001b[1;31m---------------------------------------------------------------------------\u001b[0m",
      "\u001b[1;31mAttributeError\u001b[0m                            Traceback (most recent call last)",
      "\u001b[1;32m<ipython-input-31-eebfbf9ece43>\u001b[0m in \u001b[0;36m<module>\u001b[1;34m()\u001b[0m\n\u001b[0;32m     10\u001b[0m \u001b[1;31m#root.printTree()\u001b[0m\u001b[1;33m\u001b[0m\u001b[1;33m\u001b[0m\u001b[0m\n\u001b[0;32m     11\u001b[0m \u001b[1;31m#print(sl.sumOfLeftLeaves(root))\u001b[0m\u001b[1;33m\u001b[0m\u001b[1;33m\u001b[0m\u001b[0m\n\u001b[1;32m---> 12\u001b[1;33m \u001b[0msl\u001b[0m\u001b[1;33m.\u001b[0m\u001b[0mwhatever\u001b[0m\u001b[1;33m(\u001b[0m\u001b[1;33m)\u001b[0m\u001b[1;33m\u001b[0m\u001b[0m\n\u001b[0m",
      "\u001b[1;31mAttributeError\u001b[0m: 'Solution' object has no attribute 'whatever'"
     ]
    }
   ],
   "source": [
    "sl = Solution()\n",
    "root = CUI.TreeNode(3)\n",
    "tmp = root\n",
    "tmp.left = CUI.TreeNode(9)\n",
    "tmp.right = CUI.TreeNode(20)\n",
    "tmp = tmp.right\n",
    "tmp.left = CUI.TreeNode(15)\n",
    "tmp.right = CUI.TreeNode(7)\n",
    "\n",
    "#root.printTree()\n",
    "#print(sl.sumOfLeftLeaves(root))\n",
    "sl.whatever()"
   ]
  },
  {
   "cell_type": "code",
   "execution_count": null,
   "metadata": {},
   "outputs": [],
   "source": []
  }
 ],
 "metadata": {
  "kernelspec": {
   "display_name": "Python 3",
   "language": "python",
   "name": "python3"
  },
  "language_info": {
   "codemirror_mode": {
    "name": "ipython",
    "version": 3
   },
   "file_extension": ".py",
   "mimetype": "text/x-python",
   "name": "python",
   "nbconvert_exporter": "python",
   "pygments_lexer": "ipython3",
   "version": "3.6.4"
  }
 },
 "nbformat": 4,
 "nbformat_minor": 2
}
