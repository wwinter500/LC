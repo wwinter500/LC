{
 "cells": [
  {
   "cell_type": "code",
   "execution_count": 2,
   "metadata": {},
   "outputs": [],
   "source": [
    "class TreeNode:\n",
    "    def __init__(self, val):\n",
    "        self.val = val\n",
    "        self.left, self.right = None, None\n",
    "        self.parent = None"
   ]
  },
  {
   "cell_type": "code",
   "execution_count": 5,
   "metadata": {},
   "outputs": [
    {
     "name": "stdout",
     "output_type": "stream",
     "text": [
      "1\n"
     ]
    }
   ],
   "source": [
    "def lowestCommonAncestorII(root, A, B):\n",
    "    if not root or not A or not B:\n",
    "        return None\n",
    "    \n",
    "    a, b, node = helper(root, A, B)\n",
    "    return node\n",
    "\n",
    "def helper(root, A, B):\n",
    "    if not root:\n",
    "        return False, False, None\n",
    "    \n",
    "    la, lb, lnode = helper(root.left, A, B)\n",
    "    ra, rb, rnode = helper(root.right, A, B)\n",
    "\n",
    "    a = la or ra or root == A\n",
    "    b = lb or rb or root == B\n",
    "\n",
    "    if lnode and rnode:\n",
    "        return a, b , root\n",
    "    if lnode:\n",
    "        return a, b, lnode\n",
    "    if rnode:\n",
    "        return a, b, rnode\n",
    "\n",
    "    return a, b, None\n"
   ]
  },
  {
   "cell_type": "code",
   "execution_count": null,
   "metadata": {},
   "outputs": [],
   "source": []
  }
 ],
 "metadata": {
  "kernelspec": {
   "display_name": "Python 3",
   "language": "python",
   "name": "python3"
  },
  "language_info": {
   "codemirror_mode": {
    "name": "ipython",
    "version": 3
   },
   "file_extension": ".py",
   "mimetype": "text/x-python",
   "name": "python",
   "nbconvert_exporter": "python",
   "pygments_lexer": "ipython3",
   "version": "3.7.3"
  }
 },
 "nbformat": 4,
 "nbformat_minor": 2
}