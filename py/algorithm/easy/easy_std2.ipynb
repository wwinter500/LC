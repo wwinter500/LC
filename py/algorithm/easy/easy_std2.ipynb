{
 "cells": [
  {
   "cell_type": "code",
   "execution_count": 1,
   "metadata": {},
   "outputs": [],
   "source": [
    "#for interval, array, matrix and binary index tree\n",
    "#839\n",
    "def merge2interval(intv1, intv2):\n",
    "    intv1[0] = min(intv1[0], intv2[0])\n",
    "    intv1[1] = max(intv1[1], intv2[1])\n",
    "    \n",
    "def mergeTwoInterval(list1, list2):\n",
    "    if not list1 and not list2:\n",
    "        return []\n",
    "    elif not list1:\n",
    "        return list2\n",
    "    elif not list2:\n",
    "        return list1\n",
    "    \n",
    "    ans = []\n",
    "    l1, l2 = 0, 0\n",
    "    while l1 < len(list1) and l2 < len(list2):\n",
    "        cur = list1[l1] if list1[l1][0] < list2[l2][0] else list2[l2]\n",
    "        if cur == list1[l1]:\n",
    "            l1 += 1\n",
    "        else:\n",
    "            l2 += 1\n",
    "            \n",
    "        if not ans or ans[-1][1] < cur[0]:\n",
    "            ans.append(cur)\n",
    "        else:\n",
    "            ans[-1][1] = max(ans[-1][1], cur[1])\n",
    "    \n",
    "    while l1 < len(list1):\n",
    "        if not ans or ans[-1][1] < list1[l1][0]:\n",
    "            ans.append(cur)\n",
    "        else:\n",
    "            ans[-1][1] = max(ans[-1][1], list1[l1][1])\n",
    "        \n",
    "        l1 += 1\n",
    "    \n",
    "    while l2 < len(list2):\n",
    "        if not ans or ans[-1][1] < list2[l2][0]:\n",
    "            ans.append(cur)\n",
    "        else:\n",
    "            ans[-1][1] = max(ans[-1][1], list2[l2][1])\n",
    "        \n",
    "        l2 += 1\n",
    "    \n",
    "    return ans\n",
    "    "
   ]
  },
  {
   "cell_type": "code",
   "execution_count": 24,
   "metadata": {},
   "outputs": [],
   "source": [
    "#138\n",
    "def subarraySum(nums):\n",
    "    prefix_hash = {0: -1}\n",
    "    prefix_sum = 0\n",
    "    for i, num in enumerate(nums):\n",
    "        prefix_sum += num\n",
    "        if prefix_sum in prefix_hash:\n",
    "            return prefix_hash[prefix_sum] + 1, i\n",
    "        \n",
    "        prefix_hash[prefix_sum] = i\n",
    "    \n",
    "    return -1, -1"
   ]
  },
  {
   "cell_type": "code",
   "execution_count": 25,
   "metadata": {},
   "outputs": [
    {
     "name": "stdout",
     "output_type": "stream",
     "text": [
      "(0, 1)\n"
     ]
    }
   ],
   "source": [
    "print(subarraySum([1, -1]))"
   ]
  },
  {
   "cell_type": "code",
   "execution_count": 26,
   "metadata": {},
   "outputs": [],
   "source": [
    "def mergeSortedArray(A, m, B, n):\n",
    "    pos = m + n + 1\n",
    "    i = m - 1\n",
    "    j = n - 1\n",
    "    while i >= 0 and j >= 0:\n",
    "        if A[i] > B[j]:\n",
    "            A[pos] = A[i]\n",
    "            pos -= 1\n",
    "            i -= 1\n",
    "        else:\n",
    "            A[pos] = B[j]\n",
    "            pos -= 1\n",
    "            j -= 1\n",
    "    \n",
    "    while i >= 0:\n",
    "        A[pos] = A[i]\n",
    "        pos -= 1\n",
    "        i -= 1\n",
    "    \n",
    "    while j >= 0:\n",
    "        A[pos] = B[j]\n",
    "        pos -= 1\n",
    "        j -= 1\n",
    "        "
   ]
  },
  {
   "cell_type": "code",
   "execution_count": 43,
   "metadata": {},
   "outputs": [],
   "source": [
    "import sys\n",
    "def maxSubArray(nums):\n",
    "    if not nums:\n",
    "        return 0\n",
    "    \n",
    "    prefix_sums = [0 for i in range(len(nums) + 1)]\n",
    "    for i in range(1, len(prefix_sums)):\n",
    "        prefix_sums[i] = prefix_sums[i - 1] + nums[i - 1]\n",
    "    \n",
    "    minv = sys.maxsize\n",
    "    maxv = 0\n",
    "    for i in range(len(prefix_sums)):\n",
    "        maxv = max(maxv, prefix_sums[i] - minv)\n",
    "        minv = min(prefix_sums[i], minv)\n",
    "    \n",
    "    return maxv"
   ]
  },
  {
   "cell_type": "code",
   "execution_count": 45,
   "metadata": {},
   "outputs": [
    {
     "name": "stdout",
     "output_type": "stream",
     "text": [
      "6\n"
     ]
    }
   ],
   "source": [
    "print(maxSubArray([-2,2,-3,4,-1,2,1,-5,3]))"
   ]
  },
  {
   "cell_type": "code",
   "execution_count": null,
   "metadata": {},
   "outputs": [],
   "source": []
  },
  {
   "cell_type": "code",
   "execution_count": null,
   "metadata": {},
   "outputs": [],
   "source": []
  },
  {
   "cell_type": "code",
   "execution_count": null,
   "metadata": {},
   "outputs": [],
   "source": []
  },
  {
   "cell_type": "code",
   "execution_count": null,
   "metadata": {},
   "outputs": [],
   "source": []
  },
  {
   "cell_type": "code",
   "execution_count": null,
   "metadata": {},
   "outputs": [],
   "source": []
  },
  {
   "cell_type": "code",
   "execution_count": null,
   "metadata": {},
   "outputs": [],
   "source": []
  },
  {
   "cell_type": "code",
   "execution_count": null,
   "metadata": {},
   "outputs": [],
   "source": []
  },
  {
   "cell_type": "code",
   "execution_count": null,
   "metadata": {},
   "outputs": [],
   "source": []
  },
  {
   "cell_type": "code",
   "execution_count": null,
   "metadata": {},
   "outputs": [],
   "source": []
  },
  {
   "cell_type": "code",
   "execution_count": null,
   "metadata": {},
   "outputs": [],
   "source": []
  },
  {
   "cell_type": "code",
   "execution_count": null,
   "metadata": {},
   "outputs": [],
   "source": []
  },
  {
   "cell_type": "code",
   "execution_count": null,
   "metadata": {},
   "outputs": [],
   "source": []
  },
  {
   "cell_type": "code",
   "execution_count": null,
   "metadata": {},
   "outputs": [],
   "source": []
  },
  {
   "cell_type": "code",
   "execution_count": null,
   "metadata": {},
   "outputs": [],
   "source": []
  },
  {
   "cell_type": "code",
   "execution_count": null,
   "metadata": {},
   "outputs": [],
   "source": []
  }
 ],
 "metadata": {
  "kernelspec": {
   "display_name": "Python 3",
   "language": "python",
   "name": "python3"
  },
  "language_info": {
   "codemirror_mode": {
    "name": "ipython",
    "version": 3
   },
   "file_extension": ".py",
   "mimetype": "text/x-python",
   "name": "python",
   "nbconvert_exporter": "python",
   "pygments_lexer": "ipython3",
   "version": "3.7.4"
  }
 },
 "nbformat": 4,
 "nbformat_minor": 2
}
