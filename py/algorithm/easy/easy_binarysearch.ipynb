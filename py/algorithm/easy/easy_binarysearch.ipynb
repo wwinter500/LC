{
 "nbformat": 4,
 "nbformat_minor": 2,
 "metadata": {
  "language_info": {
   "name": "python",
   "codemirror_mode": {
    "name": "ipython",
    "version": 3
   }
  },
  "orig_nbformat": 2,
  "file_extension": ".py",
  "mimetype": "text/x-python",
  "name": "python",
  "npconvert_exporter": "python",
  "pygments_lexer": "ipython3",
  "version": 3
 },
 "cells": [
  {
   "cell_type": "code",
   "execution_count": 5,
   "metadata": {},
   "outputs": [],
   "source": [
    "import math\n",
    "#easy - binary search\n",
    "def primeFactorization(num):\n",
    "    ans = []\n",
    "    while num > 1:\n",
    "        fac = 1\n",
    "        for v in range(2, (int)(math.sqrt(num)) + 1):\n",
    "            if num % v == 0:\n",
    "                fac = v\n",
    "                break\n",
    "            \n",
    "        if fac == 1:\n",
    "            ans.append(num)\n",
    "            break\n",
    "        else:\n",
    "            ans.append(fac)\n",
    "            num = (int)( num/ fac)\n",
    "    return ans"
   ]
  },
  {
   "cell_type": "code",
   "execution_count": 7,
   "metadata": {},
   "outputs": [
    {
     "name": "stdout",
     "output_type": "stream",
     "text": "[2, 3, 5]\n"
    }
   ],
   "source": [
    "re = primeFactorization(30)\n",
    "print(re)"
   ]
  },
  {
   "cell_type": "code",
   "execution_count": 92,
   "metadata": {},
   "outputs": [],
   "source": [
    "def dropEggs(n):\n",
    "    #\n",
    "    if n == 0 or n == 1:\n",
    "        return 1\n",
    "    \n",
    "    #try x -> x - 1 -> x - 2 -> .. -> 1, until sum >= n\n",
    "    sum0 = 0\n",
    "    inc = 1\n",
    "    while sum0 < n:\n",
    "        sum0 += inc\n",
    "        inc += 1\n",
    "    return inc - 1\n",
    "\n",
    "def dropEggs2(n):\n",
    "    if n == 0 or n == 1:\n",
    "        return 1\n",
    "    \n",
    "    dp = [0 for i in range(n + 1)]\n",
    "    dp[1] = 1\n",
    "    for i in range(2, n + 1):\n",
    "        minv = sys.maxsize\n",
    "        j = 0\n",
    "        while j <= i:\n",
    "            minv = min(minv, max(dp[i - j], j - 1))\n",
    "            j += 1\n",
    "        dp[i] = minv + 1\n",
    "    return dp[n]"
   ]
  },
  {
   "cell_type": "code",
   "execution_count": 93,
   "metadata": {},
   "outputs": [
    {
     "name": "stdout",
     "output_type": "stream",
     "text": "1\n"
    }
   ],
   "source": [
    "print(dropEggs2(100))"
   ]
  },
  {
   "cell_type": "code",
   "execution_count": 63,
   "metadata": {},
   "outputs": [],
   "source": [
    "def searchMatrix(matrix, target):\n",
    "    if not matrix or not matrix[0]:\n",
    "        return False\n",
    "    \n",
    "    n = len(matrix)\n",
    "    m = len(matrix[0])\n",
    "    l, r = 0, n * m - 1\n",
    "    while l < r:\n",
    "        med = l + (int)((r - l) / 2)\n",
    "        y,x = (int)(med / m), med % m\n",
    "        if matrix[y][x] == target:\n",
    "            return True\n",
    "        elif matrix[y][x] > target:\n",
    "            r = med\n",
    "        else:\n",
    "            l = med + 1\n",
    "    \n",
    "    y,x = (int)(l / m), l % m\n",
    "    if matrix[y][x] == target:\n",
    "        return True\n",
    "    y,x = (int)(r/m), r%m\n",
    "    if matrix[y][x] == target:\n",
    "        return True\n",
    "    return False"
   ]
  },
  {
   "cell_type": "code",
   "execution_count": 64,
   "metadata": {},
   "outputs": [
    {
     "name": "stdout",
     "output_type": "stream",
     "text": "True\n"
    }
   ],
   "source": [
    "print(searchMatrix([[1,2,3],[3,4,5],[7,8,9]], 5))"
   ]
  },
  {
   "cell_type": "code",
   "execution_count": null,
   "metadata": {},
   "outputs": [],
   "source": []
  }
 ]
}