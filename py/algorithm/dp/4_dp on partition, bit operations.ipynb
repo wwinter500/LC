{
 "cells": [
  {
   "cell_type": "code",
   "execution_count": 58,
   "metadata": {},
   "outputs": [],
   "source": [
    "#partition dp\n",
    "#513 - perfect squares\n",
    "def numSquares(n):\n",
    "    dp = [0] * (n + 1)\n",
    "    dp[1] = 1\n",
    "    for i in range(2, n + 1):\n",
    "        if i * i > n:\n",
    "            continue\n",
    "            \n",
    "        dp[i*i] = 1\n",
    "    \n",
    "    for i in range(2, n + 1):\n",
    "        cnt = i\n",
    "        for j in range(i, 0, -1):\n",
    "            if j * j > i:\n",
    "                continue\n",
    "            cnt = min(cnt, dp[i - j * j] + 1)\n",
    "        \n",
    "        dp[i] = cnt if dp[i] == 0 else min(dp[i], cnt)\n",
    "        \n",
    "    return dp[n]\n",
    "print(numSquares(10))"
   ]
  },
  {
   "cell_type": "code",
   "execution_count": 65,
   "metadata": {},
   "outputs": [],
   "source": [
    "#108 palindrome partition II\n",
    "def minCut(s):\n",
    "    n = len(s)\n",
    "    f = []\n",
    "    p = [[False for i in range(n)] for i in range(n)]\n",
    "    \n",
    "    for i in range(n + 1):\n",
    "        f.append(n - i - i)\n",
    "    \n",
    "    for i in reversed(range(n)):\n",
    "        for j in range(i, n):\n",
    "            if s[i] == s[j] and (j - i < 2 or p[i + 1][j - 1]):\n",
    "                p[i][j] = True\n",
    "                f[i] = min(f[i], f[j + 1] + 1)\n",
    "    \n",
    "    return f[0]"
   ]
  },
  {
   "cell_type": "code",
   "execution_count": 1,
   "metadata": {},
   "outputs": [],
   "source": [
    "#437 copy books\n",
    "def copyBooks(pages, k):\n",
    "    #unfinished\n",
    "    if not pages or k <= 0:\n",
    "        return 0\n",
    "    \n",
    "    n = len(pages)\n",
    "    sums = [0]\n",
    "    dp = [[0 for i in range(n + 1)] for i in range(k + 1)]\n",
    "    \n",
    "    for i in range(1, n + 1):\n",
    "        sums.append(sums[-1] + pages[i - 1])\n",
    "    \n",
    "    #dp[k][i] = min(dp[k][i], max(dp[k - 1][j] + sums[i] - sums[j]))\n",
    "    for kp in range(1, k + 1):\n",
    "        for ib in range(k, n + 1):\n",
    "            cnt = 1\n",
    "            for jb in range(ib + 1):\n",
    "                cnt = max(dp[k - 1][j] + sums[i] - sums[j])\n",
    "            \n",
    "            dp[k][i] = min(dp[k][i], cnt)\n",
    "    \n",
    "    return dp[k][n]\n"
   ]
  }
 ],
 "metadata": {
  "kernelspec": {
   "display_name": "Python 3",
   "language": "python",
   "name": "python3"
  },
  "language_info": {
   "codemirror_mode": {
    "name": "ipython",
    "version": 3
   },
   "file_extension": ".py",
   "mimetype": "text/x-python",
   "name": "python",
   "nbconvert_exporter": "python",
   "pygments_lexer": "ipython3",
   "version": "3.8.3"
  }
 },
 "nbformat": 4,
 "nbformat_minor": 4
}
