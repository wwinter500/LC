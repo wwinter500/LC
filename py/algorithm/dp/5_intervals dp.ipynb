{
 "cells": [
  {
   "cell_type": "code",
   "execution_count": 89,
   "metadata": {},
   "outputs": [
    {
     "name": "stdout",
     "output_type": "stream",
     "text": [
      "2\n"
     ]
    }
   ],
   "source": [
    "#return minmum merge score\n",
    "def stoneGame(stones):\n",
    "    #prefer to use memory search to finish this issue\n",
    "    #use dp would be harder to view\n",
    "    n = len(piles)\n",
    "    f = [[0] * n for _ in range(n)]\n",
    "    for i in range(n):\n",
    "        f[i][i] = piles[i]\n",
    "\n",
    "    for l in range(2, n + 1):\n",
    "        for i in range(n -l + 1):\n",
    "            j = i + l - 1\n",
    "            f[i][j] = max(piles[i] - f[i + 1][j], piles[j] - f[i][j - 1])\n",
    "\n",
    "    return f[0][n - 1] > 0"
   ]
  },
  {
   "cell_type": "code",
   "execution_count": null,
   "metadata": {},
   "outputs": [],
   "source": [
    "#leetcode zeros and ones \n",
    "def getLargestSubset(self, strs, m, n):\n",
    "    f = [[0] * (n + 1) for _ in range(m + 1)]\n",
    "    for s in strs:\n",
    "        cnt = collections.Counter(s)\n",
    "        zeros, ones = cnt['0'], cnt['1']\n",
    "        for j in range(m, zeros -1 , -1):\n",
    "            for k in range(n, ones -1 , -1):\n",
    "                f[j][k] = max(f[j][k], f[j - zeros][k - ones] + 1)\n",
    "\n",
    "    return f[m][n]\n",
    "        "
   ]
  }
 ],
 "metadata": {
  "kernelspec": {
   "display_name": "Python 3",
   "language": "python",
   "name": "python3"
  },
  "language_info": {
   "codemirror_mode": {
    "name": "ipython",
    "version": 3
   },
   "file_extension": ".py",
   "mimetype": "text/x-python",
   "name": "python",
   "nbconvert_exporter": "python",
   "pygments_lexer": "ipython3",
   "version": "3.8.3"
  }
 },
 "nbformat": 4,
 "nbformat_minor": 4
}
