{
 "cells": [
  {
   "cell_type": "code",
   "execution_count": 1,
   "metadata": {},
   "outputs": [],
   "source": [
    "#backpack - II \n",
    "#dp[i][j] - maximum value with j size when at most i items\n",
    "def backPackII(m, A, V):\n",
    "    if not A or not V:\n",
    "        return 0\n",
    "    \n",
    "    n = len(A)\n",
    "    dp = [[0 for j in range(m + 1)] for i in range(n + 1)]\n",
    "    \n",
    "    for i in range(1, n + 1):\n",
    "        for j in range(1, m + 1):\n",
    "            if j >= A[i - 1]:\n",
    "                dp[i][j] = max(dp[i - 1][j], dp[i - 1][j - A[i - 1]] + V[i - 1])\n",
    "            else:\n",
    "                dp[i][j] = dp[i - 1][j]\n",
    "    \n",
    "    return max(dp[n])"
   ]
  },
  {
   "cell_type": "code",
   "execution_count": 22,
   "metadata": {},
   "outputs": [],
   "source": [
    "#backpack - III\n",
    "#dp[i][j] - maximun values with j size when at most i items\n",
    "def backPackIII(A, V, m):\n",
    "    if not A or not V:\n",
    "        return 0\n",
    "    \n",
    "    n = len(A)\n",
    "    dp = [[0 for j in range(m + 1)] for i in range(n + 1)]\n",
    "    for i in range(1, n + 1):\n",
    "        for j in range(1, m + 1):\n",
    "            if j >= A[i - 1]:\n",
    "                times = j // A[i - 1] + 1\n",
    "                for t in range(1, times):\n",
    "                    dp[i][j] = max(dp[i - 1][j], dp[i - 1][j - A[i - 1] * t] + V[i - 1] * t)\n",
    "            else:\n",
    "                dp[i][j] = dp[i - 1][j]\n",
    "     \n",
    "    return max(dp[n])"
   ]
  },
  {
   "cell_type": "code",
   "execution_count": 23,
   "metadata": {},
   "outputs": [
    {
     "name": "stdout",
     "output_type": "stream",
     "text": [
      "15\n"
     ]
    }
   ],
   "source": [
    "print(backPackIII([2, 3, 5, 7], [1, 5, 2, 4], 10))"
   ]
  },
  {
   "cell_type": "code",
   "execution_count": 88,
   "metadata": {},
   "outputs": [],
   "source": [
    "#562 - backpack - IV \n",
    "#dp[i][j] - ways of combines with j size when at most i items\n",
    "def backPackIV(nums, target):\n",
    "    if not nums:\n",
    "        return 0\n",
    "    \n",
    "    n = len(nums)\n",
    "    dp = [[0 for j in range(target + 1)] for i in range(n + 1)]\n",
    "    for i in range(n + 1):\n",
    "        dp[i][0] = 1\n",
    "\n",
    "    for i in range(1, n + 1):\n",
    "        for j in range(1, target + 1):\n",
    "            k = 0\n",
    "            while k * nums[i - 1] <= j:\n",
    "                dp[i][j] += dp[i - 1][j - nums[i - 1] * k]\n",
    "                k += 1\n",
    "\n",
    "    return dp[n][target]"
   ]
  },
  {
   "cell_type": "code",
   "execution_count": 89,
   "metadata": {},
   "outputs": [
    {
     "name": "stdout",
     "output_type": "stream",
     "text": [
      "2\n"
     ]
    }
   ],
   "source": [
    "print(backPackIV([2,3,6,7], 7))"
   ]
  },
  {
   "cell_type": "code",
   "execution_count": null,
   "metadata": {},
   "outputs": [],
   "source": []
  }
 ],
 "metadata": {
  "kernelspec": {
   "display_name": "Python 3",
   "language": "python",
   "name": "python3"
  },
  "language_info": {
   "codemirror_mode": {
    "name": "ipython",
    "version": 3
   },
   "file_extension": ".py",
   "mimetype": "text/x-python",
   "name": "python",
   "nbconvert_exporter": "python",
   "pygments_lexer": "ipython3",
   "version": "3.7.4"
  }
 },
 "nbformat": 4,
 "nbformat_minor": 4
}
