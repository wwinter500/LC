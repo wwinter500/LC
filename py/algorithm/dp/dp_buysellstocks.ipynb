{
 "cells": [
  {
   "cell_type": "code",
   "execution_count": 1,
   "metadata": {},
   "outputs": [
    {
     "ename": "SyntaxError",
     "evalue": "unexpected EOF while parsing (<ipython-input-1-e184f514c0e5>, line 10)",
     "output_type": "error",
     "traceback": [
      "\u001b[0;36m  File \u001b[0;32m\"<ipython-input-1-e184f514c0e5>\"\u001b[0;36m, line \u001b[0;32m10\u001b[0m\n\u001b[0;31m    \u001b[0m\n\u001b[0m    ^\u001b[0m\n\u001b[0;31mSyntaxError\u001b[0m\u001b[0;31m:\u001b[0m unexpected EOF while parsing\n"
     ]
    }
   ],
   "source": [
    "状态的分类：\n",
    "当前手中没有股票：\n",
    "\t买当前的，状态发生改变\n",
    "\t不买当前的，状态不变\n",
    "\n",
    "当前手中持有股票：\n",
    "\t卖当前的，状态发生改变\n",
    "\t不卖当前的，状态不变\n",
    "\n",
    "stock 4:\n",
    "dp = [[0] * (2 * k + 1) for _ in range(n)]\n",
    "for j in range(1, 2 * k + 1, 2):\n",
    "    dp[0][j] = -prices[0]\n",
    "\n",
    "print(dp)\n",
    "for i in range(1, n):\n",
    "    for j in range(1, 2 * k + 1):\n",
    "        if j & 1:\n",
    "            dp[i][j] = max(dp[i - 1][j - 1] - prices[i], dp[i - 1][j])\n",
    "        else:\n",
    "            dp[i][j] = max(dp[i - 1][j - 1] + prices[i], dp[i - 1][j])\n",
    "\n",
    "return max([dp[n - 1][j] for j in range(0, 2 * k + 1, 2)])"
   ]
  },
  {
   "cell_type": "code",
   "execution_count": null,
   "metadata": {},
   "outputs": [],
   "source": [
    "#buy sell stock with transaction fee\n",
    "def buyAndSellStocks(P, fee):\n",
    "    n = len(P)\n",
    "    f = [[-sys.maxsize]*2 for _ in range(n+1)]\n",
    "    f[0][0] = 0\n",
    "\n",
    "    for i in range(1, n+1):\n",
    "        # continue without stock\n",
    "        f[i][0] = max(f[i][0], f[i-1][0])\n",
    "        # or sell today:\n",
    "        if i > 1:\n",
    "            f[i][0] = max(f[i][0], f[i-1][1]+P[i-1]-P[i-2]-fee)\n",
    "\n",
    "        # continue with stock:\n",
    "        if i > 1:\n",
    "            f[i][1] = max(f[i][1], f[i-1][1]+P[i-1]-P[i-2])\n",
    "        # or buy today:\n",
    "        f[i][1] = max(f[i][1], f[i-1][0])\n",
    "\n",
    "    return f[n][0]\n",
    "\n",
    "#buy sell stock with cooldown\n",
    "def buyAndSellStocks(prices, cooldown):"
   ]
  }
 ],
 "metadata": {
  "kernelspec": {
   "display_name": "Python 3",
   "language": "python",
   "name": "python3"
  },
  "language_info": {
   "codemirror_mode": {
    "name": "ipython",
    "version": 3
   },
   "file_extension": ".py",
   "mimetype": "text/x-python",
   "name": "python",
   "nbconvert_exporter": "python",
   "pygments_lexer": "ipython3",
   "version": "3.8.3"
  }
 },
 "nbformat": 4,
 "nbformat_minor": 4
}
