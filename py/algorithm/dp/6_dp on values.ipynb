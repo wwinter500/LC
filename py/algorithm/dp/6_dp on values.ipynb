{
 "cells": [
  {
   "cell_type": "code",
   "execution_count": 1,
   "metadata": {},
   "outputs": [],
   "source": [
    "#partition equal subset\n",
    "def partitionSubset(nums):\n",
    "    if not nums:\n",
    "        return 0\n",
    "    \n",
    "    sums = sum(nums)\n",
    "    if sums % 2 == 1:\n",
    "        return False\n",
    "    \n",
    "    target = sums // 2\n",
    "    dp = [False] * (target + 1)\n",
    "    dp[0] = True\n",
    "    for j in range(len(nums)):\n",
    "        for i in range(target, nums[j] - 1, -1):\n",
    "            dp[i] |= dp[i - nums[j]]\n",
    "    \n",
    "    return dp[n]\n",
    "        "
   ]
  },
  {
   "cell_type": "code",
   "execution_count": 3,
   "metadata": {},
   "outputs": [
    {
     "name": "stdout",
     "output_type": "stream",
     "text": [
      "-1\n"
     ]
    }
   ],
   "source": []
  },
  {
   "cell_type": "code",
   "execution_count": null,
   "metadata": {},
   "outputs": [],
   "source": []
  }
 ],
 "metadata": {
  "kernelspec": {
   "display_name": "Python 3",
   "language": "python",
   "name": "python3"
  },
  "language_info": {
   "codemirror_mode": {
    "name": "ipython",
    "version": 3
   },
   "file_extension": ".py",
   "mimetype": "text/x-python",
   "name": "python",
   "nbconvert_exporter": "python",
   "pygments_lexer": "ipython3",
   "version": "3.8.3"
  }
 },
 "nbformat": 4,
 "nbformat_minor": 4
}
