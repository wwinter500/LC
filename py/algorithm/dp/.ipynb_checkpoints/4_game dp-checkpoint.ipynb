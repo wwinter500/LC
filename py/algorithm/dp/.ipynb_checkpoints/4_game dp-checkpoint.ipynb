{
 "cells": [
  {
   "cell_type": "code",
   "execution_count": null,
   "metadata": {},
   "outputs": [],
   "source": [
    "#394 - coins in a line - game theory\n",
    "def coinsInLine(n):\n",
    "    if not n:\n",
    "        return False\n",
    "    f = [False] * (n + 1)\n",
    "    f[0] = True\n",
    "    f[1] = False\n",
    "    for i in range(2, n + 1):\n",
    "        f[i] = (not f[i - 1] || not f[i - 2])\n",
    "    return f[n]\n",
    "    \n",
    "#rolling array optimization\n",
    "def firstWillWin(self, n):\n",
    "    if not n:\n",
    "        return False\n",
    "\n",
    "    pre,ppre = True, False\n",
    "    cur = True\n",
    "    for i in range(2, n + 1):\n",
    "        cur = False if pre and ppre else True\n",
    "        ppre = pre\n",
    "        pre = cur\n",
    "\n",
    "    return cur"
   ]
  },
  {
   "cell_type": "code",
   "execution_count": 1,
   "metadata": {},
   "outputs": [],
   "source": [
    "#stone game VII\n",
    "class Solution:\n",
    "    def stoneGameVII(self, stones: List[int]) -> int:\n",
    "        "
   ]
  },
  {
   "cell_type": "code",
   "execution_count": null,
   "metadata": {},
   "outputs": [],
   "source": []
  }
 ],
 "metadata": {
  "kernelspec": {
   "display_name": "Python 3",
   "language": "python",
   "name": "python3"
  },
  "language_info": {
   "codemirror_mode": {
    "name": "ipython",
    "version": 3
   },
   "file_extension": ".py",
   "mimetype": "text/x-python",
   "name": "python",
   "nbconvert_exporter": "python",
   "pygments_lexer": "ipython3",
   "version": "3.8.3"
  }
 },
 "nbformat": 4,
 "nbformat_minor": 4
}
