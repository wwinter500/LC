{
 "cells": [
  {
   "cell_type": "code",
   "execution_count": 2,
   "metadata": {},
   "outputs": [],
   "source": [
    "#1. dp + binary search\n",
    "# example: longest increase subsequnce , russial doll[2d]\n",
    "import bisect\n",
    "#令 dp[i]=minwidth 表示长度为i的上升子序列的结尾的元素的width最小是为minwidth \n",
    "#而且我们需要构造dp数组是一个单调不降数组（因为显然不会出现当 Len1 < Len2 时长度为Len1的上升序列的结尾 反而 比 长度为Len2的结尾还要大的情况） \n",
    "#这样每考虑一个新信封x，用x把dp数组更新，既找到最小的idx 使得 dp[idx]>=x.width \n",
    "#这样我们就能让长度为idx的上升序列得到优化，而且还不会影响dp数组的单调性 \n",
    "#对于如何查找最小的idx，我们可以使用二分查找算法或者直接使用lowerbound函数\n"
   ]
  },
  {
   "cell_type": "code",
   "execution_count": 14,
   "metadata": {},
   "outputs": [],
   "source": [
    "#russian doll\n",
    "def maxEnvelops(envelopes):\n",
    "    height = [a[1] for a in sorted(envelopes, key=lambda x:(x[0], -x[1]))]\n",
    "    dp = [0] * len(height)\n",
    "    length = 0\n",
    "    print(height)\n",
    "    for h in height:\n",
    "        i = bisect.bisect_left(dp, h, 0, length)\n",
    "        dp[i] = h\n",
    "        if i == length:\n",
    "            length += 1\n",
    "        \n",
    "        print(h, i, dp)\n",
    "    return length"
   ]
  },
  {
   "cell_type": "code",
   "execution_count": 15,
   "metadata": {},
   "outputs": [
    {
     "name": "stdout",
     "output_type": "stream",
     "text": [
      "[1, 3, 6, 5, 7]\n",
      "1 0 [1, 0, 0, 0, 0]\n",
      "3 1 [1, 3, 0, 0, 0]\n",
      "6 2 [1, 3, 6, 0, 0]\n",
      "5 2 [1, 3, 5, 0, 0]\n",
      "7 3 [1, 3, 5, 7, 0]\n",
      "4\n"
     ]
    }
   ],
   "source": [
    "print(maxEnvelops([[4,5],[4,6],[6,7],[2,3],[1,1]]))"
   ]
  },
  {
   "cell_type": "code",
   "execution_count": 17,
   "metadata": {},
   "outputs": [
    {
     "name": "stdout",
     "output_type": "stream",
     "text": [
      "[2, 3, 5, 7, 0, 0]\n",
      "4\n"
     ]
    }
   ],
   "source": [
    "#76 longest increase subsequence\n",
    "def longestIncreasingSubsequence(nums):\n",
    "    n = len(nums)\n",
    "    dp = [0] * n\n",
    "    length = 0\n",
    "    for num in nums:\n",
    "        i = bisect.bisect_left(dp, num, 0, length)\n",
    "        dp[i] = num\n",
    "        if i == length:\n",
    "            length += 1\n",
    "\n",
    "    return length\n",
    "\n",
    "print(longestIncreasingSubsequence([4,2,4,5,3,7]))"
   ]
  },
  {
   "cell_type": "code",
   "execution_count": 10,
   "metadata": {},
   "outputs": [],
   "source": [
    "#2.  dp + backtrack\n",
    "#output as list which identify path or subset \n",
    "#Largest Divisible Subset\n",
    "def largestDivisibleSubset(nums):\n",
    "    n = len(nums)\n",
    "    dp, pre = [1] * n, [i for i in range(n)]\n",
    "    nums.sort()\n",
    "    \n",
    "    for i in range(n):\n",
    "        for j in range(i):\n",
    "            if nums[i] % nums[j] == 0 and dp[i] < dp[j] + 1:\n",
    "                dp[i] = dp[j] + 1\n",
    "                pre[i] = j\n",
    "    \n",
    "    max_i, max_v = 0,0\n",
    "    for i, v in enumerate(dp):\n",
    "        if v > max_v:\n",
    "            max_v = v\n",
    "            max_i = i\n",
    "    \n",
    "    re = [nums[max_i]]\n",
    "    i = max_i\n",
    "    while i != pre[i]:\n",
    "        i = pre[i]\n",
    "        re.append(nums[i])\n",
    "    return sorted(re)"
   ]
  },
  {
   "cell_type": "code",
   "execution_count": 11,
   "metadata": {},
   "outputs": [
    {
     "name": "stdout",
     "output_type": "stream",
     "text": [
      "[1, 2]\n"
     ]
    }
   ],
   "source": [
    "print(largestDivisibleSubset([1,2,3]))"
   ]
  },
  {
   "cell_type": "code",
   "execution_count": null,
   "metadata": {},
   "outputs": [],
   "source": []
  }
 ],
 "metadata": {
  "kernelspec": {
   "display_name": "Python 3",
   "language": "python",
   "name": "python3"
  },
  "language_info": {
   "codemirror_mode": {
    "name": "ipython",
    "version": 3
   },
   "file_extension": ".py",
   "mimetype": "text/x-python",
   "name": "python",
   "nbconvert_exporter": "python",
   "pygments_lexer": "ipython3",
   "version": "3.7.4"
  }
 },
 "nbformat": 4,
 "nbformat_minor": 4
}
