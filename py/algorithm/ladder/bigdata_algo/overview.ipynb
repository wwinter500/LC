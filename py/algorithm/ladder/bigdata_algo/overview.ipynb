{
 "cells": [
  {
   "cell_type": "code",
   "execution_count": null,
   "metadata": {},
   "outputs": [],
   "source": [
    "#793 - intersection of two array\n",
    "def intersectionOfArrays(arrs):\n",
    "    size = 500001\n",
    "    cnts = [0] * size\n",
    "    for arr in arrs:\n",
    "        for val in arr:\n",
    "            cnts[val] += 1\n",
    "\n",
    "    re = 0\n",
    "    n = len(arrs)\n",
    "    for val in range(size):\n",
    "        if cnts[val] == n:\n",
    "            re += 1\n",
    "    return re"
   ]
  }
 ],
 "metadata": {
  "kernelspec": {
   "display_name": "Python 3",
   "language": "python",
   "name": "python3"
  },
  "language_info": {
   "codemirror_mode": {
    "name": "ipython",
    "version": 3
   },
   "file_extension": ".py",
   "mimetype": "text/x-python",
   "name": "python",
   "nbconvert_exporter": "python",
   "pygments_lexer": "ipython3",
   "version": "3.7.4"
  }
 },
 "nbformat": 4,
 "nbformat_minor": 4
}
