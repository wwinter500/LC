{
 "cells": [
  {
   "cell_type": "code",
   "execution_count": null,
   "metadata": {},
   "outputs": [],
   "source": [
    "#longest string chain\n",
    "def longestStrChain(self, words: List[str]) -> int:\n",
    "    words.sort(key = lambda x: len(x))\n",
    "    record = {}\n",
    "    for word in words:\n",
    "        cur = 1\n",
    "        for i in range(len(word)):\n",
    "            nword = word[:i] + word[i + 1:]\n",
    "            if nword in record:\n",
    "                cur = max(cur, record[nword] + 1)\n",
    "        record[word] = cur\n",
    "\n",
    "    return max([val for val in record.values()])"
   ]
  }
 ],
 "metadata": {
  "kernelspec": {
   "display_name": "Python 3",
   "language": "python",
   "name": "python3"
  },
  "language_info": {
   "codemirror_mode": {
    "name": "ipython",
    "version": 3
   },
   "file_extension": ".py",
   "mimetype": "text/x-python",
   "name": "python",
   "nbconvert_exporter": "python",
   "pygments_lexer": "ipython3",
   "version": "3.8.3"
  }
 },
 "nbformat": 4,
 "nbformat_minor": 4
}
