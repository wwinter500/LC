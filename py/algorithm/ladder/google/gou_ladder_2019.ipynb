{
 "cells": [
  {
   "cell_type": "code",
   "execution_count": null,
   "metadata": {},
   "outputs": [],
   "source": [
    "#google ladder \n",
    "#easy moving target\n",
    "def MoveTarget(nums, target):\n",
    "    if not nums:\n",
    "        return\n",
    "    \n",
    "    r = len(nums) - 1\n",
    "    l = r\n",
    "    while r >= 0:\n",
    "        while l >= 0 and nums[l] == target:\n",
    "            l -= 1\n",
    "        \n",
    "        if l < 0:\n",
    "            break\n",
    "        \n",
    "        nums[r] = nums[l]\n",
    "        r -= 1\n",
    "        l -= 1\n",
    "    \n",
    "    for i in range(r + 1):\n",
    "        nums[i] = target\n",
    "    \n",
    "    return nums"
   ]
  }
 ],
 "metadata": {
  "kernelspec": {
   "display_name": "Python 3",
   "language": "python",
   "name": "python3"
  },
  "language_info": {
   "codemirror_mode": {
    "name": "ipython",
    "version": 3
   },
   "file_extension": ".py",
   "mimetype": "text/x-python",
   "name": "python",
   "nbconvert_exporter": "python",
   "pygments_lexer": "ipython3",
   "version": "3.7.4"
  }
 },
 "nbformat": 4,
 "nbformat_minor": 4
}
