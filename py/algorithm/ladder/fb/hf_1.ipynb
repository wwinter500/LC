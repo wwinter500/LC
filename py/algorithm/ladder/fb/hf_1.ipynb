{
 "cells": [
  {
   "cell_type": "code",
   "execution_count": 8,
   "metadata": {},
   "outputs": [],
   "source": [
    "import collections\n",
    "#1031 - IS GRAPH Bipartite?\n",
    "\n",
    "class Solution:\n",
    "    def isBipartite(self, graph):\n",
    "        n = len(graph)\n",
    "        self.color = [0] * n\n",
    "        for i in range(n):\n",
    "            if self.color[i] == 0 and not self.colored(i, graph, 1):\n",
    "                return False\n",
    "        return True        \n",
    "    \n",
    "    def colored(self, now, graph, c):\n",
    "        self.color[now] = c\n",
    "        for nxt in graph[now]:\n",
    "            if self.color[nxt] == 0 and not self.colored(nxt, graph, -c):\n",
    "                return False\n",
    "            elif self.color[nxt] == self.color[now]:\n",
    "                return False\n",
    "        return True"
   ]
  },
  {
   "cell_type": "code",
   "execution_count": 9,
   "metadata": {},
   "outputs": [
    {
     "ename": "IndexError",
     "evalue": "list index out of range",
     "output_type": "error",
     "traceback": [
      "\u001b[1;31m---------------------------------------------------------------------------\u001b[0m",
      "\u001b[1;31mIndexError\u001b[0m                                Traceback (most recent call last)",
      "\u001b[1;32m<ipython-input-9-dd613b89cfd0>\u001b[0m in \u001b[0;36m<module>\u001b[1;34m\u001b[0m\n\u001b[0;32m      1\u001b[0m print(isBipartite(\n\u001b[1;32m----> 2\u001b[1;33m \u001b[1;33m[\u001b[0m\u001b[1;33m[\u001b[0m\u001b[1;33m]\u001b[0m\u001b[1;33m,\u001b[0m\u001b[1;33m[\u001b[0m\u001b[1;36m1\u001b[0m\u001b[1;33m,\u001b[0m\u001b[1;36m2\u001b[0m\u001b[1;33m]\u001b[0m\u001b[1;33m,\u001b[0m\u001b[1;33m[\u001b[0m\u001b[1;36m3\u001b[0m\u001b[1;33m,\u001b[0m\u001b[1;36m4\u001b[0m\u001b[1;33m]\u001b[0m\u001b[1;33m]\u001b[0m\u001b[1;33m\u001b[0m\u001b[1;33m\u001b[0m\u001b[0m\n\u001b[0m\u001b[0;32m      3\u001b[0m ))\n",
      "\u001b[1;32m<ipython-input-8-dd1e6bff3538>\u001b[0m in \u001b[0;36misBipartite\u001b[1;34m(graph)\u001b[0m\n\u001b[0;32m      6\u001b[0m     \u001b[0mcolor\u001b[0m \u001b[1;33m=\u001b[0m \u001b[1;33m[\u001b[0m\u001b[1;36m0\u001b[0m\u001b[1;33m]\u001b[0m\u001b[1;33m*\u001b[0m\u001b[0mn\u001b[0m\u001b[1;33m\u001b[0m\u001b[1;33m\u001b[0m\u001b[0m\n\u001b[0;32m      7\u001b[0m     \u001b[1;32mfor\u001b[0m \u001b[0mi\u001b[0m \u001b[1;32min\u001b[0m \u001b[0mrange\u001b[0m\u001b[1;33m(\u001b[0m\u001b[0mn\u001b[0m\u001b[1;33m)\u001b[0m\u001b[1;33m:\u001b[0m\u001b[1;33m\u001b[0m\u001b[1;33m\u001b[0m\u001b[0m\n\u001b[1;32m----> 8\u001b[1;33m         \u001b[1;32mif\u001b[0m \u001b[0mcolor\u001b[0m\u001b[1;33m[\u001b[0m\u001b[0mi\u001b[0m\u001b[1;33m]\u001b[0m \u001b[1;33m==\u001b[0m \u001b[1;36m0\u001b[0m \u001b[1;32mand\u001b[0m \u001b[1;32mnot\u001b[0m \u001b[0mcolored\u001b[0m\u001b[1;33m(\u001b[0m\u001b[0mgraph\u001b[0m\u001b[1;33m,\u001b[0m \u001b[0mi\u001b[0m\u001b[1;33m,\u001b[0m \u001b[1;36m1\u001b[0m\u001b[1;33m)\u001b[0m\u001b[1;33m:\u001b[0m\u001b[1;33m\u001b[0m\u001b[1;33m\u001b[0m\u001b[0m\n\u001b[0m\u001b[0;32m      9\u001b[0m             \u001b[1;32mreturn\u001b[0m \u001b[1;32mFalse\u001b[0m\u001b[1;33m\u001b[0m\u001b[1;33m\u001b[0m\u001b[0m\n\u001b[0;32m     10\u001b[0m     \u001b[1;32mreturn\u001b[0m \u001b[1;32mTrue\u001b[0m\u001b[1;33m\u001b[0m\u001b[1;33m\u001b[0m\u001b[0m\n",
      "\u001b[1;32m<ipython-input-8-dd1e6bff3538>\u001b[0m in \u001b[0;36mcolored\u001b[1;34m(graph, cur, c)\u001b[0m\n\u001b[0;32m     14\u001b[0m         \u001b[1;32mif\u001b[0m \u001b[0mgraph\u001b[0m\u001b[1;33m[\u001b[0m\u001b[0mnxt\u001b[0m\u001b[1;33m]\u001b[0m \u001b[1;33m==\u001b[0m \u001b[1;36m0\u001b[0m \u001b[1;32mand\u001b[0m \u001b[0mcolored\u001b[0m\u001b[1;33m(\u001b[0m\u001b[0mgraph\u001b[0m\u001b[1;33m,\u001b[0m \u001b[0mnxt\u001b[0m\u001b[1;33m,\u001b[0m \u001b[1;33m-\u001b[0m\u001b[0mc\u001b[0m\u001b[1;33m)\u001b[0m\u001b[1;33m:\u001b[0m\u001b[1;33m\u001b[0m\u001b[1;33m\u001b[0m\u001b[0m\n\u001b[0;32m     15\u001b[0m             \u001b[1;32mreturn\u001b[0m \u001b[1;32mFalse\u001b[0m\u001b[1;33m\u001b[0m\u001b[1;33m\u001b[0m\u001b[0m\n\u001b[1;32m---> 16\u001b[1;33m         \u001b[1;32mif\u001b[0m \u001b[0mcolor\u001b[0m\u001b[1;33m[\u001b[0m\u001b[0mnxt\u001b[0m\u001b[1;33m]\u001b[0m \u001b[1;33m==\u001b[0m \u001b[0mcolor\u001b[0m\u001b[1;33m[\u001b[0m\u001b[0mcur\u001b[0m\u001b[1;33m]\u001b[0m\u001b[1;33m:\u001b[0m\u001b[1;33m\u001b[0m\u001b[1;33m\u001b[0m\u001b[0m\n\u001b[0m\u001b[0;32m     17\u001b[0m             \u001b[1;32mreturn\u001b[0m \u001b[1;32mFalse\u001b[0m\u001b[1;33m\u001b[0m\u001b[1;33m\u001b[0m\u001b[0m\n\u001b[0;32m     18\u001b[0m \u001b[1;33m\u001b[0m\u001b[0m\n",
      "\u001b[1;31mIndexError\u001b[0m: list index out of range"
     ]
    }
   ],
   "source": [
    "print(isBipartite(\n",
    "[[],[1,2],[3,4]]\n",
    "))"
   ]
  },
  {
   "cell_type": "code",
   "execution_count": 3,
   "metadata": {},
   "outputs": [
    {
     "name": "stdout",
     "output_type": "stream",
     "text": [
      "True\n"
     ]
    }
   ],
   "source": [
    "print(isBipartite(\n",
    "[[2,4],[2,3,4],[0,1],[1],[0,1],\n",
    " [7],[9],[5],[],[6],[12,14],[],\n",
    " [10],[],[10],[19],[18],[],[16],\n",
    " [15],[23],[23],[],[20,21],[],[],\n",
    " [27],[26],[],[],[34],[33,34],[],\n",
    " [31],[30,31],[38,39],[37,38,39],\n",
    " [36],[35,36],[35,36],[43],[],[],\n",
    " [40],[],[49],[47,48,49],[46,48,49],\n",
    " [46,47,49],[45,46,47,48]]\n",
    "))"
   ]
  },
  {
   "cell_type": "code",
   "execution_count": 1,
   "metadata": {},
   "outputs": [],
   "source": [
    "#615 - course schedule\n",
    "def canFinish(numCourses, prerequisites):\n",
    "    edges = {i : [] for i in range(numCourses)}\n",
    "    degrees = {0 for i in range(numCourses)}\n",
    "    \n",
    "    for i, j in prerequisites:\n",
    "        edges[j].append(i)\n",
    "        degrees[i] += 1\n",
    "    \n",
    "    queue, count = deque([]), 0\n",
    "    for i in range(numCourses):\n",
    "        if degrees[i] == 0:\n",
    "            queue.append(i)\n",
    "        \n",
    "    while queue:\n",
    "        node = queue.popleft()\n",
    "        count += 1\n",
    "\n",
    "        for x in edges(node):\n",
    "            degrees[x] -= 1\n",
    "            if degrees[x] == 0:\n",
    "                queue.append(x)\n",
    "    \n",
    "    return count == numCourses"
   ]
  },
  {
   "cell_type": "code",
   "execution_count": 2,
   "metadata": {},
   "outputs": [],
   "source": [
    "#196 - missing number\n",
    "def findMissing(nums):\n",
    "    i = 0\n",
    "    n = len(nums) \n",
    "    for i in range(n):\n",
    "        while i != nums[i] and nums[i] >= 0 and nums[i] < n and nums[nums[i]] != nums[i]:\n",
    "            tmp = nums[nums[i]]\n",
    "            nums[nums[i]] = nums[i]\n",
    "            nums[i] = tmp\n",
    "\n",
    "    for i in range(n):\n",
    "        if i != nums[i]:\n",
    "            return i\n",
    "\n",
    "    return n\n",
    "\n",
    "#633 - find duplicate number\n",
    "def findDuplicate(nums):\n",
    "    i = 0\n",
    "    n = len(nums)\n",
    "    for i in range(n):\n",
    "        nums[i] -= 1\n",
    "\n",
    "    for i in range(n):\n",
    "        while i != nums[i]:\n",
    "            if nums[i] == nums[nums[i]]:\n",
    "                return nums[i] + 1\n",
    "\n",
    "            tmp = nums[nums[i]]\n",
    "            nums[nums[i]] = nums[i]\n",
    "            nums[i] = tmp\n",
    "\n",
    "    return -1\n",
    "#570 - find missing number II - dfs\n",
    "class Solution:\n",
    "    def findMissing2(self, n, str):\n",
    "        record = [False for _ in range(n + 1)]\n",
    "        return self.find(n, str, 0, record)\n",
    "    \n",
    "    def find(self, n, str, index, record):\n",
    "        if index == len(str):\n",
    "            res = []\n",
    "            for i in range(1, n + 1):\n",
    "                if not record[i]:\n",
    "                    res.append(i)\n",
    "            \n",
    "            return res[0] if len(res) == 1 else -1\n",
    "        \n",
    "        if str[index] == '0':\n",
    "            return -1\n",
    "        \n",
    "        for l in range(1, 3):\n",
    "            num = int(str[index : index + l])\n",
    "            if num >= 1 and num <= n and record[num]:\n",
    "                record[num] = True\n",
    "                re = self.find(n, str, index + l, record)\n",
    "                record[num] = False\n",
    "                \n",
    "                if re != -1:\n",
    "                    return re\n",
    "        \n",
    "        return -1\n",
    "    \n",
    "#189 - fist missing positive\n",
    "def firstMissingPositive(A):\n",
    "    i = 0\n",
    "    n = len(A)\n",
    "    for i in range(n):\n",
    "        A[i] -= 1\n",
    "\n",
    "    for i in range(n):\n",
    "        while i != A[i] and A[i] >= 0 and A[i] < n and A[i] != A[A[i]]:\n",
    "            tmp = A[A[i]]\n",
    "            A[A[i]] = A[i]\n",
    "            A[i] = tmp\n",
    "\n",
    "    for i in range(n):\n",
    "        if i != A[i]:\n",
    "            return i + 1\n",
    "\n",
    "    return n + 1"
   ]
  },
  {
   "cell_type": "code",
   "execution_count": null,
   "metadata": {},
   "outputs": [],
   "source": [
    "#94 - binary tree maximum path sum\n"
   ]
  }
 ],
 "metadata": {
  "kernelspec": {
   "display_name": "Python 3",
   "language": "python",
   "name": "python3"
  },
  "language_info": {
   "codemirror_mode": {
    "name": "ipython",
    "version": 3
   },
   "file_extension": ".py",
   "mimetype": "text/x-python",
   "name": "python",
   "nbconvert_exporter": "python",
   "pygments_lexer": "ipython3",
   "version": "3.7.4"
  }
 },
 "nbformat": 4,
 "nbformat_minor": 4
}
