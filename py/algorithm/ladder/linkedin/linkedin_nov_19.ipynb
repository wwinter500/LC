{
 "cells": [
  {
   "cell_type": "code",
   "execution_count": 1,
   "metadata": {},
   "outputs": [],
   "source": [
    "#1814 - sum of subarray\n",
    "def SubArraySum(nums):\n",
    "    if not nums:\n",
    "        return 0\n",
    "    \n",
    "    n = len(nums)\n",
    "    sums = [0] * (n + 1)\n",
    "    for i in range(1, n + 1):\n",
    "        sums[i] = sums[i - 1] + nums[i - 1]\n",
    "    \n",
    "    ans = 0\n",
    "    for i in range(1, n + 1):\n",
    "        for j in range(i, n):\n",
    "            ans += sums[j] - sums[i]\n",
    "    \n",
    "    return ans"
   ]
  },
  {
   "cell_type": "code",
   "execution_count": 2,
   "metadata": {},
   "outputs": [
    {
     "name": "stdout",
     "output_type": "stream",
     "text": [
      "2\n"
     ]
    }
   ],
   "source": [
    "print(SubArraySum([1, 2, 3]))"
   ]
  },
  {
   "cell_type": "code",
   "execution_count": 5,
   "metadata": {},
   "outputs": [],
   "source": [
    "def minWindow(source , target):\n",
    "    if not target or not source:\n",
    "        return \"\"\n",
    "\n",
    "    ref = {}\n",
    "    for ch in target:\n",
    "        if ch not in ref.keys():\n",
    "            ref[ch] = 1\n",
    "        else:\n",
    "            ref[ch] += 1\n",
    "\n",
    "    cnt = len(ref)        \n",
    "    l, r = 0, 0\n",
    "    ans = \"\"\n",
    "    length = len(source) + 1\n",
    "    while r < len(source):\n",
    "        while r < len(source) and cnt > 0:\n",
    "            if source[r] in ref.keys():\n",
    "                ref[source[r]] -= 1\n",
    "                if ref[source[r]] == 0:\n",
    "                    cnt -= 1\n",
    "\n",
    "            r += 1\n",
    "            if cnt == 0:\n",
    "                break\n",
    "\n",
    "        if cnt == 0 and r - l < length:\n",
    "            length = r - l\n",
    "            ans = source[l : r]\n",
    "\n",
    "        while l < r and cnt == 0:\n",
    "            if source[l] in ref.keys():\n",
    "                if ref[source[l]] == 0:\n",
    "                    cnt += 1\n",
    "                ref[source[l]] += 1\n",
    "                \n",
    "                if r - l < length:\n",
    "                    length = r - l\n",
    "                    ans = source[l:r]\n",
    "            l += 1\n",
    "            \n",
    "    return ans"
   ]
  },
  {
   "cell_type": "code",
   "execution_count": 6,
   "metadata": {},
   "outputs": [
    {
     "name": "stdout",
     "output_type": "stream",
     "text": [
      "banc\n"
     ]
    }
   ],
   "source": [
    "print(minWindow(\"adobecodebanc\" , \"abc\"))"
   ]
  },
  {
   "cell_type": "code",
   "execution_count": 13,
   "metadata": {},
   "outputs": [],
   "source": [
    "#1420. Minimum Window Substring II\n",
    "import sys\n",
    "def checkifexist(S, T):\n",
    "    st = set()\n",
    "    for ch in S:\n",
    "        if ch not in st:\n",
    "            st.add(ch)\n",
    "    \n",
    "    for ch in T:\n",
    "        if ch not in st:\n",
    "            return False\n",
    "    \n",
    "    return True\n",
    "\n",
    "def minWindowII(S, T):\n",
    "    #if not S or not T or not checkifexist(S, T):\n",
    "    #    return \"\"\n",
    "    ns = \"\"\n",
    "    for i in range(len(T)):\n",
    "        ns += S\n",
    "    n = len(ns)\n",
    "    length = n + 1\n",
    "     \n",
    "    ref = {}\n",
    "    for ch in T:\n",
    "        if ch not in ref.keys():\n",
    "            ref[ch] = 1\n",
    "        else:\n",
    "            ref[ch] += 1\n",
    "    \n",
    "    cnt = len(ref)        \n",
    "    l, r = 0, 0\n",
    "    ans = \"\"\n",
    "    while r < n:\n",
    "        while r < n and cnt > 0:\n",
    "            if ns[r] in ref.keys():\n",
    "                ref[ns[r]] -= 1\n",
    "                if ref[ns[r]] == 0:\n",
    "                    cnt -= 1\n",
    "\n",
    "            r += 1\n",
    "            if cnt == 0:\n",
    "                break\n",
    "\n",
    "        if cnt == 0 and r - l < length:\n",
    "            length = r - l\n",
    "            ans = ns[l : r]\n",
    "\n",
    "        while l < r and cnt == 0:\n",
    "            if ns[l] in ref.keys():\n",
    "                if ref[ns[l]] == 0:\n",
    "                    cnt += 1\n",
    "                ref[ns[l]] += 1\n",
    "                \n",
    "                if r - l < length:\n",
    "                    length = r - l\n",
    "                    ans = ns[l:r]\n",
    "            l += 1\n",
    "            \n",
    "    return ans"
   ]
  },
  {
   "cell_type": "code",
   "execution_count": 14,
   "metadata": {},
   "outputs": [
    {
     "name": "stdout",
     "output_type": "stream",
     "text": [
      "da\n"
     ]
    }
   ],
   "source": [
    "print(minWindowII(\"abcd\", \"da\"))"
   ]
  },
  {
   "cell_type": "code",
   "execution_count": 3,
   "metadata": {},
   "outputs": [],
   "source": [
    "#1345 - robot encircular\n",
    "# only one direction turned for once instruction, just check when direction = 0, if position at original location\n",
    "def isRobotBounded(instructions):\n",
    "    if not instructions:\n",
    "        return True\n",
    "    \n",
    "    dirs = ((0, -1), (1, 0), (0, 1),(-1, 0))\n",
    "    idx = 0\n",
    "    y, x = 0, 0\n",
    "    for i, ch in enumerate(instructions):\n",
    "        if ch == 'R':\n",
    "            idx = (idx + 1) % 4\n",
    "        elif ch == 'L':\n",
    "            idx = (idx - 1 + 4) % 4\n",
    "        else:\n",
    "            y += dirs[idx][0]\n",
    "            x += dirs[idx][1]\n",
    "    \n",
    "    if idx == 0 and (y != 0 or x != 0):\n",
    "        return False\n",
    "    return True\n",
    "        "
   ]
  },
  {
   "cell_type": "code",
   "execution_count": 5,
   "metadata": {},
   "outputs": [
    {
     "name": "stdout",
     "output_type": "stream",
     "text": [
      "False\n"
     ]
    }
   ],
   "source": [
    "print(isRobotBounded(\"GLR\"))"
   ]
  },
  {
   "cell_type": "code",
   "execution_count": 1,
   "metadata": {},
   "outputs": [],
   "source": [
    "#588 - partition to two sub sets - backpack similar dp\n",
    "#dp[i] if number i can be fullfilled -> if half sum can be fullfiled, the other half can also be\n",
    "def canPartition(nums):\n",
    "    if not nums:\n",
    "        return 0\n",
    "    \n",
    "    total = sum(nums)\n",
    "    if total % 2 == 1:\n",
    "        return False\n",
    "    \n",
    "    total = total // 2\n",
    "    dp = [False for j in range(20000)]#at most 200 * 100 with limit in question\n",
    "    dp[0] = True\n",
    "    \n",
    "    for i in range(len(nums)):\n",
    "        for j in range(total, nums[i] - 1, -1):\n",
    "            dp[j] = dp[j] | dp[j - nums[i]]\n",
    "    \n",
    "    return dp[total]"
   ]
  },
  {
   "cell_type": "code",
   "execution_count": 2,
   "metadata": {},
   "outputs": [],
   "source": [
    "#1815 - threshold alert\n",
    "def solve(n, k, l, num):\n",
    "    sums = [0] * (len(num) + 1)\n",
    "    cnt = 0\n",
    "    for i in range(1, len(num) + 1):\n",
    "        sums[i] = sums[i - 1] + num[i - 1]\n",
    "    \n",
    "    for i in range(l, n + 1):\n",
    "        if (sums[i] - sums[i - l]) / l > k:\n",
    "            cnt += 1\n",
    "    return cnt"
   ]
  },
  {
   "cell_type": "code",
   "execution_count": 3,
   "metadata": {},
   "outputs": [
    {
     "name": "stdout",
     "output_type": "stream",
     "text": [
      "2\n"
     ]
    }
   ],
   "source": [
    "print(solve(8, 4, 3, [2, 2, 2, 2, 5, 5, 5, 8]))"
   ]
  },
  {
   "cell_type": "code",
   "execution_count": 4,
   "metadata": {},
   "outputs": [],
   "source": [
    "#891 - valid palindrone\n",
    "def twoPointer(s,l ,r):\n",
    "    while l < r:\n",
    "        if s[l] != s[r]:\n",
    "            return l,r\n",
    "        l += 1\n",
    "        r -= 1\n",
    "    return l ,r\n",
    "\n",
    "def isPalindrome(s, l, r):\n",
    "    l, r = twoPointer(s,l,r)\n",
    "    return l >= r\n",
    "\n",
    "def validPalindrome(s):\n",
    "    l,r = isPalindrome(s, 0, len(s) - 1)\n",
    "    if l >= r:\n",
    "        return True\n",
    "    \n",
    "    return isPalindrome(s, l + 1, r) or isPalindrome(s, l, r - 1)"
   ]
  },
  {
   "cell_type": "code",
   "execution_count": null,
   "metadata": {},
   "outputs": [],
   "source": []
  }
 ],
 "metadata": {
  "kernelspec": {
   "display_name": "Python 3",
   "language": "python",
   "name": "python3"
  },
  "language_info": {
   "codemirror_mode": {
    "name": "ipython",
    "version": 3
   },
   "file_extension": ".py",
   "mimetype": "text/x-python",
   "name": "python",
   "nbconvert_exporter": "python",
   "pygments_lexer": "ipython3",
   "version": "3.7.4"
  }
 },
 "nbformat": 4,
 "nbformat_minor": 4
}
